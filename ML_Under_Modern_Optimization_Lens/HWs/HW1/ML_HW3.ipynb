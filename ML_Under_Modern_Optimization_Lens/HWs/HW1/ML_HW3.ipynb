{
 "cells": [
  {
   "cell_type": "code",
   "execution_count": 1,
   "id": "65f09073",
   "metadata": {},
   "outputs": [],
   "source": [
    "using JuMP, Gurobi\n",
    "using LinearAlgebra\n",
    "using Random\n",
    "using DataFrames, CSV\n",
    "using Statistics\n",
    "Random.seed!(15095);"
   ]
  },
  {
   "cell_type": "code",
   "execution_count": 2,
   "id": "8f74dec1",
   "metadata": {},
   "outputs": [
    {
     "name": "stdout",
     "output_type": "stream",
     "text": [
      "Academic license - for non-commercial use only - expires 2022-08-19\n"
     ]
    }
   ],
   "source": [
    "model = Model(Gurobi.Optimizer);"
   ]
  },
  {
   "cell_type": "markdown",
   "id": "c7bdb3ee",
   "metadata": {},
   "source": [
    "# 1.3 Question 3: Stable Regression\n",
    "# a)\n",
    "$$\\min_{\\beta} \\quad \\sum_{i=1}^n| y_i-\\beta_0 -\\beta^Tx_i| + \\lambda \\sum_{i=0}^p |\\beta_i|$$\n",
    "\n",
    "We rewrite the above problem as:\n",
    "\n",
    "$$ \\min_{\\beta,z,a} \\quad t_i + \\lambda \\sum_{i=1}^p a_i$$\n",
    "$$ \\quad \\text{s.t.} \\\\$$\n",
    "$$ \\quad  y-X\\beta \\leq t_i, \\in i\\\\ $$\n",
    "$$ \\quad  -y+X\\beta \\leq t_i, \\in i\\\\ $$\n",
    "$$ \\quad \\beta_j \\leq a_j, \\\\ $$\n",
    "$$ \\quad -\\beta_j \\leq a_j \\\\ $$\n",
    "\n"
   ]
  },
  {
   "cell_type": "code",
   "execution_count": 3,
   "id": "34be7a06",
   "metadata": {},
   "outputs": [
    {
     "data": {
      "text/plain": [
       "a_regression (generic function with 1 method)"
      ]
     },
     "execution_count": 3,
     "metadata": {},
     "output_type": "execute_result"
    }
   ],
   "source": [
    "function a_regression(X, y, rho; solver_output=0)\n",
    "    n,p = size(X)\n",
    "    \n",
    "    # Build model\n",
    "    model = Model(Gurobi.Optimizer)\n",
    "    set_optimizer_attribute(model, \"OutputFlag\", solver_output) \n",
    "    \n",
    "    # Insert variables\n",
    "    @variable(model, beta[i=0:p])\n",
    "    @variable(model, a[j=0:p]>=0)\n",
    "    @variable(model, t[k=1:n]>=0)\n",
    "    \n",
    "    #Insert constraints\n",
    "    @constraint(model,[j=0:p], beta[j]<=a[j])\n",
    "    @constraint(model,[j=0:p], -beta[j]<=a[j])\n",
    "    #you can expand the below constraint i\n",
    "    @constraint(model, [k=1:n], y[k]-beta[0]-dot(beta[1:p],X[k,:]) <= t[k])\n",
    "    @constraint(model, [k=1:n], -y[k]+beta[0]+dot(beta[1:p],X[k,:]) <= t[k])\n",
    "\n",
    "    #Objective\n",
    "    @objective(model,Min, sum(t[i] for i=1:n) + rho*sum(a[j] for j=0:p))\n",
    "    \n",
    "    # Optimize\n",
    "    optimize!(model)\n",
    "    \n",
    "    # Return estimated betas\n",
    "    return (value.(beta))\n",
    "end"
   ]
  },
  {
   "cell_type": "markdown",
   "id": "3073d0a9",
   "metadata": {},
   "source": [
    "# b)"
   ]
  },
  {
   "cell_type": "code",
   "execution_count": 4,
   "id": "1d42e456",
   "metadata": {},
   "outputs": [],
   "source": [
    "trainx = CSV.read(\"stableX_train_and_valid.csv\", DataFrame, header=0);\n",
    "testx = CSV.read(\"stableX_test.csv\", DataFrame, header=0);\n",
    "trainy = CSV.read(\"stabley_train_and_valid.csv\", DataFrame, header=0)[:,1];\n",
    "testy = CSV.read(\"stabley_test.csv\", DataFrame, header=0)[:,1];"
   ]
  },
  {
   "cell_type": "code",
   "execution_count": 5,
   "id": "751324d7",
   "metadata": {},
   "outputs": [],
   "source": [
    "function compute_mse(X, y, beta)\n",
    "    n,p = size(X)\n",
    "    return sum((y .- X*beta[1:p] .- beta[0]).^2)/n\n",
    "end ;"
   ]
  },
  {
   "cell_type": "code",
   "execution_count": 6,
   "id": "9c50c62e",
   "metadata": {},
   "outputs": [],
   "source": [
    "lambda = [0.01, 0.03, 0.08, 0.1, 0.3, 0.8, 1, 3];"
   ]
  },
  {
   "cell_type": "code",
   "execution_count": 7,
   "id": "62411b4a",
   "metadata": {},
   "outputs": [],
   "source": [
    "function robust_regression_valid(X, y, rho_vals; method=a_regression, split_at=0.7, solver_output=0)\n",
    "    n,p = size(X)\n",
    "    split = convert(Int,floor(split_at*n)) #floor takes the integer part\n",
    "    \n",
    "    #To create train and validation data, we will define the indices of each data.\n",
    "    permuted_indices = randperm(n)\n",
    "    train_indices, valid_indices = permuted_indices[1:split], permuted_indices[split+1:end]\n",
    "    X_train, y_train = X[train_indices,:], y[train_indices]\n",
    "    X_valid, y_valid = X[valid_indices,:], y[valid_indices]\n",
    "    \n",
    "    #we create an array to hold the results\n",
    "    errors = zeros(length(rho_vals))\n",
    "    \n",
    "    for (i,rho) in enumerate(rho_vals)\n",
    "        #get the beta coefficients from the Lasso or Ridge regression\n",
    "        beta = method(X_train,y_train,rho,solver_output=solver_output)\n",
    "        #compute the MSE with the optimal beta we just found\n",
    "        errors[i] = compute_mse(Matrix(X_valid), y_valid, beta)\n",
    "    end\n",
    "    \n",
    "    #get the best performing rho\n",
    "    i_best = argmin(errors)\n",
    "    beta_best = method(X,y,rho_vals[i_best])\n",
    "    return beta_best, rho_vals[i_best], errors\n",
    "end;"
   ]
  },
  {
   "cell_type": "code",
   "execution_count": 8,
   "id": "77b48678",
   "metadata": {},
   "outputs": [
    {
     "name": "stdout",
     "output_type": "stream",
     "text": [
      "Academic license - for non-commercial use only - expires 2022-08-19\n",
      "Academic license - for non-commercial use only - expires 2022-08-19\n",
      "Academic license - for non-commercial use only - expires 2022-08-19\n",
      "Academic license - for non-commercial use only - expires 2022-08-19\n",
      "Academic license - for non-commercial use only - expires 2022-08-19\n",
      "Academic license - for non-commercial use only - expires 2022-08-19\n",
      "Academic license - for non-commercial use only - expires 2022-08-19\n",
      "Academic license - for non-commercial use only - expires 2022-08-19\n",
      "Academic license - for non-commercial use only - expires 2022-08-19\n",
      " Optimal Lambda = 0.01"
     ]
    }
   ],
   "source": [
    "op_beta, op_lambda, err = robust_regression_valid(trainx, trainy, lambda; method=a_regression);\n",
    "print(\" Optimal Lambda = \", op_lambda)"
   ]
  },
  {
   "cell_type": "code",
   "execution_count": 9,
   "id": "05eaddd6",
   "metadata": {},
   "outputs": [
    {
     "name": "stdout",
     "output_type": "stream",
     "text": [
      "Academic license - for non-commercial use only - expires 2022-08-19\n",
      "Academic license - for non-commercial use only - expires 2022-08-19\n",
      "Academic license - for non-commercial use only - expires 2022-08-19\n",
      "Academic license - for non-commercial use only - expires 2022-08-19\n",
      "Academic license - for non-commercial use only - expires 2022-08-19\n",
      "Academic license - for non-commercial use only - expires 2022-08-19\n",
      "Academic license - for non-commercial use only - expires 2022-08-19\n",
      "Academic license - for non-commercial use only - expires 2022-08-19\n",
      "Academic license - for non-commercial use only - expires 2022-08-19\n",
      "Academic license - for non-commercial use only - expires 2022-08-19\n",
      "Academic license - for non-commercial use only - expires 2022-08-19\n",
      "Academic license - for non-commercial use only - expires 2022-08-19\n",
      "Academic license - for non-commercial use only - expires 2022-08-19\n",
      "Academic license - for non-commercial use only - expires 2022-08-19\n",
      "Academic license - for non-commercial use only - expires 2022-08-19\n",
      "Academic license - for non-commercial use only - expires 2022-08-19\n",
      "Academic license - for non-commercial use only - expires 2022-08-19\n",
      "Academic license - for non-commercial use only - expires 2022-08-19\n",
      "Academic license - for non-commercial use only - expires 2022-08-19\n",
      "Academic license - for non-commercial use only - expires 2022-08-19\n",
      "Academic license - for non-commercial use only - expires 2022-08-19\n",
      "Academic license - for non-commercial use only - expires 2022-08-19\n",
      "Academic license - for non-commercial use only - expires 2022-08-19\n",
      "Academic license - for non-commercial use only - expires 2022-08-19\n",
      "Academic license - for non-commercial use only - expires 2022-08-19\n",
      "Academic license - for non-commercial use only - expires 2022-08-19\n",
      "Academic license - for non-commercial use only - expires 2022-08-19\n",
      "Academic license - for non-commercial use only - expires 2022-08-19\n",
      "Academic license - for non-commercial use only - expires 2022-08-19\n",
      "Academic license - for non-commercial use only - expires 2022-08-19\n",
      "Academic license - for non-commercial use only - expires 2022-08-19\n",
      "Academic license - for non-commercial use only - expires 2022-08-19\n",
      "Academic license - for non-commercial use only - expires 2022-08-19\n",
      "Academic license - for non-commercial use only - expires 2022-08-19\n",
      "Academic license - for non-commercial use only - expires 2022-08-19\n",
      "Academic license - for non-commercial use only - expires 2022-08-19\n",
      "Academic license - for non-commercial use only - expires 2022-08-19\n",
      "Academic license - for non-commercial use only - expires 2022-08-19\n",
      "Academic license - for non-commercial use only - expires 2022-08-19\n",
      "Academic license - for non-commercial use only - expires 2022-08-19\n",
      "Academic license - for non-commercial use only - expires 2022-08-19\n",
      "Academic license - for non-commercial use only - expires 2022-08-19\n",
      "Academic license - for non-commercial use only - expires 2022-08-19\n",
      "Academic license - for non-commercial use only - expires 2022-08-19\n",
      "Academic license - for non-commercial use only - expires 2022-08-19\n",
      "[4.887885853459812, 4.889140607362017, 4.887885853459812, 5.024122859285739, 4.889140607362017]\n",
      "MSE Range: 4.887885853459812 - 5.024122859285739"
     ]
    }
   ],
   "source": [
    "mse_list = zeros(5)\n",
    "\n",
    "for i=1:5\n",
    "    op_beta, op_lambda, err = robust_regression_valid(trainx, trainy, lambda; method=a_regression);\n",
    "    mse = compute_mse(Matrix(testx),testy,op_beta);\n",
    "    mse_list[i] = mse;\n",
    "end\n",
    "\n",
    "print(mse_list)\n",
    "print(\"\\nMSE Range: \", minimum(mse_list), \" - \", maximum(mse_list))\n"
   ]
  },
  {
   "cell_type": "markdown",
   "id": "3b006fd3",
   "metadata": {},
   "source": [
    "# c) \n",
    "$$\\min_{\\beta} \\max_{z \\in Z} \\quad \\sum_{i=1}^nz_i| y_i-\\beta_0 -\\beta^Tx_i| + \\lambda \\sum_{i=0}^p |\\beta_i|$$\n",
    "\n",
    "where $Z = \\{z: \\sum_{i=1}^nz_i = k, z_i=\\{0,1\\}\\} $\n",
    "\n",
    "We rewrite the above problem as:\n",
    "\n",
    "$$ \\min_{\\beta,z,a} \\quad \\sum_{i=1}^nz_it_i + \\lambda \\sum_{i=1}^p a_i$$\n",
    "$$ \\quad \\text{s.t.} \\\\$$\n",
    "$$ \\quad \\sum_{i=1}^nz_i = k$$\n",
    "$$ \\quad \\sum_{i=1}^p\\delta_i = s$$\n",
    "    $$ \\quad |\\beta_i| \\leq M\\delta_i, \\delta_i \\in \\{0,1\\}, \\forall i \\in \\[p\\], 0\\leq z_i\\leq1, \\forall i \\in \\[n\\]$$\n",
    "$$ \\quad  y-X\\beta \\leq t_i, \\in i\\\\ $$\n",
    "$$ \\quad  -y+X\\beta \\leq t_i, \\in i\\\\ $$\n",
    "$$ \\quad \\beta_j \\leq a_j, \\\\ $$\n",
    "$$ \\quad -\\beta_j \\leq a_j \\\\ $$\n"
   ]
  },
  {
   "cell_type": "markdown",
   "id": "06131fe3",
   "metadata": {},
   "source": [
    "$\\delta_i$ represents which coefficients are nonzero\n",
    "When $z_i=1$, the point $(x_i, y_i)$ is assigned to the training set, otherwise, it is assigned to the testing set.\n",
    "\n",
    "We reformulate this by introducing the dual variable $\\theta$ for the first constraint and $u_i$ for the second set of constraints to arrive at:\n",
    "\n",
    "$$ \\min_{\\theta,u} \\quad k\\theta + \\sum_{i=1}^nu_i$$\n",
    "$$ \\quad \\text{s.t.} \\\\$$\n",
    "$$ \\quad \\theta +u_i \\geq |y_i - \\beta^Tx_i|$$\n",
    "$$ u_i \\geq 0, \\forall i \\in \\[n\\]$$\n",
    "\n",
    "Then, I substitute this minimization problem back into the outer minimization we arrive at the following problem:\n",
    "\n",
    "$$ \\min_{\\beta, \\theta,u} \\quad k\\theta + \\sum_{i=1}^nu_i + \\lambda \\sum_{i=1}^p a_i $$\n",
    "$$ \\quad \\text{s.t.} \\\\$$\n",
    "$$ \\quad \\theta + u_i \\geq y_i - \\beta_0 - \\beta^Tx_i$$\n",
    "$$ \\quad \\theta + u_i \\geq -(y_i - \\beta_0 - \\beta^Tx_i)$$\n",
    "$$ u_i \\geq 0, \\forall i \\in \\[n\\]$$\n",
    "$$ \\quad \\beta_j \\leq a_j, \\\\ $$\n",
    "$$ \\quad -\\beta_j \\leq a_j \\\\ $$"
   ]
  },
  {
   "cell_type": "markdown",
   "id": "de33e95e",
   "metadata": {},
   "source": [
    "# d)"
   ]
  },
  {
   "cell_type": "code",
   "execution_count": 10,
   "id": "a4733a6d",
   "metadata": {},
   "outputs": [
    {
     "data": {
      "text/plain": [
       "d_regression (generic function with 1 method)"
      ]
     },
     "execution_count": 10,
     "metadata": {},
     "output_type": "execute_result"
    }
   ],
   "source": [
    "function d_regression(X,y,rho;split_at=0.7,solver_output=0)\n",
    "\n",
    "    n,p = size(X)\n",
    "    \n",
    "    # Build model\n",
    "    model = Model(Gurobi.Optimizer)\n",
    "    set_optimizer_attribute(model, \"OutputFlag\", solver_output) \n",
    "    \n",
    "    # Insert variables\n",
    "    @variable(model,beta[i=0:p])\n",
    "    @variable(model,theta)\n",
    "    @variable(model,u[k=1:n]>=0)\n",
    "    @variable(model,a[j=0:p]>=0)\n",
    "        \n",
    "    #Insert constraints\n",
    "    @constraint(model,[i=1:n], theta + u[i] >= y[i] - beta[0] - dot(beta[1:p],X[i,:]))\n",
    "    @constraint(model,[i=1:n], theta + u[i] >= -(y[i] - beta[0] - dot(beta[1:p],X[i,:])))\n",
    "    @constraint(model,[j=0:p], beta[j]<=a[j])\n",
    "    @constraint(model,[j=0:p], -beta[j]<=a[j])\n",
    "    \n",
    "    k = convert(Int,floor(split_at*n))\n",
    "    \n",
    "    #Objective\n",
    "    @objective(model,Min, k*theta + sum(u[i] for i=1:n) + rho*sum(a[i] for i=0:p))\n",
    "    \n",
    "    # Optimize\n",
    "    optimize!(model)\n",
    "    \n",
    "    # Return estimated betas\n",
    "    return (value.(beta), value.(u))\n",
    "    \n",
    "end "
   ]
  },
  {
   "cell_type": "code",
   "execution_count": 11,
   "id": "b7948df7",
   "metadata": {},
   "outputs": [],
   "source": [
    "#d_regression(trainx,trainy,0.01)"
   ]
  },
  {
   "cell_type": "code",
   "execution_count": 16,
   "id": "487f7586",
   "metadata": {},
   "outputs": [
    {
     "name": "stdout",
     "output_type": "stream",
     "text": [
      "Academic license - for non-commercial use only - expires 2022-08-19\n",
      "\n",
      " For lambda = 0.01, MSE =  0.13400726366428356\n",
      "Academic license - for non-commercial use only - expires 2022-08-19\n",
      "\n",
      " For lambda = 0.03, MSE =  0.13404428909160396\n",
      "Academic license - for non-commercial use only - expires 2022-08-19\n",
      "\n",
      " For lambda = 0.08, MSE =  0.13445657553870197\n",
      "Academic license - for non-commercial use only - expires 2022-08-19\n",
      "\n",
      " For lambda = 0.1, MSE =  0.1345157845773268\n",
      "Academic license - for non-commercial use only - expires 2022-08-19\n",
      "\n",
      " For lambda = 0.3, MSE =  0.13485956481506053\n",
      "Academic license - for non-commercial use only - expires 2022-08-19\n",
      "\n",
      " For lambda = 0.8, MSE =  0.13684273955762288\n",
      "Academic license - for non-commercial use only - expires 2022-08-19\n",
      "\n",
      " For lambda = 1.0, MSE =  0.13714135531087593\n",
      "Academic license - for non-commercial use only - expires 2022-08-19\n",
      "\n",
      " For lambda = 3.0, MSE =  0.1405566814167734\n",
      "Academic license - for non-commercial use only - expires 2022-08-19\n",
      "Academic license - for non-commercial use only - expires 2022-08-19\n",
      "\n",
      " \n",
      " \n",
      " Best Beta vector = \n",
      "1-dimensional DenseAxisArray{Float64,1,...} with index sets:\n",
      "    Dimension 1, 0:7\n",
      "And data, a 8-element Vector{Float64}:\n",
      "   2.4636518957528164\n",
      "  -0.45787550200138105\n",
      "  10.054386044591087\n",
      "  18.88974340764618\n",
      "   9.054858218924496\n",
      " -18.06448759078263\n",
      " -10.02468984890087\n",
      "   5.778924433654609\n",
      " \n",
      " \n",
      "Best Lambda = 0.01\n",
      "Best MSE = 0.13400726366428356\n",
      "New MSE on test data = 4.889140607362017"
     ]
    }
   ],
   "source": [
    "err = zeros(8)\n",
    "for (i,lambda) in enumerate(lambda)\n",
    "    #get the beta coefficients, and dual var from the Lasso or Ridge regression\n",
    "    (beta, u) = d_regression(trainx,trainy,lambda,solver_output=0)\n",
    "    val_ind = (u .== 0)\n",
    "    xval = trainx[val_ind,:]\n",
    "    yval = trainy[val_ind,:]\n",
    "    #compute the MSE with the optimal beta and \"most difficult\" validation set we just found\n",
    "    print(\"\\n For lambda = \", lambda, \", MSE =  \", compute_mse(Matrix(xval), yval, beta), \"\\n\")\n",
    "    err[i] = compute_mse(Matrix(xval), yval, beta)\n",
    "end\n",
    "\n",
    "#get the best performing lambda\n",
    "i_best = argmin(err);\n",
    "op_beta = a_regression(trainx,trainy,lambda[i_best]);\n",
    "print(\"\\n \\n \\n Best Beta vector = \\n\", a_regression(trainx,trainy,lambda[i_best]), \"\\n \\n \\n\")\n",
    "print(\"Best Lambda = \", lambda[i_best], \"\\n\")\n",
    "print(\"Best MSE = \", err[i_best])\n",
    "print(\"\\nNew MSE on test data = \", compute_mse(Matrix(testx), testy, op_beta))\n",
    "\n"
   ]
  },
  {
   "cell_type": "markdown",
   "id": "6700293b",
   "metadata": {},
   "source": [
    "The lower bound MSE for part b and part d are nearly identical. "
   ]
  },
  {
   "cell_type": "code",
   "execution_count": null,
   "id": "91d7ffe3",
   "metadata": {},
   "outputs": [],
   "source": []
  }
 ],
 "metadata": {
  "kernelspec": {
   "display_name": "Julia 1.6.2",
   "language": "julia",
   "name": "julia-1.6"
  },
  "language_info": {
   "file_extension": ".jl",
   "mimetype": "application/julia",
   "name": "julia",
   "version": "1.6.2"
  }
 },
 "nbformat": 4,
 "nbformat_minor": 5
}
