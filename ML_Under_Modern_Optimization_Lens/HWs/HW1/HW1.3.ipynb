{
 "cells": [
  {
   "cell_type": "code",
   "execution_count": 1,
   "id": "d812c004",
   "metadata": {},
   "outputs": [],
   "source": [
    "using JuMP, Gurobi\n",
    "using DataFrames, CSV\n",
    "using LinearAlgebra\n",
    "using Random"
   ]
  },
  {
   "cell_type": "markdown",
   "id": "7159c2bf",
   "metadata": {},
   "source": [
    "Helper Function to Compute MSE"
   ]
  },
  {
   "cell_type": "code",
   "execution_count": 1,
   "id": "7616c42a",
   "metadata": {},
   "outputs": [
    {
     "data": {
      "text/plain": [
       "compute_mse (generic function with 1 method)"
      ]
     },
     "execution_count": 1,
     "metadata": {},
     "output_type": "execute_result"
    }
   ],
   "source": [
    "function compute_mse(X, y, beta)\n",
    "    n,p = size(X)\n",
    "    return sum((y .- X*beta[1:p] .- beta[0]).^2)/n\n",
    "end"
   ]
  },
  {
   "cell_type": "markdown",
   "id": "49ca0975",
   "metadata": {},
   "source": [
    "Read in Data"
   ]
  },
  {
   "cell_type": "code",
   "execution_count": 3,
   "id": "79c5ea09",
   "metadata": {},
   "outputs": [],
   "source": [
    "Xtrain = CSV.read(\"stableX_train_and_valid.csv\", DataFrame, header=0);\n",
    "ytrain = CSV.read(\"stabley_train_and_valid.csv\", DataFrame, header=0)[:,1];\n",
    "Xtest = CSV.read(\"stableX_test.csv\", DataFrame, header=0);\n",
    "ytest = CSV.read(\"stabley_test.csv\", DataFrame, header=0)[:,1];"
   ]
  },
  {
   "cell_type": "markdown",
   "id": "a6a84b62",
   "metadata": {},
   "source": [
    "## PART A"
   ]
  },
  {
   "cell_type": "code",
   "execution_count": 4,
   "id": "2f24aff0",
   "metadata": {},
   "outputs": [
    {
     "data": {
      "text/plain": [
       "oneThreeA (generic function with 1 method)"
      ]
     },
     "execution_count": 4,
     "metadata": {},
     "output_type": "execute_result"
    }
   ],
   "source": [
    "function oneThreeA(X,y,rho;solver_output=0)\n",
    "\n",
    "    n,p = size(X)\n",
    "    \n",
    "    # Build model\n",
    "    model = Model(Gurobi.Optimizer)\n",
    "    set_optimizer_attribute(model, \"OutputFlag\", solver_output) \n",
    "    \n",
    "    # Insert variables\n",
    "    @variable(model,beta[i=0:p])\n",
    "    @variable(model,a[j=0:p]>=0) #need greater than or equal to 0 here?\n",
    "    @variable(model,z[k=1:n]>=0) #need greater than or equal to 0 here?\n",
    "        \n",
    "    #Insert constraints\n",
    "    @constraint(model,[j=0:p], beta[j]<=a[j])\n",
    "    @constraint(model,[j=0:p], -beta[j]<=a[j])\n",
    "    @constraint(model,[k=1:n], y[k] - beta[0] - dot(beta[1:p],X[k,:])<=z[k])\n",
    "    @constraint(model,[k=1:n], - y[k] + beta[0] + dot(beta[1:p],X[k,:])<=z[k])\n",
    "    \n",
    "    #Objective\n",
    "    @objective(model,Min, sum(z[i] for i=1:n) + rho*sum(a[j] for j=0:p))\n",
    "    \n",
    "    # Optimize\n",
    "    optimize!(model)\n",
    "    \n",
    "    # Return estimated betas\n",
    "    return (value.(beta))\n",
    "    \n",
    "end"
   ]
  },
  {
   "cell_type": "markdown",
   "id": "62cf5687",
   "metadata": {},
   "source": [
    "## PART B"
   ]
  },
  {
   "cell_type": "code",
   "execution_count": 5,
   "id": "53776eb4",
   "metadata": {},
   "outputs": [
    {
     "data": {
      "text/plain": [
       "regression_valid_cv (generic function with 1 method)"
      ]
     },
     "execution_count": 5,
     "metadata": {},
     "output_type": "execute_result"
    }
   ],
   "source": [
    "function regression_valid_cv(X, y, rho_vals, rseed; method=oneThreeA, split_at=0.7, solver_output=0, seed=1)\n",
    "    n,p = size(X)\n",
    "    split = convert(Int,floor(split_at*n)) #floor takes the integer part\n",
    "    #To create train and validation data, we will define the indices of each data.\n",
    "    Random.seed!(rseed)\n",
    "    permuted_indices = randperm(n)\n",
    "    train_indices, valid_indices = permuted_indices[1:split], permuted_indices[split+1:end]\n",
    "    X_train, y_train = X[train_indices,:], y[train_indices]\n",
    "    X_valid, y_valid = X[valid_indices,:], y[valid_indices]\n",
    "    #we create an array to hold the results\n",
    "    errors = zeros(length(rho_vals))\n",
    "    for (i,rho) in enumerate(rho_vals)\n",
    "        #get the beta coefficients from the Lasso or Ridge regression\n",
    "        beta = method(X_train,y_train,rho,solver_output=solver_output)\n",
    "        #compute the MSE with the optimal beta we just found\n",
    "        errors[i] = compute_mse(Matrix(X_valid), y_valid, beta)\n",
    "    end\n",
    "\n",
    "    #get the best performing rho\n",
    "    i_best = argmin(errors)\n",
    "    beta_best = method(X,y,rho_vals[i_best])\n",
    "    return beta_best, rho_vals[i_best], errors\n",
    "end"
   ]
  },
  {
   "cell_type": "code",
   "execution_count": 6,
   "id": "68cc09a7",
   "metadata": {},
   "outputs": [
    {
     "name": "stdout",
     "output_type": "stream",
     "text": [
      "Academic license - for non-commercial use only - expires 2022-08-19\n",
      "Academic license - for non-commercial use only - expires 2022-08-19\n",
      "Academic license - for non-commercial use only - expires 2022-08-19\n",
      "Academic license - for non-commercial use only - expires 2022-08-19\n",
      "Academic license - for non-commercial use only - expires 2022-08-19\n",
      "Academic license - for non-commercial use only - expires 2022-08-19\n",
      "Academic license - for non-commercial use only - expires 2022-08-19\n",
      "Academic license - for non-commercial use only - expires 2022-08-19\n",
      "Academic license - for non-commercial use only - expires 2022-08-19\n",
      "MSE: 5.024122859285738\n",
      "Cross-validated rho: 3.0\n"
     ]
    }
   ],
   "source": [
    "rho_vals = [0.01,0.03,0.08,0.1,0.3,0.8,1,3]\n",
    "beta_3b_cv, rho_3b_cv, errors_3b = regression_valid_cv(Xtrain,ytrain,rho_vals,1;method=oneThreeA)\n",
    "\n",
    "println(\"MSE: \", compute_mse(Matrix(Xtest),ytest,beta_3b_cv))\n",
    "println(\"Cross-validated rho: \", rho_3b_cv)"
   ]
  },
  {
   "cell_type": "code",
   "execution_count": 7,
   "id": "d30b2f7e",
   "metadata": {},
   "outputs": [
    {
     "name": "stdout",
     "output_type": "stream",
     "text": [
      "Iteration 1: \n",
      "Academic license - for non-commercial use only - expires 2022-08-19\n",
      "Academic license - for non-commercial use only - expires 2022-08-19\n",
      "Academic license - for non-commercial use only - expires 2022-08-19\n",
      "Academic license - for non-commercial use only - expires 2022-08-19\n",
      "Academic license - for non-commercial use only - expires 2022-08-19\n",
      "Academic license - for non-commercial use only - expires 2022-08-19\n",
      "Academic license - for non-commercial use only - expires 2022-08-19\n",
      "Academic license - for non-commercial use only - expires 2022-08-19\n",
      "Academic license - for non-commercial use only - expires 2022-08-19\n",
      "MSE: 5.024122859285738\n",
      "Cross-validated rho: 3.0\n",
      "\n",
      "\n",
      "Iteration 2: \n",
      "Academic license - for non-commercial use only - expires 2022-08-19\n",
      "Academic license - for non-commercial use only - expires 2022-08-19\n",
      "Academic license - for non-commercial use only - expires 2022-08-19\n",
      "Academic license - for non-commercial use only - expires 2022-08-19\n",
      "Academic license - for non-commercial use only - expires 2022-08-19\n",
      "Academic license - for non-commercial use only - expires 2022-08-19\n",
      "Academic license - for non-commercial use only - expires 2022-08-19\n",
      "Academic license - for non-commercial use only - expires 2022-08-19\n",
      "Academic license - for non-commercial use only - expires 2022-08-19\n",
      "MSE: 4.889140607362017\n",
      "Cross-validated rho: 0.01\n",
      "\n",
      "\n",
      "Iteration 3: \n",
      "Academic license - for non-commercial use only - expires 2022-08-19\n",
      "Academic license - for non-commercial use only - expires 2022-08-19\n",
      "Academic license - for non-commercial use only - expires 2022-08-19\n",
      "Academic license - for non-commercial use only - expires 2022-08-19\n",
      "Academic license - for non-commercial use only - expires 2022-08-19\n",
      "Academic license - for non-commercial use only - expires 2022-08-19\n",
      "Academic license - for non-commercial use only - expires 2022-08-19\n",
      "Academic license - for non-commercial use only - expires 2022-08-19\n",
      "Academic license - for non-commercial use only - expires 2022-08-19\n",
      "MSE: 4.887885853459811\n",
      "Cross-validated rho: 0.03\n",
      "\n",
      "\n",
      "Iteration 4: \n",
      "Academic license - for non-commercial use only - expires 2022-08-19\n",
      "Academic license - for non-commercial use only - expires 2022-08-19\n",
      "Academic license - for non-commercial use only - expires 2022-08-19\n",
      "Academic license - for non-commercial use only - expires 2022-08-19\n",
      "Academic license - for non-commercial use only - expires 2022-08-19\n",
      "Academic license - for non-commercial use only - expires 2022-08-19\n",
      "Academic license - for non-commercial use only - expires 2022-08-19\n",
      "Academic license - for non-commercial use only - expires 2022-08-19\n",
      "Academic license - for non-commercial use only - expires 2022-08-19\n",
      "MSE: 5.024122859285738\n",
      "Cross-validated rho: 3.0\n",
      "\n",
      "\n",
      "Iteration 5: \n",
      "Academic license - for non-commercial use only - expires 2022-08-19\n",
      "Academic license - for non-commercial use only - expires 2022-08-19\n",
      "Academic license - for non-commercial use only - expires 2022-08-19\n",
      "Academic license - for non-commercial use only - expires 2022-08-19\n",
      "Academic license - for non-commercial use only - expires 2022-08-19\n",
      "Academic license - for non-commercial use only - expires 2022-08-19\n",
      "Academic license - for non-commercial use only - expires 2022-08-19\n",
      "Academic license - for non-commercial use only - expires 2022-08-19\n",
      "Academic license - for non-commercial use only - expires 2022-08-19\n",
      "MSE: 5.024122859285738\n",
      "Cross-validated rho: 3.0\n",
      "\n",
      "\n"
     ]
    }
   ],
   "source": [
    "rho_vals = [0.01,0.03,0.08,0.1,0.3,0.8,1,3]\n",
    "iterations = 5\n",
    "\n",
    "mses = zeros(iterations)\n",
    "for i=1:iterations\n",
    "    println(\"Iteration \" * string(i) * \": \")\n",
    "    beta_3b_cv, rho_3b_cv, errors_3b = regression_valid_cv(Xtrain,ytrain,rho_vals,i;method=oneThreeA)\n",
    "    mse = compute_mse(Matrix(Xtest),ytest,beta_3b_cv)\n",
    "    println(\"MSE: \", mse)\n",
    "    mses[i] = mse\n",
    "    println(\"Cross-validated rho: \", rho_3b_cv)\n",
    "    println(\"\")\n",
    "    println(\"\")\n",
    "end"
   ]
  },
  {
   "cell_type": "code",
   "execution_count": 8,
   "id": "67808a53",
   "metadata": {},
   "outputs": [
    {
     "name": "stdout",
     "output_type": "stream",
     "text": [
      "Best MSE: 4.887885853459811\n",
      "Worst MSE: 5.024122859285738\n"
     ]
    }
   ],
   "source": [
    "i_best = argmin(mses)\n",
    "i_worst = argmax(mses)\n",
    "println(\"Best MSE: \", mses[i_best])\n",
    "println(\"Worst MSE: \", mses[i_worst])"
   ]
  },
  {
   "cell_type": "markdown",
   "id": "8de85eb2",
   "metadata": {},
   "source": [
    "## PART D"
   ]
  },
  {
   "cell_type": "code",
   "execution_count": 26,
   "id": "89a6eedd",
   "metadata": {},
   "outputs": [
    {
     "data": {
      "text/plain": [
       "oneThreeD (generic function with 1 method)"
      ]
     },
     "execution_count": 26,
     "metadata": {},
     "output_type": "execute_result"
    }
   ],
   "source": [
    "function oneThreeD(X,y,rho;split_at=0.7,solver_output=0)\n",
    "\n",
    "    n,p = size(X)\n",
    "    \n",
    "    # Build model\n",
    "    model = Model(Gurobi.Optimizer)\n",
    "    set_optimizer_attribute(model, \"OutputFlag\", solver_output) \n",
    "    \n",
    "    # Insert variables\n",
    "    @variable(model,beta[i=0:p])\n",
    "    @variable(model,theta)\n",
    "    @variable(model,u[k=1:n]>=0)\n",
    "    @variable(model,a[j=0:p]>=0)\n",
    "        \n",
    "    #Insert constraints\n",
    "    @constraint(model,[i=1:n], theta + u[i] >= y[i] - beta[0] - dot(beta[1:p],X[i,:]))\n",
    "    @constraint(model,[i=1:n], theta + u[i] >= -y[i] + beta[0] + dot(beta[1:p],X[i,:]))\n",
    "    @constraint(model,[j=0:p], beta[j]<=a[j])\n",
    "    @constraint(model,[j=0:p], -beta[j]<=a[j])\n",
    "    \n",
    "    k = convert(Int,floor(split_at*n))\n",
    "    \n",
    "    #Objective\n",
    "    @objective(model,Min, k*theta + sum(u[i] for i=1:n) + rho*sum(a[i] for i=0:p))\n",
    "    \n",
    "    # Optimize\n",
    "    optimize!(model)\n",
    "    \n",
    "    # Return estimated betas\n",
    "    return (value.(u),value.(beta))\n",
    "    \n",
    "end "
   ]
  },
  {
   "cell_type": "code",
   "execution_count": 27,
   "id": "b9ccfb23",
   "metadata": {},
   "outputs": [
    {
     "name": "stdout",
     "output_type": "stream",
     "text": [
      "Academic license - for non-commercial use only - expires 2022-08-19\n"
     ]
    },
    {
     "data": {
      "text/plain": [
       "([0.0, 3.3525737277298937, 0.24727056194576935, 0.0, 1.6112077929667317, 0.0, 2.9720330715336027, 0.0, 0.0, 0.0938708160189794  …  1.9931326130373566, 0.0, 0.33942941837271334, 0.0, 0.0, 0.39361816864914845, 0.05791865697885834, 0.0, 3.0547207892411907, 0.8239339025494821], 1-dimensional DenseAxisArray{Float64,1,...} with index sets:\n",
       "    Dimension 1, 0:7\n",
       "And data, a 8-element Vector{Float64}:\n",
       "   2.4980882084886944\n",
       "  -0.8393572875627823\n",
       "  11.295205378642434\n",
       "  17.19432390986091\n",
       "   9.048004653278822\n",
       " -18.417638050389154\n",
       "  -9.117122908694878\n",
       "   5.481237986890524)"
      ]
     },
     "execution_count": 27,
     "metadata": {},
     "output_type": "execute_result"
    }
   ],
   "source": [
    "oneThreeD(Xtrain,ytrain,0.01)"
   ]
  },
  {
   "cell_type": "code",
   "execution_count": 30,
   "id": "4b0a0531",
   "metadata": {},
   "outputs": [
    {
     "name": "stdout",
     "output_type": "stream",
     "text": [
      "Academic license - for non-commercial use only - expires 2022-08-19\n",
      "Academic license - for non-commercial use only - expires 2022-08-19\n",
      "Academic license - for non-commercial use only - expires 2022-08-19\n",
      "Academic license - for non-commercial use only - expires 2022-08-19\n",
      "Academic license - for non-commercial use only - expires 2022-08-19\n",
      "Academic license - for non-commercial use only - expires 2022-08-19\n",
      "Academic license - for non-commercial use only - expires 2022-08-19\n",
      "Academic license - for non-commercial use only - expires 2022-08-19\n",
      "Best Rho Value: 0.01\n",
      "Best MSE Value: 0.1340072636642836\n"
     ]
    }
   ],
   "source": [
    "rho_vals = [0.01,0.03,0.08,0.1,0.3,0.8,1,3]\n",
    "errors = zeros(length(rho_vals))\n",
    "for (i,rho) in enumerate(rho_vals)\n",
    "    (u,beta) = oneThreeD(Xtrain,ytrain,rho,solver_output=0)\n",
    "    validation_indicies = (u .== 0)\n",
    "    Xvalid = Xtrain[validation_indicies,:]\n",
    "    yvalid = ytrain[validation_indicies,:]\n",
    "    errors[i] = compute_mse(Matrix(Xvalid), yvalid, beta)\n",
    "end\n",
    "\n",
    "i_best = argmin(errors)\n",
    "println(\"Best Rho Value: \", rho_vals[i_best])\n",
    "println(\"Best MSE Value: \", errors[i_best])"
   ]
  },
  {
   "cell_type": "code",
   "execution_count": 32,
   "id": "ee00f092",
   "metadata": {},
   "outputs": [
    {
     "name": "stdout",
     "output_type": "stream",
     "text": [
      "Academic license - for non-commercial use only - expires 2022-08-19\n"
     ]
    },
    {
     "data": {
      "text/plain": [
       "1-dimensional DenseAxisArray{Float64,1,...} with index sets:\n",
       "    Dimension 1, 0:7\n",
       "And data, a 8-element Vector{Float64}:\n",
       "   2.4636518957528164\n",
       "  -0.45787550200138105\n",
       "  10.054386044591087\n",
       "  18.88974340764618\n",
       "   9.054858218924496\n",
       " -18.06448759078263\n",
       " -10.02468984890087\n",
       "   5.778924433654609"
      ]
     },
     "execution_count": 32,
     "metadata": {},
     "output_type": "execute_result"
    }
   ],
   "source": [
    "beta_final = oneThreeA(Xtrain,ytrain,0.01)"
   ]
  },
  {
   "cell_type": "code",
   "execution_count": 20,
   "id": "02f28ffc",
   "metadata": {},
   "outputs": [
    {
     "data": {
      "text/plain": [
       "4.890474182705654"
      ]
     },
     "execution_count": 20,
     "metadata": {},
     "output_type": "execute_result"
    }
   ],
   "source": [
    "compute_mse(Matrix(Xtest), ytest, beta_final)"
   ]
  },
  {
   "cell_type": "code",
   "execution_count": null,
   "id": "01a99f0a",
   "metadata": {},
   "outputs": [],
   "source": []
  }
 ],
 "metadata": {
  "kernelspec": {
   "display_name": "Julia 1.6.2",
   "language": "julia",
   "name": "julia-1.6"
  },
  "language_info": {
   "file_extension": ".jl",
   "mimetype": "application/julia",
   "name": "julia",
   "version": "1.6.2"
  }
 },
 "nbformat": 4,
 "nbformat_minor": 5
}
