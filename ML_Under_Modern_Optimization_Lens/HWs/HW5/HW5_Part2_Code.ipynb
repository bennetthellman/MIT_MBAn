{
 "cells": [
  {
   "cell_type": "code",
   "execution_count": 26,
   "id": "dd349e43",
   "metadata": {},
   "outputs": [],
   "source": [
    "using JuMP, Gurobi, LinearAlgebra, CSV, DataFrames, Pkg, Distances, Random, GLMNet, Dates"
   ]
  },
  {
   "cell_type": "code",
   "execution_count": 27,
   "id": "c1b2245d",
   "metadata": {},
   "outputs": [],
   "source": [
    "items = CSV.read(\"items.csv\",DataFrame; header=1);\n",
    "sales = CSV.read(\"sales.csv\",DataFrame; header=1);\n",
    "side = CSV.read(\"sideinformation.csv\",DataFrame; header=1);"
   ]
  },
  {
   "cell_type": "code",
   "execution_count": 100,
   "id": "d6125450",
   "metadata": {},
   "outputs": [],
   "source": [
    "Q = [50,100, 150, 200, 250, 300]\n",
    "merged = innerjoin(items, sales, on = :item_nbr)\n",
    "first(merged, 5);"
   ]
  },
  {
   "cell_type": "markdown",
   "id": "eb38c0dd",
   "metadata": {},
   "source": [
    "# 2.b.i"
   ]
  },
  {
   "cell_type": "code",
   "execution_count": 86,
   "id": "08a50021",
   "metadata": {},
   "outputs": [],
   "source": [
    "dbf = merged[joined_data.date .== \"14/08/2017\", :];\n",
    "dbf2 = merged[joined_data.date .== \"15/08/2017\", :];\n",
    "d_np = dbf[dbf.perishable .== 0, :].unit_sales;\n",
    "e_p = dbf[dbf.perishable .== 1, :].unit_sales;\n",
    "d_np_15 = dbf2[dbf2.perishable .== 0, :].unit_sales;\n",
    "e_p_15 = dbf2[dbf2.perishable .== 1, :].unit_sales;\n",
    "p_p = dbf[dbf.perishable .== 1, :].price;\n",
    "p_np = dbf[dbf.perishable .== 0, :].price;\n",
    "c_p = dbf[dbf.perishable .== 1, :].cost;\n",
    "c_np = dbf[dbf.perishable .== 0, :].cost;\n",
    "n_p = nrow(dbf[dbf.perishable .== 1, :])\n",
    "n_np = nrow(dbf[dbf.perishable .== 0, :]);"
   ]
  },
  {
   "cell_type": "code",
   "execution_count": 87,
   "id": "876ff313",
   "metadata": {},
   "outputs": [
    {
     "data": {
      "text/plain": [
       "optimize_values (generic function with 1 method)"
      ]
     },
     "execution_count": 87,
     "metadata": {},
     "output_type": "execute_result"
    }
   ],
   "source": [
    "function optimize_values(Q; solver_output = 0)\n",
    "model = Model(with_optimizer(Gurobi.Optimizer))\n",
    "set_optimizer_attribute(model, \"OutputFlag\", solver_output)\n",
    "\n",
    "@variable(model, s_np[i=1:n_np]>=0, Int)\n",
    "@variable(model, t_p[j=1:n_p]>=0, Int)\n",
    "@variable(model, phi[i=1:n_np])\n",
    "@variable(model, theta[j=1:n_p])\n",
    "\n",
    "@constraint(model, [j=1:num_p], t_p[j] <= (1/20*Q))\n",
    "@constraint(model, [i=1:num_np], s_np[i] <= (1/20*Q))\n",
    "@constraint(model, [j=1:num_p], theta[j] <= e_p[j])\n",
    "@constraint(model, [j=1:num_p], theta[j] <= t_p[j])\n",
    "@constraint(model, [i=1:num_np], phi[i] <= d_np[i])\n",
    "@constraint(model, [i=1:num_np], phi[i] <= s_np[i])\n",
    "@constraint(model, [i=1:num_np, j=1:n_p], sum(s_np[i] for i=1:n_np) + sum(t_p[j] for j=1:n_p) <= Q)\n",
    "@objective(model,Max, sum(p_p[j]*theta[j] - c_p[j]*t_p[j] for j=1:n_p)+ sum(p_np[i]*phi[i] - c_np[i]*phi[i] for i=1:n_np))\n",
    "JuMP.optimize!(model)\n",
    "obj_val = JuMP.objective_value(model)\n",
    "return obj_val\n",
    "end"
   ]
  },
  {
   "cell_type": "code",
   "execution_count": 88,
   "id": "4242e93c",
   "metadata": {},
   "outputs": [
    {
     "name": "stdout",
     "output_type": "stream",
     "text": [
      "Academic license - for non-commercial use only - expires 2022-08-19\n",
      "Academic license - for non-commercial use only - expires 2022-08-19\n",
      "Academic license - for non-commercial use only - expires 2022-08-19\n",
      "Academic license - for non-commercial use only - expires 2022-08-19\n",
      "Academic license - for non-commercial use only - expires 2022-08-19\n",
      "Academic license - for non-commercial use only - expires 2022-08-19\n",
      "Average Profit: 508.2975666666666\n"
     ]
    }
   ],
   "source": [
    "profit = 0\n",
    "for i in Q\n",
    "    profit = profit + optimize_values(i)\n",
    "end\n",
    "println(\"Average Profit: \", profit/length(Q))"
   ]
  },
  {
   "cell_type": "markdown",
   "id": "81d1afab",
   "metadata": {},
   "source": [
    "# 2.b.ii"
   ]
  },
  {
   "cell_type": "code",
   "execution_count": 90,
   "id": "f9bb37c5",
   "metadata": {},
   "outputs": [],
   "source": [
    "dbf = merged[joined_data.date .== \"15/08/2017\", :]\n",
    "d_np = dbf[dbf.perishable .== 0, :].unit_sales;\n",
    "e_p = dbf[dbf.perishable .== 1, :].unit_sales;\n",
    "p_p = dbf[dbf.perishable .== 1, :].price;\n",
    "p_np = dbf[dbf.perishable .== 0, :].price;\n",
    "c_p = dbf[dbf.perishable .== 1, :].cost;\n",
    "c_np = dbf[dbf.perishable .== 0, :].cost;\n",
    "n_p = nrow(dbf[dbf.perishable .== 1, :])\n",
    "n_np = nrow(dbf[dbf.perishable .== 0, :]);"
   ]
  },
  {
   "cell_type": "code",
   "execution_count": 91,
   "id": "4cdef447",
   "metadata": {},
   "outputs": [
    {
     "name": "stdout",
     "output_type": "stream",
     "text": [
      "Academic license - for non-commercial use only - expires 2022-08-19\n",
      "Academic license - for non-commercial use only - expires 2022-08-19\n",
      "Academic license - for non-commercial use only - expires 2022-08-19\n",
      "Academic license - for non-commercial use only - expires 2022-08-19\n",
      "Academic license - for non-commercial use only - expires 2022-08-19\n",
      "Academic license - for non-commercial use only - expires 2022-08-19\n",
      "Average Profit: 460.2348866666667\n"
     ]
    }
   ],
   "source": [
    "profit = 0\n",
    "for i in Q\n",
    "    profit = profit + optimize_values(i)\n",
    "end\n",
    "println(\"Average Profit: \", profit/length(Q))"
   ]
  },
  {
   "cell_type": "markdown",
   "id": "411697df",
   "metadata": {},
   "source": [
    "# 2.b.iii"
   ]
  },
  {
   "cell_type": "markdown",
   "id": "eaae3d74",
   "metadata": {},
   "source": [
    "The approach used below judges the five nearest neighbors as those which are most similar in terms of holiday status and oil price (isHoliday, oilPrice). Both are an effort to indicate days with similar economic and consumer patterns. "
   ]
  },
  {
   "cell_type": "code",
   "execution_count": 92,
   "id": "6d3c6425",
   "metadata": {},
   "outputs": [
    {
     "data": {
      "text/plain": [
       "5×1 Matrix{String}:\n",
       " \"3/06/2017\"\n",
       " \"14/08/2017\"\n",
       " \"12/03/2017\"\n",
       " \"2/05/2017\"\n",
       " \"2/06/2017\""
      ]
     },
     "execution_count": 92,
     "metadata": {},
     "output_type": "execute_result"
    }
   ],
   "source": [
    "side[!,:dt]=Date.(side.date, \"dd/mm/yyyy\");\n",
    "side[!,:oil_p]=(side[!,:oilPrice].-minimum(side[!,:oilPrice]))./(maximum(side[!,:oilPrice]));\n",
    "#obtaining the most recent 100 days\n",
    "recent=subset(side, :dt => ByRow( >=(Date(2017,8,15)-Dates.Day(100))));\n",
    "oil_p_15 = subset(recent, :date => ByRow(isequal(\"15/08/2017\")))[:, 3];\n",
    "hol_15 = subset(recent, :date => ByRow(isequal(\"15/08/2017\")))[:, 2];\n",
    "#calculating euclidean distance\n",
    "side.dist = ((oil_p_15 .- side.oil_p).^2 + (hol_15 .- side.isHoliday).^2).^0.5;\n",
    "#finding the 5 \"nearest\" neighbors\n",
    "dist_sorted = sort!(side, [:dist]);\n",
    "fiveNN_dates = dist_sorted[:, :date][2:6, :]"
   ]
  },
  {
   "cell_type": "code",
   "execution_count": 93,
   "id": "21ebd693",
   "metadata": {},
   "outputs": [],
   "source": [
    "#subsetting data to five nearest dates\n",
    "df2 = joined_data[∈(fiveNN_dates).(merged.date), :];\n",
    "df2_p = df2[df2.perishable .== 1, :];\n",
    "df2_np = df2[df2.perishable .== 0, :];"
   ]
  },
  {
   "cell_type": "code",
   "execution_count": 94,
   "id": "faae8aac",
   "metadata": {},
   "outputs": [],
   "source": [
    "#subsetting data to five nearest dates for sales records and splitting into individual data frames\n",
    "knn_1 = sales[sales[!,:date] .== fiveNN_dates[1], :];\n",
    "knn_2 = sales[sales[!,:date] .== fiveNN_dates[2], :];\n",
    "knn_3 = sales[sales[!,:date] .== fiveNN_dates[3], :];\n",
    "knn_4 = sales[sales[!,:date] .== fiveNN_dates[4], :];\n",
    "knn_5 = sales[sales[!,:date] .== fiveNN_dates[5], :];\n",
    "#obtaining unit_sales for all five neighbors\n",
    "items.knn_demand_1 = knn_1[:, 5];\n",
    "items.knn_demand_2 = knn_2[:, 5];\n",
    "items.knn_demand_3 = knn_3[:, 5];\n",
    "items.knn_demand_4 = knn_4[:, 5];\n",
    "items.knn_demand_5 = knn_5[:, 5];\n",
    "d_np = Matrix(items[items.perishable .== 0, :][:, Not(1:6)]);\n",
    "e_p = Matrix(items[items.perishable .== 1, :][:, Not(1:6)]);\n",
    "p_p = items[items.perishable .== 1, :].price;\n",
    "p_np = items[items.perishable .== 0, :].price;\n",
    "c_p = items[items.perishable .== 1, :].cost;\n",
    "c_np = items[items.perishable .== 0, :].cost;\n",
    "n_p = nrow(items[items.perishable .== 1, :]);\n",
    "n_np = nrow(items[items.perishable .== 0, :]);"
   ]
  },
  {
   "cell_type": "code",
   "execution_count": 97,
   "id": "a9090efb",
   "metadata": {},
   "outputs": [
    {
     "data": {
      "text/plain": [
       "optimize_values (generic function with 1 method)"
      ]
     },
     "execution_count": 97,
     "metadata": {},
     "output_type": "execute_result"
    }
   ],
   "source": [
    "function optimize_values(Q; solver_output = 0)\n",
    "    model = Model(with_optimizer(Gurobi.Optimizer))\n",
    "    set_optimizer_attribute(model, \"OutputFlag\", solver_output)\n",
    "    \n",
    "    K = 5\n",
    "    @variable(model, s_np[i=1:n_np]>=0, Int)\n",
    "    @variable(model, t_p[j=1:n_p]>=0, Int)\n",
    "    @variable(model, phi[i=1:n_np, k =1:K])\n",
    "    @variable(model, theta[j=1:n_p, k =1:K])\n",
    "    \n",
    "    @constraint(model, [j=1:n_p], t_p[j] <= (1/20*Q))\n",
    "    @constraint(model, [i=1:n_np], s_np[i] <= (1/20*Q))\n",
    "    \n",
    "    @constraint(model, [j=1:n_p, k=1:K], theta[j, k] <= e_p[j, k])\n",
    "    @constraint(model, [j=1:n_p, k=1:K], theta[j, k] <= t_p[j])\n",
    "    \n",
    "    @constraint(model, [i=1:n_np, k=1:K], phi[i, k] <= d_np[i, k])\n",
    "    @constraint(model, [i=1:n_np, k=1:K], phi[i, k] <= s_np[i])\n",
    "    \n",
    "    @constraint(model, [i=1:n_np, j=1:n_p], sum(s_np[i] for i=1:num_np) + sum(t_p[j] for j=1:num_p) <= Q)\n",
    "    @objective(model,Max,sum(1/K*sum(p_p[j]*theta[j, k] - c_p[j]*t_p[j] for j=1:n_p) for k=1:K) + \n",
    "    sum(1/K*sum(p_np[i]*phi[i, k] - c_np[i]*phi[i, k] for i=1:n_np) for k=1:K))\n",
    "    \n",
    "    JuMP.optimize!(model)\n",
    "    obj_val = JuMP.objective_value(model)\n",
    "    return (obj_val, JuMP.value.(s_np), JuMP.value.(t_p), JuMP.value.(theta), JuMP.value.(phi))\n",
    "end"
   ]
  },
  {
   "cell_type": "code",
   "execution_count": 96,
   "id": "54733816",
   "metadata": {},
   "outputs": [
    {
     "name": "stdout",
     "output_type": "stream",
     "text": [
      "Academic license - for non-commercial use only - expires 2022-08-19\n",
      "Academic license - for non-commercial use only - expires 2022-08-19\n",
      "Academic license - for non-commercial use only - expires 2022-08-19\n",
      "Academic license - for non-commercial use only - expires 2022-08-19\n",
      "Academic license - for non-commercial use only - expires 2022-08-19\n",
      "Academic license - for non-commercial use only - expires 2022-08-19\n",
      "Average Optimized Profit: 384.325\n",
      "Average Actual Profit: 333.22822\n"
     ]
    }
   ],
   "source": [
    "profit = 0\n",
    "actual_profit = 0\n",
    "for i in Q\n",
    "    vals = optimize_values(i)\n",
    "    obj_value = vals[1]\n",
    "    opt_s = vals[2]\n",
    "    opt_t = vals[3]\n",
    "    profit = profit + obj_value\n",
    "    ac_prof = sum(p_p[j]*min(e_p_15[j],opt_t[j]) - c_p[j]*opt_t[j] for j=1:n_p) +\n",
    "    sum(p_np[i]*min(d_np_15[i], opt_s[i])- c_np[i]*min(d_np_15[i], opt_s[i]) for i=1:n_np)\n",
    "    actual_profit = actual_profit + ac_prof\n",
    "end\n",
    "println(\"Average Optimized Profit: \", profit/length(Q))\n",
    "println(\"Average Actual Profit: \", actual_profit/length(Q))"
   ]
  },
  {
   "cell_type": "markdown",
   "id": "c1127798",
   "metadata": {},
   "source": [
    "# 2.b.iv"
   ]
  },
  {
   "cell_type": "markdown",
   "id": "db46771d",
   "metadata": {},
   "source": [
    "Throughout this course we have demonstrated the empirical dominance of optimization based machine learning as opposed to heuristic methods. We would expect the same performance differential in this setting. Thus, with optimization based machine learning methods we'd expect the profit to be even higher."
   ]
  }
 ],
 "metadata": {
  "kernelspec": {
   "display_name": "Julia (IAI) 1.6.2",
   "language": "julia",
   "name": "julia-(iai)-1.6"
  },
  "language_info": {
   "file_extension": ".jl",
   "mimetype": "application/julia",
   "name": "julia",
   "version": "1.6.2"
  }
 },
 "nbformat": 4,
 "nbformat_minor": 5
}
