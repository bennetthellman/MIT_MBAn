{
 "cells": [
  {
   "cell_type": "code",
   "execution_count": 2,
   "id": "24649a20",
   "metadata": {},
   "outputs": [
    {
     "name": "stderr",
     "output_type": "stream",
     "text": [
      "\u001b[32m\u001b[1m   Resolving\u001b[22m\u001b[39m package versions...\n",
      "\u001b[32m\u001b[1m  No Changes\u001b[22m\u001b[39m to `~/.julia/environments/v1.6/Project.toml`\n",
      "\u001b[32m\u001b[1m  No Changes\u001b[22m\u001b[39m to `~/.julia/environments/v1.6/Manifest.toml`\n"
     ]
    }
   ],
   "source": [
    "using Pkg \n",
    "Pkg.add(\"CSV\")\n",
    "Pkg.build(\"CSV\"; verbose = true)"
   ]
  },
  {
   "cell_type": "code",
   "execution_count": 3,
   "id": "2954b2ec",
   "metadata": {},
   "outputs": [],
   "source": [
    "using Gurobi,  DataFrames, JuMP, LinearAlgebra, Distributions, GLMNet, Random, Pkg, MLBase, CSV"
   ]
  },
  {
   "cell_type": "code",
   "execution_count": 4,
   "id": "8b96d3e5",
   "metadata": {},
   "outputs": [],
   "source": [
    "Xtrain = CSV.read(\"airfoil_X_train.csv\", DataFrame, header=1);\n",
    "ytrain = CSV.read(\"airfoil_Y_train.csv\", DataFrame, header=1)[:,1];\n",
    "Xtest = CSV.read(\"airfoil_X_test.csv\", DataFrame, header=1);\n",
    "ytest = CSV.read(\"airfoil_Y_test.csv\", DataFrame, header=1)[:,1];"
   ]
  },
  {
   "cell_type": "markdown",
   "id": "f8521d7d",
   "metadata": {},
   "source": [
    "# 3.1 Question 1: Holistic Regression"
   ]
  },
  {
   "cell_type": "markdown",
   "id": "9185dbee",
   "metadata": {},
   "source": [
    "## 3.1a)"
   ]
  },
  {
   "cell_type": "code",
   "execution_count": 3,
   "id": "27927d21",
   "metadata": {},
   "outputs": [
    {
     "data": {
      "text/plain": [
       "15-element Vector{Float64}:\n",
       " -0.12135865302357253\n",
       " -0.20171078656217045\n",
       " -0.34545429509859027\n",
       "  0.06345766062718952\n",
       " -0.002724358478913054\n",
       " -0.0414582918628037\n",
       " -0.45546592619148085\n",
       "  0.08180247107368721\n",
       " -0.4056202426222409\n",
       "  0.13059609061333535\n",
       " -0.13816204192771966\n",
       " -0.1435956235942216\n",
       "  0.18090319386557993\n",
       " -0.2966023001087412\n",
       "  0.3642489167048034"
      ]
     },
     "execution_count": 3,
     "metadata": {},
     "output_type": "execute_result"
    }
   ],
   "source": [
    "cv = glmnetcv(Matrix(Xtrain), ytrain)\n",
    "GLMNet.coef(cv)"
   ]
  },
  {
   "cell_type": "code",
   "execution_count": 4,
   "id": "c24e9e5f",
   "metadata": {},
   "outputs": [
    {
     "data": {
      "text/plain": [
       "compute_mse_wb0 (generic function with 1 method)"
      ]
     },
     "execution_count": 4,
     "metadata": {},
     "output_type": "execute_result"
    }
   ],
   "source": [
    "function compute_mse(X, y, beta)\n",
    "    n,p = size(X)\n",
    "    return sum((y .- X*beta[1:p]).^2)/n\n",
    "end\n",
    "\n",
    "function compute_mse_wb0(X, y, beta, beta_0)\n",
    "    n,p = size(X)\n",
    "    return sum((y .- X*beta .- beta_0).^2)/n\n",
    "end"
   ]
  },
  {
   "cell_type": "code",
   "execution_count": 5,
   "id": "47482504",
   "metadata": {},
   "outputs": [
    {
     "data": {
      "text/plain": [
       "rsq (generic function with 1 method)"
      ]
     },
     "execution_count": 5,
     "metadata": {},
     "output_type": "execute_result"
    }
   ],
   "source": [
    "function rsq(X, y, beta)\n",
    "    n,p = size(X)\n",
    "    return 1-sum((y .- X*beta[1:p]).^2)/sum((y .- (y/n)).^2)\n",
    "end"
   ]
  },
  {
   "cell_type": "code",
   "execution_count": 6,
   "id": "359fc841",
   "metadata": {},
   "outputs": [
    {
     "data": {
      "text/plain": [
       "0.3749824414598864"
      ]
     },
     "execution_count": 6,
     "metadata": {},
     "output_type": "execute_result"
    }
   ],
   "source": [
    "compute_mse(Matrix(Xtest), ytest, GLMNet.coef(cv))"
   ]
  },
  {
   "cell_type": "code",
   "execution_count": 7,
   "id": "d574776c",
   "metadata": {},
   "outputs": [
    {
     "data": {
      "text/plain": [
       "0.635629817698532"
      ]
     },
     "execution_count": 7,
     "metadata": {},
     "output_type": "execute_result"
    }
   ],
   "source": [
    "rsq(Matrix(Xtest), ytest, GLMNet.coef(cv))"
   ]
  },
  {
   "cell_type": "markdown",
   "id": "24b0e5e7",
   "metadata": {},
   "source": [
    "## 3.1b)"
   ]
  },
  {
   "cell_type": "code",
   "execution_count": 8,
   "id": "a38c0f3a",
   "metadata": {},
   "outputs": [
    {
     "data": {
      "text/plain": [
       "15×15 Matrix{Float64}:\n",
       "  1.0        -0.278659   -0.0301151  …   0.0367723  -0.204695   -0.221726\n",
       " -0.278659    1.0        -0.500638      -0.426344    0.371662    0.729439\n",
       " -0.0301151  -0.500638    1.0            0.881465    0.203822   -0.216972\n",
       "  0.126902    0.0426135   0.0242601      0.409468   -0.0096227   0.244131\n",
       " -0.245811    0.762491   -0.227926      -0.207703    0.817769    0.926974\n",
       "  0.376657    0.487474   -0.286753   …  -0.21805     0.116095    0.308391\n",
       "  0.680399   -0.34138     0.467137       0.492894   -0.0313951  -0.197011\n",
       "  0.944555   -0.240804   -0.0059982      0.137558   -0.184829   -0.163565\n",
       "  0.250875    0.443983   -0.119055      -0.0911413   0.468395    0.528344\n",
       " -0.26623     0.467794    0.2395         0.240433    0.809066    0.61753\n",
       " -0.229541    0.909715   -0.443013   …  -0.293285    0.329069    0.786103\n",
       " -0.221854    0.832278   -0.340088      -0.297481    0.66444     0.901821\n",
       "  0.0367723  -0.426344    0.881465       1.0         0.164615   -0.12064\n",
       " -0.204695    0.371662    0.203822       0.164615    1.0         0.755483\n",
       " -0.221726    0.729439   -0.216972      -0.12064     0.755483    1.0"
      ]
     },
     "execution_count": 8,
     "metadata": {},
     "output_type": "execute_result"
    }
   ],
   "source": [
    "comat = cor(Matrix(Xtrain))"
   ]
  },
  {
   "cell_type": "code",
   "execution_count": 9,
   "id": "02913618",
   "metadata": {},
   "outputs": [
    {
     "data": {
      "text/plain": [
       "cor_var_mat (generic function with 1 method)"
      ]
     },
     "execution_count": 9,
     "metadata": {},
     "output_type": "execute_result"
    }
   ],
   "source": [
    "function cor_var_mat(X, rho)\n",
    "    mat = []\n",
    "    c = cor(X)\n",
    "    n = size(c)[1]\n",
    "\n",
    "    for i in 1:n\n",
    "        vec = c[i,:]\n",
    "        for j in 1:n\n",
    "            if i != j\n",
    "                if vec[j] >= rho\n",
    "                    push!(mat,(i,j,vec[j]))\n",
    "                end\n",
    "            end\n",
    "        end\n",
    "    end\n",
    "    return mat\n",
    "end\n",
    "#Kyle Maulden showed me the helper function to generalize the one I built myself below"
   ]
  },
  {
   "cell_type": "code",
   "execution_count": 10,
   "id": "6fbd9f18",
   "metadata": {},
   "outputs": [
    {
     "name": "stdout",
     "output_type": "stream",
     "text": [
      "(5,2),(8,1),(9,6),(11,2),(12,2),(12,5),(12,11),(13,3),(14,5),(14,10),(15,2),(15,5),(15,11),(15,12),(15,14),"
     ]
    }
   ],
   "source": [
    "for i in 1:15\n",
    "    for j in 1:15\n",
    "        if i>=j\n",
    "            if i!=j\n",
    "                if abs(comat[i,j]) > .7  \n",
    "                    print(\"(\")\n",
    "                    print(i)\n",
    "                    print(\",\")\n",
    "                    print(j)\n",
    "                    print(\"),\")\n",
    "                end\n",
    "            end\n",
    "        end\n",
    "    end\n",
    "end"
   ]
  },
  {
   "cell_type": "markdown",
   "id": "a486b005",
   "metadata": {},
   "source": [
    "delete 15\n",
    "\n",
    "delete 14\n",
    "\n",
    "delete 12\n",
    "\n",
    "delete 13\n",
    "\n",
    "delete 11\n",
    "\n",
    "delete 9\n",
    "\n",
    "delete 8\n",
    "\n",
    "delete 5"
   ]
  },
  {
   "cell_type": "code",
   "execution_count": 11,
   "id": "599720f8",
   "metadata": {},
   "outputs": [],
   "source": [
    "Xtrain_s = select(Xtrain, Not([:angle_X_velocity, :angle_X_displacement, :length_X_velocity, :length_X_displacement,  :velocity_X_displacement, :freq_X_velocity,  :freq_X_displacement, :displacement]));\n",
    "Xtest_s = select(Xtest, Not([:angle_X_velocity, :angle_X_displacement, :length_X_velocity, :length_X_displacement,  :velocity_X_displacement, :freq_X_velocity,  :freq_X_displacement, :displacement]));"
   ]
  },
  {
   "cell_type": "code",
   "execution_count": 12,
   "id": "aaad7724",
   "metadata": {},
   "outputs": [
    {
     "data": {
      "text/plain": [
       "7-element Vector{Float64}:\n",
       " -0.026516132103133614\n",
       " -0.2465980601032888\n",
       " -0.1876660300526013\n",
       "  0.22694875062206513\n",
       " -0.3155679770195879\n",
       " -0.5171711262852544\n",
       " -0.07694596169357004"
      ]
     },
     "execution_count": 12,
     "metadata": {},
     "output_type": "execute_result"
    }
   ],
   "source": [
    "cv2 = glmnetcv(Matrix(Xtrain_s), ytrain)\n",
    "GLMNet.coef(cv2)"
   ]
  },
  {
   "cell_type": "code",
   "execution_count": 13,
   "id": "bb5cc582",
   "metadata": {},
   "outputs": [
    {
     "name": "stdout",
     "output_type": "stream",
     "text": [
      "R-squared:\n",
      "0.5760754068072742\n",
      "MSE:\n",
      "0.43627137090700685"
     ]
    }
   ],
   "source": [
    "print(\"R-squared:\\n\")\n",
    "print(rsq(Matrix(Xtest_s), ytest, GLMNet.coef(cv2)))\n",
    "print(\"\\nMSE:\\n\")\n",
    "print(compute_mse(Matrix(Xtest_s), ytest, GLMNet.coef(cv2)))"
   ]
  },
  {
   "cell_type": "markdown",
   "id": "a3e30e34",
   "metadata": {},
   "source": [
    "## 3.1c)"
   ]
  },
  {
   "cell_type": "code",
   "execution_count": 37,
   "id": "6a169639",
   "metadata": {},
   "outputs": [
    {
     "data": {
      "text/plain": [
       "trans_x (generic function with 1 method)"
      ]
     },
     "execution_count": 37,
     "metadata": {},
     "output_type": "execute_result"
    }
   ],
   "source": [
    "function trans_x(X;eps = 1e-10)\n",
    "    n,p = size(X)\n",
    "    X_t = zeros((n, 4*p))\n",
    "    for j in 1:p\n",
    "        X_t[:,4(j-1) + 1] = X[:,j]\n",
    "        X_t[:,4(j-1) + 2] = X[:,j].^2\n",
    "        X_t[:,4(j-1) + 3] = sqrt.(abs.(X[:,j]))\n",
    "        X_t[:,4(j-1) + 4] = log.(abs.(X[:,j]) .+ eps)\n",
    "    end\n",
    "    return X_t\n",
    "end"
   ]
  },
  {
   "cell_type": "code",
   "execution_count": 38,
   "id": "3259fe16",
   "metadata": {},
   "outputs": [
    {
     "data": {
      "text/plain": [
       "holy_reg (generic function with 1 method)"
      ]
     },
     "execution_count": 38,
     "metadata": {},
     "output_type": "execute_result"
    }
   ],
   "source": [
    "function holy_reg(X,y,lambda,rho,M,k;solver_output=0)\n",
    "\n",
    "    n,p = size(X)\n",
    "    p_bar = p / 4\n",
    "    hc = cor_var_mat(X, rho)\n",
    "       \n",
    "    # Build model\n",
    "    model = Model(Gurobi.Optimizer)\n",
    "    set_optimizer_attribute(model, \"OutputFlag\", solver_output)\n",
    "    set_optimizer_attribute(model, \"IntFeasTol\", 1e-9)\n",
    "\n",
    "    # Insert variables\n",
    "    @variable(model,beta_i[i=1:p])\n",
    "    @variable(model,beta_0)\n",
    "    @variable(model,beta_i_reg[i=1:p])\n",
    "    @variable(model,z_i[i=1:p],Bin)\n",
    "    \n",
    "    # L1 Constraint\n",
    "    @constraint(model,[i=1:p], beta_i_reg[i] >= beta_i[i])\n",
    "    @constraint(model,[i=1:p], beta_i_reg[i] >= -beta_i[i])\n",
    "    \n",
    "    # Sparsity Constraints \n",
    "    # Equation 3.2\n",
    "    @constraint(model,[i=1:p], -M*z_i[i] <= beta_i[i])\n",
    "    @constraint(model,[i=1:p], beta_i[i] <= M*z_i[i])\n",
    "    # Equation 3.3\n",
    "    @constraint(model,sum(z_i) <= k)\n",
    "            \n",
    "    # Equation 3.4 - Limiting Model to one transformation of an x variable \n",
    "    for j in 1:p_bar\n",
    "        @constraint(model,z_i[Int(4(j-1)+1)] + z_i[Int(4(j-1)+2)] + z_i[Int(4(j-1)+3)] + z_i[Int(4(j-1)+4)] <= 1)\n",
    "    end\n",
    "    \n",
    "    # Equation 3.5 - Limit Pairwise Collinearity\n",
    "    for pairwise in hc\n",
    "        @constraint(model,z_i[Int(pairwise[1])] + z_i[Int(pairwise[2])] <= 1)\n",
    "    end   \n",
    "    \n",
    "    #Objective\n",
    "    @objective(model,Min, (1/2)*sum((y .- X*beta_i .- beta_0).^2) + lambda*sum(beta_i_reg))\n",
    "\n",
    "    # Optimize\n",
    "    optimize!(model)\n",
    "    \n",
    "    # Return estimated betas\n",
    "    return (value.(beta_i),value.(beta_0))\n",
    "    \n",
    "end "
   ]
  },
  {
   "cell_type": "code",
   "execution_count": 39,
   "id": "aee03331",
   "metadata": {},
   "outputs": [
    {
     "name": "stdout",
     "output_type": "stream",
     "text": [
      "Academic license - for non-commercial use only - expires 2022-08-19\n",
      "[0.0, 0.0, 0.0, -0.0023549030028753013, 0.0, 0.0, 0.0, -0.003727925801007079, 0.0, 0.0, 0.0, -0.0073265798737145674, 0.0, 0.0, 0.0, 0.06623439122152379, 0.0, 0.0, 0.0, 0.0, 0.0, 0.0, 0.0, -0.002425337806268929, 0.0, 0.0, 0.0, 0.0, 0.0, 0.0, 0.0, 0.0, 0.0, 0.0, 0.0, -0.006049344617990648, 0.0, 0.0, 0.0, 0.0, 0.0, 0.0, 0.0, -0.008791535383299846, 0.0, 0.0, 0.0, 0.0061720744788694515, 0.0, 0.0, 0.0, 0.0, 0.0, 0.0, 0.0, -0.005203923857426994, 0.0, 0.0, 0.0, -0.0037269219135628038, 0.0, 0.0, 0.0, 0.0]"
     ]
    }
   ],
   "source": [
    "Xtrain_t = trans_x(Xtrain)\n",
    "beta_op, beta_0_op = holy_reg(Xtrain_t,ytrain,.1,.7,999,10)\n",
    "print(beta_op)"
   ]
  },
  {
   "cell_type": "code",
   "execution_count": 40,
   "id": "fe380f72",
   "metadata": {},
   "outputs": [
    {
     "data": {
      "text/plain": [
       "holy_reg_cv (generic function with 1 method)"
      ]
     },
     "execution_count": 40,
     "metadata": {},
     "output_type": "execute_result"
    }
   ],
   "source": [
    "function holy_reg_cv(X,y,lambdas,rho,M,k,folds;solver_output=0)\n",
    "    n,p = size(X)\n",
    "    cut = convert(Int,floor(n/folds)) #floor takes the integer part\n",
    "    lam_i_error = zeros(length(lambdas))\n",
    "    \n",
    "    #cross validating each each lambda value\n",
    "    for (i,lambda) in enumerate(lambdas)\n",
    "        Random.seed!(i)\n",
    "        errors = zeros(folds)\n",
    "        for (j,fold) in enumerate(collect(Kfold(n,folds)))\n",
    "            Xtrain, ytrain = X[fold,:], y[fold]\n",
    "            val_ind = [x for x in 1:n if !(x in fold)]\n",
    "            Xvalid, yvalid = X[val_ind,:], y[val_ind]\n",
    "            beta, beta_0 = holy_reg(X,y,lambda,rho,M,k;solver_output=0)\n",
    "            mse = compute_mse_wb0(Matrix(Xvalid), yvalid, beta, beta_0)\n",
    "            errors[j] = mse    \n",
    "        end\n",
    "        avg_error = mean(errors)\n",
    "        lam_i_error[i] = avg_error\n",
    "    end\n",
    "\n",
    "    #reporting the best performing lambda\n",
    "    op_lam = argmin(lam_i_error)\n",
    "    beta_op, beta_0_op = holy_reg(X,y,lambdas[op_lam],rho,M,k)\n",
    "    println(\"Best Lambda:\\n\")\n",
    "    print(lambdas[op_lam])\n",
    "    println(\"\\nOptimal Betas\")\n",
    "    print(beta_op)\n",
    "    return beta_op, beta_0_op, lambdas[op_lam], lam_i_error \n",
    "end\n",
    "    "
   ]
  },
  {
   "cell_type": "code",
   "execution_count": 44,
   "id": "24a71c48",
   "metadata": {},
   "outputs": [
    {
     "name": "stdout",
     "output_type": "stream",
     "text": [
      "Academic license - for non-commercial use only - expires 2022-08-19\n",
      "Academic license - for non-commercial use only - expires 2022-08-19\n",
      "Academic license - for non-commercial use only - expires 2022-08-19\n",
      "Academic license - for non-commercial use only - expires 2022-08-19\n",
      "Academic license - for non-commercial use only - expires 2022-08-19\n",
      "Academic license - for non-commercial use only - expires 2022-08-19\n",
      "Academic license - for non-commercial use only - expires 2022-08-19\n",
      "Academic license - for non-commercial use only - expires 2022-08-19\n",
      "Academic license - for non-commercial use only - expires 2022-08-19\n",
      "Academic license - for non-commercial use only - expires 2022-08-19\n",
      "Academic license - for non-commercial use only - expires 2022-08-19\n",
      "Academic license - for non-commercial use only - expires 2022-08-19\n",
      "Academic license - for non-commercial use only - expires 2022-08-19\n",
      "Academic license - for non-commercial use only - expires 2022-08-19\n",
      "Academic license - for non-commercial use only - expires 2022-08-19\n",
      "Academic license - for non-commercial use only - expires 2022-08-19\n",
      "Academic license - for non-commercial use only - expires 2022-08-19\n",
      "Academic license - for non-commercial use only - expires 2022-08-19\n",
      "Academic license - for non-commercial use only - expires 2022-08-19\n",
      "Academic license - for non-commercial use only - expires 2022-08-19\n",
      "Academic license - for non-commercial use only - expires 2022-08-19\n",
      "Academic license - for non-commercial use only - expires 2022-08-19\n",
      "Academic license - for non-commercial use only - expires 2022-08-19\n",
      "Academic license - for non-commercial use only - expires 2022-08-19\n",
      "Academic license - for non-commercial use only - expires 2022-08-19\n",
      "Academic license - for non-commercial use only - expires 2022-08-19\n",
      "Academic license - for non-commercial use only - expires 2022-08-19\n",
      "Academic license - for non-commercial use only - expires 2022-08-19\n",
      "Academic license - for non-commercial use only - expires 2022-08-19\n",
      "Academic license - for non-commercial use only - expires 2022-08-19\n",
      "Academic license - for non-commercial use only - expires 2022-08-19\n",
      "Academic license - for non-commercial use only - expires 2022-08-19\n",
      "Academic license - for non-commercial use only - expires 2022-08-19\n",
      "Academic license - for non-commercial use only - expires 2022-08-19\n",
      "Academic license - for non-commercial use only - expires 2022-08-19\n",
      "Academic license - for non-commercial use only - expires 2022-08-19\n",
      "Academic license - for non-commercial use only - expires 2022-08-19\n",
      "Academic license - for non-commercial use only - expires 2022-08-19\n",
      "Academic license - for non-commercial use only - expires 2022-08-19\n",
      "Academic license - for non-commercial use only - expires 2022-08-19\n",
      "Academic license - for non-commercial use only - expires 2022-08-19\n",
      "Academic license - for non-commercial use only - expires 2022-08-19\n",
      "Academic license - for non-commercial use only - expires 2022-08-19\n",
      "Academic license - for non-commercial use only - expires 2022-08-19\n",
      "Academic license - for non-commercial use only - expires 2022-08-19\n",
      "Academic license - for non-commercial use only - expires 2022-08-19\n",
      "Academic license - for non-commercial use only - expires 2022-08-19\n",
      "Academic license - for non-commercial use only - expires 2022-08-19\n",
      "Academic license - for non-commercial use only - expires 2022-08-19\n",
      "Academic license - for non-commercial use only - expires 2022-08-19\n",
      "Academic license - for non-commercial use only - expires 2022-08-19\n",
      "Academic license - for non-commercial use only - expires 2022-08-19\n",
      "Academic license - for non-commercial use only - expires 2022-08-19\n",
      "Academic license - for non-commercial use only - expires 2022-08-19\n",
      "Academic license - for non-commercial use only - expires 2022-08-19\n",
      "Academic license - for non-commercial use only - expires 2022-08-19\n",
      "Academic license - for non-commercial use only - expires 2022-08-19\n",
      "Academic license - for non-commercial use only - expires 2022-08-19\n",
      "Academic license - for non-commercial use only - expires 2022-08-19\n",
      "Academic license - for non-commercial use only - expires 2022-08-19\n",
      "Academic license - for non-commercial use only - expires 2022-08-19\n",
      "Academic license - for non-commercial use only - expires 2022-08-19\n",
      "Academic license - for non-commercial use only - expires 2022-08-19\n",
      "Academic license - for non-commercial use only - expires 2022-08-19\n",
      "Academic license - for non-commercial use only - expires 2022-08-19\n",
      "Academic license - for non-commercial use only - expires 2022-08-19\n",
      "Academic license - for non-commercial use only - expires 2022-08-19\n",
      "Academic license - for non-commercial use only - expires 2022-08-19\n",
      "Academic license - for non-commercial use only - expires 2022-08-19\n",
      "Academic license - for non-commercial use only - expires 2022-08-19\n",
      "Academic license - for non-commercial use only - expires 2022-08-19\n",
      "Academic license - for non-commercial use only - expires 2022-08-19\n",
      "Academic license - for non-commercial use only - expires 2022-08-19\n",
      "Academic license - for non-commercial use only - expires 2022-08-19\n",
      "Academic license - for non-commercial use only - expires 2022-08-19\n",
      "Academic license - for non-commercial use only - expires 2022-08-19\n",
      "Academic license - for non-commercial use only - expires 2022-08-19\n",
      "Academic license - for non-commercial use only - expires 2022-08-19\n",
      "Academic license - for non-commercial use only - expires 2022-08-19\n",
      "Academic license - for non-commercial use only - expires 2022-08-19\n",
      "Academic license - for non-commercial use only - expires 2022-08-19\n",
      "Academic license - for non-commercial use only - expires 2022-08-19\n",
      "Academic license - for non-commercial use only - expires 2022-08-19\n",
      "Academic license - for non-commercial use only - expires 2022-08-19\n",
      "Academic license - for non-commercial use only - expires 2022-08-19\n",
      "Academic license - for non-commercial use only - expires 2022-08-19\n",
      "Academic license - for non-commercial use only - expires 2022-08-19\n",
      "Academic license - for non-commercial use only - expires 2022-08-19\n",
      "Academic license - for non-commercial use only - expires 2022-08-19\n",
      "Academic license - for non-commercial use only - expires 2022-08-19\n",
      "Academic license - for non-commercial use only - expires 2022-08-19\n",
      "Academic license - for non-commercial use only - expires 2022-08-19\n",
      "Academic license - for non-commercial use only - expires 2022-08-19\n",
      "Academic license - for non-commercial use only - expires 2022-08-19\n",
      "Academic license - for non-commercial use only - expires 2022-08-19\n",
      "Academic license - for non-commercial use only - expires 2022-08-19\n",
      "Academic license - for non-commercial use only - expires 2022-08-19\n",
      "Academic license - for non-commercial use only - expires 2022-08-19\n",
      "Academic license - for non-commercial use only - expires 2022-08-19\n",
      "Academic license - for non-commercial use only - expires 2022-08-19\n",
      "Academic license - for non-commercial use only - expires 2022-08-19\n",
      "Academic license - for non-commercial use only - expires 2022-08-19\n",
      "Academic license - for non-commercial use only - expires 2022-08-19\n",
      "Academic license - for non-commercial use only - expires 2022-08-19\n",
      "Academic license - for non-commercial use only - expires 2022-08-19\n",
      "Academic license - for non-commercial use only - expires 2022-08-19\n",
      "Academic license - for non-commercial use only - expires 2022-08-19\n",
      "Academic license - for non-commercial use only - expires 2022-08-19\n",
      "Academic license - for non-commercial use only - expires 2022-08-19\n",
      "Academic license - for non-commercial use only - expires 2022-08-19\n",
      "Academic license - for non-commercial use only - expires 2022-08-19\n",
      "Academic license - for non-commercial use only - expires 2022-08-19\n",
      "Academic license - for non-commercial use only - expires 2022-08-19\n",
      "Academic license - for non-commercial use only - expires 2022-08-19\n",
      "Academic license - for non-commercial use only - expires 2022-08-19\n",
      "Academic license - for non-commercial use only - expires 2022-08-19\n",
      "Academic license - for non-commercial use only - expires 2022-08-19\n",
      "Academic license - for non-commercial use only - expires 2022-08-19\n",
      "Academic license - for non-commercial use only - expires 2022-08-19\n",
      "Academic license - for non-commercial use only - expires 2022-08-19\n",
      "Academic license - for non-commercial use only - expires 2022-08-19\n",
      "Best Lambda:\n",
      "\n",
      "3.5\n",
      "Optimal Betas\n",
      "[0.0, 0.0, 0.0, -0.002245259087095853, 0.0, 0.0, 0.0, -0.003595843702477886, 0.0, 0.0, 0.0, -0.007288415927921829, 0.0, 0.0, 0.0, 0.06614564629132809, 0.0, 0.0, 0.0, 0.0, 0.0, 0.0, 0.0, -0.0021980900284848605, 0.0, 0.0, 0.0, 0.0, 0.0, 0.0, 0.0, 0.0, 0.0, 0.0, 0.0, -0.005899227308464097, 0.0, 0.0, 0.0, 0.0, 0.0, 0.0, 0.0, -0.008738308219167589, 0.0, 0.0, 0.0, 0.006049171927637974, 0.0, 0.0, 0.0, 0.0, 0.0, 0.0, 0.0, -0.004858533836158934, 0.0, 0.0, 0.0, -0.0035579957487941417, 0.0, 0.0, 0.0, 0.0]"
     ]
    },
    {
     "data": {
      "text/plain": [
       "([0.0, 0.0, 0.0, -0.002245259087095853, 0.0, 0.0, 0.0, -0.003595843702477886, 0.0, 0.0  …  0.0, -0.004858533836158934, 0.0, 0.0, 0.0, -0.0035579957487941417, 0.0, 0.0, 0.0, 0.0], 0.3230178173179774, 3.5, [0.11399959180718311, 0.1130686944792469, 0.11354830533133568, 0.11350982911377963, 0.11474278241441294, 0.11390850555743341, 0.11394129412917697, 0.11300958775838284, 0.11303244317585763, 0.11513324083850489, 0.1139857176559774, 0.11370508692004115])"
      ]
     },
     "execution_count": 44,
     "metadata": {},
     "output_type": "execute_result"
    }
   ],
   "source": [
    "lam = [0.01,0.5,1,1.5,2,2.5,3,3.5, 4, 4.5, 5,10]\n",
    "op_reg = holy_reg_cv(Xtrain_t,ytrain,lam,.7,999,10,10)"
   ]
  },
  {
   "cell_type": "code",
   "execution_count": 45,
   "id": "17e61b5e",
   "metadata": {},
   "outputs": [
    {
     "name": "stdout",
     "output_type": "stream",
     "text": [
      "Academic license - for non-commercial use only - expires 2022-08-19\n",
      "Holistic Regression MSE:\n"
     ]
    },
    {
     "data": {
      "text/plain": [
       "0.15824889654214308"
      ]
     },
     "execution_count": 45,
     "metadata": {},
     "output_type": "execute_result"
    }
   ],
   "source": [
    "beta_hat, beta_0_hat = holy_reg(Xtrain_t,ytrain,3.5,.7,999,10)\n",
    "Xtest_t = trans_x(Xtest)\n",
    "println(\"Holistic Regression MSE:\")\n",
    "compute_mse_wb0(Xtest_t,ytest,beta_hat,beta_0_hat)"
   ]
  },
  {
   "cell_type": "markdown",
   "id": "e853176f",
   "metadata": {},
   "source": [
    "## 3.1d)"
   ]
  },
  {
   "cell_type": "markdown",
   "id": "4a494c59",
   "metadata": {},
   "source": [
    "Comparing with Ananya, we had varying models. Her optimal $\\lambda$ value was 15 while mine was 3.5. This is most likely a result of her doing 1-fold CV as opposed to my 10-fold cross validation. I'd expect our values would be more similar if increased her k for CV. As a result, our models coefficients varied in the subset and values. \n",
    "\n",
    "Conversely, Iggy Siegel had an optimal lambda value of 5. The subset our regressions selected were very similar but varied slightly. Again, this was likely due to his 5-fold cross validation. "
   ]
  },
  {
   "cell_type": "markdown",
   "id": "4ad3602f",
   "metadata": {},
   "source": [
    "# 3.2 Question 2: Robust Classification"
   ]
  },
  {
   "cell_type": "code",
   "execution_count": 46,
   "id": "20e3d7a2",
   "metadata": {},
   "outputs": [],
   "source": [
    "Xtrain = Matrix(CSV.read(\"votes_X_train.csv\",DataFrame; header=true));\n",
    "Xtest = Matrix(CSV.read(\"votes_X_test.csv\",DataFrame; header=true));\n",
    "ytrain = Vector(CSV.read(\"votes_Y_train.csv\",DataFrame; header=true)[:,1]);\n",
    "ytest = Vector(CSV.read(\"votes_Y_test.csv\",DataFrame; header=true)[:,1]);"
   ]
  },
  {
   "cell_type": "markdown",
   "id": "f4c2bf93",
   "metadata": {},
   "source": [
    "## 3.2a)"
   ]
  },
  {
   "cell_type": "code",
   "execution_count": 47,
   "id": "a479948c",
   "metadata": {},
   "outputs": [
    {
     "data": {
      "text/plain": [
       "robust_class_3a (generic function with 1 method)"
      ]
     },
     "execution_count": 47,
     "metadata": {},
     "output_type": "execute_result"
    }
   ],
   "source": [
    "function robust_class_3a(X,y,C)\n",
    "    n,p = size(X)\n",
    "    \n",
    "    model = Model(Gurobi.Optimizer)\n",
    "    set_optimizer_attribute(model, \"OutputFlag\", 0) \n",
    "\n",
    "    # Insert variables\n",
    "    @variable(model,w[i=1:p])\n",
    "    @variable(model,w_reg[i=1:p])\n",
    "    @variable(model,z[i=1:n])\n",
    "    \n",
    "    #epigraph of maximization function\n",
    "    @constraint(model,[i=1:n], z[i] >= 0)\n",
    "    @constraint(model,[i=1:n], z[i] >= 1-y[i]*dot(X[i,:],w))\n",
    "    \n",
    "    #L1 Constraint\n",
    "    @constraint(model,[i=1:p], w_reg[i] >= w[i])\n",
    "    @constraint(model,[i=1:p], w_reg[i] >= -w[i])\n",
    "    \n",
    "    c_ypos = n / count(item -> (item==1), y)\n",
    "    c_yneg = n / count(item -> (item==-1), y)\n",
    "    \n",
    "    @objective(model, Min, C * sum((y[i]==1 ? c_ypos : c_yneg)*z[i] for i=1:n) + sum(w_reg[i] for i=1:p))\n",
    "    \n",
    "    optimize!(model)\n",
    "    return value.(w)\n",
    "end"
   ]
  },
  {
   "cell_type": "code",
   "execution_count": 48,
   "id": "7fd705ff",
   "metadata": {},
   "outputs": [
    {
     "data": {
      "text/plain": [
       "predict (generic function with 1 method)"
      ]
     },
     "execution_count": 48,
     "metadata": {},
     "output_type": "execute_result"
    }
   ],
   "source": [
    "function predict(X,w)\n",
    "    yhat = X*w\n",
    "    y_class = @.ifelse(yhat >= 0, 1, -1) \n",
    "    return y_class\n",
    "end"
   ]
  },
  {
   "cell_type": "code",
   "execution_count": 49,
   "id": "7091d757",
   "metadata": {},
   "outputs": [
    {
     "data": {
      "text/plain": [
       "class_acc (generic function with 1 method)"
      ]
     },
     "execution_count": 49,
     "metadata": {},
     "output_type": "execute_result"
    }
   ],
   "source": [
    "#I got these helper function from Kyle Maulden\n",
    "function class_acc(preds,y)\n",
    "    n = size(y)[1]\n",
    "    count = 0\n",
    "    for i in 1:n\n",
    "        if preds[i] == y[i]\n",
    "            count = count + 1\n",
    "        end\n",
    "    end\n",
    "    return count / n\n",
    "end"
   ]
  },
  {
   "cell_type": "code",
   "execution_count": 50,
   "id": "f610969f",
   "metadata": {},
   "outputs": [
    {
     "name": "stdout",
     "output_type": "stream",
     "text": [
      "Academic license - for non-commercial use only - expires 2022-08-19\n",
      "\n",
      "In-Sample Accuracy:\n",
      "0.9724770642201835\n",
      "Out-of-Sample Accuracy:\n",
      "0.9447004608294931"
     ]
    }
   ],
   "source": [
    "w = robust_class_3a(Xtrain, ytrain, 1);\n",
    "preds = predict(Xtrain,w)\n",
    "println(\"\\nIn-Sample Accuracy:\")\n",
    "print(class_acc(preds,ytrain))\n",
    "preds = predict(Xtest,w)\n",
    "println(\"\\nOut-of-Sample Accuracy:\")\n",
    "print(class_acc(preds,ytest))"
   ]
  },
  {
   "cell_type": "markdown",
   "id": "4cd74489",
   "metadata": {},
   "source": [
    "## 3.2b)"
   ]
  },
  {
   "cell_type": "markdown",
   "id": "5d247807",
   "metadata": {},
   "source": [
    "The uncertainty set $U = \\{\\Delta y \\in \\{0,1\\}^n : e^Ty \\leq \\Gamma \\}$ represents possibility of, at most $\\Gamma$, data points being mislabeled. "
   ]
  },
  {
   "cell_type": "markdown",
   "id": "0f4a90c0",
   "metadata": {},
   "source": [
    "## 3.2f)"
   ]
  },
  {
   "cell_type": "code",
   "execution_count": 51,
   "id": "d186a0ad",
   "metadata": {},
   "outputs": [
    {
     "data": {
      "text/plain": [
       "robust_class_3f (generic function with 1 method)"
      ]
     },
     "execution_count": 51,
     "metadata": {},
     "output_type": "execute_result"
    }
   ],
   "source": [
    "function robust_class_3f(X,y,C,Gamma,M)\n",
    "    n,p = size(X)\n",
    "    \n",
    "    model = Model(Gurobi.Optimizer)\n",
    "    set_optimizer_attribute(model, \"OutputFlag\", 0) \n",
    "    \n",
    "    # Insert variables\n",
    "    @variable(model,q)\n",
    "    @variable(model,r[i=1:n])\n",
    "    @variable(model,phi[i=1:n])\n",
    "    @variable(model,xi[i=1:n])\n",
    "    @variable(model,w[i=1:p])\n",
    "    @variable(model,w_reg[i=1:p])    \n",
    "    @variable(model,t[i=1:n],Bin)\n",
    "    @variable(model,s[i=1:n],Bin)\n",
    "    \n",
    "    c_yneg = n / count(item -> (item==-1), y)\n",
    "    c_ypos = n / count(item -> (item==1), y)\n",
    "    \n",
    "    #Constraints\n",
    "    @constraint(model,[i=1:n], q + r[i] >= (y[i]==1 ? c_ypos : c_yneg) * (phi[i] - xi[i]))\n",
    "    @constraint(model,[i=1:n], phi[i] >= 1 + y[i]*dot(X[i,:],w))\n",
    "    @constraint(model,[i=1:n], phi[i] <= 1 + y[i]*dot(X[i,:],w) + M*(1-t[i]))\n",
    "    @constraint(model,[i=1:n], phi[i] >= 0)\n",
    "    @constraint(model,[i=1:n], phi[i] <= M*t[i])     \n",
    "    @constraint(model,[i=1:n], xi[i] >= 1 - y[i]*dot(X[i,:],w))\n",
    "    @constraint(model,[i=1:n], xi[i] <= 1 - y[i]*dot(X[i,:],w) + M*(1-s[i]))\n",
    "    @constraint(model,[i=1:n], xi[i] >= 0)\n",
    "    @constraint(model,[i=1:n], xi[i] <= M*s[i]) \n",
    "    @constraint(model,[i=1:p], w_reg[i] >= w[i])\n",
    "    @constraint(model,[i=1:p], w_reg[i] >= -w[i])\n",
    "    @constraint(model,q>=0)\n",
    "    @constraint(model,[i=1:n],r[i]>=0)\n",
    "    \n",
    "    @objective(model, Min, sum(w_reg[i] for i=1:p) + C*Gamma*q + C*sum(r[i] + (y[i]==1 ? c_ypos : c_yneg)*xi[i] for i=1:n))\n",
    "                    \n",
    "    optimize!(model)            \n",
    "    return value.(w)\n",
    "end"
   ]
  },
  {
   "cell_type": "code",
   "execution_count": 52,
   "id": "49196b8f",
   "metadata": {},
   "outputs": [
    {
     "name": "stdout",
     "output_type": "stream",
     "text": [
      "Academic license - for non-commercial use only - expires 2022-08-19\n",
      "\n",
      "In-Sample Accuracy:\n",
      "0.9678899082568807\n",
      "Out-of-Sample Accuracy:\n",
      "0.9493087557603687"
     ]
    }
   ],
   "source": [
    "w = robust_class_3f(Xtrain, ytrain, 1, 10, 999);\n",
    "preds = predict(Xtrain,w)\n",
    "println(\"\\nIn-Sample Accuracy:\")\n",
    "print(class_acc(preds,ytrain))\n",
    "preds = predict(Xtest,w)\n",
    "println(\"\\nOut-of-Sample Accuracy:\")\n",
    "print(class_acc(preds,ytest))"
   ]
  },
  {
   "cell_type": "markdown",
   "id": "19fe31ac",
   "metadata": {},
   "source": [
    "## 3.2g)"
   ]
  },
  {
   "cell_type": "code",
   "execution_count": 53,
   "id": "27948cc4",
   "metadata": {},
   "outputs": [
    {
     "data": {
      "text/plain": [
       "robust_class_3g (generic function with 1 method)"
      ]
     },
     "execution_count": 53,
     "metadata": {},
     "output_type": "execute_result"
    }
   ],
   "source": [
    "function robust_class_3g(X,y,C,Gamma,M)\n",
    "    n,p = size(X)\n",
    "    \n",
    "    model = Model(Gurobi.Optimizer)\n",
    "    set_optimizer_attribute(model, \"OutputFlag\", 0) \n",
    "    \n",
    "    # Insert variables\n",
    "    @variable(model,q)\n",
    "    @variable(model,r[i=1:n])\n",
    "    @variable(model,phi[i=1:n])\n",
    "    @variable(model,xi[i=1:n])\n",
    "    @variable(model,w[i=1:p])\n",
    "    @variable(model,w_reg[i=1:p])    \n",
    "    @variable(model,t[i=1:n])\n",
    "    @variable(model,s[i=1:n])\n",
    "    \n",
    "    c_yneg = n / count(item -> (item==-1), y)\n",
    "    c_ypos = n / count(item -> (item==1), y)\n",
    "    \n",
    "    #Constraints\n",
    "    @constraint(model,[i=1:n], q + r[i] >= (y[i]==1 ? c_ypos : c_yneg) * (phi[i] - xi[i]))\n",
    "    @constraint(model,[i=1:n], phi[i] >= 1 + y[i]*dot(X[i,:],w))\n",
    "    @constraint(model,[i=1:n], phi[i] <= 1 + y[i]*dot(X[i,:],w) + M*(1-t[i]))\n",
    "    @constraint(model,[i=1:n], phi[i] >= 0)\n",
    "    @constraint(model,[i=1:n], phi[i] <= M*t[i])     \n",
    "    @constraint(model,[i=1:n], xi[i] >= 1 - y[i]*dot(X[i,:],w))\n",
    "    @constraint(model,[i=1:n], xi[i] <= 1 - y[i]*dot(X[i,:],w) + M*(1-s[i]))\n",
    "    @constraint(model,[i=1:n], xi[i] >= 0)\n",
    "    @constraint(model,[i=1:n], xi[i] <= M*s[i]) \n",
    "    @constraint(model,[i=1:p], w_reg[i] >= w[i])\n",
    "    @constraint(model,[i=1:p], w_reg[i] >= -w[i])\n",
    "    @constraint(model,q>=0)\n",
    "    @constraint(model,[i=1:n],r[i]>=0)\n",
    "    \n",
    "    #New constraints\n",
    "    @constraint(model,[i=1:n],0<=t[i]<=1)\n",
    "    @constraint(model,[i=1:n],0<=s[i]<=1)\n",
    "    \n",
    "    @objective(model, Min, sum(w_reg[i] for i=1:p) + C*Gamma*q + C*sum(r[i] + (y[i]==1 ? c_ypos : c_yneg)*xi[i] for i=1:n))\n",
    "                    \n",
    "    optimize!(model)            \n",
    "    return value.(w)\n",
    "end"
   ]
  },
  {
   "cell_type": "code",
   "execution_count": 54,
   "id": "30cd2505",
   "metadata": {},
   "outputs": [
    {
     "name": "stdout",
     "output_type": "stream",
     "text": [
      "Academic license - for non-commercial use only - expires 2022-08-19\n",
      "\n",
      "In-Sample Accuracy:\n",
      "0.9678899082568807\n",
      "Out-of-Sample Accuracy:\n",
      "0.9493087557603687"
     ]
    }
   ],
   "source": [
    "w = robust_class_3g(Xtrain, ytrain, 1, 10, 999);\n",
    "preds = predict(Xtrain,w)\n",
    "println(\"\\nIn-Sample Accuracy:\")\n",
    "print(class_acc(preds,ytrain))\n",
    "preds = predict(Xtest,w)\n",
    "println(\"\\nOut-of-Sample Accuracy:\")\n",
    "print(class_acc(preds,ytest))"
   ]
  },
  {
   "cell_type": "code",
   "execution_count": null,
   "id": "4ddb743b",
   "metadata": {},
   "outputs": [],
   "source": []
  }
 ],
 "metadata": {
  "kernelspec": {
   "display_name": "Julia 1.6.2",
   "language": "julia",
   "name": "julia-1.6"
  },
  "language_info": {
   "file_extension": ".jl",
   "mimetype": "application/julia",
   "name": "julia",
   "version": "1.6.2"
  }
 },
 "nbformat": 4,
 "nbformat_minor": 5
}
