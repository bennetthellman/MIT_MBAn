{
 "cells": [
  {
   "cell_type": "code",
   "execution_count": null,
   "id": "0dec090f",
   "metadata": {},
   "outputs": [],
   "source": [
    "library(caTools)\n",
    "library(tidyverse)\n",
    "library(miscTools)\n",
    "library(Metrics)\n",
    "library(plotly)\n",
    "library(glmnet)\n",
    "library(PRROC)\n",
    "library(ROCit)\n",
    "library(rpart)\n",
    "library(rpart.plot)\n",
    "library(randomForest) \n",
    "library(caret)\n",
    "library(caTools)\n",
    "library(dplyr)\n",
    "\n",
    "data = read.csv(\"/Users/bennetthellman/Desktop/OneDrive - Massachusetts Institute of Technology/AE/HWs/HW3/readmission.csv\")\n",
    "set.seed(144)\n",
    "split = createDataPartition(data$readmission, p = 0.75, list = FALSE)\n",
    "readm.train <- data[split,]\n",
    "readm.test <- data[-split,]"
   ]
  },
  {
   "cell_type": "markdown",
   "id": "cc06420e",
   "metadata": {},
   "source": [
    "## a)"
   ]
  },
  {
   "cell_type": "code",
   "execution_count": null,
   "id": "2c02efd6",
   "metadata": {},
   "outputs": [],
   "source": [
    "## b)"
   ]
  },
  {
   "cell_type": "code",
   "execution_count": null,
   "id": "08fbf7a4",
   "metadata": {},
   "outputs": [],
   "source": [
    "#b\n",
    "tree = rpart(readmission ~ ., \n",
    "                    data=data,\n",
    "                    cp=0.001)\n",
    "tree2 = rpart(readmission ~ ., \n",
    "             data=data,\n",
    "             cp=0.002)\n",
    "tree3 = rpart(readmission ~ ., \n",
    "             data=data,\n",
    "             cp=0.004)\n",
    "rpart.plot(tree, extra = 101)\n",
    "rpart.plot(tree2)\n",
    "prp(tree,digits = 3, varlen = 0, faclen = 0) \n",
    "prp(tree2,digits = 3, varlen = 0, faclen = 0) \n",
    "prp(tree3,digits = 3, varlen = 0, faclen = 0) \n"
   ]
  },
  {
   "cell_type": "code",
   "execution_count": null,
   "id": "700b37d6",
   "metadata": {},
   "outputs": [],
   "source": []
  }
 ],
 "metadata": {
  "kernelspec": {
   "display_name": "R",
   "language": "R",
   "name": "ir"
  }
 },
 "nbformat": 4,
 "nbformat_minor": 5
}
