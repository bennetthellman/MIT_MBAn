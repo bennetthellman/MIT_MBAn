{
 "cells": [
  {
   "cell_type": "code",
   "execution_count": 255,
   "id": "6f1388bd",
   "metadata": {},
   "outputs": [],
   "source": [
    "using JuMP, Gurobi, LinearAlgebra, CSV, DataFrames, Pkg, Distances, Plots"
   ]
  },
  {
   "cell_type": "code",
   "execution_count": 262,
   "id": "ae380876",
   "metadata": {},
   "outputs": [],
   "source": [
    "centers = CSV.read(\"centers.csv\", DataFrame, header=false);\n",
    "centers2 = CSV.read(\"centers2.csv\", DataFrame, header=false);\n",
    "landfills = CSV.read(\"landfills.csv\", DataFrame, header=false);\n",
    "landfills2 = CSV.read(\"landfills2.csv\", DataFrame, header=false);\n",
    "q = CSV.read(\"q.csv\", DataFrame, header=false);\n",
    "q2 = CSV.read(\"q2.csv\", DataFrame, header=false);\n",
    "stations = CSV.read(\"stations.csv\", DataFrame, header=false);\n",
    "stations2 = CSV.read(\"stations2.csv\", DataFrame, header=false);"
   ]
  },
  {
   "cell_type": "code",
   "execution_count": 263,
   "id": "d4ee0c1a",
   "metadata": {},
   "outputs": [],
   "source": [
    "first(centers, 5);"
   ]
  },
  {
   "cell_type": "code",
   "execution_count": 264,
   "id": "020a6b61",
   "metadata": {},
   "outputs": [],
   "source": [
    "first(landfills, 5);"
   ]
  },
  {
   "cell_type": "code",
   "execution_count": 265,
   "id": "82fbcdf4",
   "metadata": {},
   "outputs": [],
   "source": [
    "rename!(centers,:Column1 => \"xco\" );\n",
    "rename!(centers,:Column2 => \"yco\" );\n",
    "rename!(landfills,:Column1 => \"xco\" );\n",
    "rename!(landfills,:Column2 => \"yco\" );\n",
    "rename!(q,:Column1 => \"waste\" );\n",
    "rename!(stations,:Column1 => \"xco\" );\n",
    "rename!(stations,:Column2 => \"yco\" );"
   ]
  },
  {
   "cell_type": "code",
   "execution_count": 266,
   "id": "ed85a9c5",
   "metadata": {},
   "outputs": [],
   "source": [
    "dmatx = pairwise(Euclidean(), centers.xco, landfills.xco);\n",
    "dmaty = pairwise(Euclidean(), centers.yco, landfills.yco);\n",
    "dmat = sqrt.((dmatx.^2)+(dmaty.^2));"
   ]
  },
  {
   "cell_type": "markdown",
   "id": "0e9573a5",
   "metadata": {},
   "source": [
    "# A.a"
   ]
  },
  {
   "cell_type": "markdown",
   "id": "9f7d17a5",
   "metadata": {},
   "source": [
    "## The objective function is simply minimizing the overall distance that all waste is moved. In effect, it attempts to make the waste be disposed in the most efficient manner. This assumes that all waste transportation is equal and linear. In essence, there is no cost saving for moving waste in bulk. \n",
    "\n",
    "## Constraint 2 ensures that all the waste at centers is transported to a landfill.\n",
    "\n",
    "## Using the big-M method, contraint 3 ensures that waste is only transported to those landfills which are built.\n",
    "\n",
    "## Constraint 4 makes it so that only 5 landfills are built. \n",
    "\n",
    "## Constraint 5 makes it so that waste is a positive value. This assumes waste can only flow in one direction from a center to a landfill. \n",
    "\n",
    "## Constraint 6 makes it so that landfills are either fully built or not. This assumes that all landfills are the same size and serve the same functionality. "
   ]
  },
  {
   "cell_type": "markdown",
   "id": "e2ce3bee",
   "metadata": {},
   "source": [
    "# A.b"
   ]
  },
  {
   "cell_type": "code",
   "execution_count": 267,
   "id": "69663524",
   "metadata": {},
   "outputs": [
    {
     "name": "stdout",
     "output_type": "stream",
     "text": [
      "Academic license - for non-commercial use only - expires 2022-08-19\n"
     ]
    }
   ],
   "source": [
    "mod = JuMP.Model(JuMP.optimizer_with_attributes(() -> Gurobi.Optimizer(),\"MIPGap\" => 0.0001))\n",
    "\n",
    "set_optimizer_attribute(mod, \"OutputFlag\", 0) \n",
    "\n",
    "@variable(mod, z[j=1:15], Bin)\n",
    "@variable(mod, x[i=1:50,j=1:15]>=0)\n",
    "\n",
    "@constraint(mod, [i=1:50], sum(x[i,j] for j=1:15)== q[i,1])\n",
    "@constraint(mod, [i=1:50, j=1:15], x[i,j] <= 1000000*z[j])\n",
    "@constraint(mod, sum(z[j] for j=1:15)<=5)\n",
    "\n",
    "@objective(mod, Min, sum(sum(dmat[i,j]*x[i,j] for j=1:15) for i=1:50))\n",
    "\n",
    "optimize!(mod)"
   ]
  },
  {
   "cell_type": "markdown",
   "id": "d619b89c",
   "metadata": {},
   "source": [
    "## The total distance traveled by the waste is 840,487.52"
   ]
  },
  {
   "cell_type": "code",
   "execution_count": 268,
   "id": "9b44e4b7",
   "metadata": {},
   "outputs": [
    {
     "data": {
      "text/plain": [
       "840487.5240012797"
      ]
     },
     "execution_count": 268,
     "metadata": {},
     "output_type": "execute_result"
    }
   ],
   "source": [
    "objective_value(mod)"
   ]
  },
  {
   "cell_type": "code",
   "execution_count": 269,
   "id": "f7f3cf9c",
   "metadata": {},
   "outputs": [],
   "source": [
    "x =  value.(x);"
   ]
  },
  {
   "cell_type": "code",
   "execution_count": 270,
   "id": "3f60846d",
   "metadata": {},
   "outputs": [
    {
     "data": {
      "text/plain": [
       "15-element Vector{Float64}:\n",
       " -0.0\n",
       "  0.0\n",
       "  1.0\n",
       "  1.0\n",
       " -0.0\n",
       " -0.0\n",
       "  1.0\n",
       " -0.0\n",
       " -0.0\n",
       " -0.0\n",
       "  0.0\n",
       "  0.0\n",
       "  1.0\n",
       "  1.0\n",
       " -0.0"
      ]
     },
     "execution_count": 270,
     "metadata": {},
     "output_type": "execute_result"
    }
   ],
   "source": [
    "z1=value.(z)"
   ]
  },
  {
   "cell_type": "code",
   "execution_count": 271,
   "id": "e7a12fcb",
   "metadata": {},
   "outputs": [],
   "source": [
    "built_ind = [3,4,7,13,14];"
   ]
  },
  {
   "cell_type": "markdown",
   "id": "1d2346a6",
   "metadata": {},
   "source": [
    "## Landfills are built at the following coordinates:"
   ]
  },
  {
   "cell_type": "code",
   "execution_count": 272,
   "id": "e7ff403b",
   "metadata": {},
   "outputs": [
    {
     "data": {
      "text/html": [
       "<table class=\"data-frame\"><thead><tr><th></th><th>xco</th><th>yco</th></tr><tr><th></th><th>Float64</th><th>Float64</th></tr></thead><tbody><p>5 rows × 2 columns</p><tr><th>1</th><td>21.163</td><td>44.331</td></tr><tr><th>2</th><td>63.265</td><td>63.989</td></tr><tr><th>3</th><td>77.801</td><td>14.727</td></tr><tr><th>4</th><td>84.261</td><td>71.562</td></tr><tr><th>5</th><td>13.93</td><td>71.108</td></tr></tbody></table>"
      ],
      "text/latex": [
       "\\begin{tabular}{r|cc}\n",
       "\t& xco & yco\\\\\n",
       "\t\\hline\n",
       "\t& Float64 & Float64\\\\\n",
       "\t\\hline\n",
       "\t1 & 21.163 & 44.331 \\\\\n",
       "\t2 & 63.265 & 63.989 \\\\\n",
       "\t3 & 77.801 & 14.727 \\\\\n",
       "\t4 & 84.261 & 71.562 \\\\\n",
       "\t5 & 13.93 & 71.108 \\\\\n",
       "\\end{tabular}\n"
      ],
      "text/plain": [
       "\u001b[1m5×2 DataFrame\u001b[0m\n",
       "\u001b[1m Row \u001b[0m│\u001b[1m xco     \u001b[0m\u001b[1m yco     \u001b[0m\n",
       "\u001b[1m     \u001b[0m│\u001b[90m Float64 \u001b[0m\u001b[90m Float64 \u001b[0m\n",
       "─────┼──────────────────\n",
       "   1 │  21.163   44.331\n",
       "   2 │  63.265   63.989\n",
       "   3 │  77.801   14.727\n",
       "   4 │  84.261   71.562\n",
       "   5 │  13.93    71.108"
      ]
     },
     "execution_count": 272,
     "metadata": {},
     "output_type": "execute_result"
    }
   ],
   "source": [
    "lf_b = landfills[built_ind,:]"
   ]
  },
  {
   "cell_type": "code",
   "execution_count": 273,
   "id": "35d23c99",
   "metadata": {},
   "outputs": [
    {
     "data": {
      "image/svg+xml": [
       "<?xml version=\"1.0\" encoding=\"utf-8\"?>\n",
       "<svg xmlns=\"http://www.w3.org/2000/svg\" xmlns:xlink=\"http://www.w3.org/1999/xlink\" width=\"600\" height=\"400\" viewBox=\"0 0 2400 1600\">\n",
       "<defs>\n",
       "  <clipPath id=\"clip320\">\n",
       "    <rect x=\"0\" y=\"0\" width=\"2400\" height=\"1600\"/>\n",
       "  </clipPath>\n",
       "</defs>\n",
       "<path clip-path=\"url(#clip320)\" d=\"\n",
       "M0 1600 L2400 1600 L2400 0 L0 0  Z\n",
       "  \" fill=\"#ffffff\" fill-rule=\"evenodd\" fill-opacity=\"1\"/>\n",
       "<defs>\n",
       "  <clipPath id=\"clip321\">\n",
       "    <rect x=\"480\" y=\"0\" width=\"1681\" height=\"1600\"/>\n",
       "  </clipPath>\n",
       "</defs>\n",
       "<path clip-path=\"url(#clip320)\" d=\"\n",
       "M756.2 1486.45 L2352.76 1486.45 L2352.76 123.472 L756.2 123.472  Z\n",
       "  \" fill=\"#ffffff\" fill-rule=\"evenodd\" fill-opacity=\"1\"/>\n",
       "<defs>\n",
       "  <clipPath id=\"clip322\">\n",
       "    <rect x=\"756\" y=\"123\" width=\"1598\" height=\"1364\"/>\n",
       "  </clipPath>\n",
       "</defs>\n",
       "<polyline clip-path=\"url(#clip322)\" style=\"stroke:#000000; stroke-linecap:butt; stroke-linejoin:round; stroke-width:2; stroke-opacity:0.1; fill:none\" points=\"\n",
       "  786.303,1486.45 786.303,123.472 \n",
       "  \"/>\n",
       "<polyline clip-path=\"url(#clip322)\" style=\"stroke:#000000; stroke-linecap:butt; stroke-linejoin:round; stroke-width:2; stroke-opacity:0.1; fill:none\" points=\"\n",
       "  1168.61,1486.45 1168.61,123.472 \n",
       "  \"/>\n",
       "<polyline clip-path=\"url(#clip322)\" style=\"stroke:#000000; stroke-linecap:butt; stroke-linejoin:round; stroke-width:2; stroke-opacity:0.1; fill:none\" points=\"\n",
       "  1550.91,1486.45 1550.91,123.472 \n",
       "  \"/>\n",
       "<polyline clip-path=\"url(#clip322)\" style=\"stroke:#000000; stroke-linecap:butt; stroke-linejoin:round; stroke-width:2; stroke-opacity:0.1; fill:none\" points=\"\n",
       "  1933.22,1486.45 1933.22,123.472 \n",
       "  \"/>\n",
       "<polyline clip-path=\"url(#clip322)\" style=\"stroke:#000000; stroke-linecap:butt; stroke-linejoin:round; stroke-width:2; stroke-opacity:0.1; fill:none\" points=\"\n",
       "  2315.52,1486.45 2315.52,123.472 \n",
       "  \"/>\n",
       "<polyline clip-path=\"url(#clip320)\" style=\"stroke:#000000; stroke-linecap:butt; stroke-linejoin:round; stroke-width:4; stroke-opacity:1; fill:none\" points=\"\n",
       "  756.2,1486.45 2352.76,1486.45 \n",
       "  \"/>\n",
       "<polyline clip-path=\"url(#clip320)\" style=\"stroke:#000000; stroke-linecap:butt; stroke-linejoin:round; stroke-width:4; stroke-opacity:1; fill:none\" points=\"\n",
       "  786.303,1486.45 786.303,1467.55 \n",
       "  \"/>\n",
       "<polyline clip-path=\"url(#clip320)\" style=\"stroke:#000000; stroke-linecap:butt; stroke-linejoin:round; stroke-width:4; stroke-opacity:1; fill:none\" points=\"\n",
       "  1168.61,1486.45 1168.61,1467.55 \n",
       "  \"/>\n",
       "<polyline clip-path=\"url(#clip320)\" style=\"stroke:#000000; stroke-linecap:butt; stroke-linejoin:round; stroke-width:4; stroke-opacity:1; fill:none\" points=\"\n",
       "  1550.91,1486.45 1550.91,1467.55 \n",
       "  \"/>\n",
       "<polyline clip-path=\"url(#clip320)\" style=\"stroke:#000000; stroke-linecap:butt; stroke-linejoin:round; stroke-width:4; stroke-opacity:1; fill:none\" points=\"\n",
       "  1933.22,1486.45 1933.22,1467.55 \n",
       "  \"/>\n",
       "<polyline clip-path=\"url(#clip320)\" style=\"stroke:#000000; stroke-linecap:butt; stroke-linejoin:round; stroke-width:4; stroke-opacity:1; fill:none\" points=\"\n",
       "  2315.52,1486.45 2315.52,1467.55 \n",
       "  \"/>\n",
       "<path clip-path=\"url(#clip320)\" d=\"M786.303 1517.37 Q782.692 1517.37 780.863 1520.93 Q779.058 1524.47 779.058 1531.6 Q779.058 1538.71 780.863 1542.27 Q782.692 1545.82 786.303 1545.82 Q789.937 1545.82 791.743 1542.27 Q793.572 1538.71 793.572 1531.6 Q793.572 1524.47 791.743 1520.93 Q789.937 1517.37 786.303 1517.37 M786.303 1513.66 Q792.113 1513.66 795.169 1518.27 Q798.247 1522.85 798.247 1531.6 Q798.247 1540.33 795.169 1544.94 Q792.113 1549.52 786.303 1549.52 Q780.493 1549.52 777.414 1544.94 Q774.359 1540.33 774.359 1531.6 Q774.359 1522.85 777.414 1518.27 Q780.493 1513.66 786.303 1513.66 Z\" fill=\"#000000\" fill-rule=\"evenodd\" fill-opacity=\"1\" /><path clip-path=\"url(#clip320)\" d=\"M1147.88 1544.91 L1164.2 1544.91 L1164.2 1548.85 L1142.25 1548.85 L1142.25 1544.91 Q1144.92 1542.16 1149.5 1537.53 Q1154.11 1532.88 1155.29 1531.53 Q1157.53 1529.01 1158.41 1527.27 Q1159.31 1525.51 1159.31 1523.82 Q1159.31 1521.07 1157.37 1519.33 Q1155.45 1517.6 1152.35 1517.6 Q1150.15 1517.6 1147.69 1518.36 Q1145.26 1519.13 1142.49 1520.68 L1142.49 1515.95 Q1145.31 1514.82 1147.76 1514.24 Q1150.22 1513.66 1152.25 1513.66 Q1157.62 1513.66 1160.82 1516.35 Q1164.01 1519.03 1164.01 1523.52 Q1164.01 1525.65 1163.2 1527.57 Q1162.42 1529.47 1160.31 1532.07 Q1159.73 1532.74 1156.63 1535.95 Q1153.53 1539.15 1147.88 1544.91 Z\" fill=\"#000000\" fill-rule=\"evenodd\" fill-opacity=\"1\" /><path clip-path=\"url(#clip320)\" d=\"M1174.06 1514.29 L1192.42 1514.29 L1192.42 1518.22 L1178.34 1518.22 L1178.34 1526.7 Q1179.36 1526.35 1180.38 1526.19 Q1181.4 1526 1182.42 1526 Q1188.2 1526 1191.58 1529.17 Q1194.96 1532.34 1194.96 1537.76 Q1194.96 1543.34 1191.49 1546.44 Q1188.02 1549.52 1181.7 1549.52 Q1179.52 1549.52 1177.25 1549.15 Q1175.01 1548.78 1172.6 1548.04 L1172.6 1543.34 Q1174.68 1544.47 1176.91 1545.03 Q1179.13 1545.58 1181.61 1545.58 Q1185.61 1545.58 1187.95 1543.48 Q1190.29 1541.37 1190.29 1537.76 Q1190.29 1534.15 1187.95 1532.04 Q1185.61 1529.94 1181.61 1529.94 Q1179.73 1529.94 1177.86 1530.35 Q1176 1530.77 1174.06 1531.65 L1174.06 1514.29 Z\" fill=\"#000000\" fill-rule=\"evenodd\" fill-opacity=\"1\" /><path clip-path=\"url(#clip320)\" d=\"M1525.61 1514.29 L1543.97 1514.29 L1543.97 1518.22 L1529.89 1518.22 L1529.89 1526.7 Q1530.91 1526.35 1531.93 1526.19 Q1532.95 1526 1533.97 1526 Q1539.76 1526 1543.13 1529.17 Q1546.51 1532.34 1546.51 1537.76 Q1546.51 1543.34 1543.04 1546.44 Q1539.57 1549.52 1533.25 1549.52 Q1531.07 1549.52 1528.81 1549.15 Q1526.56 1548.78 1524.15 1548.04 L1524.15 1543.34 Q1526.24 1544.47 1528.46 1545.03 Q1530.68 1545.58 1533.16 1545.58 Q1537.16 1545.58 1539.5 1543.48 Q1541.84 1541.37 1541.84 1537.76 Q1541.84 1534.15 1539.5 1532.04 Q1537.16 1529.94 1533.16 1529.94 Q1531.28 1529.94 1529.41 1530.35 Q1527.56 1530.77 1525.61 1531.65 L1525.61 1514.29 Z\" fill=\"#000000\" fill-rule=\"evenodd\" fill-opacity=\"1\" /><path clip-path=\"url(#clip320)\" d=\"M1565.73 1517.37 Q1562.12 1517.37 1560.29 1520.93 Q1558.48 1524.47 1558.48 1531.6 Q1558.48 1538.71 1560.29 1542.27 Q1562.12 1545.82 1565.73 1545.82 Q1569.36 1545.82 1571.17 1542.27 Q1573 1538.71 1573 1531.6 Q1573 1524.47 1571.17 1520.93 Q1569.36 1517.37 1565.73 1517.37 M1565.73 1513.66 Q1571.54 1513.66 1574.59 1518.27 Q1577.67 1522.85 1577.67 1531.6 Q1577.67 1540.33 1574.59 1544.94 Q1571.54 1549.52 1565.73 1549.52 Q1559.92 1549.52 1556.84 1544.94 Q1553.78 1540.33 1553.78 1531.6 Q1553.78 1522.85 1556.84 1518.27 Q1559.92 1513.66 1565.73 1513.66 Z\" fill=\"#000000\" fill-rule=\"evenodd\" fill-opacity=\"1\" /><path clip-path=\"url(#clip320)\" d=\"M1907.07 1514.29 L1929.29 1514.29 L1929.29 1516.28 L1916.75 1548.85 L1911.86 1548.85 L1923.67 1518.22 L1907.07 1518.22 L1907.07 1514.29 Z\" fill=\"#000000\" fill-rule=\"evenodd\" fill-opacity=\"1\" /><path clip-path=\"url(#clip320)\" d=\"M1938.46 1514.29 L1956.82 1514.29 L1956.82 1518.22 L1942.74 1518.22 L1942.74 1526.7 Q1943.76 1526.35 1944.78 1526.19 Q1945.8 1526 1946.82 1526 Q1952.6 1526 1955.98 1529.17 Q1959.36 1532.34 1959.36 1537.76 Q1959.36 1543.34 1955.89 1546.44 Q1952.42 1549.52 1946.1 1549.52 Q1943.92 1549.52 1941.65 1549.15 Q1939.41 1548.78 1937 1548.04 L1937 1543.34 Q1939.09 1544.47 1941.31 1545.03 Q1943.53 1545.58 1946.01 1545.58 Q1950.01 1545.58 1952.35 1543.48 Q1954.69 1541.37 1954.69 1537.76 Q1954.69 1534.15 1952.35 1532.04 Q1950.01 1529.94 1946.01 1529.94 Q1944.13 1529.94 1942.26 1530.35 Q1940.4 1530.77 1938.46 1531.65 L1938.46 1514.29 Z\" fill=\"#000000\" fill-rule=\"evenodd\" fill-opacity=\"1\" /><path clip-path=\"url(#clip320)\" d=\"M2275.13 1544.91 L2282.77 1544.91 L2282.77 1518.55 L2274.46 1520.21 L2274.46 1515.95 L2282.72 1514.29 L2287.4 1514.29 L2287.4 1544.91 L2295.04 1544.91 L2295.04 1548.85 L2275.13 1548.85 L2275.13 1544.91 Z\" fill=\"#000000\" fill-rule=\"evenodd\" fill-opacity=\"1\" /><path clip-path=\"url(#clip320)\" d=\"M2314.48 1517.37 Q2310.87 1517.37 2309.04 1520.93 Q2307.24 1524.47 2307.24 1531.6 Q2307.24 1538.71 2309.04 1542.27 Q2310.87 1545.82 2314.48 1545.82 Q2318.11 1545.82 2319.92 1542.27 Q2321.75 1538.71 2321.75 1531.6 Q2321.75 1524.47 2319.92 1520.93 Q2318.11 1517.37 2314.48 1517.37 M2314.48 1513.66 Q2320.29 1513.66 2323.35 1518.27 Q2326.43 1522.85 2326.43 1531.6 Q2326.43 1540.33 2323.35 1544.94 Q2320.29 1549.52 2314.48 1549.52 Q2308.67 1549.52 2305.59 1544.94 Q2302.54 1540.33 2302.54 1531.6 Q2302.54 1522.85 2305.59 1518.27 Q2308.67 1513.66 2314.48 1513.66 Z\" fill=\"#000000\" fill-rule=\"evenodd\" fill-opacity=\"1\" /><path clip-path=\"url(#clip320)\" d=\"M2344.64 1517.37 Q2341.03 1517.37 2339.2 1520.93 Q2337.4 1524.47 2337.4 1531.6 Q2337.4 1538.71 2339.2 1542.27 Q2341.03 1545.82 2344.64 1545.82 Q2348.28 1545.82 2350.08 1542.27 Q2351.91 1538.71 2351.91 1531.6 Q2351.91 1524.47 2350.08 1520.93 Q2348.28 1517.37 2344.64 1517.37 M2344.64 1513.66 Q2350.45 1513.66 2353.51 1518.27 Q2356.59 1522.85 2356.59 1531.6 Q2356.59 1540.33 2353.51 1544.94 Q2350.45 1549.52 2344.64 1549.52 Q2338.83 1549.52 2335.75 1544.94 Q2332.7 1540.33 2332.7 1531.6 Q2332.7 1522.85 2335.75 1518.27 Q2338.83 1513.66 2344.64 1513.66 Z\" fill=\"#000000\" fill-rule=\"evenodd\" fill-opacity=\"1\" /><polyline clip-path=\"url(#clip322)\" style=\"stroke:#000000; stroke-linecap:butt; stroke-linejoin:round; stroke-width:2; stroke-opacity:0.1; fill:none\" points=\"\n",
       "  756.2,1244.09 2352.76,1244.09 \n",
       "  \"/>\n",
       "<polyline clip-path=\"url(#clip322)\" style=\"stroke:#000000; stroke-linecap:butt; stroke-linejoin:round; stroke-width:2; stroke-opacity:0.1; fill:none\" points=\"\n",
       "  756.2,972.977 2352.76,972.977 \n",
       "  \"/>\n",
       "<polyline clip-path=\"url(#clip322)\" style=\"stroke:#000000; stroke-linecap:butt; stroke-linejoin:round; stroke-width:2; stroke-opacity:0.1; fill:none\" points=\"\n",
       "  756.2,701.863 2352.76,701.863 \n",
       "  \"/>\n",
       "<polyline clip-path=\"url(#clip322)\" style=\"stroke:#000000; stroke-linecap:butt; stroke-linejoin:round; stroke-width:2; stroke-opacity:0.1; fill:none\" points=\"\n",
       "  756.2,430.748 2352.76,430.748 \n",
       "  \"/>\n",
       "<polyline clip-path=\"url(#clip322)\" style=\"stroke:#000000; stroke-linecap:butt; stroke-linejoin:round; stroke-width:2; stroke-opacity:0.1; fill:none\" points=\"\n",
       "  756.2,159.634 2352.76,159.634 \n",
       "  \"/>\n",
       "<polyline clip-path=\"url(#clip320)\" style=\"stroke:#000000; stroke-linecap:butt; stroke-linejoin:round; stroke-width:4; stroke-opacity:1; fill:none\" points=\"\n",
       "  756.2,1486.45 756.2,123.472 \n",
       "  \"/>\n",
       "<polyline clip-path=\"url(#clip320)\" style=\"stroke:#000000; stroke-linecap:butt; stroke-linejoin:round; stroke-width:4; stroke-opacity:1; fill:none\" points=\"\n",
       "  756.2,1244.09 770.017,1244.09 \n",
       "  \"/>\n",
       "<polyline clip-path=\"url(#clip320)\" style=\"stroke:#000000; stroke-linecap:butt; stroke-linejoin:round; stroke-width:4; stroke-opacity:1; fill:none\" points=\"\n",
       "  756.2,972.977 770.017,972.977 \n",
       "  \"/>\n",
       "<polyline clip-path=\"url(#clip320)\" style=\"stroke:#000000; stroke-linecap:butt; stroke-linejoin:round; stroke-width:4; stroke-opacity:1; fill:none\" points=\"\n",
       "  756.2,701.863 770.017,701.863 \n",
       "  \"/>\n",
       "<polyline clip-path=\"url(#clip320)\" style=\"stroke:#000000; stroke-linecap:butt; stroke-linejoin:round; stroke-width:4; stroke-opacity:1; fill:none\" points=\"\n",
       "  756.2,430.748 770.017,430.748 \n",
       "  \"/>\n",
       "<polyline clip-path=\"url(#clip320)\" style=\"stroke:#000000; stroke-linecap:butt; stroke-linejoin:round; stroke-width:4; stroke-opacity:1; fill:none\" points=\"\n",
       "  756.2,159.634 770.017,159.634 \n",
       "  \"/>\n",
       "<path clip-path=\"url(#clip320)\" d=\"M672.122 1257.44 L688.441 1257.44 L688.441 1261.37 L666.497 1261.37 L666.497 1257.44 Q669.159 1254.68 673.742 1250.05 Q678.349 1245.4 679.529 1244.06 Q681.775 1241.53 682.654 1239.8 Q683.557 1238.04 683.557 1236.35 Q683.557 1233.59 681.613 1231.86 Q679.691 1230.12 676.59 1230.12 Q674.39 1230.12 671.937 1230.89 Q669.506 1231.65 666.728 1233.2 L666.728 1228.48 Q669.553 1227.34 672.006 1226.77 Q674.46 1226.19 676.497 1226.19 Q681.867 1226.19 685.062 1228.87 Q688.256 1231.56 688.256 1236.05 Q688.256 1238.18 687.446 1240.1 Q686.659 1242 684.552 1244.59 Q683.974 1245.26 680.872 1248.48 Q677.77 1251.67 672.122 1257.44 Z\" fill=\"#000000\" fill-rule=\"evenodd\" fill-opacity=\"1\" /><path clip-path=\"url(#clip320)\" d=\"M708.256 1229.89 Q704.645 1229.89 702.816 1233.45 Q701.011 1237 701.011 1244.13 Q701.011 1251.23 702.816 1254.8 Q704.645 1258.34 708.256 1258.34 Q711.89 1258.34 713.696 1254.8 Q715.525 1251.23 715.525 1244.13 Q715.525 1237 713.696 1233.45 Q711.89 1229.89 708.256 1229.89 M708.256 1226.19 Q714.066 1226.19 717.122 1230.79 Q720.2 1235.38 720.2 1244.13 Q720.2 1252.85 717.122 1257.46 Q714.066 1262.04 708.256 1262.04 Q702.446 1262.04 699.367 1257.46 Q696.312 1252.85 696.312 1244.13 Q696.312 1235.38 699.367 1230.79 Q702.446 1226.19 708.256 1226.19 Z\" fill=\"#000000\" fill-rule=\"evenodd\" fill-opacity=\"1\" /><path clip-path=\"url(#clip320)\" d=\"M680.941 959.771 L669.136 978.22 L680.941 978.22 L680.941 959.771 M679.715 955.697 L685.594 955.697 L685.594 978.22 L690.525 978.22 L690.525 982.109 L685.594 982.109 L685.594 990.257 L680.941 990.257 L680.941 982.109 L665.34 982.109 L665.34 977.595 L679.715 955.697 Z\" fill=\"#000000\" fill-rule=\"evenodd\" fill-opacity=\"1\" /><path clip-path=\"url(#clip320)\" d=\"M708.256 958.776 Q704.645 958.776 702.816 962.34 Q701.011 965.882 701.011 973.012 Q701.011 980.118 702.816 983.683 Q704.645 987.225 708.256 987.225 Q711.89 987.225 713.696 983.683 Q715.525 980.118 715.525 973.012 Q715.525 965.882 713.696 962.34 Q711.89 958.776 708.256 958.776 M708.256 955.072 Q714.066 955.072 717.122 959.678 Q720.2 964.262 720.2 973.012 Q720.2 981.739 717.122 986.345 Q714.066 990.928 708.256 990.928 Q702.446 990.928 699.367 986.345 Q696.312 981.739 696.312 973.012 Q696.312 964.262 699.367 959.678 Q702.446 955.072 708.256 955.072 Z\" fill=\"#000000\" fill-rule=\"evenodd\" fill-opacity=\"1\" /><path clip-path=\"url(#clip320)\" d=\"M678.673 699.999 Q675.525 699.999 673.673 702.152 Q671.844 704.305 671.844 708.055 Q671.844 711.782 673.673 713.958 Q675.525 716.11 678.673 716.11 Q681.821 716.11 683.65 713.958 Q685.502 711.782 685.502 708.055 Q685.502 704.305 683.65 702.152 Q681.821 699.999 678.673 699.999 M687.955 685.347 L687.955 689.606 Q686.196 688.772 684.39 688.333 Q682.608 687.893 680.849 687.893 Q676.219 687.893 673.765 691.018 Q671.335 694.143 670.988 700.462 Q672.353 698.448 674.414 697.384 Q676.474 696.296 678.951 696.296 Q684.159 696.296 687.168 699.467 Q690.201 702.615 690.201 708.055 Q690.201 713.379 687.052 716.596 Q683.904 719.814 678.673 719.814 Q672.678 719.814 669.506 715.231 Q666.335 710.624 666.335 701.897 Q666.335 693.703 670.224 688.842 Q674.113 683.958 680.664 683.958 Q682.423 683.958 684.205 684.305 Q686.011 684.652 687.955 685.347 Z\" fill=\"#000000\" fill-rule=\"evenodd\" fill-opacity=\"1\" /><path clip-path=\"url(#clip320)\" d=\"M708.256 687.661 Q704.645 687.661 702.816 691.226 Q701.011 694.768 701.011 701.897 Q701.011 709.004 702.816 712.569 Q704.645 716.11 708.256 716.11 Q711.89 716.11 713.696 712.569 Q715.525 709.004 715.525 701.897 Q715.525 694.768 713.696 691.226 Q711.89 687.661 708.256 687.661 M708.256 683.958 Q714.066 683.958 717.122 688.564 Q720.2 693.147 720.2 701.897 Q720.2 710.624 717.122 715.231 Q714.066 719.814 708.256 719.814 Q702.446 719.814 699.367 715.231 Q696.312 710.624 696.312 701.897 Q696.312 693.147 699.367 688.564 Q702.446 683.958 708.256 683.958 Z\" fill=\"#000000\" fill-rule=\"evenodd\" fill-opacity=\"1\" /><path clip-path=\"url(#clip320)\" d=\"M678.094 431.616 Q674.761 431.616 672.84 433.399 Q670.941 435.181 670.941 438.306 Q670.941 441.431 672.84 443.214 Q674.761 444.996 678.094 444.996 Q681.427 444.996 683.349 443.214 Q685.27 441.408 685.27 438.306 Q685.27 435.181 683.349 433.399 Q681.451 431.616 678.094 431.616 M673.418 429.626 Q670.409 428.885 668.719 426.825 Q667.053 424.765 667.053 421.802 Q667.053 417.658 669.992 415.251 Q672.955 412.843 678.094 412.843 Q683.256 412.843 686.196 415.251 Q689.136 417.658 689.136 421.802 Q689.136 424.765 687.446 426.825 Q685.779 428.885 682.793 429.626 Q686.173 430.413 688.048 432.704 Q689.946 434.996 689.946 438.306 Q689.946 443.329 686.867 446.014 Q683.812 448.7 678.094 448.7 Q672.377 448.7 669.298 446.014 Q666.242 443.329 666.242 438.306 Q666.242 434.996 668.141 432.704 Q670.039 430.413 673.418 429.626 M671.705 422.241 Q671.705 424.927 673.372 426.431 Q675.062 427.936 678.094 427.936 Q681.103 427.936 682.793 426.431 Q684.506 424.927 684.506 422.241 Q684.506 419.556 682.793 418.052 Q681.103 416.547 678.094 416.547 Q675.062 416.547 673.372 418.052 Q671.705 419.556 671.705 422.241 Z\" fill=\"#000000\" fill-rule=\"evenodd\" fill-opacity=\"1\" /><path clip-path=\"url(#clip320)\" d=\"M708.256 416.547 Q704.645 416.547 702.816 420.112 Q701.011 423.653 701.011 430.783 Q701.011 437.889 702.816 441.454 Q704.645 444.996 708.256 444.996 Q711.89 444.996 713.696 441.454 Q715.525 437.889 715.525 430.783 Q715.525 423.653 713.696 420.112 Q711.89 416.547 708.256 416.547 M708.256 412.843 Q714.066 412.843 717.122 417.45 Q720.2 422.033 720.2 430.783 Q720.2 439.51 717.122 444.116 Q714.066 448.7 708.256 448.7 Q702.446 448.7 699.367 444.116 Q696.312 439.51 696.312 430.783 Q696.312 422.033 699.367 417.45 Q702.446 412.843 708.256 412.843 Z\" fill=\"#000000\" fill-rule=\"evenodd\" fill-opacity=\"1\" /><path clip-path=\"url(#clip320)\" d=\"M638.743 172.979 L646.381 172.979 L646.381 146.613 L638.071 148.28 L638.071 144.021 L646.335 142.354 L651.011 142.354 L651.011 172.979 L658.65 172.979 L658.65 176.914 L638.743 176.914 L638.743 172.979 Z\" fill=\"#000000\" fill-rule=\"evenodd\" fill-opacity=\"1\" /><path clip-path=\"url(#clip320)\" d=\"M678.094 145.433 Q674.483 145.433 672.654 148.997 Q670.849 152.539 670.849 159.669 Q670.849 166.775 672.654 170.34 Q674.483 173.882 678.094 173.882 Q681.728 173.882 683.534 170.34 Q685.363 166.775 685.363 159.669 Q685.363 152.539 683.534 148.997 Q681.728 145.433 678.094 145.433 M678.094 141.729 Q683.904 141.729 686.96 146.335 Q690.039 150.919 690.039 159.669 Q690.039 168.396 686.96 173.002 Q683.904 177.585 678.094 177.585 Q672.284 177.585 669.205 173.002 Q666.15 168.396 666.15 159.669 Q666.15 150.919 669.205 146.335 Q672.284 141.729 678.094 141.729 Z\" fill=\"#000000\" fill-rule=\"evenodd\" fill-opacity=\"1\" /><path clip-path=\"url(#clip320)\" d=\"M708.256 145.433 Q704.645 145.433 702.816 148.997 Q701.011 152.539 701.011 159.669 Q701.011 166.775 702.816 170.34 Q704.645 173.882 708.256 173.882 Q711.89 173.882 713.696 170.34 Q715.525 166.775 715.525 159.669 Q715.525 152.539 713.696 148.997 Q711.89 145.433 708.256 145.433 M708.256 141.729 Q714.066 141.729 717.122 146.335 Q720.2 150.919 720.2 159.669 Q720.2 168.396 717.122 173.002 Q714.066 177.585 708.256 177.585 Q702.446 177.585 699.367 173.002 Q696.312 168.396 696.312 159.669 Q696.312 150.919 699.367 146.335 Q702.446 141.729 708.256 141.729 Z\" fill=\"#000000\" fill-rule=\"evenodd\" fill-opacity=\"1\" /><path clip-path=\"url(#clip320)\" d=\"M1280.35 12.096 L1288.54 12.096 L1288.54 65.6895 L1317.99 65.6895 L1317.99 72.576 L1280.35 72.576 L1280.35 12.096 Z\" fill=\"#000000\" fill-rule=\"evenodd\" fill-opacity=\"1\" /><path clip-path=\"url(#clip320)\" d=\"M1346.87 49.7694 Q1337.84 49.7694 1334.35 51.8354 Q1330.87 53.9013 1330.87 58.8839 Q1330.87 62.8538 1333.46 65.2034 Q1336.09 67.5124 1340.59 67.5124 Q1346.79 67.5124 1350.52 63.1374 Q1354.28 58.7219 1354.28 51.4303 L1354.28 49.7694 L1346.87 49.7694 M1361.74 46.6907 L1361.74 72.576 L1354.28 72.576 L1354.28 65.6895 Q1351.73 69.8214 1347.92 71.8063 Q1344.11 73.7508 1338.61 73.7508 Q1331.64 73.7508 1327.51 69.8619 Q1323.41 65.9325 1323.41 59.3701 Q1323.41 51.7138 1328.52 47.825 Q1333.66 43.9361 1343.83 43.9361 L1354.28 43.9361 L1354.28 43.2069 Q1354.28 38.0623 1350.88 35.2672 Q1347.52 32.4315 1341.4 32.4315 Q1337.51 32.4315 1333.83 33.3632 Q1330.14 34.295 1326.74 36.1584 L1326.74 29.2718 Q1330.83 27.692 1334.68 26.9223 Q1338.52 26.1121 1342.17 26.1121 Q1352.01 26.1121 1356.88 31.2163 Q1361.74 36.3204 1361.74 46.6907 Z\" fill=\"#000000\" fill-rule=\"evenodd\" fill-opacity=\"1\" /><path clip-path=\"url(#clip320)\" d=\"M1414.8 45.1919 L1414.8 72.576 L1407.35 72.576 L1407.35 45.4349 Q1407.35 38.994 1404.84 35.7938 Q1402.33 32.5936 1397.3 32.5936 Q1391.27 32.5936 1387.78 36.4419 Q1384.3 40.2903 1384.3 46.9338 L1384.3 72.576 L1376.81 72.576 L1376.81 27.2059 L1384.3 27.2059 L1384.3 34.2544 Q1386.97 30.163 1390.58 28.1376 Q1394.22 26.1121 1398.96 26.1121 Q1406.78 26.1121 1410.79 30.9732 Q1414.8 35.7938 1414.8 45.1919 Z\" fill=\"#000000\" fill-rule=\"evenodd\" fill-opacity=\"1\" /><path clip-path=\"url(#clip320)\" d=\"M1459.52 34.0924 L1459.52 9.54393 L1466.98 9.54393 L1466.98 72.576 L1459.52 72.576 L1459.52 65.7705 Q1457.18 69.8214 1453.57 71.8063 Q1450.01 73.7508 1444.98 73.7508 Q1436.76 73.7508 1431.57 67.1883 Q1426.43 60.6258 1426.43 49.9314 Q1426.43 39.2371 1431.57 32.6746 Q1436.76 26.1121 1444.98 26.1121 Q1450.01 26.1121 1453.57 28.0971 Q1457.18 30.0415 1459.52 34.0924 M1434.13 49.9314 Q1434.13 58.1548 1437.49 62.8538 Q1440.89 67.5124 1446.81 67.5124 Q1452.72 67.5124 1456.12 62.8538 Q1459.52 58.1548 1459.52 49.9314 Q1459.52 41.7081 1456.12 37.0496 Q1452.72 32.3505 1446.81 32.3505 Q1440.89 32.3505 1437.49 37.0496 Q1434.13 41.7081 1434.13 49.9314 Z\" fill=\"#000000\" fill-rule=\"evenodd\" fill-opacity=\"1\" /><path clip-path=\"url(#clip320)\" d=\"M1505.3 9.54393 L1505.3 15.7418 L1498.17 15.7418 Q1494.16 15.7418 1492.58 17.3622 Q1491.04 18.9825 1491.04 23.1955 L1491.04 27.2059 L1503.32 27.2059 L1503.32 32.9987 L1491.04 32.9987 L1491.04 72.576 L1483.55 72.576 L1483.55 32.9987 L1476.42 32.9987 L1476.42 27.2059 L1483.55 27.2059 L1483.55 24.0462 Q1483.55 16.471 1487.07 13.0277 Q1490.6 9.54393 1498.25 9.54393 L1505.3 9.54393 Z\" fill=\"#000000\" fill-rule=\"evenodd\" fill-opacity=\"1\" /><path clip-path=\"url(#clip320)\" d=\"M1511.54 27.2059 L1518.99 27.2059 L1518.99 72.576 L1511.54 72.576 L1511.54 27.2059 M1511.54 9.54393 L1518.99 9.54393 L1518.99 18.9825 L1511.54 18.9825 L1511.54 9.54393 Z\" fill=\"#000000\" fill-rule=\"evenodd\" fill-opacity=\"1\" /><path clip-path=\"url(#clip320)\" d=\"M1534.59 9.54393 L1542.04 9.54393 L1542.04 72.576 L1534.59 72.576 L1534.59 9.54393 Z\" fill=\"#000000\" fill-rule=\"evenodd\" fill-opacity=\"1\" /><path clip-path=\"url(#clip320)\" d=\"M1557.64 9.54393 L1565.09 9.54393 L1565.09 72.576 L1557.64 72.576 L1557.64 9.54393 Z\" fill=\"#000000\" fill-rule=\"evenodd\" fill-opacity=\"1\" /><path clip-path=\"url(#clip320)\" d=\"M1609.61 28.5427 L1609.61 35.5912 Q1606.45 33.9709 1603.05 33.1607 Q1599.65 32.3505 1596 32.3505 Q1590.45 32.3505 1587.66 34.0519 Q1584.9 35.7533 1584.9 39.156 Q1584.9 41.7486 1586.89 43.2475 Q1588.87 44.7058 1594.87 46.0426 L1597.42 46.6097 Q1605.36 48.3111 1608.68 51.4303 Q1612.04 54.509 1612.04 60.0587 Q1612.04 66.3781 1607.02 70.0644 Q1602.04 73.7508 1593.29 73.7508 Q1589.64 73.7508 1585.67 73.0216 Q1581.74 72.3329 1577.37 70.9151 L1577.37 63.2184 Q1581.5 65.3654 1585.51 66.4591 Q1589.52 67.5124 1593.45 67.5124 Q1598.71 67.5124 1601.55 65.73 Q1604.39 63.9071 1604.39 60.6258 Q1604.39 57.5877 1602.32 55.9673 Q1600.29 54.3469 1593.37 52.8481 L1590.77 52.2405 Q1583.85 50.7821 1580.77 47.7845 Q1577.69 44.7463 1577.69 39.4801 Q1577.69 33.0797 1582.23 29.5959 Q1586.76 26.1121 1595.11 26.1121 Q1599.24 26.1121 1602.89 26.7198 Q1606.53 27.3274 1609.61 28.5427 Z\" fill=\"#000000\" fill-rule=\"evenodd\" fill-opacity=\"1\" /><path clip-path=\"url(#clip320)\" d=\"M1658.79 43.6931 L1658.79 65.8515 L1671.91 65.8515 Q1678.52 65.8515 1681.68 63.1374 Q1684.88 60.3828 1684.88 54.752 Q1684.88 49.0808 1681.68 46.4072 Q1678.52 43.6931 1671.91 43.6931 L1658.79 43.6931 M1658.79 18.8205 L1658.79 37.0496 L1670.9 37.0496 Q1676.9 37.0496 1679.81 34.8216 Q1682.77 32.5531 1682.77 27.935 Q1682.77 23.3575 1679.81 21.089 Q1676.9 18.8205 1670.9 18.8205 L1658.79 18.8205 M1650.61 12.096 L1671.51 12.096 Q1680.87 12.096 1685.93 15.9849 Q1690.99 19.8737 1690.99 27.0438 Q1690.99 32.5936 1688.4 35.8748 Q1685.81 39.156 1680.79 39.9662 Q1686.82 41.2625 1690.14 45.3944 Q1693.51 49.4858 1693.51 55.6432 Q1693.51 63.745 1688 68.1605 Q1682.49 72.576 1672.32 72.576 L1650.61 72.576 L1650.61 12.096 Z\" fill=\"#000000\" fill-rule=\"evenodd\" fill-opacity=\"1\" /><path clip-path=\"url(#clip320)\" d=\"M1706.43 54.671 L1706.43 27.2059 L1713.88 27.2059 L1713.88 54.3874 Q1713.88 60.8284 1716.39 64.0691 Q1718.9 67.2693 1723.93 67.2693 Q1729.96 67.2693 1733.45 63.421 Q1736.97 59.5726 1736.97 52.9291 L1736.97 27.2059 L1744.43 27.2059 L1744.43 72.576 L1736.97 72.576 L1736.97 65.6084 Q1734.26 69.7404 1730.65 71.7658 Q1727.09 73.7508 1722.35 73.7508 Q1714.53 73.7508 1710.48 68.8897 Q1706.43 64.0286 1706.43 54.671 M1725.18 26.1121 L1725.18 26.1121 Z\" fill=\"#000000\" fill-rule=\"evenodd\" fill-opacity=\"1\" /><path clip-path=\"url(#clip320)\" d=\"M1759.78 27.2059 L1767.23 27.2059 L1767.23 72.576 L1759.78 72.576 L1759.78 27.2059 M1759.78 9.54393 L1767.23 9.54393 L1767.23 18.9825 L1759.78 18.9825 L1759.78 9.54393 Z\" fill=\"#000000\" fill-rule=\"evenodd\" fill-opacity=\"1\" /><path clip-path=\"url(#clip320)\" d=\"M1782.83 9.54393 L1790.28 9.54393 L1790.28 72.576 L1782.83 72.576 L1782.83 9.54393 Z\" fill=\"#000000\" fill-rule=\"evenodd\" fill-opacity=\"1\" /><path clip-path=\"url(#clip320)\" d=\"M1813.25 14.324 L1813.25 27.2059 L1828.6 27.2059 L1828.6 32.9987 L1813.25 32.9987 L1813.25 57.6282 Q1813.25 63.1779 1814.75 64.7578 Q1816.29 66.3376 1820.95 66.3376 L1828.6 66.3376 L1828.6 72.576 L1820.95 72.576 Q1812.32 72.576 1809.04 69.3758 Q1805.76 66.1351 1805.76 57.6282 L1805.76 32.9987 L1800.29 32.9987 L1800.29 27.2059 L1805.76 27.2059 L1805.76 14.324 L1813.25 14.324 Z\" fill=\"#000000\" fill-rule=\"evenodd\" fill-opacity=\"1\" /><circle clip-path=\"url(#clip322)\" cx=\"1109.93\" cy=\"914.267\" r=\"14\" fill=\"#ff0000\" fill-rule=\"evenodd\" fill-opacity=\"1\" stroke=\"#000000\" stroke-opacity=\"1\" stroke-width=\"3.2\"/>\n",
       "<circle clip-path=\"url(#clip322)\" cx=\"1753.76\" cy=\"647.789\" r=\"14\" fill=\"#ff0000\" fill-rule=\"evenodd\" fill-opacity=\"1\" stroke=\"#000000\" stroke-opacity=\"1\" stroke-width=\"3.2\"/>\n",
       "<circle clip-path=\"url(#clip322)\" cx=\"1976.05\" cy=\"1315.57\" r=\"14\" fill=\"#ff0000\" fill-rule=\"evenodd\" fill-opacity=\"1\" stroke=\"#000000\" stroke-opacity=\"1\" stroke-width=\"3.2\"/>\n",
       "<circle clip-path=\"url(#clip322)\" cx=\"2074.84\" cy=\"545.131\" r=\"14\" fill=\"#ff0000\" fill-rule=\"evenodd\" fill-opacity=\"1\" stroke=\"#000000\" stroke-opacity=\"1\" stroke-width=\"3.2\"/>\n",
       "<circle clip-path=\"url(#clip322)\" cx=\"999.323\" cy=\"551.286\" r=\"14\" fill=\"#ff0000\" fill-rule=\"evenodd\" fill-opacity=\"1\" stroke=\"#000000\" stroke-opacity=\"1\" stroke-width=\"3.2\"/>\n",
       "<circle clip-path=\"url(#clip322)\" cx=\"1183.24\" cy=\"760.694\" r=\"14\" fill=\"#0000ff\" fill-rule=\"evenodd\" fill-opacity=\"1\" stroke=\"#000000\" stroke-opacity=\"1\" stroke-width=\"3.2\"/>\n",
       "<circle clip-path=\"url(#clip322)\" cx=\"1986.27\" cy=\"1447.87\" r=\"14\" fill=\"#0000ff\" fill-rule=\"evenodd\" fill-opacity=\"1\" stroke=\"#000000\" stroke-opacity=\"1\" stroke-width=\"3.2\"/>\n",
       "<circle clip-path=\"url(#clip322)\" cx=\"1856.27\" cy=\"1340.3\" r=\"14\" fill=\"#0000ff\" fill-rule=\"evenodd\" fill-opacity=\"1\" stroke=\"#000000\" stroke-opacity=\"1\" stroke-width=\"3.2\"/>\n",
       "<circle clip-path=\"url(#clip322)\" cx=\"1473.63\" cy=\"870.048\" r=\"14\" fill=\"#0000ff\" fill-rule=\"evenodd\" fill-opacity=\"1\" stroke=\"#000000\" stroke-opacity=\"1\" stroke-width=\"3.2\"/>\n",
       "<circle clip-path=\"url(#clip322)\" cx=\"1653.17\" cy=\"228.497\" r=\"14\" fill=\"#0000ff\" fill-rule=\"evenodd\" fill-opacity=\"1\" stroke=\"#000000\" stroke-opacity=\"1\" stroke-width=\"3.2\"/>\n",
       "<circle clip-path=\"url(#clip322)\" cx=\"1036.58\" cy=\"758.58\" r=\"14\" fill=\"#0000ff\" fill-rule=\"evenodd\" fill-opacity=\"1\" stroke=\"#000000\" stroke-opacity=\"1\" stroke-width=\"3.2\"/>\n",
       "<circle clip-path=\"url(#clip322)\" cx=\"1422.95\" cy=\"845.635\" r=\"14\" fill=\"#0000ff\" fill-rule=\"evenodd\" fill-opacity=\"1\" stroke=\"#000000\" stroke-opacity=\"1\" stroke-width=\"3.2\"/>\n",
       "<circle clip-path=\"url(#clip322)\" cx=\"1484.27\" cy=\"1007.21\" r=\"14\" fill=\"#0000ff\" fill-rule=\"evenodd\" fill-opacity=\"1\" stroke=\"#000000\" stroke-opacity=\"1\" stroke-width=\"3.2\"/>\n",
       "<circle clip-path=\"url(#clip322)\" cx=\"2307.57\" cy=\"337.377\" r=\"14\" fill=\"#0000ff\" fill-rule=\"evenodd\" fill-opacity=\"1\" stroke=\"#000000\" stroke-opacity=\"1\" stroke-width=\"3.2\"/>\n",
       "<circle clip-path=\"url(#clip322)\" cx=\"1971.92\" cy=\"585.229\" r=\"14\" fill=\"#0000ff\" fill-rule=\"evenodd\" fill-opacity=\"1\" stroke=\"#000000\" stroke-opacity=\"1\" stroke-width=\"3.2\"/>\n",
       "<circle clip-path=\"url(#clip322)\" cx=\"1234.36\" cy=\"1067.01\" r=\"14\" fill=\"#0000ff\" fill-rule=\"evenodd\" fill-opacity=\"1\" stroke=\"#000000\" stroke-opacity=\"1\" stroke-width=\"3.2\"/>\n",
       "<circle clip-path=\"url(#clip322)\" cx=\"1051.55\" cy=\"1235.84\" r=\"14\" fill=\"#0000ff\" fill-rule=\"evenodd\" fill-opacity=\"1\" stroke=\"#000000\" stroke-opacity=\"1\" stroke-width=\"3.2\"/>\n",
       "<circle clip-path=\"url(#clip322)\" cx=\"1049.57\" cy=\"453.956\" r=\"14\" fill=\"#0000ff\" fill-rule=\"evenodd\" fill-opacity=\"1\" stroke=\"#000000\" stroke-opacity=\"1\" stroke-width=\"3.2\"/>\n",
       "<circle clip-path=\"url(#clip322)\" cx=\"1703.71\" cy=\"294.798\" r=\"14\" fill=\"#0000ff\" fill-rule=\"evenodd\" fill-opacity=\"1\" stroke=\"#000000\" stroke-opacity=\"1\" stroke-width=\"3.2\"/>\n",
       "<circle clip-path=\"url(#clip322)\" cx=\"2065.65\" cy=\"206.361\" r=\"14\" fill=\"#0000ff\" fill-rule=\"evenodd\" fill-opacity=\"1\" stroke=\"#000000\" stroke-opacity=\"1\" stroke-width=\"3.2\"/>\n",
       "<circle clip-path=\"url(#clip322)\" cx=\"2003.49\" cy=\"356.124\" r=\"14\" fill=\"#0000ff\" fill-rule=\"evenodd\" fill-opacity=\"1\" stroke=\"#000000\" stroke-opacity=\"1\" stroke-width=\"3.2\"/>\n",
       "<circle clip-path=\"url(#clip322)\" cx=\"2099.76\" cy=\"1218.02\" r=\"14\" fill=\"#0000ff\" fill-rule=\"evenodd\" fill-opacity=\"1\" stroke=\"#000000\" stroke-opacity=\"1\" stroke-width=\"3.2\"/>\n",
       "<circle clip-path=\"url(#clip322)\" cx=\"2101.03\" cy=\"622.142\" r=\"14\" fill=\"#0000ff\" fill-rule=\"evenodd\" fill-opacity=\"1\" stroke=\"#000000\" stroke-opacity=\"1\" stroke-width=\"3.2\"/>\n",
       "<circle clip-path=\"url(#clip322)\" cx=\"2052.02\" cy=\"1286.41\" r=\"14\" fill=\"#0000ff\" fill-rule=\"evenodd\" fill-opacity=\"1\" stroke=\"#000000\" stroke-opacity=\"1\" stroke-width=\"3.2\"/>\n",
       "<circle clip-path=\"url(#clip322)\" cx=\"1755.38\" cy=\"826.169\" r=\"14\" fill=\"#0000ff\" fill-rule=\"evenodd\" fill-opacity=\"1\" stroke=\"#000000\" stroke-opacity=\"1\" stroke-width=\"3.2\"/>\n",
       "<circle clip-path=\"url(#clip322)\" cx=\"2005.11\" cy=\"1128.72\" r=\"14\" fill=\"#0000ff\" fill-rule=\"evenodd\" fill-opacity=\"1\" stroke=\"#000000\" stroke-opacity=\"1\" stroke-width=\"3.2\"/>\n",
       "<circle clip-path=\"url(#clip322)\" cx=\"1842.96\" cy=\"550.933\" r=\"14\" fill=\"#0000ff\" fill-rule=\"evenodd\" fill-opacity=\"1\" stroke=\"#000000\" stroke-opacity=\"1\" stroke-width=\"3.2\"/>\n",
       "<circle clip-path=\"url(#clip322)\" cx=\"2218.54\" cy=\"292.1\" r=\"14\" fill=\"#0000ff\" fill-rule=\"evenodd\" fill-opacity=\"1\" stroke=\"#000000\" stroke-opacity=\"1\" stroke-width=\"3.2\"/>\n",
       "<circle clip-path=\"url(#clip322)\" cx=\"804.849\" cy=\"802.338\" r=\"14\" fill=\"#0000ff\" fill-rule=\"evenodd\" fill-opacity=\"1\" stroke=\"#000000\" stroke-opacity=\"1\" stroke-width=\"3.2\"/>\n",
       "<circle clip-path=\"url(#clip322)\" cx=\"1017.83\" cy=\"1416.23\" r=\"14\" fill=\"#0000ff\" fill-rule=\"evenodd\" fill-opacity=\"1\" stroke=\"#000000\" stroke-opacity=\"1\" stroke-width=\"3.2\"/>\n",
       "<circle clip-path=\"url(#clip322)\" cx=\"1598.5\" cy=\"893.12\" r=\"14\" fill=\"#0000ff\" fill-rule=\"evenodd\" fill-opacity=\"1\" stroke=\"#000000\" stroke-opacity=\"1\" stroke-width=\"3.2\"/>\n",
       "<circle clip-path=\"url(#clip322)\" cx=\"2235.01\" cy=\"660.653\" r=\"14\" fill=\"#0000ff\" fill-rule=\"evenodd\" fill-opacity=\"1\" stroke=\"#000000\" stroke-opacity=\"1\" stroke-width=\"3.2\"/>\n",
       "<circle clip-path=\"url(#clip322)\" cx=\"1174.83\" cy=\"986.56\" r=\"14\" fill=\"#0000ff\" fill-rule=\"evenodd\" fill-opacity=\"1\" stroke=\"#000000\" stroke-opacity=\"1\" stroke-width=\"3.2\"/>\n",
       "<circle clip-path=\"url(#clip322)\" cx=\"1729.08\" cy=\"530.491\" r=\"14\" fill=\"#0000ff\" fill-rule=\"evenodd\" fill-opacity=\"1\" stroke=\"#000000\" stroke-opacity=\"1\" stroke-width=\"3.2\"/>\n",
       "<circle clip-path=\"url(#clip322)\" cx=\"1504.56\" cy=\"705.753\" r=\"14\" fill=\"#0000ff\" fill-rule=\"evenodd\" fill-opacity=\"1\" stroke=\"#000000\" stroke-opacity=\"1\" stroke-width=\"3.2\"/>\n",
       "<circle clip-path=\"url(#clip322)\" cx=\"1965.58\" cy=\"494.962\" r=\"14\" fill=\"#0000ff\" fill-rule=\"evenodd\" fill-opacity=\"1\" stroke=\"#000000\" stroke-opacity=\"1\" stroke-width=\"3.2\"/>\n",
       "<circle clip-path=\"url(#clip322)\" cx=\"1979.51\" cy=\"1431.57\" r=\"14\" fill=\"#0000ff\" fill-rule=\"evenodd\" fill-opacity=\"1\" stroke=\"#000000\" stroke-opacity=\"1\" stroke-width=\"3.2\"/>\n",
       "<circle clip-path=\"url(#clip322)\" cx=\"1587.26\" cy=\"870.55\" r=\"14\" fill=\"#0000ff\" fill-rule=\"evenodd\" fill-opacity=\"1\" stroke=\"#000000\" stroke-opacity=\"1\" stroke-width=\"3.2\"/>\n",
       "<circle clip-path=\"url(#clip322)\" cx=\"977.532\" cy=\"433.961\" r=\"14\" fill=\"#0000ff\" fill-rule=\"evenodd\" fill-opacity=\"1\" stroke=\"#000000\" stroke-opacity=\"1\" stroke-width=\"3.2\"/>\n",
       "<circle clip-path=\"url(#clip322)\" cx=\"1230.6\" cy=\"970.605\" r=\"14\" fill=\"#0000ff\" fill-rule=\"evenodd\" fill-opacity=\"1\" stroke=\"#000000\" stroke-opacity=\"1\" stroke-width=\"3.2\"/>\n",
       "<circle clip-path=\"url(#clip322)\" cx=\"1450.32\" cy=\"861.793\" r=\"14\" fill=\"#0000ff\" fill-rule=\"evenodd\" fill-opacity=\"1\" stroke=\"#000000\" stroke-opacity=\"1\" stroke-width=\"3.2\"/>\n",
       "<circle clip-path=\"url(#clip322)\" cx=\"801.386\" cy=\"162.047\" r=\"14\" fill=\"#0000ff\" fill-rule=\"evenodd\" fill-opacity=\"1\" stroke=\"#000000\" stroke-opacity=\"1\" stroke-width=\"3.2\"/>\n",
       "<circle clip-path=\"url(#clip322)\" cx=\"1288.39\" cy=\"1171.97\" r=\"14\" fill=\"#0000ff\" fill-rule=\"evenodd\" fill-opacity=\"1\" stroke=\"#000000\" stroke-opacity=\"1\" stroke-width=\"3.2\"/>\n",
       "<circle clip-path=\"url(#clip322)\" cx=\"1407.56\" cy=\"345.117\" r=\"14\" fill=\"#0000ff\" fill-rule=\"evenodd\" fill-opacity=\"1\" stroke=\"#000000\" stroke-opacity=\"1\" stroke-width=\"3.2\"/>\n",
       "<circle clip-path=\"url(#clip322)\" cx=\"1189.27\" cy=\"624.039\" r=\"14\" fill=\"#0000ff\" fill-rule=\"evenodd\" fill-opacity=\"1\" stroke=\"#000000\" stroke-opacity=\"1\" stroke-width=\"3.2\"/>\n",
       "<circle clip-path=\"url(#clip322)\" cx=\"887.992\" cy=\"256.368\" r=\"14\" fill=\"#0000ff\" fill-rule=\"evenodd\" fill-opacity=\"1\" stroke=\"#000000\" stroke-opacity=\"1\" stroke-width=\"3.2\"/>\n",
       "<circle clip-path=\"url(#clip322)\" cx=\"884.136\" cy=\"998.136\" r=\"14\" fill=\"#0000ff\" fill-rule=\"evenodd\" fill-opacity=\"1\" stroke=\"#000000\" stroke-opacity=\"1\" stroke-width=\"3.2\"/>\n",
       "<circle clip-path=\"url(#clip322)\" cx=\"1108.48\" cy=\"750.867\" r=\"14\" fill=\"#0000ff\" fill-rule=\"evenodd\" fill-opacity=\"1\" stroke=\"#000000\" stroke-opacity=\"1\" stroke-width=\"3.2\"/>\n",
       "<circle clip-path=\"url(#clip322)\" cx=\"2208.84\" cy=\"286.8\" r=\"14\" fill=\"#0000ff\" fill-rule=\"evenodd\" fill-opacity=\"1\" stroke=\"#000000\" stroke-opacity=\"1\" stroke-width=\"3.2\"/>\n",
       "<circle clip-path=\"url(#clip322)\" cx=\"948.783\" cy=\"1302.49\" r=\"14\" fill=\"#0000ff\" fill-rule=\"evenodd\" fill-opacity=\"1\" stroke=\"#000000\" stroke-opacity=\"1\" stroke-width=\"3.2\"/>\n",
       "<circle clip-path=\"url(#clip322)\" cx=\"1482.25\" cy=\"1131.42\" r=\"14\" fill=\"#0000ff\" fill-rule=\"evenodd\" fill-opacity=\"1\" stroke=\"#000000\" stroke-opacity=\"1\" stroke-width=\"3.2\"/>\n",
       "<circle clip-path=\"url(#clip322)\" cx=\"1177.45\" cy=\"781.218\" r=\"14\" fill=\"#0000ff\" fill-rule=\"evenodd\" fill-opacity=\"1\" stroke=\"#000000\" stroke-opacity=\"1\" stroke-width=\"3.2\"/>\n",
       "<circle clip-path=\"url(#clip322)\" cx=\"1678.91\" cy=\"823.796\" r=\"14\" fill=\"#0000ff\" fill-rule=\"evenodd\" fill-opacity=\"1\" stroke=\"#000000\" stroke-opacity=\"1\" stroke-width=\"3.2\"/>\n",
       "<circle clip-path=\"url(#clip322)\" cx=\"1156.54\" cy=\"630.438\" r=\"14\" fill=\"#0000ff\" fill-rule=\"evenodd\" fill-opacity=\"1\" stroke=\"#000000\" stroke-opacity=\"1\" stroke-width=\"3.2\"/>\n",
       "<circle clip-path=\"url(#clip322)\" cx=\"1007.35\" cy=\"776.419\" r=\"14\" fill=\"#0000ff\" fill-rule=\"evenodd\" fill-opacity=\"1\" stroke=\"#000000\" stroke-opacity=\"1\" stroke-width=\"3.2\"/>\n",
       "<path clip-path=\"url(#clip320)\" d=\"\n",
       "M96.3335 1441.02 L528.496 1441.02 L528.496 1285.5 L96.3335 1285.5  Z\n",
       "  \" fill=\"#ffffff\" fill-rule=\"evenodd\" fill-opacity=\"1\"/>\n",
       "<polyline clip-path=\"url(#clip320)\" style=\"stroke:#000000; stroke-linecap:butt; stroke-linejoin:round; stroke-width:4; stroke-opacity:1; fill:none\" points=\"\n",
       "  96.3335,1441.02 528.496,1441.02 528.496,1285.5 96.3335,1285.5 96.3335,1441.02 \n",
       "  \"/>\n",
       "<circle clip-path=\"url(#clip320)\" cx=\"193.384\" cy=\"1337.34\" r=\"23\" fill=\"#ff0000\" fill-rule=\"evenodd\" fill-opacity=\"1\" stroke=\"#000000\" stroke-opacity=\"1\" stroke-width=\"5.12\"/>\n",
       "<path clip-path=\"url(#clip320)\" d=\"M290.434 1320.06 L295.11 1320.06 L295.11 1350.68 L311.939 1350.68 L311.939 1354.62 L290.434 1354.62 L290.434 1320.06 Z\" fill=\"#000000\" fill-rule=\"evenodd\" fill-opacity=\"1\" /><path clip-path=\"url(#clip320)\" d=\"M328.443 1341.58 Q323.281 1341.58 321.291 1342.76 Q319.3 1343.94 319.3 1346.79 Q319.3 1349.06 320.781 1350.4 Q322.286 1351.72 324.855 1351.72 Q328.397 1351.72 330.527 1349.22 Q332.679 1346.7 332.679 1342.53 L332.679 1341.58 L328.443 1341.58 M336.939 1339.82 L336.939 1354.62 L332.679 1354.62 L332.679 1350.68 Q331.221 1353.04 329.045 1354.18 Q326.869 1355.29 323.721 1355.29 Q319.74 1355.29 317.379 1353.06 Q315.041 1350.82 315.041 1347.07 Q315.041 1342.69 317.957 1340.47 Q320.897 1338.25 326.707 1338.25 L332.679 1338.25 L332.679 1337.83 Q332.679 1334.89 330.735 1333.3 Q328.814 1331.68 325.318 1331.68 Q323.096 1331.68 320.99 1332.21 Q318.883 1332.74 316.939 1333.81 L316.939 1329.87 Q319.277 1328.97 321.476 1328.53 Q323.675 1328.06 325.758 1328.06 Q331.383 1328.06 334.161 1330.98 Q336.939 1333.9 336.939 1339.82 Z\" fill=\"#000000\" fill-rule=\"evenodd\" fill-opacity=\"1\" /><path clip-path=\"url(#clip320)\" d=\"M367.263 1338.97 L367.263 1354.62 L363.003 1354.62 L363.003 1339.11 Q363.003 1335.43 361.568 1333.6 Q360.133 1331.77 357.263 1331.77 Q353.814 1331.77 351.823 1333.97 Q349.832 1336.17 349.832 1339.96 L349.832 1354.62 L345.55 1354.62 L345.55 1328.69 L349.832 1328.69 L349.832 1332.72 Q351.36 1330.38 353.42 1329.22 Q355.503 1328.06 358.212 1328.06 Q362.679 1328.06 364.971 1330.84 Q367.263 1333.6 367.263 1338.97 Z\" fill=\"#000000\" fill-rule=\"evenodd\" fill-opacity=\"1\" /><path clip-path=\"url(#clip320)\" d=\"M392.818 1332.62 L392.818 1318.6 L397.077 1318.6 L397.077 1354.62 L392.818 1354.62 L392.818 1350.73 Q391.475 1353.04 389.415 1354.18 Q387.378 1355.29 384.508 1355.29 Q379.809 1355.29 376.846 1351.54 Q373.906 1347.79 373.906 1341.68 Q373.906 1335.56 376.846 1331.81 Q379.809 1328.06 384.508 1328.06 Q387.378 1328.06 389.415 1329.2 Q391.475 1330.31 392.818 1332.62 M378.304 1341.68 Q378.304 1346.37 380.226 1349.06 Q382.17 1351.72 385.55 1351.72 Q388.929 1351.72 390.874 1349.06 Q392.818 1346.37 392.818 1341.68 Q392.818 1336.98 390.874 1334.31 Q388.929 1331.63 385.55 1331.63 Q382.17 1331.63 380.226 1334.31 Q378.304 1336.98 378.304 1341.68 Z\" fill=\"#000000\" fill-rule=\"evenodd\" fill-opacity=\"1\" /><path clip-path=\"url(#clip320)\" d=\"M418.975 1318.6 L418.975 1322.14 L414.901 1322.14 Q412.61 1322.14 411.707 1323.06 Q410.827 1323.99 410.827 1326.4 L410.827 1328.69 L417.841 1328.69 L417.841 1332 L410.827 1332 L410.827 1354.62 L406.545 1354.62 L406.545 1332 L402.471 1332 L402.471 1328.69 L406.545 1328.69 L406.545 1326.88 Q406.545 1322.56 408.559 1320.59 Q410.573 1318.6 414.948 1318.6 L418.975 1318.6 Z\" fill=\"#000000\" fill-rule=\"evenodd\" fill-opacity=\"1\" /><path clip-path=\"url(#clip320)\" d=\"M422.54 1328.69 L426.799 1328.69 L426.799 1354.62 L422.54 1354.62 L422.54 1328.69 M422.54 1318.6 L426.799 1318.6 L426.799 1323.99 L422.54 1323.99 L422.54 1318.6 Z\" fill=\"#000000\" fill-rule=\"evenodd\" fill-opacity=\"1\" /><path clip-path=\"url(#clip320)\" d=\"M435.711 1318.6 L439.971 1318.6 L439.971 1354.62 L435.711 1354.62 L435.711 1318.6 Z\" fill=\"#000000\" fill-rule=\"evenodd\" fill-opacity=\"1\" /><path clip-path=\"url(#clip320)\" d=\"M448.883 1318.6 L453.142 1318.6 L453.142 1354.62 L448.883 1354.62 L448.883 1318.6 Z\" fill=\"#000000\" fill-rule=\"evenodd\" fill-opacity=\"1\" /><path clip-path=\"url(#clip320)\" d=\"M478.581 1329.45 L478.581 1333.48 Q476.776 1332.56 474.832 1332.09 Q472.887 1331.63 470.804 1331.63 Q467.632 1331.63 466.035 1332.6 Q464.461 1333.57 464.461 1335.52 Q464.461 1337 465.595 1337.86 Q466.73 1338.69 470.156 1339.45 L471.614 1339.78 Q476.151 1340.75 478.049 1342.53 Q479.97 1344.29 479.97 1347.46 Q479.97 1351.07 477.1 1353.18 Q474.253 1355.29 469.253 1355.29 Q467.17 1355.29 464.901 1354.87 Q462.656 1354.48 460.156 1353.67 L460.156 1349.27 Q462.517 1350.5 464.808 1351.12 Q467.1 1351.72 469.345 1351.72 Q472.355 1351.72 473.975 1350.7 Q475.595 1349.66 475.595 1347.79 Q475.595 1346.05 474.415 1345.12 Q473.257 1344.2 469.299 1343.34 L467.818 1343 Q463.859 1342.16 462.1 1340.45 Q460.341 1338.71 460.341 1335.7 Q460.341 1332.05 462.933 1330.06 Q465.526 1328.06 470.294 1328.06 Q472.656 1328.06 474.739 1328.41 Q476.822 1328.76 478.581 1329.45 Z\" fill=\"#000000\" fill-rule=\"evenodd\" fill-opacity=\"1\" /><circle clip-path=\"url(#clip320)\" cx=\"193.384\" cy=\"1389.18\" r=\"23\" fill=\"#0000ff\" fill-rule=\"evenodd\" fill-opacity=\"1\" stroke=\"#000000\" stroke-opacity=\"1\" stroke-width=\"5.12\"/>\n",
       "<path clip-path=\"url(#clip320)\" d=\"M318.305 1374.56 L318.305 1379.49 Q315.943 1377.29 313.258 1376.2 Q310.596 1375.11 307.587 1375.11 Q301.661 1375.11 298.513 1378.75 Q295.365 1382.36 295.365 1389.21 Q295.365 1396.04 298.513 1399.67 Q301.661 1403.28 307.587 1403.28 Q310.596 1403.28 313.258 1402.2 Q315.943 1401.11 318.305 1398.91 L318.305 1403.79 Q315.851 1405.46 313.096 1406.29 Q310.365 1407.13 307.309 1407.13 Q299.462 1407.13 294.948 1402.34 Q290.434 1397.52 290.434 1389.21 Q290.434 1380.88 294.948 1376.09 Q299.462 1371.27 307.309 1371.27 Q310.411 1371.27 313.143 1372.1 Q315.897 1372.91 318.305 1374.56 Z\" fill=\"#000000\" fill-rule=\"evenodd\" fill-opacity=\"1\" /><path clip-path=\"url(#clip320)\" d=\"M347.517 1392.43 L347.517 1394.51 L327.934 1394.51 Q328.212 1398.91 330.573 1401.22 Q332.957 1403.52 337.193 1403.52 Q339.647 1403.52 341.939 1402.91 Q344.254 1402.31 346.522 1401.11 L346.522 1405.14 Q344.23 1406.11 341.823 1406.62 Q339.416 1407.13 336.939 1407.13 Q330.735 1407.13 327.101 1403.52 Q323.49 1399.9 323.49 1393.75 Q323.49 1387.38 326.916 1383.65 Q330.365 1379.9 336.198 1379.9 Q341.429 1379.9 344.462 1383.28 Q347.517 1386.64 347.517 1392.43 M343.258 1391.18 Q343.212 1387.68 341.291 1385.6 Q339.392 1383.52 336.244 1383.52 Q332.679 1383.52 330.527 1385.53 Q328.397 1387.54 328.073 1391.2 L343.258 1391.18 Z\" fill=\"#000000\" fill-rule=\"evenodd\" fill-opacity=\"1\" /><path clip-path=\"url(#clip320)\" d=\"M376.059 1390.81 L376.059 1406.46 L371.8 1406.46 L371.8 1390.95 Q371.8 1387.27 370.364 1385.44 Q368.929 1383.61 366.059 1383.61 Q362.61 1383.61 360.619 1385.81 Q358.628 1388.01 358.628 1391.8 L358.628 1406.46 L354.346 1406.46 L354.346 1380.53 L358.628 1380.53 L358.628 1384.56 Q360.156 1382.22 362.216 1381.06 Q364.3 1379.9 367.008 1379.9 Q371.476 1379.9 373.767 1382.68 Q376.059 1385.44 376.059 1390.81 Z\" fill=\"#000000\" fill-rule=\"evenodd\" fill-opacity=\"1\" /><path clip-path=\"url(#clip320)\" d=\"M388.767 1373.17 L388.767 1380.53 L397.54 1380.53 L397.54 1383.84 L388.767 1383.84 L388.767 1397.91 Q388.767 1401.09 389.624 1401.99 Q390.503 1402.89 393.165 1402.89 L397.54 1402.89 L397.54 1406.46 L393.165 1406.46 Q388.235 1406.46 386.36 1404.63 Q384.485 1402.77 384.485 1397.91 L384.485 1383.84 L381.36 1383.84 L381.36 1380.53 L384.485 1380.53 L384.485 1373.17 L388.767 1373.17 Z\" fill=\"#000000\" fill-rule=\"evenodd\" fill-opacity=\"1\" /><path clip-path=\"url(#clip320)\" d=\"M425.318 1392.43 L425.318 1394.51 L405.735 1394.51 Q406.012 1398.91 408.374 1401.22 Q410.758 1403.52 414.994 1403.52 Q417.448 1403.52 419.739 1402.91 Q422.054 1402.31 424.323 1401.11 L424.323 1405.14 Q422.031 1406.11 419.623 1406.62 Q417.216 1407.13 414.739 1407.13 Q408.536 1407.13 404.901 1403.52 Q401.29 1399.9 401.29 1393.75 Q401.29 1387.38 404.716 1383.65 Q408.165 1379.9 413.999 1379.9 Q419.23 1379.9 422.262 1383.28 Q425.318 1386.64 425.318 1392.43 M421.059 1391.18 Q421.012 1387.68 419.091 1385.6 Q417.193 1383.52 414.045 1383.52 Q410.48 1383.52 408.327 1385.53 Q406.198 1387.54 405.874 1391.2 L421.059 1391.18 Z\" fill=\"#000000\" fill-rule=\"evenodd\" fill-opacity=\"1\" /><path clip-path=\"url(#clip320)\" d=\"M447.332 1384.51 Q446.614 1384.09 445.758 1383.91 Q444.924 1383.7 443.906 1383.7 Q440.295 1383.7 438.35 1386.06 Q436.429 1388.4 436.429 1392.8 L436.429 1406.46 L432.147 1406.46 L432.147 1380.53 L436.429 1380.53 L436.429 1384.56 Q437.772 1382.2 439.924 1381.06 Q442.077 1379.9 445.156 1379.9 Q445.596 1379.9 446.128 1379.97 Q446.66 1380.02 447.309 1380.14 L447.332 1384.51 Z\" fill=\"#000000\" fill-rule=\"evenodd\" fill-opacity=\"1\" /><path clip-path=\"url(#clip320)\" d=\"M468.327 1381.29 L468.327 1385.32 Q466.521 1384.4 464.577 1383.93 Q462.632 1383.47 460.549 1383.47 Q457.378 1383.47 455.781 1384.44 Q454.207 1385.41 454.207 1387.36 Q454.207 1388.84 455.341 1389.7 Q456.475 1390.53 459.901 1391.29 L461.359 1391.62 Q465.896 1392.59 467.795 1394.37 Q469.716 1396.13 469.716 1399.3 Q469.716 1402.91 466.845 1405.02 Q463.998 1407.13 458.998 1407.13 Q456.915 1407.13 454.646 1406.71 Q452.401 1406.32 449.901 1405.51 L449.901 1401.11 Q452.262 1402.34 454.554 1402.96 Q456.845 1403.56 459.091 1403.56 Q462.1 1403.56 463.72 1402.54 Q465.341 1401.5 465.341 1399.63 Q465.341 1397.89 464.16 1396.96 Q463.003 1396.04 459.045 1395.18 L457.563 1394.84 Q453.605 1394 451.846 1392.29 Q450.086 1390.55 450.086 1387.54 Q450.086 1383.89 452.679 1381.9 Q455.271 1379.9 460.04 1379.9 Q462.401 1379.9 464.484 1380.25 Q466.568 1380.6 468.327 1381.29 Z\" fill=\"#000000\" fill-rule=\"evenodd\" fill-opacity=\"1\" /></svg>\n"
      ]
     },
     "execution_count": 273,
     "metadata": {},
     "output_type": "execute_result"
    }
   ],
   "source": [
    "plot(lf_b.xco, lf_b.yco, seriestype = :scatter, color = \"red\", title = \"Landfills Built\",label = \"Landfills\", legend=:outerbottomleft)\n",
    "plot!(centers.xco, centers.yco, seriestype = :scatter, color = \"blue\", label = \"Centers\")"
   ]
  },
  {
   "cell_type": "markdown",
   "id": "8bcf024b",
   "metadata": {},
   "source": [
    "# B"
   ]
  },
  {
   "cell_type": "code",
   "execution_count": 274,
   "id": "6a352600",
   "metadata": {},
   "outputs": [],
   "source": [
    "dmatx_ct = pairwise(Euclidean(), centers.xco, stations.xco);\n",
    "dmaty_ct = pairwise(Euclidean(), centers.yco, stations.yco);\n",
    "dmat_ct = sqrt.((dmatx_ct.^2)+(dmaty_ct.^2));"
   ]
  },
  {
   "cell_type": "code",
   "execution_count": 275,
   "id": "e610551a",
   "metadata": {},
   "outputs": [],
   "source": [
    "dmatx_tl = pairwise(Euclidean(), stations.xco, landfills.xco);\n",
    "dmaty_tl = pairwise(Euclidean(), stations.yco, landfills.yco);\n",
    "dmat_tl = sqrt.((dmatx_tl.^2)+(dmaty_tl.^2));"
   ]
  },
  {
   "cell_type": "markdown",
   "id": "aaf64f06",
   "metadata": {},
   "source": [
    "# B.c\n",
    "# Formulation\n",
    "## Sets\n",
    "$i = 1,...,50$ centers \n",
    "\n",
    "$s = 1,...,50$ potential transfer stations \n",
    "\n",
    "$j = 1,...,15$ potential landfills\n",
    "\n",
    "## Parameters \n",
    " $q_i$ amount of waste generated at center $i$\n",
    " \n",
    " $d_{ij}$ (Euclidean) distance between center $i$ and potential landfill $j$\n",
    " \n",
    " $d_{is}$ (Euclidean) distance between center $i$ and transfer station $s$\n",
    " \n",
    " $d_{sj}$ (Euclidean) distance between transfer station $s$ and landfill $j$\n",
    " ## Variables \n",
    "\n",
    " $z_j =1$ if landfill $j$ is built\n",
    " \n",
    " $t_s =1$ if transfer station $s$ is built\n",
    " \n",
    " $x_{ij}$ amount of waste transported from center $i$ to landfill $j$\n",
    " \n",
    " $a_{is}$ amount of waste transported from center $i$ to transfer center $s$\n",
    " \n",
    " $b_{sj}$ amount of compacted waste transported from transfer center $s$ to landfill $j$\n",
    "\n",
    "\n",
    "\n",
    "\n",
    "### $$min_{z,x,ta,b} \\quad \\sum_{i=1}^{50}\\sum_{j=1}^{15}d_{ij}x_{ij} + \\sum_{i=1}^{50}\\sum_{s=1}^{50}d_{is}a_{is} + \\sum_{s=1}^{50}\\sum_{j=1}^{15}d_{sj}b_{sj} + 1000\\sum_{s=1}^{50}t_s$$\n",
    "### $$x_{ij} \\leq 1000000*z_j \\quad \\forall i,j$$  $$ \\sum_{j=1}^{15}z_j \\leq 5 $$ $$ \\sum_{j=1}^{15} x_{ij} + \\sum_{s=1}^{50} a_{is} = q_i  \\quad \\forall i$$ $$ \\sum_{i=1}^{50} a_{is} = \\sum_{j=1}^{15} b_{sj} \\quad \\forall i,s,j$$ $$ b_{sj} \\leq 1000000*z_j \\quad  \\forall s,j$$  $$ \\sum_{i=1}^{50} a_{is} \\leq 2000t_s \\quad  \\forall i,s$$ $$x_{ij}, a_{is}, b_{sj} \\leq 0 $$ $$z_j, t_s \\in \\{0,1\\}  $$\n",
    "\n",
    "\n"
   ]
  },
  {
   "cell_type": "code",
   "execution_count": 276,
   "id": "75f02a94",
   "metadata": {},
   "outputs": [
    {
     "name": "stdout",
     "output_type": "stream",
     "text": [
      "Academic license - for non-commercial use only - expires 2022-08-19\n"
     ]
    }
   ],
   "source": [
    "mod2 = JuMP.Model(JuMP.optimizer_with_attributes(() -> Gurobi.Optimizer(),\"MIPGap\" => 0.0001))\n",
    "\n",
    "set_optimizer_attribute(mod2, \"OutputFlag\", 0) \n",
    "\n",
    "#OLD VARIABLES\n",
    "#if landfill j is built\n",
    "@variable(mod2, z[j=1:15], Bin)\n",
    "#amount of waste transported from center i to landfill j\n",
    "@variable(mod2, x[i=1:50,j=1:15]>=0)\n",
    "\n",
    "#NEW VARIABLES\n",
    "#if transfer station s is built\n",
    "@variable(mod2, t[s=1:50], Bin)\n",
    "#amount of waste transported from center i to trasnfer station s\n",
    "@variable(mod2, a[i=1:50,s=1:50]>=0)\n",
    "#amount of waste transported from center i to trasnfer station s\n",
    "@variable(mod2, b[s=1:50,j=1:15]>=0)\n",
    "\n",
    "#OLD CONSTRAINTS\n",
    "#@constraint(mod2, [i=1:50], sum(x[i,j] for j=1:15)== q[i,1]) modified for reformulation\n",
    "@constraint(mod2, [i=1:50, j=1:15], x[i,j] <= 1000000*z[j])\n",
    "@constraint(mod2, sum(z[j] for j=1:15)<=5)\n",
    "\n",
    "#NEW CONSTRAINTS\n",
    "#ensure that all waste is taken care of\n",
    "@constraint(mod2, [i=1:50], sum(x[i,j] for j=1:15) + sum(a[i,s] for s=1:50) == q[i,1]) \n",
    "#conservation of flow for transfer stations\n",
    "@constraint(mod2, [i=1:50, s=1:50, j=1:15], sum(a[i,s] for i=1:50)==sum(b[s,j] for j=1:15))\n",
    "#transfer station t cannot serve landfill j unless landfill j is built\n",
    "@constraint(mod2, [s=1:50, j=1:15], b[s,j] <= 1000000*z[j])\n",
    "@constraint(mod2, [i=1:50, s=1:50], sum(a[i,s] for i=1:50)<=2000*t[s])\n",
    "\n",
    "\n",
    "\n",
    "@objective(mod2, Min, sum(dmat[i,j]*x[i,j] for i = 1:50, j = 1:15)\n",
    "                +    sum(dmat_ct[i,s]*a[i,s] for i = 1:50, s = 1:50)\n",
    "                +    sum(dmat_tl[s,j]*b[s,j] for s = 1:50, j = 1:15)/2\n",
    "                +    sum(10000*t[s] for s=1:50))\n",
    "\n",
    "optimize!(mod2)"
   ]
  },
  {
   "cell_type": "code",
   "execution_count": 277,
   "id": "1f3a2e24",
   "metadata": {},
   "outputs": [
    {
     "data": {
      "text/plain": [
       "808642.7541913458"
      ]
     },
     "execution_count": 277,
     "metadata": {},
     "output_type": "execute_result"
    }
   ],
   "source": [
    "objective_value(mod2)"
   ]
  },
  {
   "cell_type": "code",
   "execution_count": 279,
   "id": "f202df03",
   "metadata": {},
   "outputs": [],
   "source": [
    "z =  value.(z);"
   ]
  },
  {
   "cell_type": "code",
   "execution_count": 280,
   "id": "155925a5",
   "metadata": {},
   "outputs": [],
   "source": [
    "t = value.(t);"
   ]
  },
  {
   "cell_type": "code",
   "execution_count": 281,
   "id": "822ab62d",
   "metadata": {},
   "outputs": [],
   "source": [
    "built_l_ind2 = [2,3,7,13,14]\n",
    "lf_b2 = landfills[built_l_ind2,:];"
   ]
  },
  {
   "cell_type": "code",
   "execution_count": 282,
   "id": "8b7acf5c",
   "metadata": {},
   "outputs": [],
   "source": [
    "built_t_ind2 = findall(>(.5), t)\n",
    "ts_b2 = stations[built_t_ind2,:];"
   ]
  },
  {
   "cell_type": "code",
   "execution_count": 283,
   "id": "fc6800aa",
   "metadata": {},
   "outputs": [
    {
     "data": {
      "image/svg+xml": [
       "<?xml version=\"1.0\" encoding=\"utf-8\"?>\n",
       "<svg xmlns=\"http://www.w3.org/2000/svg\" xmlns:xlink=\"http://www.w3.org/1999/xlink\" width=\"600\" height=\"400\" viewBox=\"0 0 2400 1600\">\n",
       "<defs>\n",
       "  <clipPath id=\"clip360\">\n",
       "    <rect x=\"0\" y=\"0\" width=\"2400\" height=\"1600\"/>\n",
       "  </clipPath>\n",
       "</defs>\n",
       "<path clip-path=\"url(#clip360)\" d=\"\n",
       "M0 1600 L2400 1600 L2400 0 L0 0  Z\n",
       "  \" fill=\"#ffffff\" fill-rule=\"evenodd\" fill-opacity=\"1\"/>\n",
       "<defs>\n",
       "  <clipPath id=\"clip361\">\n",
       "    <rect x=\"480\" y=\"0\" width=\"1681\" height=\"1600\"/>\n",
       "  </clipPath>\n",
       "</defs>\n",
       "<path clip-path=\"url(#clip360)\" d=\"\n",
       "M756.2 1486.45 L2352.76 1486.45 L2352.76 123.472 L756.2 123.472  Z\n",
       "  \" fill=\"#ffffff\" fill-rule=\"evenodd\" fill-opacity=\"1\"/>\n",
       "<defs>\n",
       "  <clipPath id=\"clip362\">\n",
       "    <rect x=\"756\" y=\"123\" width=\"1598\" height=\"1364\"/>\n",
       "  </clipPath>\n",
       "</defs>\n",
       "<polyline clip-path=\"url(#clip362)\" style=\"stroke:#000000; stroke-linecap:butt; stroke-linejoin:round; stroke-width:2; stroke-opacity:0.1; fill:none\" points=\"\n",
       "  786.303,1486.45 786.303,123.472 \n",
       "  \"/>\n",
       "<polyline clip-path=\"url(#clip362)\" style=\"stroke:#000000; stroke-linecap:butt; stroke-linejoin:round; stroke-width:2; stroke-opacity:0.1; fill:none\" points=\"\n",
       "  1168.61,1486.45 1168.61,123.472 \n",
       "  \"/>\n",
       "<polyline clip-path=\"url(#clip362)\" style=\"stroke:#000000; stroke-linecap:butt; stroke-linejoin:round; stroke-width:2; stroke-opacity:0.1; fill:none\" points=\"\n",
       "  1550.91,1486.45 1550.91,123.472 \n",
       "  \"/>\n",
       "<polyline clip-path=\"url(#clip362)\" style=\"stroke:#000000; stroke-linecap:butt; stroke-linejoin:round; stroke-width:2; stroke-opacity:0.1; fill:none\" points=\"\n",
       "  1933.22,1486.45 1933.22,123.472 \n",
       "  \"/>\n",
       "<polyline clip-path=\"url(#clip362)\" style=\"stroke:#000000; stroke-linecap:butt; stroke-linejoin:round; stroke-width:2; stroke-opacity:0.1; fill:none\" points=\"\n",
       "  2315.52,1486.45 2315.52,123.472 \n",
       "  \"/>\n",
       "<polyline clip-path=\"url(#clip360)\" style=\"stroke:#000000; stroke-linecap:butt; stroke-linejoin:round; stroke-width:4; stroke-opacity:1; fill:none\" points=\"\n",
       "  756.2,1486.45 2352.76,1486.45 \n",
       "  \"/>\n",
       "<polyline clip-path=\"url(#clip360)\" style=\"stroke:#000000; stroke-linecap:butt; stroke-linejoin:round; stroke-width:4; stroke-opacity:1; fill:none\" points=\"\n",
       "  786.303,1486.45 786.303,1467.55 \n",
       "  \"/>\n",
       "<polyline clip-path=\"url(#clip360)\" style=\"stroke:#000000; stroke-linecap:butt; stroke-linejoin:round; stroke-width:4; stroke-opacity:1; fill:none\" points=\"\n",
       "  1168.61,1486.45 1168.61,1467.55 \n",
       "  \"/>\n",
       "<polyline clip-path=\"url(#clip360)\" style=\"stroke:#000000; stroke-linecap:butt; stroke-linejoin:round; stroke-width:4; stroke-opacity:1; fill:none\" points=\"\n",
       "  1550.91,1486.45 1550.91,1467.55 \n",
       "  \"/>\n",
       "<polyline clip-path=\"url(#clip360)\" style=\"stroke:#000000; stroke-linecap:butt; stroke-linejoin:round; stroke-width:4; stroke-opacity:1; fill:none\" points=\"\n",
       "  1933.22,1486.45 1933.22,1467.55 \n",
       "  \"/>\n",
       "<polyline clip-path=\"url(#clip360)\" style=\"stroke:#000000; stroke-linecap:butt; stroke-linejoin:round; stroke-width:4; stroke-opacity:1; fill:none\" points=\"\n",
       "  2315.52,1486.45 2315.52,1467.55 \n",
       "  \"/>\n",
       "<path clip-path=\"url(#clip360)\" d=\"M786.303 1517.37 Q782.692 1517.37 780.863 1520.93 Q779.058 1524.47 779.058 1531.6 Q779.058 1538.71 780.863 1542.27 Q782.692 1545.82 786.303 1545.82 Q789.937 1545.82 791.743 1542.27 Q793.572 1538.71 793.572 1531.6 Q793.572 1524.47 791.743 1520.93 Q789.937 1517.37 786.303 1517.37 M786.303 1513.66 Q792.113 1513.66 795.169 1518.27 Q798.247 1522.85 798.247 1531.6 Q798.247 1540.33 795.169 1544.94 Q792.113 1549.52 786.303 1549.52 Q780.493 1549.52 777.414 1544.94 Q774.359 1540.33 774.359 1531.6 Q774.359 1522.85 777.414 1518.27 Q780.493 1513.66 786.303 1513.66 Z\" fill=\"#000000\" fill-rule=\"evenodd\" fill-opacity=\"1\" /><path clip-path=\"url(#clip360)\" d=\"M1147.88 1544.91 L1164.2 1544.91 L1164.2 1548.85 L1142.25 1548.85 L1142.25 1544.91 Q1144.92 1542.16 1149.5 1537.53 Q1154.11 1532.88 1155.29 1531.53 Q1157.53 1529.01 1158.41 1527.27 Q1159.31 1525.51 1159.31 1523.82 Q1159.31 1521.07 1157.37 1519.33 Q1155.45 1517.6 1152.35 1517.6 Q1150.15 1517.6 1147.69 1518.36 Q1145.26 1519.13 1142.49 1520.68 L1142.49 1515.95 Q1145.31 1514.82 1147.76 1514.24 Q1150.22 1513.66 1152.25 1513.66 Q1157.62 1513.66 1160.82 1516.35 Q1164.01 1519.03 1164.01 1523.52 Q1164.01 1525.65 1163.2 1527.57 Q1162.42 1529.47 1160.31 1532.07 Q1159.73 1532.74 1156.63 1535.95 Q1153.53 1539.15 1147.88 1544.91 Z\" fill=\"#000000\" fill-rule=\"evenodd\" fill-opacity=\"1\" /><path clip-path=\"url(#clip360)\" d=\"M1174.06 1514.29 L1192.42 1514.29 L1192.42 1518.22 L1178.34 1518.22 L1178.34 1526.7 Q1179.36 1526.35 1180.38 1526.19 Q1181.4 1526 1182.42 1526 Q1188.2 1526 1191.58 1529.17 Q1194.96 1532.34 1194.96 1537.76 Q1194.96 1543.34 1191.49 1546.44 Q1188.02 1549.52 1181.7 1549.52 Q1179.52 1549.52 1177.25 1549.15 Q1175.01 1548.78 1172.6 1548.04 L1172.6 1543.34 Q1174.68 1544.47 1176.91 1545.03 Q1179.13 1545.58 1181.61 1545.58 Q1185.61 1545.58 1187.95 1543.48 Q1190.29 1541.37 1190.29 1537.76 Q1190.29 1534.15 1187.95 1532.04 Q1185.61 1529.94 1181.61 1529.94 Q1179.73 1529.94 1177.86 1530.35 Q1176 1530.77 1174.06 1531.65 L1174.06 1514.29 Z\" fill=\"#000000\" fill-rule=\"evenodd\" fill-opacity=\"1\" /><path clip-path=\"url(#clip360)\" d=\"M1525.61 1514.29 L1543.97 1514.29 L1543.97 1518.22 L1529.89 1518.22 L1529.89 1526.7 Q1530.91 1526.35 1531.93 1526.19 Q1532.95 1526 1533.97 1526 Q1539.76 1526 1543.13 1529.17 Q1546.51 1532.34 1546.51 1537.76 Q1546.51 1543.34 1543.04 1546.44 Q1539.57 1549.52 1533.25 1549.52 Q1531.07 1549.52 1528.81 1549.15 Q1526.56 1548.78 1524.15 1548.04 L1524.15 1543.34 Q1526.24 1544.47 1528.46 1545.03 Q1530.68 1545.58 1533.16 1545.58 Q1537.16 1545.58 1539.5 1543.48 Q1541.84 1541.37 1541.84 1537.76 Q1541.84 1534.15 1539.5 1532.04 Q1537.16 1529.94 1533.16 1529.94 Q1531.28 1529.94 1529.41 1530.35 Q1527.56 1530.77 1525.61 1531.65 L1525.61 1514.29 Z\" fill=\"#000000\" fill-rule=\"evenodd\" fill-opacity=\"1\" /><path clip-path=\"url(#clip360)\" d=\"M1565.73 1517.37 Q1562.12 1517.37 1560.29 1520.93 Q1558.48 1524.47 1558.48 1531.6 Q1558.48 1538.71 1560.29 1542.27 Q1562.12 1545.82 1565.73 1545.82 Q1569.36 1545.82 1571.17 1542.27 Q1573 1538.71 1573 1531.6 Q1573 1524.47 1571.17 1520.93 Q1569.36 1517.37 1565.73 1517.37 M1565.73 1513.66 Q1571.54 1513.66 1574.59 1518.27 Q1577.67 1522.85 1577.67 1531.6 Q1577.67 1540.33 1574.59 1544.94 Q1571.54 1549.52 1565.73 1549.52 Q1559.92 1549.52 1556.84 1544.94 Q1553.78 1540.33 1553.78 1531.6 Q1553.78 1522.85 1556.84 1518.27 Q1559.92 1513.66 1565.73 1513.66 Z\" fill=\"#000000\" fill-rule=\"evenodd\" fill-opacity=\"1\" /><path clip-path=\"url(#clip360)\" d=\"M1907.07 1514.29 L1929.29 1514.29 L1929.29 1516.28 L1916.75 1548.85 L1911.86 1548.85 L1923.67 1518.22 L1907.07 1518.22 L1907.07 1514.29 Z\" fill=\"#000000\" fill-rule=\"evenodd\" fill-opacity=\"1\" /><path clip-path=\"url(#clip360)\" d=\"M1938.46 1514.29 L1956.82 1514.29 L1956.82 1518.22 L1942.74 1518.22 L1942.74 1526.7 Q1943.76 1526.35 1944.78 1526.19 Q1945.8 1526 1946.82 1526 Q1952.6 1526 1955.98 1529.17 Q1959.36 1532.34 1959.36 1537.76 Q1959.36 1543.34 1955.89 1546.44 Q1952.42 1549.52 1946.1 1549.52 Q1943.92 1549.52 1941.65 1549.15 Q1939.41 1548.78 1937 1548.04 L1937 1543.34 Q1939.09 1544.47 1941.31 1545.03 Q1943.53 1545.58 1946.01 1545.58 Q1950.01 1545.58 1952.35 1543.48 Q1954.69 1541.37 1954.69 1537.76 Q1954.69 1534.15 1952.35 1532.04 Q1950.01 1529.94 1946.01 1529.94 Q1944.13 1529.94 1942.26 1530.35 Q1940.4 1530.77 1938.46 1531.65 L1938.46 1514.29 Z\" fill=\"#000000\" fill-rule=\"evenodd\" fill-opacity=\"1\" /><path clip-path=\"url(#clip360)\" d=\"M2275.13 1544.91 L2282.77 1544.91 L2282.77 1518.55 L2274.46 1520.21 L2274.46 1515.95 L2282.72 1514.29 L2287.4 1514.29 L2287.4 1544.91 L2295.04 1544.91 L2295.04 1548.85 L2275.13 1548.85 L2275.13 1544.91 Z\" fill=\"#000000\" fill-rule=\"evenodd\" fill-opacity=\"1\" /><path clip-path=\"url(#clip360)\" d=\"M2314.48 1517.37 Q2310.87 1517.37 2309.04 1520.93 Q2307.24 1524.47 2307.24 1531.6 Q2307.24 1538.71 2309.04 1542.27 Q2310.87 1545.82 2314.48 1545.82 Q2318.11 1545.82 2319.92 1542.27 Q2321.75 1538.71 2321.75 1531.6 Q2321.75 1524.47 2319.92 1520.93 Q2318.11 1517.37 2314.48 1517.37 M2314.48 1513.66 Q2320.29 1513.66 2323.35 1518.27 Q2326.43 1522.85 2326.43 1531.6 Q2326.43 1540.33 2323.35 1544.94 Q2320.29 1549.52 2314.48 1549.52 Q2308.67 1549.52 2305.59 1544.94 Q2302.54 1540.33 2302.54 1531.6 Q2302.54 1522.85 2305.59 1518.27 Q2308.67 1513.66 2314.48 1513.66 Z\" fill=\"#000000\" fill-rule=\"evenodd\" fill-opacity=\"1\" /><path clip-path=\"url(#clip360)\" d=\"M2344.64 1517.37 Q2341.03 1517.37 2339.2 1520.93 Q2337.4 1524.47 2337.4 1531.6 Q2337.4 1538.71 2339.2 1542.27 Q2341.03 1545.82 2344.64 1545.82 Q2348.28 1545.82 2350.08 1542.27 Q2351.91 1538.71 2351.91 1531.6 Q2351.91 1524.47 2350.08 1520.93 Q2348.28 1517.37 2344.64 1517.37 M2344.64 1513.66 Q2350.45 1513.66 2353.51 1518.27 Q2356.59 1522.85 2356.59 1531.6 Q2356.59 1540.33 2353.51 1544.94 Q2350.45 1549.52 2344.64 1549.52 Q2338.83 1549.52 2335.75 1544.94 Q2332.7 1540.33 2332.7 1531.6 Q2332.7 1522.85 2335.75 1518.27 Q2338.83 1513.66 2344.64 1513.66 Z\" fill=\"#000000\" fill-rule=\"evenodd\" fill-opacity=\"1\" /><polyline clip-path=\"url(#clip362)\" style=\"stroke:#000000; stroke-linecap:butt; stroke-linejoin:round; stroke-width:2; stroke-opacity:0.1; fill:none\" points=\"\n",
       "  756.2,1244.09 2352.76,1244.09 \n",
       "  \"/>\n",
       "<polyline clip-path=\"url(#clip362)\" style=\"stroke:#000000; stroke-linecap:butt; stroke-linejoin:round; stroke-width:2; stroke-opacity:0.1; fill:none\" points=\"\n",
       "  756.2,972.977 2352.76,972.977 \n",
       "  \"/>\n",
       "<polyline clip-path=\"url(#clip362)\" style=\"stroke:#000000; stroke-linecap:butt; stroke-linejoin:round; stroke-width:2; stroke-opacity:0.1; fill:none\" points=\"\n",
       "  756.2,701.863 2352.76,701.863 \n",
       "  \"/>\n",
       "<polyline clip-path=\"url(#clip362)\" style=\"stroke:#000000; stroke-linecap:butt; stroke-linejoin:round; stroke-width:2; stroke-opacity:0.1; fill:none\" points=\"\n",
       "  756.2,430.748 2352.76,430.748 \n",
       "  \"/>\n",
       "<polyline clip-path=\"url(#clip362)\" style=\"stroke:#000000; stroke-linecap:butt; stroke-linejoin:round; stroke-width:2; stroke-opacity:0.1; fill:none\" points=\"\n",
       "  756.2,159.634 2352.76,159.634 \n",
       "  \"/>\n",
       "<polyline clip-path=\"url(#clip360)\" style=\"stroke:#000000; stroke-linecap:butt; stroke-linejoin:round; stroke-width:4; stroke-opacity:1; fill:none\" points=\"\n",
       "  756.2,1486.45 756.2,123.472 \n",
       "  \"/>\n",
       "<polyline clip-path=\"url(#clip360)\" style=\"stroke:#000000; stroke-linecap:butt; stroke-linejoin:round; stroke-width:4; stroke-opacity:1; fill:none\" points=\"\n",
       "  756.2,1244.09 770.017,1244.09 \n",
       "  \"/>\n",
       "<polyline clip-path=\"url(#clip360)\" style=\"stroke:#000000; stroke-linecap:butt; stroke-linejoin:round; stroke-width:4; stroke-opacity:1; fill:none\" points=\"\n",
       "  756.2,972.977 770.017,972.977 \n",
       "  \"/>\n",
       "<polyline clip-path=\"url(#clip360)\" style=\"stroke:#000000; stroke-linecap:butt; stroke-linejoin:round; stroke-width:4; stroke-opacity:1; fill:none\" points=\"\n",
       "  756.2,701.863 770.017,701.863 \n",
       "  \"/>\n",
       "<polyline clip-path=\"url(#clip360)\" style=\"stroke:#000000; stroke-linecap:butt; stroke-linejoin:round; stroke-width:4; stroke-opacity:1; fill:none\" points=\"\n",
       "  756.2,430.748 770.017,430.748 \n",
       "  \"/>\n",
       "<polyline clip-path=\"url(#clip360)\" style=\"stroke:#000000; stroke-linecap:butt; stroke-linejoin:round; stroke-width:4; stroke-opacity:1; fill:none\" points=\"\n",
       "  756.2,159.634 770.017,159.634 \n",
       "  \"/>\n",
       "<path clip-path=\"url(#clip360)\" d=\"M672.122 1257.44 L688.441 1257.44 L688.441 1261.37 L666.497 1261.37 L666.497 1257.44 Q669.159 1254.68 673.742 1250.05 Q678.349 1245.4 679.529 1244.06 Q681.775 1241.53 682.654 1239.8 Q683.557 1238.04 683.557 1236.35 Q683.557 1233.59 681.613 1231.86 Q679.691 1230.12 676.59 1230.12 Q674.39 1230.12 671.937 1230.89 Q669.506 1231.65 666.728 1233.2 L666.728 1228.48 Q669.553 1227.34 672.006 1226.77 Q674.46 1226.19 676.497 1226.19 Q681.867 1226.19 685.062 1228.87 Q688.256 1231.56 688.256 1236.05 Q688.256 1238.18 687.446 1240.1 Q686.659 1242 684.552 1244.59 Q683.974 1245.26 680.872 1248.48 Q677.77 1251.67 672.122 1257.44 Z\" fill=\"#000000\" fill-rule=\"evenodd\" fill-opacity=\"1\" /><path clip-path=\"url(#clip360)\" d=\"M708.256 1229.89 Q704.645 1229.89 702.816 1233.45 Q701.011 1237 701.011 1244.13 Q701.011 1251.23 702.816 1254.8 Q704.645 1258.34 708.256 1258.34 Q711.89 1258.34 713.696 1254.8 Q715.525 1251.23 715.525 1244.13 Q715.525 1237 713.696 1233.45 Q711.89 1229.89 708.256 1229.89 M708.256 1226.19 Q714.066 1226.19 717.122 1230.79 Q720.2 1235.38 720.2 1244.13 Q720.2 1252.85 717.122 1257.46 Q714.066 1262.04 708.256 1262.04 Q702.446 1262.04 699.367 1257.46 Q696.312 1252.85 696.312 1244.13 Q696.312 1235.38 699.367 1230.79 Q702.446 1226.19 708.256 1226.19 Z\" fill=\"#000000\" fill-rule=\"evenodd\" fill-opacity=\"1\" /><path clip-path=\"url(#clip360)\" d=\"M680.941 959.771 L669.136 978.22 L680.941 978.22 L680.941 959.771 M679.715 955.697 L685.594 955.697 L685.594 978.22 L690.525 978.22 L690.525 982.109 L685.594 982.109 L685.594 990.257 L680.941 990.257 L680.941 982.109 L665.34 982.109 L665.34 977.595 L679.715 955.697 Z\" fill=\"#000000\" fill-rule=\"evenodd\" fill-opacity=\"1\" /><path clip-path=\"url(#clip360)\" d=\"M708.256 958.776 Q704.645 958.776 702.816 962.34 Q701.011 965.882 701.011 973.012 Q701.011 980.118 702.816 983.683 Q704.645 987.225 708.256 987.225 Q711.89 987.225 713.696 983.683 Q715.525 980.118 715.525 973.012 Q715.525 965.882 713.696 962.34 Q711.89 958.776 708.256 958.776 M708.256 955.072 Q714.066 955.072 717.122 959.678 Q720.2 964.262 720.2 973.012 Q720.2 981.739 717.122 986.345 Q714.066 990.928 708.256 990.928 Q702.446 990.928 699.367 986.345 Q696.312 981.739 696.312 973.012 Q696.312 964.262 699.367 959.678 Q702.446 955.072 708.256 955.072 Z\" fill=\"#000000\" fill-rule=\"evenodd\" fill-opacity=\"1\" /><path clip-path=\"url(#clip360)\" d=\"M678.673 699.999 Q675.525 699.999 673.673 702.152 Q671.844 704.305 671.844 708.055 Q671.844 711.782 673.673 713.958 Q675.525 716.11 678.673 716.11 Q681.821 716.11 683.65 713.958 Q685.502 711.782 685.502 708.055 Q685.502 704.305 683.65 702.152 Q681.821 699.999 678.673 699.999 M687.955 685.347 L687.955 689.606 Q686.196 688.772 684.39 688.333 Q682.608 687.893 680.849 687.893 Q676.219 687.893 673.765 691.018 Q671.335 694.143 670.988 700.462 Q672.353 698.448 674.414 697.384 Q676.474 696.296 678.951 696.296 Q684.159 696.296 687.168 699.467 Q690.201 702.615 690.201 708.055 Q690.201 713.379 687.052 716.596 Q683.904 719.814 678.673 719.814 Q672.678 719.814 669.506 715.231 Q666.335 710.624 666.335 701.897 Q666.335 693.703 670.224 688.842 Q674.113 683.958 680.664 683.958 Q682.423 683.958 684.205 684.305 Q686.011 684.652 687.955 685.347 Z\" fill=\"#000000\" fill-rule=\"evenodd\" fill-opacity=\"1\" /><path clip-path=\"url(#clip360)\" d=\"M708.256 687.661 Q704.645 687.661 702.816 691.226 Q701.011 694.768 701.011 701.897 Q701.011 709.004 702.816 712.569 Q704.645 716.11 708.256 716.11 Q711.89 716.11 713.696 712.569 Q715.525 709.004 715.525 701.897 Q715.525 694.768 713.696 691.226 Q711.89 687.661 708.256 687.661 M708.256 683.958 Q714.066 683.958 717.122 688.564 Q720.2 693.147 720.2 701.897 Q720.2 710.624 717.122 715.231 Q714.066 719.814 708.256 719.814 Q702.446 719.814 699.367 715.231 Q696.312 710.624 696.312 701.897 Q696.312 693.147 699.367 688.564 Q702.446 683.958 708.256 683.958 Z\" fill=\"#000000\" fill-rule=\"evenodd\" fill-opacity=\"1\" /><path clip-path=\"url(#clip360)\" d=\"M678.094 431.616 Q674.761 431.616 672.84 433.399 Q670.941 435.181 670.941 438.306 Q670.941 441.431 672.84 443.214 Q674.761 444.996 678.094 444.996 Q681.427 444.996 683.349 443.214 Q685.27 441.408 685.27 438.306 Q685.27 435.181 683.349 433.399 Q681.451 431.616 678.094 431.616 M673.418 429.626 Q670.409 428.885 668.719 426.825 Q667.053 424.765 667.053 421.802 Q667.053 417.658 669.992 415.251 Q672.955 412.843 678.094 412.843 Q683.256 412.843 686.196 415.251 Q689.136 417.658 689.136 421.802 Q689.136 424.765 687.446 426.825 Q685.779 428.885 682.793 429.626 Q686.173 430.413 688.048 432.704 Q689.946 434.996 689.946 438.306 Q689.946 443.329 686.867 446.014 Q683.812 448.7 678.094 448.7 Q672.377 448.7 669.298 446.014 Q666.242 443.329 666.242 438.306 Q666.242 434.996 668.141 432.704 Q670.039 430.413 673.418 429.626 M671.705 422.241 Q671.705 424.927 673.372 426.431 Q675.062 427.936 678.094 427.936 Q681.103 427.936 682.793 426.431 Q684.506 424.927 684.506 422.241 Q684.506 419.556 682.793 418.052 Q681.103 416.547 678.094 416.547 Q675.062 416.547 673.372 418.052 Q671.705 419.556 671.705 422.241 Z\" fill=\"#000000\" fill-rule=\"evenodd\" fill-opacity=\"1\" /><path clip-path=\"url(#clip360)\" d=\"M708.256 416.547 Q704.645 416.547 702.816 420.112 Q701.011 423.653 701.011 430.783 Q701.011 437.889 702.816 441.454 Q704.645 444.996 708.256 444.996 Q711.89 444.996 713.696 441.454 Q715.525 437.889 715.525 430.783 Q715.525 423.653 713.696 420.112 Q711.89 416.547 708.256 416.547 M708.256 412.843 Q714.066 412.843 717.122 417.45 Q720.2 422.033 720.2 430.783 Q720.2 439.51 717.122 444.116 Q714.066 448.7 708.256 448.7 Q702.446 448.7 699.367 444.116 Q696.312 439.51 696.312 430.783 Q696.312 422.033 699.367 417.45 Q702.446 412.843 708.256 412.843 Z\" fill=\"#000000\" fill-rule=\"evenodd\" fill-opacity=\"1\" /><path clip-path=\"url(#clip360)\" d=\"M638.743 172.979 L646.381 172.979 L646.381 146.613 L638.071 148.28 L638.071 144.021 L646.335 142.354 L651.011 142.354 L651.011 172.979 L658.65 172.979 L658.65 176.914 L638.743 176.914 L638.743 172.979 Z\" fill=\"#000000\" fill-rule=\"evenodd\" fill-opacity=\"1\" /><path clip-path=\"url(#clip360)\" d=\"M678.094 145.433 Q674.483 145.433 672.654 148.997 Q670.849 152.539 670.849 159.669 Q670.849 166.775 672.654 170.34 Q674.483 173.882 678.094 173.882 Q681.728 173.882 683.534 170.34 Q685.363 166.775 685.363 159.669 Q685.363 152.539 683.534 148.997 Q681.728 145.433 678.094 145.433 M678.094 141.729 Q683.904 141.729 686.96 146.335 Q690.039 150.919 690.039 159.669 Q690.039 168.396 686.96 173.002 Q683.904 177.585 678.094 177.585 Q672.284 177.585 669.205 173.002 Q666.15 168.396 666.15 159.669 Q666.15 150.919 669.205 146.335 Q672.284 141.729 678.094 141.729 Z\" fill=\"#000000\" fill-rule=\"evenodd\" fill-opacity=\"1\" /><path clip-path=\"url(#clip360)\" d=\"M708.256 145.433 Q704.645 145.433 702.816 148.997 Q701.011 152.539 701.011 159.669 Q701.011 166.775 702.816 170.34 Q704.645 173.882 708.256 173.882 Q711.89 173.882 713.696 170.34 Q715.525 166.775 715.525 159.669 Q715.525 152.539 713.696 148.997 Q711.89 145.433 708.256 145.433 M708.256 141.729 Q714.066 141.729 717.122 146.335 Q720.2 150.919 720.2 159.669 Q720.2 168.396 717.122 173.002 Q714.066 177.585 708.256 177.585 Q702.446 177.585 699.367 173.002 Q696.312 168.396 696.312 159.669 Q696.312 150.919 699.367 146.335 Q702.446 141.729 708.256 141.729 Z\" fill=\"#000000\" fill-rule=\"evenodd\" fill-opacity=\"1\" /><path clip-path=\"url(#clip360)\" d=\"M872.569 12.096 L880.752 12.096 L880.752 65.6895 L910.202 65.6895 L910.202 72.576 L872.569 72.576 L872.569 12.096 Z\" fill=\"#000000\" fill-rule=\"evenodd\" fill-opacity=\"1\" /><path clip-path=\"url(#clip360)\" d=\"M939.085 49.7694 Q930.052 49.7694 926.568 51.8354 Q923.084 53.9013 923.084 58.8839 Q923.084 62.8538 925.677 65.2034 Q928.31 67.5124 932.806 67.5124 Q939.004 67.5124 942.731 63.1374 Q946.498 58.7219 946.498 51.4303 L946.498 49.7694 L939.085 49.7694 M953.952 46.6907 L953.952 72.576 L946.498 72.576 L946.498 65.6895 Q943.946 69.8214 940.138 71.8063 Q936.33 73.7508 930.821 73.7508 Q923.854 73.7508 919.722 69.8619 Q915.63 65.9325 915.63 59.3701 Q915.63 51.7138 920.734 47.825 Q925.879 43.9361 936.047 43.9361 L946.498 43.9361 L946.498 43.2069 Q946.498 38.0623 943.095 35.2672 Q939.733 32.4315 933.616 32.4315 Q929.727 32.4315 926.041 33.3632 Q922.355 34.295 918.952 36.1584 L918.952 29.2718 Q923.043 27.692 926.892 26.9223 Q930.74 26.1121 934.386 26.1121 Q944.23 26.1121 949.091 31.2163 Q953.952 36.3204 953.952 46.6907 Z\" fill=\"#000000\" fill-rule=\"evenodd\" fill-opacity=\"1\" /><path clip-path=\"url(#clip360)\" d=\"M1007.02 45.1919 L1007.02 72.576 L999.565 72.576 L999.565 45.4349 Q999.565 38.994 997.053 35.7938 Q994.542 32.5936 989.519 32.5936 Q983.483 32.5936 979.999 36.4419 Q976.515 40.2903 976.515 46.9338 L976.515 72.576 L969.021 72.576 L969.021 27.2059 L976.515 27.2059 L976.515 34.2544 Q979.189 30.163 982.794 28.1376 Q986.44 26.1121 991.18 26.1121 Q998.998 26.1121 1003.01 30.9732 Q1007.02 35.7938 1007.02 45.1919 Z\" fill=\"#000000\" fill-rule=\"evenodd\" fill-opacity=\"1\" /><path clip-path=\"url(#clip360)\" d=\"M1051.74 34.0924 L1051.74 9.54393 L1059.19 9.54393 L1059.19 72.576 L1051.74 72.576 L1051.74 65.7705 Q1049.39 69.8214 1045.79 71.8063 Q1042.22 73.7508 1037.2 73.7508 Q1028.97 73.7508 1023.79 67.1883 Q1018.64 60.6258 1018.64 49.9314 Q1018.64 39.2371 1023.79 32.6746 Q1028.97 26.1121 1037.2 26.1121 Q1042.22 26.1121 1045.79 28.0971 Q1049.39 30.0415 1051.74 34.0924 M1026.34 49.9314 Q1026.34 58.1548 1029.7 62.8538 Q1033.11 67.5124 1039.02 67.5124 Q1044.94 67.5124 1048.34 62.8538 Q1051.74 58.1548 1051.74 49.9314 Q1051.74 41.7081 1048.34 37.0496 Q1044.94 32.3505 1039.02 32.3505 Q1033.11 32.3505 1029.7 37.0496 Q1026.34 41.7081 1026.34 49.9314 Z\" fill=\"#000000\" fill-rule=\"evenodd\" fill-opacity=\"1\" /><path clip-path=\"url(#clip360)\" d=\"M1097.52 9.54393 L1097.52 15.7418 L1090.39 15.7418 Q1086.38 15.7418 1084.8 17.3622 Q1083.26 18.9825 1083.26 23.1955 L1083.26 27.2059 L1095.53 27.2059 L1095.53 32.9987 L1083.26 32.9987 L1083.26 72.576 L1075.76 72.576 L1075.76 32.9987 L1068.63 32.9987 L1068.63 27.2059 L1075.76 27.2059 L1075.76 24.0462 Q1075.76 16.471 1079.29 13.0277 Q1082.81 9.54393 1090.47 9.54393 L1097.52 9.54393 Z\" fill=\"#000000\" fill-rule=\"evenodd\" fill-opacity=\"1\" /><path clip-path=\"url(#clip360)\" d=\"M1103.75 27.2059 L1111.21 27.2059 L1111.21 72.576 L1103.75 72.576 L1103.75 27.2059 M1103.75 9.54393 L1111.21 9.54393 L1111.21 18.9825 L1103.75 18.9825 L1103.75 9.54393 Z\" fill=\"#000000\" fill-rule=\"evenodd\" fill-opacity=\"1\" /><path clip-path=\"url(#clip360)\" d=\"M1126.8 9.54393 L1134.26 9.54393 L1134.26 72.576 L1126.8 72.576 L1126.8 9.54393 Z\" fill=\"#000000\" fill-rule=\"evenodd\" fill-opacity=\"1\" /><path clip-path=\"url(#clip360)\" d=\"M1149.85 9.54393 L1157.31 9.54393 L1157.31 72.576 L1149.85 72.576 L1149.85 9.54393 Z\" fill=\"#000000\" fill-rule=\"evenodd\" fill-opacity=\"1\" /><path clip-path=\"url(#clip360)\" d=\"M1201.83 28.5427 L1201.83 35.5912 Q1198.67 33.9709 1195.26 33.1607 Q1191.86 32.3505 1188.22 32.3505 Q1182.67 32.3505 1179.87 34.0519 Q1177.12 35.7533 1177.12 39.156 Q1177.12 41.7486 1179.1 43.2475 Q1181.09 44.7058 1187.08 46.0426 L1189.63 46.6097 Q1197.57 48.3111 1200.89 51.4303 Q1204.26 54.509 1204.26 60.0587 Q1204.26 66.3781 1199.23 70.0644 Q1194.25 73.7508 1185.5 73.7508 Q1181.86 73.7508 1177.89 73.0216 Q1173.96 72.3329 1169.58 70.9151 L1169.58 63.2184 Q1173.71 65.3654 1177.72 66.4591 Q1181.73 67.5124 1185.66 67.5124 Q1190.93 67.5124 1193.77 65.73 Q1196.6 63.9071 1196.6 60.6258 Q1196.6 57.5877 1194.54 55.9673 Q1192.51 54.3469 1185.58 52.8481 L1182.99 52.2405 Q1176.06 50.7821 1172.98 47.7845 Q1169.91 44.7463 1169.91 39.4801 Q1169.91 33.0797 1174.44 29.5959 Q1178.98 26.1121 1187.32 26.1121 Q1191.46 26.1121 1195.1 26.7198 Q1198.75 27.3274 1201.83 28.5427 Z\" fill=\"#000000\" fill-rule=\"evenodd\" fill-opacity=\"1\" /><path clip-path=\"url(#clip360)\" d=\"M1254.85 40.0472 Q1251.17 43.3285 1249.42 46.6097 Q1247.72 49.8504 1247.72 53.4152 Q1247.72 59.3295 1252.02 63.2589 Q1256.31 67.1883 1262.79 67.1883 Q1266.64 67.1883 1270 65.9325 Q1273.37 64.6362 1276.32 62.0436 L1254.85 40.0472 M1260.56 35.5102 L1281.14 56.5749 Q1283.53 52.9696 1284.87 48.8782 Q1286.21 44.7463 1286.45 40.1283 L1293.98 40.1283 Q1293.5 45.4755 1291.39 50.7011 Q1289.29 55.9268 1285.52 61.0309 L1296.82 72.576 L1286.61 72.576 L1280.82 66.6212 Q1276.61 70.2265 1271.99 72.0089 Q1267.37 73.7508 1262.06 73.7508 Q1252.3 73.7508 1246.1 68.201 Q1239.91 62.6108 1239.91 53.9013 Q1239.91 48.7162 1242.62 44.1792 Q1245.33 39.6016 1250.76 35.5912 Q1248.82 33.0392 1247.8 30.5276 Q1246.79 27.9755 1246.79 25.545 Q1246.79 18.9825 1251.29 15.0127 Q1255.78 11.0023 1263.24 11.0023 Q1266.6 11.0023 1269.92 11.7314 Q1273.28 12.4606 1276.73 13.9189 L1276.73 21.2916 Q1273.2 19.3876 1270 18.4154 Q1266.8 17.4027 1264.05 17.4027 Q1259.8 17.4027 1257.12 19.6712 Q1254.49 21.8992 1254.49 25.464 Q1254.49 27.5299 1255.66 29.6364 Q1256.88 31.7024 1260.56 35.5102 Z\" fill=\"#000000\" fill-rule=\"evenodd\" fill-opacity=\"1\" /><path clip-path=\"url(#clip360)\" d=\"M1325.5 12.096 L1376.66 12.096 L1376.66 18.9825 L1355.19 18.9825 L1355.19 72.576 L1346.97 72.576 L1346.97 18.9825 L1325.5 18.9825 L1325.5 12.096 Z\" fill=\"#000000\" fill-rule=\"evenodd\" fill-opacity=\"1\" /><path clip-path=\"url(#clip360)\" d=\"M1398.34 34.1734 Q1397.08 33.4443 1395.58 33.1202 Q1394.12 32.7556 1392.34 32.7556 Q1386.02 32.7556 1382.62 36.8875 Q1379.26 40.9789 1379.26 48.6757 L1379.26 72.576 L1371.76 72.576 L1371.76 27.2059 L1379.26 27.2059 L1379.26 34.2544 Q1381.61 30.1225 1385.37 28.1376 Q1389.14 26.1121 1394.53 26.1121 Q1395.3 26.1121 1396.23 26.2337 Q1397.16 26.3147 1398.3 26.5172 L1398.34 34.1734 Z\" fill=\"#000000\" fill-rule=\"evenodd\" fill-opacity=\"1\" /><path clip-path=\"url(#clip360)\" d=\"M1426.77 49.7694 Q1417.74 49.7694 1414.26 51.8354 Q1410.77 53.9013 1410.77 58.8839 Q1410.77 62.8538 1413.36 65.2034 Q1416 67.5124 1420.49 67.5124 Q1426.69 67.5124 1430.42 63.1374 Q1434.19 58.7219 1434.19 51.4303 L1434.19 49.7694 L1426.77 49.7694 M1441.64 46.6907 L1441.64 72.576 L1434.19 72.576 L1434.19 65.6895 Q1431.63 69.8214 1427.83 71.8063 Q1424.02 73.7508 1418.51 73.7508 Q1411.54 73.7508 1407.41 69.8619 Q1403.32 65.9325 1403.32 59.3701 Q1403.32 51.7138 1408.42 47.825 Q1413.57 43.9361 1423.74 43.9361 L1434.19 43.9361 L1434.19 43.2069 Q1434.19 38.0623 1430.78 35.2672 Q1427.42 32.4315 1421.3 32.4315 Q1417.42 32.4315 1413.73 33.3632 Q1410.04 34.295 1406.64 36.1584 L1406.64 29.2718 Q1410.73 27.692 1414.58 26.9223 Q1418.43 26.1121 1422.07 26.1121 Q1431.92 26.1121 1436.78 31.2163 Q1441.64 36.3204 1441.64 46.6907 Z\" fill=\"#000000\" fill-rule=\"evenodd\" fill-opacity=\"1\" /><path clip-path=\"url(#clip360)\" d=\"M1494.71 45.1919 L1494.71 72.576 L1487.25 72.576 L1487.25 45.4349 Q1487.25 38.994 1484.74 35.7938 Q1482.23 32.5936 1477.21 32.5936 Q1471.17 32.5936 1467.69 36.4419 Q1464.2 40.2903 1464.2 46.9338 L1464.2 72.576 L1456.71 72.576 L1456.71 27.2059 L1464.2 27.2059 L1464.2 34.2544 Q1466.88 30.163 1470.48 28.1376 Q1474.13 26.1121 1478.87 26.1121 Q1486.69 26.1121 1490.7 30.9732 Q1494.71 35.7938 1494.71 45.1919 Z\" fill=\"#000000\" fill-rule=\"evenodd\" fill-opacity=\"1\" /><path clip-path=\"url(#clip360)\" d=\"M1538.5 28.5427 L1538.5 35.5912 Q1535.34 33.9709 1531.93 33.1607 Q1528.53 32.3505 1524.89 32.3505 Q1519.34 32.3505 1516.54 34.0519 Q1513.79 35.7533 1513.79 39.156 Q1513.79 41.7486 1515.77 43.2475 Q1517.76 44.7058 1523.75 46.0426 L1526.3 46.6097 Q1534.24 48.3111 1537.57 51.4303 Q1540.93 54.509 1540.93 60.0587 Q1540.93 66.3781 1535.9 70.0644 Q1530.92 73.7508 1522.17 73.7508 Q1518.53 73.7508 1514.56 73.0216 Q1510.63 72.3329 1506.25 70.9151 L1506.25 63.2184 Q1510.38 65.3654 1514.39 66.4591 Q1518.4 67.5124 1522.33 67.5124 Q1527.6 67.5124 1530.44 65.73 Q1533.27 63.9071 1533.27 60.6258 Q1533.27 57.5877 1531.21 55.9673 Q1529.18 54.3469 1522.25 52.8481 L1519.66 52.2405 Q1512.73 50.7821 1509.65 47.7845 Q1506.58 44.7463 1506.58 39.4801 Q1506.58 33.0797 1511.11 29.5959 Q1515.65 26.1121 1524 26.1121 Q1528.13 26.1121 1531.77 26.7198 Q1535.42 27.3274 1538.5 28.5427 Z\" fill=\"#000000\" fill-rule=\"evenodd\" fill-opacity=\"1\" /><path clip-path=\"url(#clip360)\" d=\"M1575.77 9.54393 L1575.77 15.7418 L1568.64 15.7418 Q1564.63 15.7418 1563.05 17.3622 Q1561.51 18.9825 1561.51 23.1955 L1561.51 27.2059 L1573.78 27.2059 L1573.78 32.9987 L1561.51 32.9987 L1561.51 72.576 L1554.01 72.576 L1554.01 32.9987 L1546.88 32.9987 L1546.88 27.2059 L1554.01 27.2059 L1554.01 24.0462 Q1554.01 16.471 1557.54 13.0277 Q1561.06 9.54393 1568.72 9.54393 L1575.77 9.54393 Z\" fill=\"#000000\" fill-rule=\"evenodd\" fill-opacity=\"1\" /><path clip-path=\"url(#clip360)\" d=\"M1620.81 48.0275 L1620.81 51.6733 L1586.54 51.6733 Q1587.03 59.3701 1591.16 63.421 Q1595.33 67.4314 1602.74 67.4314 Q1607.04 67.4314 1611.05 66.3781 Q1615.1 65.3249 1619.07 63.2184 L1619.07 70.267 Q1615.06 71.9684 1610.85 72.8596 Q1606.63 73.7508 1602.3 73.7508 Q1591.44 73.7508 1585.08 67.4314 Q1578.76 61.1119 1578.76 50.3365 Q1578.76 39.1965 1584.76 32.6746 Q1590.79 26.1121 1601 26.1121 Q1610.16 26.1121 1615.46 32.0264 Q1620.81 37.9003 1620.81 48.0275 M1613.36 45.84 Q1613.28 39.7232 1609.91 36.0774 Q1606.59 32.4315 1601.08 32.4315 Q1594.85 32.4315 1591.08 35.9558 Q1587.35 39.4801 1586.78 45.8805 L1613.36 45.84 Z\" fill=\"#000000\" fill-rule=\"evenodd\" fill-opacity=\"1\" /><path clip-path=\"url(#clip360)\" d=\"M1659.34 34.1734 Q1658.08 33.4443 1656.58 33.1202 Q1655.12 32.7556 1653.34 32.7556 Q1647.02 32.7556 1643.62 36.8875 Q1640.26 40.9789 1640.26 48.6757 L1640.26 72.576 L1632.76 72.576 L1632.76 27.2059 L1640.26 27.2059 L1640.26 34.2544 Q1642.61 30.1225 1646.37 28.1376 Q1650.14 26.1121 1655.53 26.1121 Q1656.3 26.1121 1657.23 26.2337 Q1658.16 26.3147 1659.3 26.5172 L1659.34 34.1734 Z\" fill=\"#000000\" fill-rule=\"evenodd\" fill-opacity=\"1\" /><path clip-path=\"url(#clip360)\" d=\"M1730.11 14.0809 L1730.11 22.0612 Q1725.45 19.8332 1721.31 18.7395 Q1717.18 17.6457 1713.33 17.6457 Q1706.65 17.6457 1703 20.2383 Q1699.4 22.8309 1699.4 27.611 Q1699.4 31.6214 1701.79 33.6873 Q1704.22 35.7128 1710.94 36.9686 L1715.89 37.9813 Q1725.04 39.7232 1729.38 44.1387 Q1733.75 48.5136 1733.75 55.8863 Q1733.75 64.6767 1727.84 69.2137 Q1721.96 73.7508 1710.58 73.7508 Q1706.29 73.7508 1701.42 72.7785 Q1696.6 71.8063 1691.42 69.9024 L1691.42 61.4765 Q1696.4 64.2716 1701.18 65.6895 Q1705.96 67.1073 1710.58 67.1073 Q1717.59 67.1073 1721.4 64.3527 Q1725.2 61.598 1725.2 56.4939 Q1725.2 52.0379 1722.45 49.5264 Q1719.73 47.0148 1713.5 45.759 L1708.51 44.7868 Q1699.36 42.9639 1695.27 39.075 Q1691.18 35.1862 1691.18 28.2591 Q1691.18 20.2383 1696.81 15.6203 Q1702.48 11.0023 1712.4 11.0023 Q1716.66 11.0023 1721.07 11.7719 Q1725.49 12.5416 1730.11 14.0809 Z\" fill=\"#000000\" fill-rule=\"evenodd\" fill-opacity=\"1\" /><path clip-path=\"url(#clip360)\" d=\"M1753.56 14.324 L1753.56 27.2059 L1768.91 27.2059 L1768.91 32.9987 L1753.56 32.9987 L1753.56 57.6282 Q1753.56 63.1779 1755.06 64.7578 Q1756.6 66.3376 1761.26 66.3376 L1768.91 66.3376 L1768.91 72.576 L1761.26 72.576 Q1752.63 72.576 1749.35 69.3758 Q1746.07 66.1351 1746.07 57.6282 L1746.07 32.9987 L1740.6 32.9987 L1740.6 27.2059 L1746.07 27.2059 L1746.07 14.324 L1753.56 14.324 Z\" fill=\"#000000\" fill-rule=\"evenodd\" fill-opacity=\"1\" /><path clip-path=\"url(#clip360)\" d=\"M1799.34 49.7694 Q1790.3 49.7694 1786.82 51.8354 Q1783.33 53.9013 1783.33 58.8839 Q1783.33 62.8538 1785.93 65.2034 Q1788.56 67.5124 1793.06 67.5124 Q1799.25 67.5124 1802.98 63.1374 Q1806.75 58.7219 1806.75 51.4303 L1806.75 49.7694 L1799.34 49.7694 M1814.2 46.6907 L1814.2 72.576 L1806.75 72.576 L1806.75 65.6895 Q1804.2 69.8214 1800.39 71.8063 Q1796.58 73.7508 1791.07 73.7508 Q1784.1 73.7508 1779.97 69.8619 Q1775.88 65.9325 1775.88 59.3701 Q1775.88 51.7138 1780.98 47.825 Q1786.13 43.9361 1796.3 43.9361 L1806.75 43.9361 L1806.75 43.2069 Q1806.75 38.0623 1803.35 35.2672 Q1799.98 32.4315 1793.87 32.4315 Q1789.98 32.4315 1786.29 33.3632 Q1782.6 34.295 1779.2 36.1584 L1779.2 29.2718 Q1783.29 27.692 1787.14 26.9223 Q1790.99 26.1121 1794.64 26.1121 Q1804.48 26.1121 1809.34 31.2163 Q1814.2 36.3204 1814.2 46.6907 Z\" fill=\"#000000\" fill-rule=\"evenodd\" fill-opacity=\"1\" /><path clip-path=\"url(#clip360)\" d=\"M1836.93 14.324 L1836.93 27.2059 L1852.28 27.2059 L1852.28 32.9987 L1836.93 32.9987 L1836.93 57.6282 Q1836.93 63.1779 1838.43 64.7578 Q1839.97 66.3376 1844.62 66.3376 L1852.28 66.3376 L1852.28 72.576 L1844.62 72.576 Q1836 72.576 1832.71 69.3758 Q1829.43 66.1351 1829.43 57.6282 L1829.43 32.9987 L1823.96 32.9987 L1823.96 27.2059 L1829.43 27.2059 L1829.43 14.324 L1836.93 14.324 Z\" fill=\"#000000\" fill-rule=\"evenodd\" fill-opacity=\"1\" /><path clip-path=\"url(#clip360)\" d=\"M1862.08 27.2059 L1869.54 27.2059 L1869.54 72.576 L1862.08 72.576 L1862.08 27.2059 M1862.08 9.54393 L1869.54 9.54393 L1869.54 18.9825 L1862.08 18.9825 L1862.08 9.54393 Z\" fill=\"#000000\" fill-rule=\"evenodd\" fill-opacity=\"1\" /><path clip-path=\"url(#clip360)\" d=\"M1902.71 32.4315 Q1896.72 32.4315 1893.24 37.1306 Q1889.75 41.7891 1889.75 49.9314 Q1889.75 58.0738 1893.19 62.7728 Q1896.68 67.4314 1902.71 67.4314 Q1908.67 67.4314 1912.15 62.7323 Q1915.64 58.0333 1915.64 49.9314 Q1915.64 41.8701 1912.15 37.1711 Q1908.67 32.4315 1902.71 32.4315 M1902.71 26.1121 Q1912.44 26.1121 1917.99 32.4315 Q1923.54 38.7509 1923.54 49.9314 Q1923.54 61.0714 1917.99 67.4314 Q1912.44 73.7508 1902.71 73.7508 Q1892.95 73.7508 1887.4 67.4314 Q1881.89 61.0714 1881.89 49.9314 Q1881.89 38.7509 1887.4 32.4315 Q1892.95 26.1121 1902.71 26.1121 Z\" fill=\"#000000\" fill-rule=\"evenodd\" fill-opacity=\"1\" /><path clip-path=\"url(#clip360)\" d=\"M1973.6 45.1919 L1973.6 72.576 L1966.15 72.576 L1966.15 45.4349 Q1966.15 38.994 1963.64 35.7938 Q1961.13 32.5936 1956.11 32.5936 Q1950.07 32.5936 1946.59 36.4419 Q1943.1 40.2903 1943.1 46.9338 L1943.1 72.576 L1935.61 72.576 L1935.61 27.2059 L1943.1 27.2059 L1943.1 34.2544 Q1945.78 30.163 1949.38 28.1376 Q1953.03 26.1121 1957.77 26.1121 Q1965.58 26.1121 1969.59 30.9732 Q1973.6 35.7938 1973.6 45.1919 Z\" fill=\"#000000\" fill-rule=\"evenodd\" fill-opacity=\"1\" /><path clip-path=\"url(#clip360)\" d=\"M2017.4 28.5427 L2017.4 35.5912 Q2014.24 33.9709 2010.83 33.1607 Q2007.43 32.3505 2003.78 32.3505 Q1998.23 32.3505 1995.44 34.0519 Q1992.68 35.7533 1992.68 39.156 Q1992.68 41.7486 1994.67 43.2475 Q1996.65 44.7058 2002.65 46.0426 L2005.2 46.6097 Q2013.14 48.3111 2016.46 51.4303 Q2019.83 54.509 2019.83 60.0587 Q2019.83 66.3781 2014.8 70.0644 Q2009.82 73.7508 2001.07 73.7508 Q1997.42 73.7508 1993.45 73.0216 Q1989.53 72.3329 1985.15 70.9151 L1985.15 63.2184 Q1989.28 65.3654 1993.29 66.4591 Q1997.3 67.5124 2001.23 67.5124 Q2006.5 67.5124 2009.33 65.73 Q2012.17 63.9071 2012.17 60.6258 Q2012.17 57.5877 2010.1 55.9673 Q2008.08 54.3469 2001.15 52.8481 L1998.56 52.2405 Q1991.63 50.7821 1988.55 47.7845 Q1985.47 44.7463 1985.47 39.4801 Q1985.47 33.0797 1990.01 29.5959 Q1994.55 26.1121 2002.89 26.1121 Q2007.02 26.1121 2010.67 26.7198 Q2014.32 27.3274 2017.4 28.5427 Z\" fill=\"#000000\" fill-rule=\"evenodd\" fill-opacity=\"1\" /><path clip-path=\"url(#clip360)\" d=\"M2066.57 43.6931 L2066.57 65.8515 L2079.7 65.8515 Q2086.3 65.8515 2089.46 63.1374 Q2092.66 60.3828 2092.66 54.752 Q2092.66 49.0808 2089.46 46.4072 Q2086.3 43.6931 2079.7 43.6931 L2066.57 43.6931 M2066.57 18.8205 L2066.57 37.0496 L2078.69 37.0496 Q2084.68 37.0496 2087.6 34.8216 Q2090.55 32.5531 2090.55 27.935 Q2090.55 23.3575 2087.6 21.089 Q2084.68 18.8205 2078.69 18.8205 L2066.57 18.8205 M2058.39 12.096 L2079.29 12.096 Q2088.65 12.096 2093.71 15.9849 Q2098.78 19.8737 2098.78 27.0438 Q2098.78 32.5936 2096.19 35.8748 Q2093.59 39.156 2088.57 39.9662 Q2094.61 41.2625 2097.93 45.3944 Q2101.29 49.4858 2101.29 55.6432 Q2101.29 63.745 2095.78 68.1605 Q2090.27 72.576 2080.1 72.576 L2058.39 72.576 L2058.39 12.096 Z\" fill=\"#000000\" fill-rule=\"evenodd\" fill-opacity=\"1\" /><path clip-path=\"url(#clip360)\" d=\"M2114.21 54.671 L2114.21 27.2059 L2121.67 27.2059 L2121.67 54.3874 Q2121.67 60.8284 2124.18 64.0691 Q2126.69 67.2693 2131.71 67.2693 Q2137.75 67.2693 2141.23 63.421 Q2144.76 59.5726 2144.76 52.9291 L2144.76 27.2059 L2152.21 27.2059 L2152.21 72.576 L2144.76 72.576 L2144.76 65.6084 Q2142.04 69.7404 2138.44 71.7658 Q2134.87 73.7508 2130.13 73.7508 Q2122.31 73.7508 2118.26 68.8897 Q2114.21 64.0286 2114.21 54.671 M2132.97 26.1121 L2132.97 26.1121 Z\" fill=\"#000000\" fill-rule=\"evenodd\" fill-opacity=\"1\" /><path clip-path=\"url(#clip360)\" d=\"M2167.56 27.2059 L2175.02 27.2059 L2175.02 72.576 L2167.56 72.576 L2167.56 27.2059 M2167.56 9.54393 L2175.02 9.54393 L2175.02 18.9825 L2167.56 18.9825 L2167.56 9.54393 Z\" fill=\"#000000\" fill-rule=\"evenodd\" fill-opacity=\"1\" /><path clip-path=\"url(#clip360)\" d=\"M2190.61 9.54393 L2198.07 9.54393 L2198.07 72.576 L2190.61 72.576 L2190.61 9.54393 Z\" fill=\"#000000\" fill-rule=\"evenodd\" fill-opacity=\"1\" /><path clip-path=\"url(#clip360)\" d=\"M2221.03 14.324 L2221.03 27.2059 L2236.39 27.2059 L2236.39 32.9987 L2221.03 32.9987 L2221.03 57.6282 Q2221.03 63.1779 2222.53 64.7578 Q2224.07 66.3376 2228.73 66.3376 L2236.39 66.3376 L2236.39 72.576 L2228.73 72.576 Q2220.1 72.576 2216.82 69.3758 Q2213.54 66.1351 2213.54 57.6282 L2213.54 32.9987 L2208.07 32.9987 L2208.07 27.2059 L2213.54 27.2059 L2213.54 14.324 L2221.03 14.324 Z\" fill=\"#000000\" fill-rule=\"evenodd\" fill-opacity=\"1\" /><circle clip-path=\"url(#clip362)\" cx=\"1950.62\" cy=\"563.716\" r=\"14\" fill=\"#ff0000\" fill-rule=\"evenodd\" fill-opacity=\"1\" stroke=\"#000000\" stroke-opacity=\"1\" stroke-width=\"3.2\"/>\n",
       "<circle clip-path=\"url(#clip362)\" cx=\"1109.93\" cy=\"914.267\" r=\"14\" fill=\"#ff0000\" fill-rule=\"evenodd\" fill-opacity=\"1\" stroke=\"#000000\" stroke-opacity=\"1\" stroke-width=\"3.2\"/>\n",
       "<circle clip-path=\"url(#clip362)\" cx=\"1976.05\" cy=\"1315.57\" r=\"14\" fill=\"#ff0000\" fill-rule=\"evenodd\" fill-opacity=\"1\" stroke=\"#000000\" stroke-opacity=\"1\" stroke-width=\"3.2\"/>\n",
       "<circle clip-path=\"url(#clip362)\" cx=\"2074.84\" cy=\"545.131\" r=\"14\" fill=\"#ff0000\" fill-rule=\"evenodd\" fill-opacity=\"1\" stroke=\"#000000\" stroke-opacity=\"1\" stroke-width=\"3.2\"/>\n",
       "<circle clip-path=\"url(#clip362)\" cx=\"999.323\" cy=\"551.286\" r=\"14\" fill=\"#ff0000\" fill-rule=\"evenodd\" fill-opacity=\"1\" stroke=\"#000000\" stroke-opacity=\"1\" stroke-width=\"3.2\"/>\n",
       "<circle clip-path=\"url(#clip362)\" cx=\"1755.31\" cy=\"266.141\" r=\"14\" fill=\"#008000\" fill-rule=\"evenodd\" fill-opacity=\"1\" stroke=\"#000000\" stroke-opacity=\"1\" stroke-width=\"3.2\"/>\n",
       "<circle clip-path=\"url(#clip362)\" cx=\"1381.26\" cy=\"1032.39\" r=\"14\" fill=\"#008000\" fill-rule=\"evenodd\" fill-opacity=\"1\" stroke=\"#000000\" stroke-opacity=\"1\" stroke-width=\"3.2\"/>\n",
       "<circle clip-path=\"url(#clip362)\" cx=\"2114.67\" cy=\"367.43\" r=\"14\" fill=\"#008000\" fill-rule=\"evenodd\" fill-opacity=\"1\" stroke=\"#000000\" stroke-opacity=\"1\" stroke-width=\"3.2\"/>\n",
       "<circle clip-path=\"url(#clip362)\" cx=\"1661.84\" cy=\"902.542\" r=\"14\" fill=\"#008000\" fill-rule=\"evenodd\" fill-opacity=\"1\" stroke=\"#000000\" stroke-opacity=\"1\" stroke-width=\"3.2\"/>\n",
       "<circle clip-path=\"url(#clip362)\" cx=\"981.753\" cy=\"1095.44\" r=\"14\" fill=\"#008000\" fill-rule=\"evenodd\" fill-opacity=\"1\" stroke=\"#000000\" stroke-opacity=\"1\" stroke-width=\"3.2\"/>\n",
       "<circle clip-path=\"url(#clip362)\" cx=\"2197.57\" cy=\"423.903\" r=\"14\" fill=\"#008000\" fill-rule=\"evenodd\" fill-opacity=\"1\" stroke=\"#000000\" stroke-opacity=\"1\" stroke-width=\"3.2\"/>\n",
       "<circle clip-path=\"url(#clip362)\" cx=\"1532.32\" cy=\"881.273\" r=\"14\" fill=\"#008000\" fill-rule=\"evenodd\" fill-opacity=\"1\" stroke=\"#000000\" stroke-opacity=\"1\" stroke-width=\"3.2\"/>\n",
       "<circle clip-path=\"url(#clip362)\" cx=\"809.668\" cy=\"815.365\" r=\"14\" fill=\"#008000\" fill-rule=\"evenodd\" fill-opacity=\"1\" stroke=\"#000000\" stroke-opacity=\"1\" stroke-width=\"3.2\"/>\n",
       "<circle clip-path=\"url(#clip362)\" cx=\"900.658\" cy=\"373.326\" r=\"14\" fill=\"#008000\" fill-rule=\"evenodd\" fill-opacity=\"1\" stroke=\"#000000\" stroke-opacity=\"1\" stroke-width=\"3.2\"/>\n",
       "<circle clip-path=\"url(#clip362)\" cx=\"1183.24\" cy=\"760.694\" r=\"14\" fill=\"#0000ff\" fill-rule=\"evenodd\" fill-opacity=\"1\" stroke=\"#000000\" stroke-opacity=\"1\" stroke-width=\"3.2\"/>\n",
       "<circle clip-path=\"url(#clip362)\" cx=\"1986.27\" cy=\"1447.87\" r=\"14\" fill=\"#0000ff\" fill-rule=\"evenodd\" fill-opacity=\"1\" stroke=\"#000000\" stroke-opacity=\"1\" stroke-width=\"3.2\"/>\n",
       "<circle clip-path=\"url(#clip362)\" cx=\"1856.27\" cy=\"1340.3\" r=\"14\" fill=\"#0000ff\" fill-rule=\"evenodd\" fill-opacity=\"1\" stroke=\"#000000\" stroke-opacity=\"1\" stroke-width=\"3.2\"/>\n",
       "<circle clip-path=\"url(#clip362)\" cx=\"1473.63\" cy=\"870.048\" r=\"14\" fill=\"#0000ff\" fill-rule=\"evenodd\" fill-opacity=\"1\" stroke=\"#000000\" stroke-opacity=\"1\" stroke-width=\"3.2\"/>\n",
       "<circle clip-path=\"url(#clip362)\" cx=\"1653.17\" cy=\"228.497\" r=\"14\" fill=\"#0000ff\" fill-rule=\"evenodd\" fill-opacity=\"1\" stroke=\"#000000\" stroke-opacity=\"1\" stroke-width=\"3.2\"/>\n",
       "<circle clip-path=\"url(#clip362)\" cx=\"1036.58\" cy=\"758.58\" r=\"14\" fill=\"#0000ff\" fill-rule=\"evenodd\" fill-opacity=\"1\" stroke=\"#000000\" stroke-opacity=\"1\" stroke-width=\"3.2\"/>\n",
       "<circle clip-path=\"url(#clip362)\" cx=\"1422.95\" cy=\"845.635\" r=\"14\" fill=\"#0000ff\" fill-rule=\"evenodd\" fill-opacity=\"1\" stroke=\"#000000\" stroke-opacity=\"1\" stroke-width=\"3.2\"/>\n",
       "<circle clip-path=\"url(#clip362)\" cx=\"1484.27\" cy=\"1007.21\" r=\"14\" fill=\"#0000ff\" fill-rule=\"evenodd\" fill-opacity=\"1\" stroke=\"#000000\" stroke-opacity=\"1\" stroke-width=\"3.2\"/>\n",
       "<circle clip-path=\"url(#clip362)\" cx=\"2307.57\" cy=\"337.377\" r=\"14\" fill=\"#0000ff\" fill-rule=\"evenodd\" fill-opacity=\"1\" stroke=\"#000000\" stroke-opacity=\"1\" stroke-width=\"3.2\"/>\n",
       "<circle clip-path=\"url(#clip362)\" cx=\"1971.92\" cy=\"585.229\" r=\"14\" fill=\"#0000ff\" fill-rule=\"evenodd\" fill-opacity=\"1\" stroke=\"#000000\" stroke-opacity=\"1\" stroke-width=\"3.2\"/>\n",
       "<circle clip-path=\"url(#clip362)\" cx=\"1234.36\" cy=\"1067.01\" r=\"14\" fill=\"#0000ff\" fill-rule=\"evenodd\" fill-opacity=\"1\" stroke=\"#000000\" stroke-opacity=\"1\" stroke-width=\"3.2\"/>\n",
       "<circle clip-path=\"url(#clip362)\" cx=\"1051.55\" cy=\"1235.84\" r=\"14\" fill=\"#0000ff\" fill-rule=\"evenodd\" fill-opacity=\"1\" stroke=\"#000000\" stroke-opacity=\"1\" stroke-width=\"3.2\"/>\n",
       "<circle clip-path=\"url(#clip362)\" cx=\"1049.57\" cy=\"453.956\" r=\"14\" fill=\"#0000ff\" fill-rule=\"evenodd\" fill-opacity=\"1\" stroke=\"#000000\" stroke-opacity=\"1\" stroke-width=\"3.2\"/>\n",
       "<circle clip-path=\"url(#clip362)\" cx=\"1703.71\" cy=\"294.798\" r=\"14\" fill=\"#0000ff\" fill-rule=\"evenodd\" fill-opacity=\"1\" stroke=\"#000000\" stroke-opacity=\"1\" stroke-width=\"3.2\"/>\n",
       "<circle clip-path=\"url(#clip362)\" cx=\"2065.65\" cy=\"206.361\" r=\"14\" fill=\"#0000ff\" fill-rule=\"evenodd\" fill-opacity=\"1\" stroke=\"#000000\" stroke-opacity=\"1\" stroke-width=\"3.2\"/>\n",
       "<circle clip-path=\"url(#clip362)\" cx=\"2003.49\" cy=\"356.124\" r=\"14\" fill=\"#0000ff\" fill-rule=\"evenodd\" fill-opacity=\"1\" stroke=\"#000000\" stroke-opacity=\"1\" stroke-width=\"3.2\"/>\n",
       "<circle clip-path=\"url(#clip362)\" cx=\"2099.76\" cy=\"1218.02\" r=\"14\" fill=\"#0000ff\" fill-rule=\"evenodd\" fill-opacity=\"1\" stroke=\"#000000\" stroke-opacity=\"1\" stroke-width=\"3.2\"/>\n",
       "<circle clip-path=\"url(#clip362)\" cx=\"2101.03\" cy=\"622.142\" r=\"14\" fill=\"#0000ff\" fill-rule=\"evenodd\" fill-opacity=\"1\" stroke=\"#000000\" stroke-opacity=\"1\" stroke-width=\"3.2\"/>\n",
       "<circle clip-path=\"url(#clip362)\" cx=\"2052.02\" cy=\"1286.41\" r=\"14\" fill=\"#0000ff\" fill-rule=\"evenodd\" fill-opacity=\"1\" stroke=\"#000000\" stroke-opacity=\"1\" stroke-width=\"3.2\"/>\n",
       "<circle clip-path=\"url(#clip362)\" cx=\"1755.38\" cy=\"826.169\" r=\"14\" fill=\"#0000ff\" fill-rule=\"evenodd\" fill-opacity=\"1\" stroke=\"#000000\" stroke-opacity=\"1\" stroke-width=\"3.2\"/>\n",
       "<circle clip-path=\"url(#clip362)\" cx=\"2005.11\" cy=\"1128.72\" r=\"14\" fill=\"#0000ff\" fill-rule=\"evenodd\" fill-opacity=\"1\" stroke=\"#000000\" stroke-opacity=\"1\" stroke-width=\"3.2\"/>\n",
       "<circle clip-path=\"url(#clip362)\" cx=\"1842.96\" cy=\"550.933\" r=\"14\" fill=\"#0000ff\" fill-rule=\"evenodd\" fill-opacity=\"1\" stroke=\"#000000\" stroke-opacity=\"1\" stroke-width=\"3.2\"/>\n",
       "<circle clip-path=\"url(#clip362)\" cx=\"2218.54\" cy=\"292.1\" r=\"14\" fill=\"#0000ff\" fill-rule=\"evenodd\" fill-opacity=\"1\" stroke=\"#000000\" stroke-opacity=\"1\" stroke-width=\"3.2\"/>\n",
       "<circle clip-path=\"url(#clip362)\" cx=\"804.849\" cy=\"802.338\" r=\"14\" fill=\"#0000ff\" fill-rule=\"evenodd\" fill-opacity=\"1\" stroke=\"#000000\" stroke-opacity=\"1\" stroke-width=\"3.2\"/>\n",
       "<circle clip-path=\"url(#clip362)\" cx=\"1017.83\" cy=\"1416.23\" r=\"14\" fill=\"#0000ff\" fill-rule=\"evenodd\" fill-opacity=\"1\" stroke=\"#000000\" stroke-opacity=\"1\" stroke-width=\"3.2\"/>\n",
       "<circle clip-path=\"url(#clip362)\" cx=\"1598.5\" cy=\"893.12\" r=\"14\" fill=\"#0000ff\" fill-rule=\"evenodd\" fill-opacity=\"1\" stroke=\"#000000\" stroke-opacity=\"1\" stroke-width=\"3.2\"/>\n",
       "<circle clip-path=\"url(#clip362)\" cx=\"2235.01\" cy=\"660.653\" r=\"14\" fill=\"#0000ff\" fill-rule=\"evenodd\" fill-opacity=\"1\" stroke=\"#000000\" stroke-opacity=\"1\" stroke-width=\"3.2\"/>\n",
       "<circle clip-path=\"url(#clip362)\" cx=\"1174.83\" cy=\"986.56\" r=\"14\" fill=\"#0000ff\" fill-rule=\"evenodd\" fill-opacity=\"1\" stroke=\"#000000\" stroke-opacity=\"1\" stroke-width=\"3.2\"/>\n",
       "<circle clip-path=\"url(#clip362)\" cx=\"1729.08\" cy=\"530.491\" r=\"14\" fill=\"#0000ff\" fill-rule=\"evenodd\" fill-opacity=\"1\" stroke=\"#000000\" stroke-opacity=\"1\" stroke-width=\"3.2\"/>\n",
       "<circle clip-path=\"url(#clip362)\" cx=\"1504.56\" cy=\"705.753\" r=\"14\" fill=\"#0000ff\" fill-rule=\"evenodd\" fill-opacity=\"1\" stroke=\"#000000\" stroke-opacity=\"1\" stroke-width=\"3.2\"/>\n",
       "<circle clip-path=\"url(#clip362)\" cx=\"1965.58\" cy=\"494.962\" r=\"14\" fill=\"#0000ff\" fill-rule=\"evenodd\" fill-opacity=\"1\" stroke=\"#000000\" stroke-opacity=\"1\" stroke-width=\"3.2\"/>\n",
       "<circle clip-path=\"url(#clip362)\" cx=\"1979.51\" cy=\"1431.57\" r=\"14\" fill=\"#0000ff\" fill-rule=\"evenodd\" fill-opacity=\"1\" stroke=\"#000000\" stroke-opacity=\"1\" stroke-width=\"3.2\"/>\n",
       "<circle clip-path=\"url(#clip362)\" cx=\"1587.26\" cy=\"870.55\" r=\"14\" fill=\"#0000ff\" fill-rule=\"evenodd\" fill-opacity=\"1\" stroke=\"#000000\" stroke-opacity=\"1\" stroke-width=\"3.2\"/>\n",
       "<circle clip-path=\"url(#clip362)\" cx=\"977.532\" cy=\"433.961\" r=\"14\" fill=\"#0000ff\" fill-rule=\"evenodd\" fill-opacity=\"1\" stroke=\"#000000\" stroke-opacity=\"1\" stroke-width=\"3.2\"/>\n",
       "<circle clip-path=\"url(#clip362)\" cx=\"1230.6\" cy=\"970.605\" r=\"14\" fill=\"#0000ff\" fill-rule=\"evenodd\" fill-opacity=\"1\" stroke=\"#000000\" stroke-opacity=\"1\" stroke-width=\"3.2\"/>\n",
       "<circle clip-path=\"url(#clip362)\" cx=\"1450.32\" cy=\"861.793\" r=\"14\" fill=\"#0000ff\" fill-rule=\"evenodd\" fill-opacity=\"1\" stroke=\"#000000\" stroke-opacity=\"1\" stroke-width=\"3.2\"/>\n",
       "<circle clip-path=\"url(#clip362)\" cx=\"801.386\" cy=\"162.047\" r=\"14\" fill=\"#0000ff\" fill-rule=\"evenodd\" fill-opacity=\"1\" stroke=\"#000000\" stroke-opacity=\"1\" stroke-width=\"3.2\"/>\n",
       "<circle clip-path=\"url(#clip362)\" cx=\"1288.39\" cy=\"1171.97\" r=\"14\" fill=\"#0000ff\" fill-rule=\"evenodd\" fill-opacity=\"1\" stroke=\"#000000\" stroke-opacity=\"1\" stroke-width=\"3.2\"/>\n",
       "<circle clip-path=\"url(#clip362)\" cx=\"1407.56\" cy=\"345.117\" r=\"14\" fill=\"#0000ff\" fill-rule=\"evenodd\" fill-opacity=\"1\" stroke=\"#000000\" stroke-opacity=\"1\" stroke-width=\"3.2\"/>\n",
       "<circle clip-path=\"url(#clip362)\" cx=\"1189.27\" cy=\"624.039\" r=\"14\" fill=\"#0000ff\" fill-rule=\"evenodd\" fill-opacity=\"1\" stroke=\"#000000\" stroke-opacity=\"1\" stroke-width=\"3.2\"/>\n",
       "<circle clip-path=\"url(#clip362)\" cx=\"887.992\" cy=\"256.368\" r=\"14\" fill=\"#0000ff\" fill-rule=\"evenodd\" fill-opacity=\"1\" stroke=\"#000000\" stroke-opacity=\"1\" stroke-width=\"3.2\"/>\n",
       "<circle clip-path=\"url(#clip362)\" cx=\"884.136\" cy=\"998.136\" r=\"14\" fill=\"#0000ff\" fill-rule=\"evenodd\" fill-opacity=\"1\" stroke=\"#000000\" stroke-opacity=\"1\" stroke-width=\"3.2\"/>\n",
       "<circle clip-path=\"url(#clip362)\" cx=\"1108.48\" cy=\"750.867\" r=\"14\" fill=\"#0000ff\" fill-rule=\"evenodd\" fill-opacity=\"1\" stroke=\"#000000\" stroke-opacity=\"1\" stroke-width=\"3.2\"/>\n",
       "<circle clip-path=\"url(#clip362)\" cx=\"2208.84\" cy=\"286.8\" r=\"14\" fill=\"#0000ff\" fill-rule=\"evenodd\" fill-opacity=\"1\" stroke=\"#000000\" stroke-opacity=\"1\" stroke-width=\"3.2\"/>\n",
       "<circle clip-path=\"url(#clip362)\" cx=\"948.783\" cy=\"1302.49\" r=\"14\" fill=\"#0000ff\" fill-rule=\"evenodd\" fill-opacity=\"1\" stroke=\"#000000\" stroke-opacity=\"1\" stroke-width=\"3.2\"/>\n",
       "<circle clip-path=\"url(#clip362)\" cx=\"1482.25\" cy=\"1131.42\" r=\"14\" fill=\"#0000ff\" fill-rule=\"evenodd\" fill-opacity=\"1\" stroke=\"#000000\" stroke-opacity=\"1\" stroke-width=\"3.2\"/>\n",
       "<circle clip-path=\"url(#clip362)\" cx=\"1177.45\" cy=\"781.218\" r=\"14\" fill=\"#0000ff\" fill-rule=\"evenodd\" fill-opacity=\"1\" stroke=\"#000000\" stroke-opacity=\"1\" stroke-width=\"3.2\"/>\n",
       "<circle clip-path=\"url(#clip362)\" cx=\"1678.91\" cy=\"823.796\" r=\"14\" fill=\"#0000ff\" fill-rule=\"evenodd\" fill-opacity=\"1\" stroke=\"#000000\" stroke-opacity=\"1\" stroke-width=\"3.2\"/>\n",
       "<circle clip-path=\"url(#clip362)\" cx=\"1156.54\" cy=\"630.438\" r=\"14\" fill=\"#0000ff\" fill-rule=\"evenodd\" fill-opacity=\"1\" stroke=\"#000000\" stroke-opacity=\"1\" stroke-width=\"3.2\"/>\n",
       "<circle clip-path=\"url(#clip362)\" cx=\"1007.35\" cy=\"776.419\" r=\"14\" fill=\"#0000ff\" fill-rule=\"evenodd\" fill-opacity=\"1\" stroke=\"#000000\" stroke-opacity=\"1\" stroke-width=\"3.2\"/>\n",
       "<path clip-path=\"url(#clip360)\" d=\"\n",
       "M96.3335 1441.02 L528.496 1441.02 L528.496 1233.66 L96.3335 1233.66  Z\n",
       "  \" fill=\"#ffffff\" fill-rule=\"evenodd\" fill-opacity=\"1\"/>\n",
       "<polyline clip-path=\"url(#clip360)\" style=\"stroke:#000000; stroke-linecap:butt; stroke-linejoin:round; stroke-width:4; stroke-opacity:1; fill:none\" points=\"\n",
       "  96.3335,1441.02 528.496,1441.02 528.496,1233.66 96.3335,1233.66 96.3335,1441.02 \n",
       "  \"/>\n",
       "<circle clip-path=\"url(#clip360)\" cx=\"193.384\" cy=\"1285.5\" r=\"23\" fill=\"#ff0000\" fill-rule=\"evenodd\" fill-opacity=\"1\" stroke=\"#000000\" stroke-opacity=\"1\" stroke-width=\"5.12\"/>\n",
       "<path clip-path=\"url(#clip360)\" d=\"M290.434 1268.22 L295.11 1268.22 L295.11 1298.84 L311.939 1298.84 L311.939 1302.78 L290.434 1302.78 L290.434 1268.22 Z\" fill=\"#000000\" fill-rule=\"evenodd\" fill-opacity=\"1\" /><path clip-path=\"url(#clip360)\" d=\"M328.443 1289.74 Q323.281 1289.74 321.291 1290.92 Q319.3 1292.1 319.3 1294.95 Q319.3 1297.22 320.781 1298.56 Q322.286 1299.88 324.855 1299.88 Q328.397 1299.88 330.527 1297.38 Q332.679 1294.86 332.679 1290.69 L332.679 1289.74 L328.443 1289.74 M336.939 1287.98 L336.939 1302.78 L332.679 1302.78 L332.679 1298.84 Q331.221 1301.2 329.045 1302.34 Q326.869 1303.45 323.721 1303.45 Q319.74 1303.45 317.379 1301.22 Q315.041 1298.98 315.041 1295.23 Q315.041 1290.85 317.957 1288.63 Q320.897 1286.41 326.707 1286.41 L332.679 1286.41 L332.679 1285.99 Q332.679 1283.05 330.735 1281.46 Q328.814 1279.84 325.318 1279.84 Q323.096 1279.84 320.99 1280.37 Q318.883 1280.9 316.939 1281.97 L316.939 1278.03 Q319.277 1277.13 321.476 1276.69 Q323.675 1276.22 325.758 1276.22 Q331.383 1276.22 334.161 1279.14 Q336.939 1282.06 336.939 1287.98 Z\" fill=\"#000000\" fill-rule=\"evenodd\" fill-opacity=\"1\" /><path clip-path=\"url(#clip360)\" d=\"M367.263 1287.13 L367.263 1302.78 L363.003 1302.78 L363.003 1287.27 Q363.003 1283.59 361.568 1281.76 Q360.133 1279.93 357.263 1279.93 Q353.814 1279.93 351.823 1282.13 Q349.832 1284.33 349.832 1288.12 L349.832 1302.78 L345.55 1302.78 L345.55 1276.85 L349.832 1276.85 L349.832 1280.88 Q351.36 1278.54 353.42 1277.38 Q355.503 1276.22 358.212 1276.22 Q362.679 1276.22 364.971 1279 Q367.263 1281.76 367.263 1287.13 Z\" fill=\"#000000\" fill-rule=\"evenodd\" fill-opacity=\"1\" /><path clip-path=\"url(#clip360)\" d=\"M392.818 1280.78 L392.818 1266.76 L397.077 1266.76 L397.077 1302.78 L392.818 1302.78 L392.818 1298.89 Q391.475 1301.2 389.415 1302.34 Q387.378 1303.45 384.508 1303.45 Q379.809 1303.45 376.846 1299.7 Q373.906 1295.95 373.906 1289.84 Q373.906 1283.72 376.846 1279.97 Q379.809 1276.22 384.508 1276.22 Q387.378 1276.22 389.415 1277.36 Q391.475 1278.47 392.818 1280.78 M378.304 1289.84 Q378.304 1294.53 380.226 1297.22 Q382.17 1299.88 385.55 1299.88 Q388.929 1299.88 390.874 1297.22 Q392.818 1294.53 392.818 1289.84 Q392.818 1285.14 390.874 1282.47 Q388.929 1279.79 385.55 1279.79 Q382.17 1279.79 380.226 1282.47 Q378.304 1285.14 378.304 1289.84 Z\" fill=\"#000000\" fill-rule=\"evenodd\" fill-opacity=\"1\" /><path clip-path=\"url(#clip360)\" d=\"M418.975 1266.76 L418.975 1270.3 L414.901 1270.3 Q412.61 1270.3 411.707 1271.22 Q410.827 1272.15 410.827 1274.56 L410.827 1276.85 L417.841 1276.85 L417.841 1280.16 L410.827 1280.16 L410.827 1302.78 L406.545 1302.78 L406.545 1280.16 L402.471 1280.16 L402.471 1276.85 L406.545 1276.85 L406.545 1275.04 Q406.545 1270.72 408.559 1268.75 Q410.573 1266.76 414.948 1266.76 L418.975 1266.76 Z\" fill=\"#000000\" fill-rule=\"evenodd\" fill-opacity=\"1\" /><path clip-path=\"url(#clip360)\" d=\"M422.54 1276.85 L426.799 1276.85 L426.799 1302.78 L422.54 1302.78 L422.54 1276.85 M422.54 1266.76 L426.799 1266.76 L426.799 1272.15 L422.54 1272.15 L422.54 1266.76 Z\" fill=\"#000000\" fill-rule=\"evenodd\" fill-opacity=\"1\" /><path clip-path=\"url(#clip360)\" d=\"M435.711 1266.76 L439.971 1266.76 L439.971 1302.78 L435.711 1302.78 L435.711 1266.76 Z\" fill=\"#000000\" fill-rule=\"evenodd\" fill-opacity=\"1\" /><path clip-path=\"url(#clip360)\" d=\"M448.883 1266.76 L453.142 1266.76 L453.142 1302.78 L448.883 1302.78 L448.883 1266.76 Z\" fill=\"#000000\" fill-rule=\"evenodd\" fill-opacity=\"1\" /><path clip-path=\"url(#clip360)\" d=\"M478.581 1277.61 L478.581 1281.64 Q476.776 1280.72 474.832 1280.25 Q472.887 1279.79 470.804 1279.79 Q467.632 1279.79 466.035 1280.76 Q464.461 1281.73 464.461 1283.68 Q464.461 1285.16 465.595 1286.02 Q466.73 1286.85 470.156 1287.61 L471.614 1287.94 Q476.151 1288.91 478.049 1290.69 Q479.97 1292.45 479.97 1295.62 Q479.97 1299.23 477.1 1301.34 Q474.253 1303.45 469.253 1303.45 Q467.17 1303.45 464.901 1303.03 Q462.656 1302.64 460.156 1301.83 L460.156 1297.43 Q462.517 1298.66 464.808 1299.28 Q467.1 1299.88 469.345 1299.88 Q472.355 1299.88 473.975 1298.86 Q475.595 1297.82 475.595 1295.95 Q475.595 1294.21 474.415 1293.28 Q473.257 1292.36 469.299 1291.5 L467.818 1291.16 Q463.859 1290.32 462.1 1288.61 Q460.341 1286.87 460.341 1283.86 Q460.341 1280.21 462.933 1278.22 Q465.526 1276.22 470.294 1276.22 Q472.656 1276.22 474.739 1276.57 Q476.822 1276.92 478.581 1277.61 Z\" fill=\"#000000\" fill-rule=\"evenodd\" fill-opacity=\"1\" /><circle clip-path=\"url(#clip360)\" cx=\"193.384\" cy=\"1337.34\" r=\"23\" fill=\"#008000\" fill-rule=\"evenodd\" fill-opacity=\"1\" stroke=\"#000000\" stroke-opacity=\"1\" stroke-width=\"5.12\"/>\n",
       "<path clip-path=\"url(#clip360)\" d=\"M312.68 1321.19 L312.68 1325.75 Q310.018 1324.48 307.656 1323.85 Q305.295 1323.23 303.096 1323.23 Q299.277 1323.23 297.194 1324.71 Q295.133 1326.19 295.133 1328.92 Q295.133 1331.21 296.499 1332.39 Q297.888 1333.55 301.731 1334.27 L304.555 1334.85 Q309.786 1335.84 312.263 1338.37 Q314.763 1340.87 314.763 1345.08 Q314.763 1350.1 311.383 1352.69 Q308.027 1355.29 301.522 1355.29 Q299.069 1355.29 296.291 1354.73 Q293.536 1354.18 290.573 1353.09 L290.573 1348.27 Q293.42 1349.87 296.152 1350.68 Q298.883 1351.49 301.522 1351.49 Q305.527 1351.49 307.703 1349.92 Q309.879 1348.34 309.879 1345.43 Q309.879 1342.88 308.305 1341.44 Q306.754 1340.01 303.189 1339.29 L300.342 1338.74 Q295.11 1337.69 292.772 1335.47 Q290.434 1333.25 290.434 1329.29 Q290.434 1324.71 293.652 1322.07 Q296.893 1319.43 302.564 1319.43 Q304.994 1319.43 307.518 1319.87 Q310.041 1320.31 312.68 1321.19 Z\" fill=\"#000000\" fill-rule=\"evenodd\" fill-opacity=\"1\" /><path clip-path=\"url(#clip360)\" d=\"M326.082 1321.33 L326.082 1328.69 L334.855 1328.69 L334.855 1332 L326.082 1332 L326.082 1346.07 Q326.082 1349.25 326.939 1350.15 Q327.818 1351.05 330.48 1351.05 L334.855 1351.05 L334.855 1354.62 L330.48 1354.62 Q325.55 1354.62 323.675 1352.79 Q321.8 1350.93 321.8 1346.07 L321.8 1332 L318.675 1332 L318.675 1328.69 L321.8 1328.69 L321.8 1321.33 L326.082 1321.33 Z\" fill=\"#000000\" fill-rule=\"evenodd\" fill-opacity=\"1\" /><path clip-path=\"url(#clip360)\" d=\"M352.24 1341.58 Q347.078 1341.58 345.087 1342.76 Q343.096 1343.94 343.096 1346.79 Q343.096 1349.06 344.578 1350.4 Q346.082 1351.72 348.652 1351.72 Q352.193 1351.72 354.323 1349.22 Q356.476 1346.7 356.476 1342.53 L356.476 1341.58 L352.24 1341.58 M360.735 1339.82 L360.735 1354.62 L356.476 1354.62 L356.476 1350.68 Q355.017 1353.04 352.841 1354.18 Q350.666 1355.29 347.517 1355.29 Q343.536 1355.29 341.175 1353.06 Q338.837 1350.82 338.837 1347.07 Q338.837 1342.69 341.754 1340.47 Q344.693 1338.25 350.503 1338.25 L356.476 1338.25 L356.476 1337.83 Q356.476 1334.89 354.531 1333.3 Q352.61 1331.68 349.115 1331.68 Q346.892 1331.68 344.786 1332.21 Q342.679 1332.74 340.735 1333.81 L340.735 1329.87 Q343.073 1328.97 345.272 1328.53 Q347.471 1328.06 349.554 1328.06 Q355.179 1328.06 357.957 1330.98 Q360.735 1333.9 360.735 1339.82 Z\" fill=\"#000000\" fill-rule=\"evenodd\" fill-opacity=\"1\" /><path clip-path=\"url(#clip360)\" d=\"M373.721 1321.33 L373.721 1328.69 L382.494 1328.69 L382.494 1332 L373.721 1332 L373.721 1346.07 Q373.721 1349.25 374.577 1350.15 Q375.457 1351.05 378.119 1351.05 L382.494 1351.05 L382.494 1354.62 L378.119 1354.62 Q373.189 1354.62 371.314 1352.79 Q369.439 1350.93 369.439 1346.07 L369.439 1332 L366.314 1332 L366.314 1328.69 L369.439 1328.69 L369.439 1321.33 L373.721 1321.33 Z\" fill=\"#000000\" fill-rule=\"evenodd\" fill-opacity=\"1\" /><path clip-path=\"url(#clip360)\" d=\"M388.096 1328.69 L392.355 1328.69 L392.355 1354.62 L388.096 1354.62 L388.096 1328.69 M388.096 1318.6 L392.355 1318.6 L392.355 1323.99 L388.096 1323.99 L388.096 1318.6 Z\" fill=\"#000000\" fill-rule=\"evenodd\" fill-opacity=\"1\" /><path clip-path=\"url(#clip360)\" d=\"M411.313 1331.68 Q407.887 1331.68 405.897 1334.36 Q403.906 1337.02 403.906 1341.68 Q403.906 1346.33 405.874 1349.01 Q407.864 1351.68 411.313 1351.68 Q414.716 1351.68 416.707 1348.99 Q418.698 1346.31 418.698 1341.68 Q418.698 1337.07 416.707 1334.38 Q414.716 1331.68 411.313 1331.68 M411.313 1328.06 Q416.869 1328.06 420.04 1331.68 Q423.211 1335.29 423.211 1341.68 Q423.211 1348.04 420.04 1351.68 Q416.869 1355.29 411.313 1355.29 Q405.735 1355.29 402.563 1351.68 Q399.415 1348.04 399.415 1341.68 Q399.415 1335.29 402.563 1331.68 Q405.735 1328.06 411.313 1328.06 Z\" fill=\"#000000\" fill-rule=\"evenodd\" fill-opacity=\"1\" /><path clip-path=\"url(#clip360)\" d=\"M451.822 1338.97 L451.822 1354.62 L447.563 1354.62 L447.563 1339.11 Q447.563 1335.43 446.128 1333.6 Q444.693 1331.77 441.822 1331.77 Q438.373 1331.77 436.383 1333.97 Q434.392 1336.17 434.392 1339.96 L434.392 1354.62 L430.11 1354.62 L430.11 1328.69 L434.392 1328.69 L434.392 1332.72 Q435.92 1330.38 437.98 1329.22 Q440.063 1328.06 442.771 1328.06 Q447.239 1328.06 449.531 1330.84 Q451.822 1333.6 451.822 1338.97 Z\" fill=\"#000000\" fill-rule=\"evenodd\" fill-opacity=\"1\" /><path clip-path=\"url(#clip360)\" d=\"M476.845 1329.45 L476.845 1333.48 Q475.04 1332.56 473.095 1332.09 Q471.151 1331.63 469.068 1331.63 Q465.896 1331.63 464.299 1332.6 Q462.725 1333.57 462.725 1335.52 Q462.725 1337 463.859 1337.86 Q464.994 1338.69 468.42 1339.45 L469.878 1339.78 Q474.415 1340.75 476.313 1342.53 Q478.234 1344.29 478.234 1347.46 Q478.234 1351.07 475.364 1353.18 Q472.517 1355.29 467.517 1355.29 Q465.433 1355.29 463.165 1354.87 Q460.92 1354.48 458.42 1353.67 L458.42 1349.27 Q460.781 1350.5 463.072 1351.12 Q465.364 1351.72 467.609 1351.72 Q470.619 1351.72 472.239 1350.7 Q473.859 1349.66 473.859 1347.79 Q473.859 1346.05 472.679 1345.12 Q471.521 1344.2 467.563 1343.34 L466.082 1343 Q462.123 1342.16 460.364 1340.45 Q458.605 1338.71 458.605 1335.7 Q458.605 1332.05 461.197 1330.06 Q463.79 1328.06 468.558 1328.06 Q470.919 1328.06 473.003 1328.41 Q475.086 1328.76 476.845 1329.45 Z\" fill=\"#000000\" fill-rule=\"evenodd\" fill-opacity=\"1\" /><circle clip-path=\"url(#clip360)\" cx=\"193.384\" cy=\"1389.18\" r=\"23\" fill=\"#0000ff\" fill-rule=\"evenodd\" fill-opacity=\"1\" stroke=\"#000000\" stroke-opacity=\"1\" stroke-width=\"5.12\"/>\n",
       "<path clip-path=\"url(#clip360)\" d=\"M318.305 1374.56 L318.305 1379.49 Q315.943 1377.29 313.258 1376.2 Q310.596 1375.11 307.587 1375.11 Q301.661 1375.11 298.513 1378.75 Q295.365 1382.36 295.365 1389.21 Q295.365 1396.04 298.513 1399.67 Q301.661 1403.28 307.587 1403.28 Q310.596 1403.28 313.258 1402.2 Q315.943 1401.11 318.305 1398.91 L318.305 1403.79 Q315.851 1405.46 313.096 1406.29 Q310.365 1407.13 307.309 1407.13 Q299.462 1407.13 294.948 1402.34 Q290.434 1397.52 290.434 1389.21 Q290.434 1380.88 294.948 1376.09 Q299.462 1371.27 307.309 1371.27 Q310.411 1371.27 313.143 1372.1 Q315.897 1372.91 318.305 1374.56 Z\" fill=\"#000000\" fill-rule=\"evenodd\" fill-opacity=\"1\" /><path clip-path=\"url(#clip360)\" d=\"M347.517 1392.43 L347.517 1394.51 L327.934 1394.51 Q328.212 1398.91 330.573 1401.22 Q332.957 1403.52 337.193 1403.52 Q339.647 1403.52 341.939 1402.91 Q344.254 1402.31 346.522 1401.11 L346.522 1405.14 Q344.23 1406.11 341.823 1406.62 Q339.416 1407.13 336.939 1407.13 Q330.735 1407.13 327.101 1403.52 Q323.49 1399.9 323.49 1393.75 Q323.49 1387.38 326.916 1383.65 Q330.365 1379.9 336.198 1379.9 Q341.429 1379.9 344.462 1383.28 Q347.517 1386.64 347.517 1392.43 M343.258 1391.18 Q343.212 1387.68 341.291 1385.6 Q339.392 1383.52 336.244 1383.52 Q332.679 1383.52 330.527 1385.53 Q328.397 1387.54 328.073 1391.2 L343.258 1391.18 Z\" fill=\"#000000\" fill-rule=\"evenodd\" fill-opacity=\"1\" /><path clip-path=\"url(#clip360)\" d=\"M376.059 1390.81 L376.059 1406.46 L371.8 1406.46 L371.8 1390.95 Q371.8 1387.27 370.364 1385.44 Q368.929 1383.61 366.059 1383.61 Q362.61 1383.61 360.619 1385.81 Q358.628 1388.01 358.628 1391.8 L358.628 1406.46 L354.346 1406.46 L354.346 1380.53 L358.628 1380.53 L358.628 1384.56 Q360.156 1382.22 362.216 1381.06 Q364.3 1379.9 367.008 1379.9 Q371.476 1379.9 373.767 1382.68 Q376.059 1385.44 376.059 1390.81 Z\" fill=\"#000000\" fill-rule=\"evenodd\" fill-opacity=\"1\" /><path clip-path=\"url(#clip360)\" d=\"M388.767 1373.17 L388.767 1380.53 L397.54 1380.53 L397.54 1383.84 L388.767 1383.84 L388.767 1397.91 Q388.767 1401.09 389.624 1401.99 Q390.503 1402.89 393.165 1402.89 L397.54 1402.89 L397.54 1406.46 L393.165 1406.46 Q388.235 1406.46 386.36 1404.63 Q384.485 1402.77 384.485 1397.91 L384.485 1383.84 L381.36 1383.84 L381.36 1380.53 L384.485 1380.53 L384.485 1373.17 L388.767 1373.17 Z\" fill=\"#000000\" fill-rule=\"evenodd\" fill-opacity=\"1\" /><path clip-path=\"url(#clip360)\" d=\"M425.318 1392.43 L425.318 1394.51 L405.735 1394.51 Q406.012 1398.91 408.374 1401.22 Q410.758 1403.52 414.994 1403.52 Q417.448 1403.52 419.739 1402.91 Q422.054 1402.31 424.323 1401.11 L424.323 1405.14 Q422.031 1406.11 419.623 1406.62 Q417.216 1407.13 414.739 1407.13 Q408.536 1407.13 404.901 1403.52 Q401.29 1399.9 401.29 1393.75 Q401.29 1387.38 404.716 1383.65 Q408.165 1379.9 413.999 1379.9 Q419.23 1379.9 422.262 1383.28 Q425.318 1386.64 425.318 1392.43 M421.059 1391.18 Q421.012 1387.68 419.091 1385.6 Q417.193 1383.52 414.045 1383.52 Q410.48 1383.52 408.327 1385.53 Q406.198 1387.54 405.874 1391.2 L421.059 1391.18 Z\" fill=\"#000000\" fill-rule=\"evenodd\" fill-opacity=\"1\" /><path clip-path=\"url(#clip360)\" d=\"M447.332 1384.51 Q446.614 1384.09 445.758 1383.91 Q444.924 1383.7 443.906 1383.7 Q440.295 1383.7 438.35 1386.06 Q436.429 1388.4 436.429 1392.8 L436.429 1406.46 L432.147 1406.46 L432.147 1380.53 L436.429 1380.53 L436.429 1384.56 Q437.772 1382.2 439.924 1381.06 Q442.077 1379.9 445.156 1379.9 Q445.596 1379.9 446.128 1379.97 Q446.66 1380.02 447.309 1380.14 L447.332 1384.51 Z\" fill=\"#000000\" fill-rule=\"evenodd\" fill-opacity=\"1\" /><path clip-path=\"url(#clip360)\" d=\"M468.327 1381.29 L468.327 1385.32 Q466.521 1384.4 464.577 1383.93 Q462.632 1383.47 460.549 1383.47 Q457.378 1383.47 455.781 1384.44 Q454.207 1385.41 454.207 1387.36 Q454.207 1388.84 455.341 1389.7 Q456.475 1390.53 459.901 1391.29 L461.359 1391.62 Q465.896 1392.59 467.795 1394.37 Q469.716 1396.13 469.716 1399.3 Q469.716 1402.91 466.845 1405.02 Q463.998 1407.13 458.998 1407.13 Q456.915 1407.13 454.646 1406.71 Q452.401 1406.32 449.901 1405.51 L449.901 1401.11 Q452.262 1402.34 454.554 1402.96 Q456.845 1403.56 459.091 1403.56 Q462.1 1403.56 463.72 1402.54 Q465.341 1401.5 465.341 1399.63 Q465.341 1397.89 464.16 1396.96 Q463.003 1396.04 459.045 1395.18 L457.563 1394.84 Q453.605 1394 451.846 1392.29 Q450.086 1390.55 450.086 1387.54 Q450.086 1383.89 452.679 1381.9 Q455.271 1379.9 460.04 1379.9 Q462.401 1379.9 464.484 1380.25 Q466.568 1380.6 468.327 1381.29 Z\" fill=\"#000000\" fill-rule=\"evenodd\" fill-opacity=\"1\" /></svg>\n"
      ]
     },
     "execution_count": 283,
     "metadata": {},
     "output_type": "execute_result"
    }
   ],
   "source": [
    "plot(lf_b2.xco, lf_b2.yco, seriestype = :scatter, color = \"red\", title = \"Landfills & Transfer Stations Built\",label = \"Landfills\", legend=:outerbottomleft)\n",
    "plot!(ts_b2.xco, ts_b2.yco, seriestype = :scatter, color = \"green\", label = \"Stations\")\n",
    "plot!(centers.xco, centers.yco, seriestype = :scatter, color = \"blue\", label = \"Centers\")"
   ]
  },
  {
   "cell_type": "markdown",
   "id": "3e3cc262",
   "metadata": {},
   "source": [
    "# B.d\n",
    "# 9 transfer stations were created. "
   ]
  },
  {
   "cell_type": "code",
   "execution_count": 284,
   "id": "88a6eecd",
   "metadata": {},
   "outputs": [
    {
     "data": {
      "text/plain": [
       "9.0"
      ]
     },
     "execution_count": 284,
     "metadata": {},
     "output_type": "execute_result"
    }
   ],
   "source": [
    "round(sum(t))"
   ]
  },
  {
   "cell_type": "markdown",
   "id": "efd023b6",
   "metadata": {},
   "source": [
    "# 35.12% of waste in compacted."
   ]
  },
  {
   "cell_type": "code",
   "execution_count": 285,
   "id": "5aff1d9c",
   "metadata": {},
   "outputs": [],
   "source": [
    "x = value.(x);"
   ]
  },
  {
   "cell_type": "code",
   "execution_count": 286,
   "id": "20b52560",
   "metadata": {},
   "outputs": [
    {
     "data": {
      "text/plain": [
       "31665.669999999587"
      ]
     },
     "execution_count": 286,
     "metadata": {},
     "output_type": "execute_result"
    }
   ],
   "source": [
    "sum(x)"
   ]
  },
  {
   "cell_type": "code",
   "execution_count": 287,
   "id": "9c39e01d",
   "metadata": {},
   "outputs": [],
   "source": [
    "a = value.(a);"
   ]
  },
  {
   "cell_type": "code",
   "execution_count": 288,
   "id": "634885cd",
   "metadata": {},
   "outputs": [
    {
     "data": {
      "text/plain": [
       "17137.500000000487"
      ]
     },
     "execution_count": 288,
     "metadata": {},
     "output_type": "execute_result"
    }
   ],
   "source": [
    "sum(a)"
   ]
  },
  {
   "cell_type": "code",
   "execution_count": 289,
   "id": "0827ba85",
   "metadata": {},
   "outputs": [],
   "source": [
    "dist1 = sum(dmat*z1)\n",
    "dist2 = sum(dmat*z)+sum(dmat_ct*t)+sum(t'*dmat_tl);"
   ]
  },
  {
   "cell_type": "markdown",
   "id": "560a5f45",
   "metadata": {},
   "source": [
    "# In the first scenario, the total distance traveled was 11,946.95. In the second scenario the total distance significantly increased to 41,153.68 "
   ]
  },
  {
   "cell_type": "code",
   "execution_count": 245,
   "id": "65a93b78",
   "metadata": {},
   "outputs": [
    {
     "name": "stdout",
     "output_type": "stream",
     "text": [
      "11946.954019037625  41153.67660407018"
     ]
    }
   ],
   "source": [
    "print(dist1, \"  \")\n",
    "\n",
    "print(dist2)"
   ]
  },
  {
   "cell_type": "markdown",
   "id": "b2f48ee4",
   "metadata": {},
   "source": [
    "# The transportation costs of the first scenario is 840,487.52 and the second scenario is 718,642.75"
   ]
  },
  {
   "cell_type": "code",
   "execution_count": 246,
   "id": "911b8009",
   "metadata": {},
   "outputs": [
    {
     "name": "stdout",
     "output_type": "stream",
     "text": [
      "840487.5240012797 718642.7541913444"
     ]
    }
   ],
   "source": [
    "print(objective_value(mod), \" \")\n",
    "print(objective_value(mod2)-sum(10000*t))"
   ]
  },
  {
   "cell_type": "markdown",
   "id": "4eedeb87",
   "metadata": {},
   "source": [
    "# The total costs of the first scenario is 840,487.52 and with the transfer stations in the second scenario is 808,642.75."
   ]
  },
  {
   "cell_type": "code",
   "execution_count": 247,
   "id": "53453a77",
   "metadata": {},
   "outputs": [
    {
     "name": "stdout",
     "output_type": "stream",
     "text": [
      "840487.5240012797 808642.7541913458"
     ]
    }
   ],
   "source": [
    "print(objective_value(mod), \" \")\n",
    "print(objective_value(mod2))"
   ]
  },
  {
   "cell_type": "code",
   "execution_count": 290,
   "id": "94f5c837",
   "metadata": {},
   "outputs": [],
   "source": [
    "rename!(centers2,:Column1 => \"xco\" );\n",
    "rename!(centers2,:Column2 => \"yco\" );\n",
    "rename!(landfills2,:Column1 => \"xco\" );\n",
    "rename!(landfills2,:Column2 => \"yco\" );\n",
    "rename!(stations2,:Column1 => \"xco\" );\n",
    "rename!(stations2,:Column2 => \"yco\" );\n",
    "rename!(q2,:Column1 => \"waste\" );"
   ]
  },
  {
   "cell_type": "code",
   "execution_count": 291,
   "id": "302d109d",
   "metadata": {},
   "outputs": [],
   "source": [
    "dmatx = pairwise(Euclidean(), centers2.xco, landfills2.xco);\n",
    "dmaty = pairwise(Euclidean(), centers2.yco, landfills2.yco);\n",
    "dmat = sqrt.((dmatx.^2)+(dmaty.^2));"
   ]
  },
  {
   "cell_type": "markdown",
   "id": "0ace2f62",
   "metadata": {},
   "source": [
    "# C.e"
   ]
  },
  {
   "cell_type": "code",
   "execution_count": 292,
   "id": "0e35f680",
   "metadata": {},
   "outputs": [
    {
     "name": "stdout",
     "output_type": "stream",
     "text": [
      "Academic license - for non-commercial use only - expires 2022-08-19\n",
      "Gurobi Optimizer version 9.1.2 build v9.1.2rc0 (mac64)\n",
      "Thread count: 8 physical cores, 8 logical processors, using up to 8 threads\n",
      "Optimize a model with 33391 rows, 3415 columns and 1737315 nonzeros\n",
      "Model fingerprint: 0x0e70716b\n",
      "Variable types: 3350 continuous, 65 integer (65 binary)\n",
      "Coefficient statistics:\n",
      "  Matrix range     [1e+00, 1e+06]\n",
      "  Objective range  [1e-01, 1e+04]\n",
      "  Bounds range     [0e+00, 0e+00]\n",
      "  RHS range        [5e+00, 3e+03]\n",
      "Presolve removed 31900 rows and 0 columns\n",
      "Presolve time: 0.82s\n",
      "Presolved: 1491 rows, 3415 columns, 10115 nonzeros\n",
      "Variable types: 3350 continuous, 65 integer (65 binary)\n",
      "\n",
      "Root relaxation: objective 9.744086e+05, 243 iterations, 0.01 seconds\n",
      "\n",
      "    Nodes    |    Current Node    |     Objective Bounds      |     Work\n",
      " Expl Unexpl |  Obj  Depth IntInf | Incumbent    BestBd   Gap | It/Node Time\n",
      "\n",
      "     0     0 974408.621    0   25          - 974408.621      -     -    0s\n",
      "H    0     0                    1454438.7026 974408.621  33.0%     -    0s\n",
      "H    0     0                    1127090.2538 974408.621  13.5%     -    0s\n",
      "     0     0 1023606.60    0   35 1127090.25 1023606.60  9.18%     -    1s\n",
      "H    0     0                    1096781.9600 1023606.60  6.67%     -    1s\n",
      "     0     0 1024986.37    0   35 1096781.96 1024986.37  6.55%     -    1s\n",
      "     0     0 1039198.76    0   36 1096781.96 1039198.76  5.25%     -    1s\n",
      "     0     0 1040138.98    0   37 1096781.96 1040138.98  5.16%     -    1s\n",
      "H    0     0                    1096628.8849 1040138.98  5.15%     -    1s\n",
      "H    0     0                    1085833.6282 1040138.98  4.21%     -    1s\n",
      "H    0     0                    1077900.7407 1040138.98  3.50%     -    1s\n",
      "H    0     0                    1076788.4380 1040138.98  3.40%     -    1s\n",
      "     0     0 1050914.20    0   41 1076788.44 1050914.20  2.40%     -    1s\n",
      "     0     0 1051161.47    0   40 1076788.44 1051161.47  2.38%     -    1s\n",
      "     0     0 1051175.88    0   41 1076788.44 1051175.88  2.38%     -    1s\n",
      "     0     0 1058913.66    0   31 1076788.44 1058913.66  1.66%     -    1s\n",
      "     0     0 1061498.21    0   29 1076788.44 1061498.21  1.42%     -    1s\n",
      "     0     0 1061498.21    0   30 1076788.44 1061498.21  1.42%     -    1s\n",
      "\n",
      "Cutting planes:\n",
      "  Gomory: 1\n",
      "  Implied bound: 32\n",
      "  MIR: 35\n",
      "  Flow cover: 39\n",
      "\n",
      "Explored 1 nodes (634 simplex iterations) in 1.23 seconds\n",
      "Thread count was 8 (of 8 available processors)\n",
      "\n",
      "Solution count 6: 1.07679e+06 1.08583e+06 1.09663e+06 ... 1.45444e+06\n",
      "\n",
      "Optimal solution found (tolerance 1.00e-04)\n",
      "Best objective 1.076788438001e+06, best bound 1.076788438001e+06, gap 0.0000%\n",
      "\n",
      "User-callback calls 242, time in user-callback 0.00 sec\n"
     ]
    }
   ],
   "source": [
    "mod3 = JuMP.Model(JuMP.optimizer_with_attributes(() -> Gurobi.Optimizer(),\"MIPGap\" => 0.0001))\n",
    "\n",
    "set_optimizer_attribute(mod2, \"OutputFlag\", 0) \n",
    "\n",
    "#OLD VARIABLES\n",
    "#if landfill j is built\n",
    "@variable(mod3, z[j=1:15], Bin)\n",
    "#amount of waste transported from center i to landfill j\n",
    "@variable(mod3, x[i=1:40,j=1:15]>=0)\n",
    "\n",
    "#NEW VARIABLES\n",
    "#if transfer station s is built\n",
    "@variable(mod3, t[s=1:50], Bin)\n",
    "#amount of waste transported from center i to trasnfer station s\n",
    "@variable(mod3, a[i=1:40,s=1:50]>=0)\n",
    "#amount of waste transported from center i to trasnfer station s\n",
    "@variable(mod3, b[s=1:50,j=1:15]>=0)\n",
    "\n",
    "#OLD CONSTRAINTS\n",
    "#@constraint(mod3, [i=1:40], sum(x[i,j] for j=1:15)== q[i,1]) modified for reformulation\n",
    "@constraint(mod3, [i=1:40, j=1:15], x[i,j] <= 1000000*z[j])\n",
    "@constraint(mod3, sum(z[j] for j=1:15)<=5)\n",
    "\n",
    "#NEW CONSTRAINTS\n",
    "#ensure that all waste is taken care of\n",
    "@constraint(mod3, [i=1:40], sum(x[i,j] for j=1:15) + sum(a[i,s] for s=1:50) == q2[i,1]) \n",
    "#conservation of flow for transfer stations\n",
    "@constraint(mod3, [i=1:40, s=1:50, j=1:15], sum(a[i,s] for i=1:40)==sum(b[s,j] for j=1:15))\n",
    "#transfer station t cannot serve landfill j unless landfill j is built\n",
    "@constraint(mod3, [s=1:50, j=1:15], b[s,j] <= 1000000*z[j])\n",
    "@constraint(mod3, [i=1:40, s=1:50], sum(a[i,s] for i=1:40)<=2000*t[s])\n",
    "\n",
    "\n",
    "\n",
    "@objective(mod3, Min, sum(dmat[i,j]*x[i,j] for i = 1:40, j = 1:15)\n",
    "                +    sum(dmat_ct[i,s]*a[i,s] for i = 1:40, s = 1:50)\n",
    "                +    sum(dmat_tl[s,j]*b[s,j] for s = 1:50, j = 1:15)/2\n",
    "                +    sum(10000*t[s] for s=1:50))\n",
    "\n",
    "optimize!(mod3)"
   ]
  },
  {
   "cell_type": "markdown",
   "id": "e9a4ecd8",
   "metadata": {},
   "source": [
    "# The daily total cost of region B is $1,076,788.44. "
   ]
  },
  {
   "cell_type": "code",
   "execution_count": 293,
   "id": "d3cbcd3a",
   "metadata": {},
   "outputs": [
    {
     "data": {
      "text/plain": [
       "1.0767884380013323e6"
      ]
     },
     "execution_count": 293,
     "metadata": {},
     "output_type": "execute_result"
    }
   ],
   "source": [
    "objective_value(mod3)"
   ]
  },
  {
   "cell_type": "code",
   "execution_count": 294,
   "id": "c0f4cfc9",
   "metadata": {},
   "outputs": [],
   "source": [
    "t = value.(t);\n",
    "z = value.(z);\n",
    "i_t = findall(>(.5), t)\n",
    "i_z = findall(>(.5), z)\n",
    "ts_b3 = stations2[i_t,:];\n",
    "lf_b3 = landfills2[i_z,:];"
   ]
  },
  {
   "cell_type": "markdown",
   "id": "79e3cb4b",
   "metadata": {},
   "source": [
    "## Transfer Stations are built at the following coordinates:"
   ]
  },
  {
   "cell_type": "code",
   "execution_count": 296,
   "id": "e38b452b",
   "metadata": {},
   "outputs": [
    {
     "data": {
      "text/html": [
       "<table class=\"data-frame\"><thead><tr><th></th><th>xco</th><th>yco</th></tr><tr><th></th><th>Float64</th><th>Float64</th></tr></thead><tbody><p>8 rows × 2 columns</p><tr><th>1</th><td>175.68</td><td>65.393</td></tr><tr><th>2</th><td>133.12</td><td>78.404</td></tr><tr><th>3</th><td>162.59</td><td>70.408</td></tr><tr><th>4</th><td>172.01</td><td>96.693</td></tr><tr><th>5</th><td>158.35</td><td>8.6711</td></tr><tr><th>6</th><td>187.25</td><td>64.139</td></tr><tr><th>7</th><td>127.51</td><td>43.675</td></tr><tr><th>8</th><td>116.65</td><td>48.425</td></tr></tbody></table>"
      ],
      "text/latex": [
       "\\begin{tabular}{r|cc}\n",
       "\t& xco & yco\\\\\n",
       "\t\\hline\n",
       "\t& Float64 & Float64\\\\\n",
       "\t\\hline\n",
       "\t1 & 175.68 & 65.393 \\\\\n",
       "\t2 & 133.12 & 78.404 \\\\\n",
       "\t3 & 162.59 & 70.408 \\\\\n",
       "\t4 & 172.01 & 96.693 \\\\\n",
       "\t5 & 158.35 & 8.6711 \\\\\n",
       "\t6 & 187.25 & 64.139 \\\\\n",
       "\t7 & 127.51 & 43.675 \\\\\n",
       "\t8 & 116.65 & 48.425 \\\\\n",
       "\\end{tabular}\n"
      ],
      "text/plain": [
       "\u001b[1m8×2 DataFrame\u001b[0m\n",
       "\u001b[1m Row \u001b[0m│\u001b[1m xco     \u001b[0m\u001b[1m yco     \u001b[0m\n",
       "\u001b[1m     \u001b[0m│\u001b[90m Float64 \u001b[0m\u001b[90m Float64 \u001b[0m\n",
       "─────┼──────────────────\n",
       "   1 │  175.68  65.393\n",
       "   2 │  133.12  78.404\n",
       "   3 │  162.59  70.408\n",
       "   4 │  172.01  96.693\n",
       "   5 │  158.35   8.6711\n",
       "   6 │  187.25  64.139\n",
       "   7 │  127.51  43.675\n",
       "   8 │  116.65  48.425"
      ]
     },
     "execution_count": 296,
     "metadata": {},
     "output_type": "execute_result"
    }
   ],
   "source": [
    "ts_b3"
   ]
  },
  {
   "cell_type": "markdown",
   "id": "6a410396",
   "metadata": {},
   "source": [
    "## Landfills are built at the following coordinates:"
   ]
  },
  {
   "cell_type": "code",
   "execution_count": 297,
   "id": "d82e9ab0",
   "metadata": {},
   "outputs": [
    {
     "data": {
      "text/html": [
       "<table class=\"data-frame\"><thead><tr><th></th><th>xco</th><th>yco</th></tr><tr><th></th><th>Float64</th><th>Float64</th></tr></thead><tbody><p>5 rows × 2 columns</p><tr><th>1</th><td>170.73</td><td>89.923</td></tr><tr><th>2</th><td>107.54</td><td>70.32</td></tr><tr><th>3</th><td>130.56</td><td>30.882</td></tr><tr><th>4</th><td>135.89</td><td>90.798</td></tr><tr><th>5</th><td>166.1</td><td>61.775</td></tr></tbody></table>"
      ],
      "text/latex": [
       "\\begin{tabular}{r|cc}\n",
       "\t& xco & yco\\\\\n",
       "\t\\hline\n",
       "\t& Float64 & Float64\\\\\n",
       "\t\\hline\n",
       "\t1 & 170.73 & 89.923 \\\\\n",
       "\t2 & 107.54 & 70.32 \\\\\n",
       "\t3 & 130.56 & 30.882 \\\\\n",
       "\t4 & 135.89 & 90.798 \\\\\n",
       "\t5 & 166.1 & 61.775 \\\\\n",
       "\\end{tabular}\n"
      ],
      "text/plain": [
       "\u001b[1m5×2 DataFrame\u001b[0m\n",
       "\u001b[1m Row \u001b[0m│\u001b[1m xco     \u001b[0m\u001b[1m yco     \u001b[0m\n",
       "\u001b[1m     \u001b[0m│\u001b[90m Float64 \u001b[0m\u001b[90m Float64 \u001b[0m\n",
       "─────┼──────────────────\n",
       "   1 │  170.73   89.923\n",
       "   2 │  107.54   70.32\n",
       "   3 │  130.56   30.882\n",
       "   4 │  135.89   90.798\n",
       "   5 │  166.1    61.775"
      ]
     },
     "execution_count": 297,
     "metadata": {},
     "output_type": "execute_result"
    }
   ],
   "source": [
    "lf_b3"
   ]
  },
  {
   "cell_type": "code",
   "execution_count": 295,
   "id": "fe745e99",
   "metadata": {},
   "outputs": [
    {
     "data": {
      "image/svg+xml": [
       "<?xml version=\"1.0\" encoding=\"utf-8\"?>\n",
       "<svg xmlns=\"http://www.w3.org/2000/svg\" xmlns:xlink=\"http://www.w3.org/1999/xlink\" width=\"600\" height=\"400\" viewBox=\"0 0 2400 1600\">\n",
       "<defs>\n",
       "  <clipPath id=\"clip400\">\n",
       "    <rect x=\"0\" y=\"0\" width=\"2400\" height=\"1600\"/>\n",
       "  </clipPath>\n",
       "</defs>\n",
       "<path clip-path=\"url(#clip400)\" d=\"\n",
       "M0 1600 L2400 1600 L2400 0 L0 0  Z\n",
       "  \" fill=\"#ffffff\" fill-rule=\"evenodd\" fill-opacity=\"1\"/>\n",
       "<defs>\n",
       "  <clipPath id=\"clip401\">\n",
       "    <rect x=\"480\" y=\"0\" width=\"1681\" height=\"1600\"/>\n",
       "  </clipPath>\n",
       "</defs>\n",
       "<path clip-path=\"url(#clip400)\" d=\"\n",
       "M756.2 1486.45 L2352.76 1486.45 L2352.76 123.472 L756.2 123.472  Z\n",
       "  \" fill=\"#ffffff\" fill-rule=\"evenodd\" fill-opacity=\"1\"/>\n",
       "<defs>\n",
       "  <clipPath id=\"clip402\">\n",
       "    <rect x=\"756\" y=\"123\" width=\"1598\" height=\"1364\"/>\n",
       "  </clipPath>\n",
       "</defs>\n",
       "<polyline clip-path=\"url(#clip402)\" style=\"stroke:#000000; stroke-linecap:butt; stroke-linejoin:round; stroke-width:2; stroke-opacity:0.1; fill:none\" points=\"\n",
       "  1091.63,1486.45 1091.63,123.472 \n",
       "  \"/>\n",
       "<polyline clip-path=\"url(#clip402)\" style=\"stroke:#000000; stroke-linecap:butt; stroke-linejoin:round; stroke-width:2; stroke-opacity:0.1; fill:none\" points=\"\n",
       "  1429.91,1486.45 1429.91,123.472 \n",
       "  \"/>\n",
       "<polyline clip-path=\"url(#clip402)\" style=\"stroke:#000000; stroke-linecap:butt; stroke-linejoin:round; stroke-width:2; stroke-opacity:0.1; fill:none\" points=\"\n",
       "  1768.19,1486.45 1768.19,123.472 \n",
       "  \"/>\n",
       "<polyline clip-path=\"url(#clip402)\" style=\"stroke:#000000; stroke-linecap:butt; stroke-linejoin:round; stroke-width:2; stroke-opacity:0.1; fill:none\" points=\"\n",
       "  2106.46,1486.45 2106.46,123.472 \n",
       "  \"/>\n",
       "<polyline clip-path=\"url(#clip400)\" style=\"stroke:#000000; stroke-linecap:butt; stroke-linejoin:round; stroke-width:4; stroke-opacity:1; fill:none\" points=\"\n",
       "  756.2,1486.45 2352.76,1486.45 \n",
       "  \"/>\n",
       "<polyline clip-path=\"url(#clip400)\" style=\"stroke:#000000; stroke-linecap:butt; stroke-linejoin:round; stroke-width:4; stroke-opacity:1; fill:none\" points=\"\n",
       "  1091.63,1486.45 1091.63,1467.55 \n",
       "  \"/>\n",
       "<polyline clip-path=\"url(#clip400)\" style=\"stroke:#000000; stroke-linecap:butt; stroke-linejoin:round; stroke-width:4; stroke-opacity:1; fill:none\" points=\"\n",
       "  1429.91,1486.45 1429.91,1467.55 \n",
       "  \"/>\n",
       "<polyline clip-path=\"url(#clip400)\" style=\"stroke:#000000; stroke-linecap:butt; stroke-linejoin:round; stroke-width:4; stroke-opacity:1; fill:none\" points=\"\n",
       "  1768.19,1486.45 1768.19,1467.55 \n",
       "  \"/>\n",
       "<polyline clip-path=\"url(#clip400)\" style=\"stroke:#000000; stroke-linecap:butt; stroke-linejoin:round; stroke-width:4; stroke-opacity:1; fill:none\" points=\"\n",
       "  2106.46,1486.45 2106.46,1467.55 \n",
       "  \"/>\n",
       "<path clip-path=\"url(#clip400)\" d=\"M1051.24 1544.91 L1058.87 1544.91 L1058.87 1518.55 L1050.56 1520.21 L1050.56 1515.95 L1058.83 1514.29 L1063.5 1514.29 L1063.5 1544.91 L1071.14 1544.91 L1071.14 1548.85 L1051.24 1548.85 L1051.24 1544.91 Z\" fill=\"#000000\" fill-rule=\"evenodd\" fill-opacity=\"1\" /><path clip-path=\"url(#clip400)\" d=\"M1084.61 1544.91 L1100.93 1544.91 L1100.93 1548.85 L1078.99 1548.85 L1078.99 1544.91 Q1081.65 1542.16 1086.24 1537.53 Q1090.84 1532.88 1092.02 1531.53 Q1094.27 1529.01 1095.15 1527.27 Q1096.05 1525.51 1096.05 1523.82 Q1096.05 1521.07 1094.11 1519.33 Q1092.18 1517.6 1089.08 1517.6 Q1086.88 1517.6 1084.43 1518.36 Q1082 1519.13 1079.22 1520.68 L1079.22 1515.95 Q1082.05 1514.82 1084.5 1514.24 Q1086.95 1513.66 1088.99 1513.66 Q1094.36 1513.66 1097.55 1516.35 Q1100.75 1519.03 1100.75 1523.52 Q1100.75 1525.65 1099.94 1527.57 Q1099.15 1529.47 1097.05 1532.07 Q1096.47 1532.74 1093.36 1535.95 Q1090.26 1539.15 1084.61 1544.91 Z\" fill=\"#000000\" fill-rule=\"evenodd\" fill-opacity=\"1\" /><path clip-path=\"url(#clip400)\" d=\"M1120.75 1517.37 Q1117.14 1517.37 1115.31 1520.93 Q1113.5 1524.47 1113.5 1531.6 Q1113.5 1538.71 1115.31 1542.27 Q1117.14 1545.82 1120.75 1545.82 Q1124.38 1545.82 1126.19 1542.27 Q1128.02 1538.71 1128.02 1531.6 Q1128.02 1524.47 1126.19 1520.93 Q1124.38 1517.37 1120.75 1517.37 M1120.75 1513.66 Q1126.56 1513.66 1129.61 1518.27 Q1132.69 1522.85 1132.69 1531.6 Q1132.69 1540.33 1129.61 1544.94 Q1126.56 1549.52 1120.75 1549.52 Q1114.94 1549.52 1111.86 1544.94 Q1108.8 1540.33 1108.8 1531.6 Q1108.8 1522.85 1111.86 1518.27 Q1114.94 1513.66 1120.75 1513.66 Z\" fill=\"#000000\" fill-rule=\"evenodd\" fill-opacity=\"1\" /><path clip-path=\"url(#clip400)\" d=\"M1389.51 1544.91 L1397.15 1544.91 L1397.15 1518.55 L1388.84 1520.21 L1388.84 1515.95 L1397.11 1514.29 L1401.78 1514.29 L1401.78 1544.91 L1409.42 1544.91 L1409.42 1548.85 L1389.51 1548.85 L1389.51 1544.91 Z\" fill=\"#000000\" fill-rule=\"evenodd\" fill-opacity=\"1\" /><path clip-path=\"url(#clip400)\" d=\"M1431.71 1518.36 L1419.91 1536.81 L1431.71 1536.81 L1431.71 1518.36 M1430.49 1514.29 L1436.37 1514.29 L1436.37 1536.81 L1441.3 1536.81 L1441.3 1540.7 L1436.37 1540.7 L1436.37 1548.85 L1431.71 1548.85 L1431.71 1540.7 L1416.11 1540.7 L1416.11 1536.19 L1430.49 1514.29 Z\" fill=\"#000000\" fill-rule=\"evenodd\" fill-opacity=\"1\" /><path clip-path=\"url(#clip400)\" d=\"M1459.03 1517.37 Q1455.42 1517.37 1453.59 1520.93 Q1451.78 1524.47 1451.78 1531.6 Q1451.78 1538.71 1453.59 1542.27 Q1455.42 1545.82 1459.03 1545.82 Q1462.66 1545.82 1464.47 1542.27 Q1466.3 1538.71 1466.3 1531.6 Q1466.3 1524.47 1464.47 1520.93 Q1462.66 1517.37 1459.03 1517.37 M1459.03 1513.66 Q1464.84 1513.66 1467.89 1518.27 Q1470.97 1522.85 1470.97 1531.6 Q1470.97 1540.33 1467.89 1544.94 Q1464.84 1549.52 1459.03 1549.52 Q1453.22 1549.52 1450.14 1544.94 Q1447.08 1540.33 1447.08 1531.6 Q1447.08 1522.85 1450.14 1518.27 Q1453.22 1513.66 1459.03 1513.66 Z\" fill=\"#000000\" fill-rule=\"evenodd\" fill-opacity=\"1\" /><path clip-path=\"url(#clip400)\" d=\"M1727.79 1544.91 L1735.43 1544.91 L1735.43 1518.55 L1727.12 1520.21 L1727.12 1515.95 L1735.38 1514.29 L1740.06 1514.29 L1740.06 1544.91 L1747.7 1544.91 L1747.7 1548.85 L1727.79 1548.85 L1727.79 1544.91 Z\" fill=\"#000000\" fill-rule=\"evenodd\" fill-opacity=\"1\" /><path clip-path=\"url(#clip400)\" d=\"M1767.72 1529.7 Q1764.57 1529.7 1762.72 1531.86 Q1760.89 1534.01 1760.89 1537.76 Q1760.89 1541.49 1762.72 1543.66 Q1764.57 1545.82 1767.72 1545.82 Q1770.87 1545.82 1772.7 1543.66 Q1774.55 1541.49 1774.55 1537.76 Q1774.55 1534.01 1772.7 1531.86 Q1770.87 1529.7 1767.72 1529.7 M1777 1515.05 L1777 1519.31 Q1775.25 1518.48 1773.44 1518.04 Q1771.66 1517.6 1769.9 1517.6 Q1765.27 1517.6 1762.82 1520.72 Q1760.38 1523.85 1760.04 1530.17 Q1761.4 1528.15 1763.46 1527.09 Q1765.52 1526 1768 1526 Q1773.21 1526 1776.22 1529.17 Q1779.25 1532.32 1779.25 1537.76 Q1779.25 1543.08 1776.1 1546.3 Q1772.95 1549.52 1767.72 1549.52 Q1761.73 1549.52 1758.56 1544.94 Q1755.38 1540.33 1755.38 1531.6 Q1755.38 1523.41 1759.27 1518.55 Q1763.16 1513.66 1769.71 1513.66 Q1771.47 1513.66 1773.25 1514.01 Q1775.06 1514.36 1777 1515.05 Z\" fill=\"#000000\" fill-rule=\"evenodd\" fill-opacity=\"1\" /><path clip-path=\"url(#clip400)\" d=\"M1797.31 1517.37 Q1793.69 1517.37 1791.87 1520.93 Q1790.06 1524.47 1790.06 1531.6 Q1790.06 1538.71 1791.87 1542.27 Q1793.69 1545.82 1797.31 1545.82 Q1800.94 1545.82 1802.75 1542.27 Q1804.57 1538.71 1804.57 1531.6 Q1804.57 1524.47 1802.75 1520.93 Q1800.94 1517.37 1797.31 1517.37 M1797.31 1513.66 Q1803.12 1513.66 1806.17 1518.27 Q1809.25 1522.85 1809.25 1531.6 Q1809.25 1540.33 1806.17 1544.94 Q1803.12 1549.52 1797.31 1549.52 Q1791.5 1549.52 1788.42 1544.94 Q1785.36 1540.33 1785.36 1531.6 Q1785.36 1522.85 1788.42 1518.27 Q1791.5 1513.66 1797.31 1513.66 Z\" fill=\"#000000\" fill-rule=\"evenodd\" fill-opacity=\"1\" /><path clip-path=\"url(#clip400)\" d=\"M2066.07 1544.91 L2073.71 1544.91 L2073.71 1518.55 L2065.4 1520.21 L2065.4 1515.95 L2073.66 1514.29 L2078.34 1514.29 L2078.34 1544.91 L2085.98 1544.91 L2085.98 1548.85 L2066.07 1548.85 L2066.07 1544.91 Z\" fill=\"#000000\" fill-rule=\"evenodd\" fill-opacity=\"1\" /><path clip-path=\"url(#clip400)\" d=\"M2105.42 1532.44 Q2102.09 1532.44 2100.17 1534.22 Q2098.27 1536 2098.27 1539.13 Q2098.27 1542.25 2100.17 1544.03 Q2102.09 1545.82 2105.42 1545.82 Q2108.76 1545.82 2110.68 1544.03 Q2112.6 1542.23 2112.6 1539.13 Q2112.6 1536 2110.68 1534.22 Q2108.78 1532.44 2105.42 1532.44 M2100.75 1530.45 Q2097.74 1529.7 2096.05 1527.64 Q2094.38 1525.58 2094.38 1522.62 Q2094.38 1518.48 2097.32 1516.07 Q2100.28 1513.66 2105.42 1513.66 Q2110.58 1513.66 2113.52 1516.07 Q2116.46 1518.48 2116.46 1522.62 Q2116.46 1525.58 2114.77 1527.64 Q2113.11 1529.7 2110.12 1530.45 Q2113.5 1531.23 2115.38 1533.52 Q2117.27 1535.82 2117.27 1539.13 Q2117.27 1544.15 2114.2 1546.83 Q2111.14 1549.52 2105.42 1549.52 Q2099.7 1549.52 2096.63 1546.83 Q2093.57 1544.15 2093.57 1539.13 Q2093.57 1535.82 2095.47 1533.52 Q2097.37 1531.23 2100.75 1530.45 M2099.03 1523.06 Q2099.03 1525.75 2100.7 1527.25 Q2102.39 1528.76 2105.42 1528.76 Q2108.43 1528.76 2110.12 1527.25 Q2111.83 1525.75 2111.83 1523.06 Q2111.83 1520.38 2110.12 1518.87 Q2108.43 1517.37 2105.42 1517.37 Q2102.39 1517.37 2100.7 1518.87 Q2099.03 1520.38 2099.03 1523.06 Z\" fill=\"#000000\" fill-rule=\"evenodd\" fill-opacity=\"1\" /><path clip-path=\"url(#clip400)\" d=\"M2135.58 1517.37 Q2131.97 1517.37 2130.14 1520.93 Q2128.34 1524.47 2128.34 1531.6 Q2128.34 1538.71 2130.14 1542.27 Q2131.97 1545.82 2135.58 1545.82 Q2139.22 1545.82 2141.02 1542.27 Q2142.85 1538.71 2142.85 1531.6 Q2142.85 1524.47 2141.02 1520.93 Q2139.22 1517.37 2135.58 1517.37 M2135.58 1513.66 Q2141.39 1513.66 2144.45 1518.27 Q2147.53 1522.85 2147.53 1531.6 Q2147.53 1540.33 2144.45 1544.94 Q2141.39 1549.52 2135.58 1549.52 Q2129.77 1549.52 2126.7 1544.94 Q2123.64 1540.33 2123.64 1531.6 Q2123.64 1522.85 2126.7 1518.27 Q2129.77 1513.66 2135.58 1513.66 Z\" fill=\"#000000\" fill-rule=\"evenodd\" fill-opacity=\"1\" /><polyline clip-path=\"url(#clip402)\" style=\"stroke:#000000; stroke-linecap:butt; stroke-linejoin:round; stroke-width:2; stroke-opacity:0.1; fill:none\" points=\"\n",
       "  756.2,1465.43 2352.76,1465.43 \n",
       "  \"/>\n",
       "<polyline clip-path=\"url(#clip402)\" style=\"stroke:#000000; stroke-linecap:butt; stroke-linejoin:round; stroke-width:2; stroke-opacity:0.1; fill:none\" points=\"\n",
       "  756.2,1133.98 2352.76,1133.98 \n",
       "  \"/>\n",
       "<polyline clip-path=\"url(#clip402)\" style=\"stroke:#000000; stroke-linecap:butt; stroke-linejoin:round; stroke-width:2; stroke-opacity:0.1; fill:none\" points=\"\n",
       "  756.2,802.53 2352.76,802.53 \n",
       "  \"/>\n",
       "<polyline clip-path=\"url(#clip402)\" style=\"stroke:#000000; stroke-linecap:butt; stroke-linejoin:round; stroke-width:2; stroke-opacity:0.1; fill:none\" points=\"\n",
       "  756.2,471.079 2352.76,471.079 \n",
       "  \"/>\n",
       "<polyline clip-path=\"url(#clip402)\" style=\"stroke:#000000; stroke-linecap:butt; stroke-linejoin:round; stroke-width:2; stroke-opacity:0.1; fill:none\" points=\"\n",
       "  756.2,139.628 2352.76,139.628 \n",
       "  \"/>\n",
       "<polyline clip-path=\"url(#clip400)\" style=\"stroke:#000000; stroke-linecap:butt; stroke-linejoin:round; stroke-width:4; stroke-opacity:1; fill:none\" points=\"\n",
       "  756.2,1486.45 756.2,123.472 \n",
       "  \"/>\n",
       "<polyline clip-path=\"url(#clip400)\" style=\"stroke:#000000; stroke-linecap:butt; stroke-linejoin:round; stroke-width:4; stroke-opacity:1; fill:none\" points=\"\n",
       "  756.2,1465.43 770.017,1465.43 \n",
       "  \"/>\n",
       "<polyline clip-path=\"url(#clip400)\" style=\"stroke:#000000; stroke-linecap:butt; stroke-linejoin:round; stroke-width:4; stroke-opacity:1; fill:none\" points=\"\n",
       "  756.2,1133.98 770.017,1133.98 \n",
       "  \"/>\n",
       "<polyline clip-path=\"url(#clip400)\" style=\"stroke:#000000; stroke-linecap:butt; stroke-linejoin:round; stroke-width:4; stroke-opacity:1; fill:none\" points=\"\n",
       "  756.2,802.53 770.017,802.53 \n",
       "  \"/>\n",
       "<polyline clip-path=\"url(#clip400)\" style=\"stroke:#000000; stroke-linecap:butt; stroke-linejoin:round; stroke-width:4; stroke-opacity:1; fill:none\" points=\"\n",
       "  756.2,471.079 770.017,471.079 \n",
       "  \"/>\n",
       "<polyline clip-path=\"url(#clip400)\" style=\"stroke:#000000; stroke-linecap:butt; stroke-linejoin:round; stroke-width:4; stroke-opacity:1; fill:none\" points=\"\n",
       "  756.2,139.628 770.017,139.628 \n",
       "  \"/>\n",
       "<path clip-path=\"url(#clip400)\" d=\"M708.256 1451.23 Q704.645 1451.23 702.816 1454.8 Q701.011 1458.34 701.011 1465.47 Q701.011 1472.57 702.816 1476.14 Q704.645 1479.68 708.256 1479.68 Q711.89 1479.68 713.696 1476.14 Q715.525 1472.57 715.525 1465.47 Q715.525 1458.34 713.696 1454.8 Q711.89 1451.23 708.256 1451.23 M708.256 1447.53 Q714.066 1447.53 717.122 1452.13 Q720.2 1456.72 720.2 1465.47 Q720.2 1474.19 717.122 1478.8 Q714.066 1483.38 708.256 1483.38 Q702.446 1483.38 699.367 1478.8 Q696.312 1474.19 696.312 1465.47 Q696.312 1456.72 699.367 1452.13 Q702.446 1447.53 708.256 1447.53 Z\" fill=\"#000000\" fill-rule=\"evenodd\" fill-opacity=\"1\" /><path clip-path=\"url(#clip400)\" d=\"M673.117 1147.33 L689.437 1147.33 L689.437 1151.26 L667.492 1151.26 L667.492 1147.33 Q670.154 1144.57 674.738 1139.94 Q679.344 1135.29 680.525 1133.95 Q682.77 1131.42 683.65 1129.69 Q684.552 1127.93 684.552 1126.24 Q684.552 1123.48 682.608 1121.75 Q680.687 1120.01 677.585 1120.01 Q675.386 1120.01 672.932 1120.77 Q670.502 1121.54 667.724 1123.09 L667.724 1118.37 Q670.548 1117.23 673.002 1116.65 Q675.455 1116.08 677.492 1116.08 Q682.863 1116.08 686.057 1118.76 Q689.252 1121.45 689.252 1125.94 Q689.252 1128.07 688.441 1129.99 Q687.654 1131.89 685.548 1134.48 Q684.969 1135.15 681.867 1138.37 Q678.765 1141.56 673.117 1147.33 Z\" fill=\"#000000\" fill-rule=\"evenodd\" fill-opacity=\"1\" /><path clip-path=\"url(#clip400)\" d=\"M699.298 1116.7 L717.654 1116.7 L717.654 1120.64 L703.58 1120.64 L703.58 1129.11 Q704.599 1128.76 705.617 1128.6 Q706.636 1128.41 707.654 1128.41 Q713.441 1128.41 716.821 1131.59 Q720.2 1134.76 720.2 1140.17 Q720.2 1145.75 716.728 1148.85 Q713.256 1151.93 706.937 1151.93 Q704.761 1151.93 702.492 1151.56 Q700.247 1151.19 697.839 1150.45 L697.839 1145.75 Q699.923 1146.89 702.145 1147.44 Q704.367 1148 706.844 1148 Q710.849 1148 713.187 1145.89 Q715.525 1143.78 715.525 1140.17 Q715.525 1136.56 713.187 1134.46 Q710.849 1132.35 706.844 1132.35 Q704.969 1132.35 703.094 1132.77 Q701.242 1133.18 699.298 1134.06 L699.298 1116.7 Z\" fill=\"#000000\" fill-rule=\"evenodd\" fill-opacity=\"1\" /><path clip-path=\"url(#clip400)\" d=\"M668.141 785.25 L686.497 785.25 L686.497 789.185 L672.423 789.185 L672.423 797.657 Q673.441 797.31 674.46 797.148 Q675.478 796.963 676.497 796.963 Q682.284 796.963 685.664 800.134 Q689.043 803.305 689.043 808.722 Q689.043 814.301 685.571 817.402 Q682.099 820.481 675.779 820.481 Q673.603 820.481 671.335 820.111 Q669.09 819.74 666.682 819 L666.682 814.301 Q668.766 815.435 670.988 815.99 Q673.21 816.546 675.687 816.546 Q679.691 816.546 682.029 814.439 Q684.367 812.333 684.367 808.722 Q684.367 805.111 682.029 803.004 Q679.691 800.898 675.687 800.898 Q673.812 800.898 671.937 801.315 Q670.085 801.731 668.141 802.611 L668.141 785.25 Z\" fill=\"#000000\" fill-rule=\"evenodd\" fill-opacity=\"1\" /><path clip-path=\"url(#clip400)\" d=\"M708.256 788.328 Q704.645 788.328 702.816 791.893 Q701.011 795.435 701.011 802.565 Q701.011 809.671 702.816 813.236 Q704.645 816.777 708.256 816.777 Q711.89 816.777 713.696 813.236 Q715.525 809.671 715.525 802.565 Q715.525 795.435 713.696 791.893 Q711.89 788.328 708.256 788.328 M708.256 784.625 Q714.066 784.625 717.122 789.231 Q720.2 793.815 720.2 802.565 Q720.2 811.291 717.122 815.898 Q714.066 820.481 708.256 820.481 Q702.446 820.481 699.367 815.898 Q696.312 811.291 696.312 802.565 Q696.312 793.815 699.367 789.231 Q702.446 784.625 708.256 784.625 Z\" fill=\"#000000\" fill-rule=\"evenodd\" fill-opacity=\"1\" /><path clip-path=\"url(#clip400)\" d=\"M667.909 453.799 L690.131 453.799 L690.131 455.789 L677.585 488.359 L672.701 488.359 L684.506 457.734 L667.909 457.734 L667.909 453.799 Z\" fill=\"#000000\" fill-rule=\"evenodd\" fill-opacity=\"1\" /><path clip-path=\"url(#clip400)\" d=\"M699.298 453.799 L717.654 453.799 L717.654 457.734 L703.58 457.734 L703.58 466.206 Q704.599 465.859 705.617 465.697 Q706.636 465.512 707.654 465.512 Q713.441 465.512 716.821 468.683 Q720.2 471.854 720.2 477.271 Q720.2 482.849 716.728 485.951 Q713.256 489.03 706.937 489.03 Q704.761 489.03 702.492 488.66 Q700.247 488.289 697.839 487.548 L697.839 482.849 Q699.923 483.984 702.145 484.539 Q704.367 485.095 706.844 485.095 Q710.849 485.095 713.187 482.988 Q715.525 480.882 715.525 477.271 Q715.525 473.66 713.187 471.553 Q710.849 469.447 706.844 469.447 Q704.969 469.447 703.094 469.863 Q701.242 470.28 699.298 471.16 L699.298 453.799 Z\" fill=\"#000000\" fill-rule=\"evenodd\" fill-opacity=\"1\" /><path clip-path=\"url(#clip400)\" d=\"M638.743 152.972 L646.381 152.972 L646.381 126.607 L638.071 128.273 L638.071 124.014 L646.335 122.348 L651.011 122.348 L651.011 152.972 L658.65 152.972 L658.65 156.908 L638.743 156.908 L638.743 152.972 Z\" fill=\"#000000\" fill-rule=\"evenodd\" fill-opacity=\"1\" /><path clip-path=\"url(#clip400)\" d=\"M678.094 125.426 Q674.483 125.426 672.654 128.991 Q670.849 132.533 670.849 139.662 Q670.849 146.769 672.654 150.334 Q674.483 153.875 678.094 153.875 Q681.728 153.875 683.534 150.334 Q685.363 146.769 685.363 139.662 Q685.363 132.533 683.534 128.991 Q681.728 125.426 678.094 125.426 M678.094 121.723 Q683.904 121.723 686.96 126.329 Q690.039 130.912 690.039 139.662 Q690.039 148.389 686.96 152.996 Q683.904 157.579 678.094 157.579 Q672.284 157.579 669.205 152.996 Q666.15 148.389 666.15 139.662 Q666.15 130.912 669.205 126.329 Q672.284 121.723 678.094 121.723 Z\" fill=\"#000000\" fill-rule=\"evenodd\" fill-opacity=\"1\" /><path clip-path=\"url(#clip400)\" d=\"M708.256 125.426 Q704.645 125.426 702.816 128.991 Q701.011 132.533 701.011 139.662 Q701.011 146.769 702.816 150.334 Q704.645 153.875 708.256 153.875 Q711.89 153.875 713.696 150.334 Q715.525 146.769 715.525 139.662 Q715.525 132.533 713.696 128.991 Q711.89 125.426 708.256 125.426 M708.256 121.723 Q714.066 121.723 717.122 126.329 Q720.2 130.912 720.2 139.662 Q720.2 148.389 717.122 152.996 Q714.066 157.579 708.256 157.579 Q702.446 157.579 699.367 152.996 Q696.312 148.389 696.312 139.662 Q696.312 130.912 699.367 126.329 Q702.446 121.723 708.256 121.723 Z\" fill=\"#000000\" fill-rule=\"evenodd\" fill-opacity=\"1\" /><path clip-path=\"url(#clip400)\" d=\"M872.569 12.096 L880.752 12.096 L880.752 65.6895 L910.202 65.6895 L910.202 72.576 L872.569 72.576 L872.569 12.096 Z\" fill=\"#000000\" fill-rule=\"evenodd\" fill-opacity=\"1\" /><path clip-path=\"url(#clip400)\" d=\"M939.085 49.7694 Q930.052 49.7694 926.568 51.8354 Q923.084 53.9013 923.084 58.8839 Q923.084 62.8538 925.677 65.2034 Q928.31 67.5124 932.806 67.5124 Q939.004 67.5124 942.731 63.1374 Q946.498 58.7219 946.498 51.4303 L946.498 49.7694 L939.085 49.7694 M953.952 46.6907 L953.952 72.576 L946.498 72.576 L946.498 65.6895 Q943.946 69.8214 940.138 71.8063 Q936.33 73.7508 930.821 73.7508 Q923.854 73.7508 919.722 69.8619 Q915.63 65.9325 915.63 59.3701 Q915.63 51.7138 920.734 47.825 Q925.879 43.9361 936.047 43.9361 L946.498 43.9361 L946.498 43.2069 Q946.498 38.0623 943.095 35.2672 Q939.733 32.4315 933.616 32.4315 Q929.727 32.4315 926.041 33.3632 Q922.355 34.295 918.952 36.1584 L918.952 29.2718 Q923.043 27.692 926.892 26.9223 Q930.74 26.1121 934.386 26.1121 Q944.23 26.1121 949.091 31.2163 Q953.952 36.3204 953.952 46.6907 Z\" fill=\"#000000\" fill-rule=\"evenodd\" fill-opacity=\"1\" /><path clip-path=\"url(#clip400)\" d=\"M1007.02 45.1919 L1007.02 72.576 L999.565 72.576 L999.565 45.4349 Q999.565 38.994 997.053 35.7938 Q994.542 32.5936 989.519 32.5936 Q983.483 32.5936 979.999 36.4419 Q976.515 40.2903 976.515 46.9338 L976.515 72.576 L969.021 72.576 L969.021 27.2059 L976.515 27.2059 L976.515 34.2544 Q979.189 30.163 982.794 28.1376 Q986.44 26.1121 991.18 26.1121 Q998.998 26.1121 1003.01 30.9732 Q1007.02 35.7938 1007.02 45.1919 Z\" fill=\"#000000\" fill-rule=\"evenodd\" fill-opacity=\"1\" /><path clip-path=\"url(#clip400)\" d=\"M1051.74 34.0924 L1051.74 9.54393 L1059.19 9.54393 L1059.19 72.576 L1051.74 72.576 L1051.74 65.7705 Q1049.39 69.8214 1045.79 71.8063 Q1042.22 73.7508 1037.2 73.7508 Q1028.97 73.7508 1023.79 67.1883 Q1018.64 60.6258 1018.64 49.9314 Q1018.64 39.2371 1023.79 32.6746 Q1028.97 26.1121 1037.2 26.1121 Q1042.22 26.1121 1045.79 28.0971 Q1049.39 30.0415 1051.74 34.0924 M1026.34 49.9314 Q1026.34 58.1548 1029.7 62.8538 Q1033.11 67.5124 1039.02 67.5124 Q1044.94 67.5124 1048.34 62.8538 Q1051.74 58.1548 1051.74 49.9314 Q1051.74 41.7081 1048.34 37.0496 Q1044.94 32.3505 1039.02 32.3505 Q1033.11 32.3505 1029.7 37.0496 Q1026.34 41.7081 1026.34 49.9314 Z\" fill=\"#000000\" fill-rule=\"evenodd\" fill-opacity=\"1\" /><path clip-path=\"url(#clip400)\" d=\"M1097.52 9.54393 L1097.52 15.7418 L1090.39 15.7418 Q1086.38 15.7418 1084.8 17.3622 Q1083.26 18.9825 1083.26 23.1955 L1083.26 27.2059 L1095.53 27.2059 L1095.53 32.9987 L1083.26 32.9987 L1083.26 72.576 L1075.76 72.576 L1075.76 32.9987 L1068.63 32.9987 L1068.63 27.2059 L1075.76 27.2059 L1075.76 24.0462 Q1075.76 16.471 1079.29 13.0277 Q1082.81 9.54393 1090.47 9.54393 L1097.52 9.54393 Z\" fill=\"#000000\" fill-rule=\"evenodd\" fill-opacity=\"1\" /><path clip-path=\"url(#clip400)\" d=\"M1103.75 27.2059 L1111.21 27.2059 L1111.21 72.576 L1103.75 72.576 L1103.75 27.2059 M1103.75 9.54393 L1111.21 9.54393 L1111.21 18.9825 L1103.75 18.9825 L1103.75 9.54393 Z\" fill=\"#000000\" fill-rule=\"evenodd\" fill-opacity=\"1\" /><path clip-path=\"url(#clip400)\" d=\"M1126.8 9.54393 L1134.26 9.54393 L1134.26 72.576 L1126.8 72.576 L1126.8 9.54393 Z\" fill=\"#000000\" fill-rule=\"evenodd\" fill-opacity=\"1\" /><path clip-path=\"url(#clip400)\" d=\"M1149.85 9.54393 L1157.31 9.54393 L1157.31 72.576 L1149.85 72.576 L1149.85 9.54393 Z\" fill=\"#000000\" fill-rule=\"evenodd\" fill-opacity=\"1\" /><path clip-path=\"url(#clip400)\" d=\"M1201.83 28.5427 L1201.83 35.5912 Q1198.67 33.9709 1195.26 33.1607 Q1191.86 32.3505 1188.22 32.3505 Q1182.67 32.3505 1179.87 34.0519 Q1177.12 35.7533 1177.12 39.156 Q1177.12 41.7486 1179.1 43.2475 Q1181.09 44.7058 1187.08 46.0426 L1189.63 46.6097 Q1197.57 48.3111 1200.89 51.4303 Q1204.26 54.509 1204.26 60.0587 Q1204.26 66.3781 1199.23 70.0644 Q1194.25 73.7508 1185.5 73.7508 Q1181.86 73.7508 1177.89 73.0216 Q1173.96 72.3329 1169.58 70.9151 L1169.58 63.2184 Q1173.71 65.3654 1177.72 66.4591 Q1181.73 67.5124 1185.66 67.5124 Q1190.93 67.5124 1193.77 65.73 Q1196.6 63.9071 1196.6 60.6258 Q1196.6 57.5877 1194.54 55.9673 Q1192.51 54.3469 1185.58 52.8481 L1182.99 52.2405 Q1176.06 50.7821 1172.98 47.7845 Q1169.91 44.7463 1169.91 39.4801 Q1169.91 33.0797 1174.44 29.5959 Q1178.98 26.1121 1187.32 26.1121 Q1191.46 26.1121 1195.1 26.7198 Q1198.75 27.3274 1201.83 28.5427 Z\" fill=\"#000000\" fill-rule=\"evenodd\" fill-opacity=\"1\" /><path clip-path=\"url(#clip400)\" d=\"M1254.85 40.0472 Q1251.17 43.3285 1249.42 46.6097 Q1247.72 49.8504 1247.72 53.4152 Q1247.72 59.3295 1252.02 63.2589 Q1256.31 67.1883 1262.79 67.1883 Q1266.64 67.1883 1270 65.9325 Q1273.37 64.6362 1276.32 62.0436 L1254.85 40.0472 M1260.56 35.5102 L1281.14 56.5749 Q1283.53 52.9696 1284.87 48.8782 Q1286.21 44.7463 1286.45 40.1283 L1293.98 40.1283 Q1293.5 45.4755 1291.39 50.7011 Q1289.29 55.9268 1285.52 61.0309 L1296.82 72.576 L1286.61 72.576 L1280.82 66.6212 Q1276.61 70.2265 1271.99 72.0089 Q1267.37 73.7508 1262.06 73.7508 Q1252.3 73.7508 1246.1 68.201 Q1239.91 62.6108 1239.91 53.9013 Q1239.91 48.7162 1242.62 44.1792 Q1245.33 39.6016 1250.76 35.5912 Q1248.82 33.0392 1247.8 30.5276 Q1246.79 27.9755 1246.79 25.545 Q1246.79 18.9825 1251.29 15.0127 Q1255.78 11.0023 1263.24 11.0023 Q1266.6 11.0023 1269.92 11.7314 Q1273.28 12.4606 1276.73 13.9189 L1276.73 21.2916 Q1273.2 19.3876 1270 18.4154 Q1266.8 17.4027 1264.05 17.4027 Q1259.8 17.4027 1257.12 19.6712 Q1254.49 21.8992 1254.49 25.464 Q1254.49 27.5299 1255.66 29.6364 Q1256.88 31.7024 1260.56 35.5102 Z\" fill=\"#000000\" fill-rule=\"evenodd\" fill-opacity=\"1\" /><path clip-path=\"url(#clip400)\" d=\"M1325.5 12.096 L1376.66 12.096 L1376.66 18.9825 L1355.19 18.9825 L1355.19 72.576 L1346.97 72.576 L1346.97 18.9825 L1325.5 18.9825 L1325.5 12.096 Z\" fill=\"#000000\" fill-rule=\"evenodd\" fill-opacity=\"1\" /><path clip-path=\"url(#clip400)\" d=\"M1398.34 34.1734 Q1397.08 33.4443 1395.58 33.1202 Q1394.12 32.7556 1392.34 32.7556 Q1386.02 32.7556 1382.62 36.8875 Q1379.26 40.9789 1379.26 48.6757 L1379.26 72.576 L1371.76 72.576 L1371.76 27.2059 L1379.26 27.2059 L1379.26 34.2544 Q1381.61 30.1225 1385.37 28.1376 Q1389.14 26.1121 1394.53 26.1121 Q1395.3 26.1121 1396.23 26.2337 Q1397.16 26.3147 1398.3 26.5172 L1398.34 34.1734 Z\" fill=\"#000000\" fill-rule=\"evenodd\" fill-opacity=\"1\" /><path clip-path=\"url(#clip400)\" d=\"M1426.77 49.7694 Q1417.74 49.7694 1414.26 51.8354 Q1410.77 53.9013 1410.77 58.8839 Q1410.77 62.8538 1413.36 65.2034 Q1416 67.5124 1420.49 67.5124 Q1426.69 67.5124 1430.42 63.1374 Q1434.19 58.7219 1434.19 51.4303 L1434.19 49.7694 L1426.77 49.7694 M1441.64 46.6907 L1441.64 72.576 L1434.19 72.576 L1434.19 65.6895 Q1431.63 69.8214 1427.83 71.8063 Q1424.02 73.7508 1418.51 73.7508 Q1411.54 73.7508 1407.41 69.8619 Q1403.32 65.9325 1403.32 59.3701 Q1403.32 51.7138 1408.42 47.825 Q1413.57 43.9361 1423.74 43.9361 L1434.19 43.9361 L1434.19 43.2069 Q1434.19 38.0623 1430.78 35.2672 Q1427.42 32.4315 1421.3 32.4315 Q1417.42 32.4315 1413.73 33.3632 Q1410.04 34.295 1406.64 36.1584 L1406.64 29.2718 Q1410.73 27.692 1414.58 26.9223 Q1418.43 26.1121 1422.07 26.1121 Q1431.92 26.1121 1436.78 31.2163 Q1441.64 36.3204 1441.64 46.6907 Z\" fill=\"#000000\" fill-rule=\"evenodd\" fill-opacity=\"1\" /><path clip-path=\"url(#clip400)\" d=\"M1494.71 45.1919 L1494.71 72.576 L1487.25 72.576 L1487.25 45.4349 Q1487.25 38.994 1484.74 35.7938 Q1482.23 32.5936 1477.21 32.5936 Q1471.17 32.5936 1467.69 36.4419 Q1464.2 40.2903 1464.2 46.9338 L1464.2 72.576 L1456.71 72.576 L1456.71 27.2059 L1464.2 27.2059 L1464.2 34.2544 Q1466.88 30.163 1470.48 28.1376 Q1474.13 26.1121 1478.87 26.1121 Q1486.69 26.1121 1490.7 30.9732 Q1494.71 35.7938 1494.71 45.1919 Z\" fill=\"#000000\" fill-rule=\"evenodd\" fill-opacity=\"1\" /><path clip-path=\"url(#clip400)\" d=\"M1538.5 28.5427 L1538.5 35.5912 Q1535.34 33.9709 1531.93 33.1607 Q1528.53 32.3505 1524.89 32.3505 Q1519.34 32.3505 1516.54 34.0519 Q1513.79 35.7533 1513.79 39.156 Q1513.79 41.7486 1515.77 43.2475 Q1517.76 44.7058 1523.75 46.0426 L1526.3 46.6097 Q1534.24 48.3111 1537.57 51.4303 Q1540.93 54.509 1540.93 60.0587 Q1540.93 66.3781 1535.9 70.0644 Q1530.92 73.7508 1522.17 73.7508 Q1518.53 73.7508 1514.56 73.0216 Q1510.63 72.3329 1506.25 70.9151 L1506.25 63.2184 Q1510.38 65.3654 1514.39 66.4591 Q1518.4 67.5124 1522.33 67.5124 Q1527.6 67.5124 1530.44 65.73 Q1533.27 63.9071 1533.27 60.6258 Q1533.27 57.5877 1531.21 55.9673 Q1529.18 54.3469 1522.25 52.8481 L1519.66 52.2405 Q1512.73 50.7821 1509.65 47.7845 Q1506.58 44.7463 1506.58 39.4801 Q1506.58 33.0797 1511.11 29.5959 Q1515.65 26.1121 1524 26.1121 Q1528.13 26.1121 1531.77 26.7198 Q1535.42 27.3274 1538.5 28.5427 Z\" fill=\"#000000\" fill-rule=\"evenodd\" fill-opacity=\"1\" /><path clip-path=\"url(#clip400)\" d=\"M1575.77 9.54393 L1575.77 15.7418 L1568.64 15.7418 Q1564.63 15.7418 1563.05 17.3622 Q1561.51 18.9825 1561.51 23.1955 L1561.51 27.2059 L1573.78 27.2059 L1573.78 32.9987 L1561.51 32.9987 L1561.51 72.576 L1554.01 72.576 L1554.01 32.9987 L1546.88 32.9987 L1546.88 27.2059 L1554.01 27.2059 L1554.01 24.0462 Q1554.01 16.471 1557.54 13.0277 Q1561.06 9.54393 1568.72 9.54393 L1575.77 9.54393 Z\" fill=\"#000000\" fill-rule=\"evenodd\" fill-opacity=\"1\" /><path clip-path=\"url(#clip400)\" d=\"M1620.81 48.0275 L1620.81 51.6733 L1586.54 51.6733 Q1587.03 59.3701 1591.16 63.421 Q1595.33 67.4314 1602.74 67.4314 Q1607.04 67.4314 1611.05 66.3781 Q1615.1 65.3249 1619.07 63.2184 L1619.07 70.267 Q1615.06 71.9684 1610.85 72.8596 Q1606.63 73.7508 1602.3 73.7508 Q1591.44 73.7508 1585.08 67.4314 Q1578.76 61.1119 1578.76 50.3365 Q1578.76 39.1965 1584.76 32.6746 Q1590.79 26.1121 1601 26.1121 Q1610.16 26.1121 1615.46 32.0264 Q1620.81 37.9003 1620.81 48.0275 M1613.36 45.84 Q1613.28 39.7232 1609.91 36.0774 Q1606.59 32.4315 1601.08 32.4315 Q1594.85 32.4315 1591.08 35.9558 Q1587.35 39.4801 1586.78 45.8805 L1613.36 45.84 Z\" fill=\"#000000\" fill-rule=\"evenodd\" fill-opacity=\"1\" /><path clip-path=\"url(#clip400)\" d=\"M1659.34 34.1734 Q1658.08 33.4443 1656.58 33.1202 Q1655.12 32.7556 1653.34 32.7556 Q1647.02 32.7556 1643.62 36.8875 Q1640.26 40.9789 1640.26 48.6757 L1640.26 72.576 L1632.76 72.576 L1632.76 27.2059 L1640.26 27.2059 L1640.26 34.2544 Q1642.61 30.1225 1646.37 28.1376 Q1650.14 26.1121 1655.53 26.1121 Q1656.3 26.1121 1657.23 26.2337 Q1658.16 26.3147 1659.3 26.5172 L1659.34 34.1734 Z\" fill=\"#000000\" fill-rule=\"evenodd\" fill-opacity=\"1\" /><path clip-path=\"url(#clip400)\" d=\"M1730.11 14.0809 L1730.11 22.0612 Q1725.45 19.8332 1721.31 18.7395 Q1717.18 17.6457 1713.33 17.6457 Q1706.65 17.6457 1703 20.2383 Q1699.4 22.8309 1699.4 27.611 Q1699.4 31.6214 1701.79 33.6873 Q1704.22 35.7128 1710.94 36.9686 L1715.89 37.9813 Q1725.04 39.7232 1729.38 44.1387 Q1733.75 48.5136 1733.75 55.8863 Q1733.75 64.6767 1727.84 69.2137 Q1721.96 73.7508 1710.58 73.7508 Q1706.29 73.7508 1701.42 72.7785 Q1696.6 71.8063 1691.42 69.9024 L1691.42 61.4765 Q1696.4 64.2716 1701.18 65.6895 Q1705.96 67.1073 1710.58 67.1073 Q1717.59 67.1073 1721.4 64.3527 Q1725.2 61.598 1725.2 56.4939 Q1725.2 52.0379 1722.45 49.5264 Q1719.73 47.0148 1713.5 45.759 L1708.51 44.7868 Q1699.36 42.9639 1695.27 39.075 Q1691.18 35.1862 1691.18 28.2591 Q1691.18 20.2383 1696.81 15.6203 Q1702.48 11.0023 1712.4 11.0023 Q1716.66 11.0023 1721.07 11.7719 Q1725.49 12.5416 1730.11 14.0809 Z\" fill=\"#000000\" fill-rule=\"evenodd\" fill-opacity=\"1\" /><path clip-path=\"url(#clip400)\" d=\"M1753.56 14.324 L1753.56 27.2059 L1768.91 27.2059 L1768.91 32.9987 L1753.56 32.9987 L1753.56 57.6282 Q1753.56 63.1779 1755.06 64.7578 Q1756.6 66.3376 1761.26 66.3376 L1768.91 66.3376 L1768.91 72.576 L1761.26 72.576 Q1752.63 72.576 1749.35 69.3758 Q1746.07 66.1351 1746.07 57.6282 L1746.07 32.9987 L1740.6 32.9987 L1740.6 27.2059 L1746.07 27.2059 L1746.07 14.324 L1753.56 14.324 Z\" fill=\"#000000\" fill-rule=\"evenodd\" fill-opacity=\"1\" /><path clip-path=\"url(#clip400)\" d=\"M1799.34 49.7694 Q1790.3 49.7694 1786.82 51.8354 Q1783.33 53.9013 1783.33 58.8839 Q1783.33 62.8538 1785.93 65.2034 Q1788.56 67.5124 1793.06 67.5124 Q1799.25 67.5124 1802.98 63.1374 Q1806.75 58.7219 1806.75 51.4303 L1806.75 49.7694 L1799.34 49.7694 M1814.2 46.6907 L1814.2 72.576 L1806.75 72.576 L1806.75 65.6895 Q1804.2 69.8214 1800.39 71.8063 Q1796.58 73.7508 1791.07 73.7508 Q1784.1 73.7508 1779.97 69.8619 Q1775.88 65.9325 1775.88 59.3701 Q1775.88 51.7138 1780.98 47.825 Q1786.13 43.9361 1796.3 43.9361 L1806.75 43.9361 L1806.75 43.2069 Q1806.75 38.0623 1803.35 35.2672 Q1799.98 32.4315 1793.87 32.4315 Q1789.98 32.4315 1786.29 33.3632 Q1782.6 34.295 1779.2 36.1584 L1779.2 29.2718 Q1783.29 27.692 1787.14 26.9223 Q1790.99 26.1121 1794.64 26.1121 Q1804.48 26.1121 1809.34 31.2163 Q1814.2 36.3204 1814.2 46.6907 Z\" fill=\"#000000\" fill-rule=\"evenodd\" fill-opacity=\"1\" /><path clip-path=\"url(#clip400)\" d=\"M1836.93 14.324 L1836.93 27.2059 L1852.28 27.2059 L1852.28 32.9987 L1836.93 32.9987 L1836.93 57.6282 Q1836.93 63.1779 1838.43 64.7578 Q1839.97 66.3376 1844.62 66.3376 L1852.28 66.3376 L1852.28 72.576 L1844.62 72.576 Q1836 72.576 1832.71 69.3758 Q1829.43 66.1351 1829.43 57.6282 L1829.43 32.9987 L1823.96 32.9987 L1823.96 27.2059 L1829.43 27.2059 L1829.43 14.324 L1836.93 14.324 Z\" fill=\"#000000\" fill-rule=\"evenodd\" fill-opacity=\"1\" /><path clip-path=\"url(#clip400)\" d=\"M1862.08 27.2059 L1869.54 27.2059 L1869.54 72.576 L1862.08 72.576 L1862.08 27.2059 M1862.08 9.54393 L1869.54 9.54393 L1869.54 18.9825 L1862.08 18.9825 L1862.08 9.54393 Z\" fill=\"#000000\" fill-rule=\"evenodd\" fill-opacity=\"1\" /><path clip-path=\"url(#clip400)\" d=\"M1902.71 32.4315 Q1896.72 32.4315 1893.24 37.1306 Q1889.75 41.7891 1889.75 49.9314 Q1889.75 58.0738 1893.19 62.7728 Q1896.68 67.4314 1902.71 67.4314 Q1908.67 67.4314 1912.15 62.7323 Q1915.64 58.0333 1915.64 49.9314 Q1915.64 41.8701 1912.15 37.1711 Q1908.67 32.4315 1902.71 32.4315 M1902.71 26.1121 Q1912.44 26.1121 1917.99 32.4315 Q1923.54 38.7509 1923.54 49.9314 Q1923.54 61.0714 1917.99 67.4314 Q1912.44 73.7508 1902.71 73.7508 Q1892.95 73.7508 1887.4 67.4314 Q1881.89 61.0714 1881.89 49.9314 Q1881.89 38.7509 1887.4 32.4315 Q1892.95 26.1121 1902.71 26.1121 Z\" fill=\"#000000\" fill-rule=\"evenodd\" fill-opacity=\"1\" /><path clip-path=\"url(#clip400)\" d=\"M1973.6 45.1919 L1973.6 72.576 L1966.15 72.576 L1966.15 45.4349 Q1966.15 38.994 1963.64 35.7938 Q1961.13 32.5936 1956.11 32.5936 Q1950.07 32.5936 1946.59 36.4419 Q1943.1 40.2903 1943.1 46.9338 L1943.1 72.576 L1935.61 72.576 L1935.61 27.2059 L1943.1 27.2059 L1943.1 34.2544 Q1945.78 30.163 1949.38 28.1376 Q1953.03 26.1121 1957.77 26.1121 Q1965.58 26.1121 1969.59 30.9732 Q1973.6 35.7938 1973.6 45.1919 Z\" fill=\"#000000\" fill-rule=\"evenodd\" fill-opacity=\"1\" /><path clip-path=\"url(#clip400)\" d=\"M2017.4 28.5427 L2017.4 35.5912 Q2014.24 33.9709 2010.83 33.1607 Q2007.43 32.3505 2003.78 32.3505 Q1998.23 32.3505 1995.44 34.0519 Q1992.68 35.7533 1992.68 39.156 Q1992.68 41.7486 1994.67 43.2475 Q1996.65 44.7058 2002.65 46.0426 L2005.2 46.6097 Q2013.14 48.3111 2016.46 51.4303 Q2019.83 54.509 2019.83 60.0587 Q2019.83 66.3781 2014.8 70.0644 Q2009.82 73.7508 2001.07 73.7508 Q1997.42 73.7508 1993.45 73.0216 Q1989.53 72.3329 1985.15 70.9151 L1985.15 63.2184 Q1989.28 65.3654 1993.29 66.4591 Q1997.3 67.5124 2001.23 67.5124 Q2006.5 67.5124 2009.33 65.73 Q2012.17 63.9071 2012.17 60.6258 Q2012.17 57.5877 2010.1 55.9673 Q2008.08 54.3469 2001.15 52.8481 L1998.56 52.2405 Q1991.63 50.7821 1988.55 47.7845 Q1985.47 44.7463 1985.47 39.4801 Q1985.47 33.0797 1990.01 29.5959 Q1994.55 26.1121 2002.89 26.1121 Q2007.02 26.1121 2010.67 26.7198 Q2014.32 27.3274 2017.4 28.5427 Z\" fill=\"#000000\" fill-rule=\"evenodd\" fill-opacity=\"1\" /><path clip-path=\"url(#clip400)\" d=\"M2066.57 43.6931 L2066.57 65.8515 L2079.7 65.8515 Q2086.3 65.8515 2089.46 63.1374 Q2092.66 60.3828 2092.66 54.752 Q2092.66 49.0808 2089.46 46.4072 Q2086.3 43.6931 2079.7 43.6931 L2066.57 43.6931 M2066.57 18.8205 L2066.57 37.0496 L2078.69 37.0496 Q2084.68 37.0496 2087.6 34.8216 Q2090.55 32.5531 2090.55 27.935 Q2090.55 23.3575 2087.6 21.089 Q2084.68 18.8205 2078.69 18.8205 L2066.57 18.8205 M2058.39 12.096 L2079.29 12.096 Q2088.65 12.096 2093.71 15.9849 Q2098.78 19.8737 2098.78 27.0438 Q2098.78 32.5936 2096.19 35.8748 Q2093.59 39.156 2088.57 39.9662 Q2094.61 41.2625 2097.93 45.3944 Q2101.29 49.4858 2101.29 55.6432 Q2101.29 63.745 2095.78 68.1605 Q2090.27 72.576 2080.1 72.576 L2058.39 72.576 L2058.39 12.096 Z\" fill=\"#000000\" fill-rule=\"evenodd\" fill-opacity=\"1\" /><path clip-path=\"url(#clip400)\" d=\"M2114.21 54.671 L2114.21 27.2059 L2121.67 27.2059 L2121.67 54.3874 Q2121.67 60.8284 2124.18 64.0691 Q2126.69 67.2693 2131.71 67.2693 Q2137.75 67.2693 2141.23 63.421 Q2144.76 59.5726 2144.76 52.9291 L2144.76 27.2059 L2152.21 27.2059 L2152.21 72.576 L2144.76 72.576 L2144.76 65.6084 Q2142.04 69.7404 2138.44 71.7658 Q2134.87 73.7508 2130.13 73.7508 Q2122.31 73.7508 2118.26 68.8897 Q2114.21 64.0286 2114.21 54.671 M2132.97 26.1121 L2132.97 26.1121 Z\" fill=\"#000000\" fill-rule=\"evenodd\" fill-opacity=\"1\" /><path clip-path=\"url(#clip400)\" d=\"M2167.56 27.2059 L2175.02 27.2059 L2175.02 72.576 L2167.56 72.576 L2167.56 27.2059 M2167.56 9.54393 L2175.02 9.54393 L2175.02 18.9825 L2167.56 18.9825 L2167.56 9.54393 Z\" fill=\"#000000\" fill-rule=\"evenodd\" fill-opacity=\"1\" /><path clip-path=\"url(#clip400)\" d=\"M2190.61 9.54393 L2198.07 9.54393 L2198.07 72.576 L2190.61 72.576 L2190.61 9.54393 Z\" fill=\"#000000\" fill-rule=\"evenodd\" fill-opacity=\"1\" /><path clip-path=\"url(#clip400)\" d=\"M2221.03 14.324 L2221.03 27.2059 L2236.39 27.2059 L2236.39 32.9987 L2221.03 32.9987 L2221.03 57.6282 Q2221.03 63.1779 2222.53 64.7578 Q2224.07 66.3376 2228.73 66.3376 L2236.39 66.3376 L2236.39 72.576 L2228.73 72.576 Q2220.1 72.576 2216.82 69.3758 Q2213.54 66.1351 2213.54 57.6282 L2213.54 32.9987 L2208.07 32.9987 L2208.07 27.2059 L2213.54 27.2059 L2213.54 14.324 L2221.03 14.324 Z\" fill=\"#000000\" fill-rule=\"evenodd\" fill-opacity=\"1\" /><circle clip-path=\"url(#clip402)\" cx=\"1949.67\" cy=\"273.229\" r=\"14\" fill=\"#ff0000\" fill-rule=\"evenodd\" fill-opacity=\"1\" stroke=\"#000000\" stroke-opacity=\"1\" stroke-width=\"3.2\"/>\n",
       "<circle clip-path=\"url(#clip402)\" cx=\"880.881\" cy=\"533.126\" r=\"14\" fill=\"#ff0000\" fill-rule=\"evenodd\" fill-opacity=\"1\" stroke=\"#000000\" stroke-opacity=\"1\" stroke-width=\"3.2\"/>\n",
       "<circle clip-path=\"url(#clip402)\" cx=\"1270.24\" cy=\"1056\" r=\"14\" fill=\"#ff0000\" fill-rule=\"evenodd\" fill-opacity=\"1\" stroke=\"#000000\" stroke-opacity=\"1\" stroke-width=\"3.2\"/>\n",
       "<circle clip-path=\"url(#clip402)\" cx=\"1360.39\" cy=\"261.628\" r=\"14\" fill=\"#ff0000\" fill-rule=\"evenodd\" fill-opacity=\"1\" stroke=\"#000000\" stroke-opacity=\"1\" stroke-width=\"3.2\"/>\n",
       "<circle clip-path=\"url(#clip402)\" cx=\"1871.36\" cy=\"646.416\" r=\"14\" fill=\"#ff0000\" fill-rule=\"evenodd\" fill-opacity=\"1\" stroke=\"#000000\" stroke-opacity=\"1\" stroke-width=\"3.2\"/>\n",
       "<circle clip-path=\"url(#clip402)\" cx=\"2033.4\" cy=\"598.449\" r=\"14\" fill=\"#008000\" fill-rule=\"evenodd\" fill-opacity=\"1\" stroke=\"#000000\" stroke-opacity=\"1\" stroke-width=\"3.2\"/>\n",
       "<circle clip-path=\"url(#clip402)\" cx=\"1313.54\" cy=\"425.948\" r=\"14\" fill=\"#008000\" fill-rule=\"evenodd\" fill-opacity=\"1\" stroke=\"#000000\" stroke-opacity=\"1\" stroke-width=\"3.2\"/>\n",
       "<circle clip-path=\"url(#clip402)\" cx=\"1811.99\" cy=\"531.96\" r=\"14\" fill=\"#008000\" fill-rule=\"evenodd\" fill-opacity=\"1\" stroke=\"#000000\" stroke-opacity=\"1\" stroke-width=\"3.2\"/>\n",
       "<circle clip-path=\"url(#clip402)\" cx=\"1971.32\" cy=\"183.472\" r=\"14\" fill=\"#008000\" fill-rule=\"evenodd\" fill-opacity=\"1\" stroke=\"#000000\" stroke-opacity=\"1\" stroke-width=\"3.2\"/>\n",
       "<circle clip-path=\"url(#clip402)\" cx=\"1740.28\" cy=\"1350.47\" r=\"14\" fill=\"#008000\" fill-rule=\"evenodd\" fill-opacity=\"1\" stroke=\"#000000\" stroke-opacity=\"1\" stroke-width=\"3.2\"/>\n",
       "<circle clip-path=\"url(#clip402)\" cx=\"2229.09\" cy=\"615.074\" r=\"14\" fill=\"#008000\" fill-rule=\"evenodd\" fill-opacity=\"1\" stroke=\"#000000\" stroke-opacity=\"1\" stroke-width=\"3.2\"/>\n",
       "<circle clip-path=\"url(#clip402)\" cx=\"1218.65\" cy=\"886.387\" r=\"14\" fill=\"#008000\" fill-rule=\"evenodd\" fill-opacity=\"1\" stroke=\"#000000\" stroke-opacity=\"1\" stroke-width=\"3.2\"/>\n",
       "<circle clip-path=\"url(#clip402)\" cx=\"1034.97\" cy=\"823.411\" r=\"14\" fill=\"#008000\" fill-rule=\"evenodd\" fill-opacity=\"1\" stroke=\"#000000\" stroke-opacity=\"1\" stroke-width=\"3.2\"/>\n",
       "<circle clip-path=\"url(#clip402)\" cx=\"1535.96\" cy=\"584.952\" r=\"14\" fill=\"#0000ff\" fill-rule=\"evenodd\" fill-opacity=\"1\" stroke=\"#000000\" stroke-opacity=\"1\" stroke-width=\"3.2\"/>\n",
       "<circle clip-path=\"url(#clip402)\" cx=\"1904.34\" cy=\"542.712\" r=\"14\" fill=\"#0000ff\" fill-rule=\"evenodd\" fill-opacity=\"1\" stroke=\"#000000\" stroke-opacity=\"1\" stroke-width=\"3.2\"/>\n",
       "<circle clip-path=\"url(#clip402)\" cx=\"1090.11\" cy=\"1008.15\" r=\"14\" fill=\"#0000ff\" fill-rule=\"evenodd\" fill-opacity=\"1\" stroke=\"#000000\" stroke-opacity=\"1\" stroke-width=\"3.2\"/>\n",
       "<circle clip-path=\"url(#clip402)\" cx=\"1719.64\" cy=\"448.354\" r=\"14\" fill=\"#0000ff\" fill-rule=\"evenodd\" fill-opacity=\"1\" stroke=\"#000000\" stroke-opacity=\"1\" stroke-width=\"3.2\"/>\n",
       "<circle clip-path=\"url(#clip402)\" cx=\"846.377\" cy=\"1211.66\" r=\"14\" fill=\"#0000ff\" fill-rule=\"evenodd\" fill-opacity=\"1\" stroke=\"#000000\" stroke-opacity=\"1\" stroke-width=\"3.2\"/>\n",
       "<circle clip-path=\"url(#clip402)\" cx=\"1864.76\" cy=\"1357.31\" r=\"14\" fill=\"#0000ff\" fill-rule=\"evenodd\" fill-opacity=\"1\" stroke=\"#000000\" stroke-opacity=\"1\" stroke-width=\"3.2\"/>\n",
       "<circle clip-path=\"url(#clip402)\" cx=\"840.965\" cy=\"1406.79\" r=\"14\" fill=\"#0000ff\" fill-rule=\"evenodd\" fill-opacity=\"1\" stroke=\"#000000\" stroke-opacity=\"1\" stroke-width=\"3.2\"/>\n",
       "<circle clip-path=\"url(#clip402)\" cx=\"2307.57\" cy=\"1444.28\" r=\"14\" fill=\"#0000ff\" fill-rule=\"evenodd\" fill-opacity=\"1\" stroke=\"#000000\" stroke-opacity=\"1\" stroke-width=\"3.2\"/>\n",
       "<circle clip-path=\"url(#clip402)\" cx=\"1075.56\" cy=\"1447.87\" r=\"14\" fill=\"#0000ff\" fill-rule=\"evenodd\" fill-opacity=\"1\" stroke=\"#000000\" stroke-opacity=\"1\" stroke-width=\"3.2\"/>\n",
       "<circle clip-path=\"url(#clip402)\" cx=\"2090.9\" cy=\"971.199\" r=\"14\" fill=\"#0000ff\" fill-rule=\"evenodd\" fill-opacity=\"1\" stroke=\"#000000\" stroke-opacity=\"1\" stroke-width=\"3.2\"/>\n",
       "<circle clip-path=\"url(#clip402)\" cx=\"1220.68\" cy=\"438.026\" r=\"14\" fill=\"#0000ff\" fill-rule=\"evenodd\" fill-opacity=\"1\" stroke=\"#000000\" stroke-opacity=\"1\" stroke-width=\"3.2\"/>\n",
       "<circle clip-path=\"url(#clip402)\" cx=\"2226.55\" cy=\"1016.06\" r=\"14\" fill=\"#0000ff\" fill-rule=\"evenodd\" fill-opacity=\"1\" stroke=\"#000000\" stroke-opacity=\"1\" stroke-width=\"3.2\"/>\n",
       "<circle clip-path=\"url(#clip402)\" cx=\"966.973\" cy=\"506.942\" r=\"14\" fill=\"#0000ff\" fill-rule=\"evenodd\" fill-opacity=\"1\" stroke=\"#000000\" stroke-opacity=\"1\" stroke-width=\"3.2\"/>\n",
       "<circle clip-path=\"url(#clip402)\" cx=\"1242.67\" cy=\"1133.32\" r=\"14\" fill=\"#0000ff\" fill-rule=\"evenodd\" fill-opacity=\"1\" stroke=\"#000000\" stroke-opacity=\"1\" stroke-width=\"3.2\"/>\n",
       "<circle clip-path=\"url(#clip402)\" cx=\"1959.31\" cy=\"694.013\" r=\"14\" fill=\"#0000ff\" fill-rule=\"evenodd\" fill-opacity=\"1\" stroke=\"#000000\" stroke-opacity=\"1\" stroke-width=\"3.2\"/>\n",
       "<circle clip-path=\"url(#clip402)\" cx=\"2042.19\" cy=\"236.729\" r=\"14\" fill=\"#0000ff\" fill-rule=\"evenodd\" fill-opacity=\"1\" stroke=\"#000000\" stroke-opacity=\"1\" stroke-width=\"3.2\"/>\n",
       "<circle clip-path=\"url(#clip402)\" cx=\"1952.21\" cy=\"737.035\" r=\"14\" fill=\"#0000ff\" fill-rule=\"evenodd\" fill-opacity=\"1\" stroke=\"#000000\" stroke-opacity=\"1\" stroke-width=\"3.2\"/>\n",
       "<circle clip-path=\"url(#clip402)\" cx=\"1926.67\" cy=\"345.247\" r=\"14\" fill=\"#0000ff\" fill-rule=\"evenodd\" fill-opacity=\"1\" stroke=\"#000000\" stroke-opacity=\"1\" stroke-width=\"3.2\"/>\n",
       "<circle clip-path=\"url(#clip402)\" cx=\"2275.1\" cy=\"285.771\" r=\"14\" fill=\"#0000ff\" fill-rule=\"evenodd\" fill-opacity=\"1\" stroke=\"#000000\" stroke-opacity=\"1\" stroke-width=\"3.2\"/>\n",
       "<circle clip-path=\"url(#clip402)\" cx=\"1948.66\" cy=\"274.846\" r=\"14\" fill=\"#0000ff\" fill-rule=\"evenodd\" fill-opacity=\"1\" stroke=\"#000000\" stroke-opacity=\"1\" stroke-width=\"3.2\"/>\n",
       "<circle clip-path=\"url(#clip402)\" cx=\"2080.59\" cy=\"756.511\" r=\"14\" fill=\"#0000ff\" fill-rule=\"evenodd\" fill-opacity=\"1\" stroke=\"#000000\" stroke-opacity=\"1\" stroke-width=\"3.2\"/>\n",
       "<circle clip-path=\"url(#clip402)\" cx=\"1315.06\" cy=\"385.75\" r=\"14\" fill=\"#0000ff\" fill-rule=\"evenodd\" fill-opacity=\"1\" stroke=\"#000000\" stroke-opacity=\"1\" stroke-width=\"3.2\"/>\n",
       "<circle clip-path=\"url(#clip402)\" cx=\"1075.56\" cy=\"328.979\" r=\"14\" fill=\"#0000ff\" fill-rule=\"evenodd\" fill-opacity=\"1\" stroke=\"#000000\" stroke-opacity=\"1\" stroke-width=\"3.2\"/>\n",
       "<circle clip-path=\"url(#clip402)\" cx=\"1556.59\" cy=\"778.268\" r=\"14\" fill=\"#0000ff\" fill-rule=\"evenodd\" fill-opacity=\"1\" stroke=\"#000000\" stroke-opacity=\"1\" stroke-width=\"3.2\"/>\n",
       "<circle clip-path=\"url(#clip402)\" cx=\"2113.57\" cy=\"543.322\" r=\"14\" fill=\"#0000ff\" fill-rule=\"evenodd\" fill-opacity=\"1\" stroke=\"#000000\" stroke-opacity=\"1\" stroke-width=\"3.2\"/>\n",
       "<circle clip-path=\"url(#clip402)\" cx=\"1283.6\" cy=\"876.47\" r=\"14\" fill=\"#0000ff\" fill-rule=\"evenodd\" fill-opacity=\"1\" stroke=\"#000000\" stroke-opacity=\"1\" stroke-width=\"3.2\"/>\n",
       "<circle clip-path=\"url(#clip402)\" cx=\"1296.29\" cy=\"205.361\" r=\"14\" fill=\"#0000ff\" fill-rule=\"evenodd\" fill-opacity=\"1\" stroke=\"#000000\" stroke-opacity=\"1\" stroke-width=\"3.2\"/>\n",
       "<circle clip-path=\"url(#clip402)\" cx=\"1000.46\" cy=\"1001.07\" r=\"14\" fill=\"#0000ff\" fill-rule=\"evenodd\" fill-opacity=\"1\" stroke=\"#000000\" stroke-opacity=\"1\" stroke-width=\"3.2\"/>\n",
       "<circle clip-path=\"url(#clip402)\" cx=\"1878.3\" cy=\"162.047\" r=\"14\" fill=\"#0000ff\" fill-rule=\"evenodd\" fill-opacity=\"1\" stroke=\"#000000\" stroke-opacity=\"1\" stroke-width=\"3.2\"/>\n",
       "<circle clip-path=\"url(#clip402)\" cx=\"1822.48\" cy=\"709.1\" r=\"14\" fill=\"#0000ff\" fill-rule=\"evenodd\" fill-opacity=\"1\" stroke=\"#000000\" stroke-opacity=\"1\" stroke-width=\"3.2\"/>\n",
       "<circle clip-path=\"url(#clip402)\" cx=\"1362.93\" cy=\"989.375\" r=\"14\" fill=\"#0000ff\" fill-rule=\"evenodd\" fill-opacity=\"1\" stroke=\"#000000\" stroke-opacity=\"1\" stroke-width=\"3.2\"/>\n",
       "<circle clip-path=\"url(#clip402)\" cx=\"1452.23\" cy=\"1099.19\" r=\"14\" fill=\"#0000ff\" fill-rule=\"evenodd\" fill-opacity=\"1\" stroke=\"#000000\" stroke-opacity=\"1\" stroke-width=\"3.2\"/>\n",
       "<circle clip-path=\"url(#clip402)\" cx=\"1352.61\" cy=\"1047.5\" r=\"14\" fill=\"#0000ff\" fill-rule=\"evenodd\" fill-opacity=\"1\" stroke=\"#000000\" stroke-opacity=\"1\" stroke-width=\"3.2\"/>\n",
       "<circle clip-path=\"url(#clip402)\" cx=\"922.828\" cy=\"266.123\" r=\"14\" fill=\"#0000ff\" fill-rule=\"evenodd\" fill-opacity=\"1\" stroke=\"#000000\" stroke-opacity=\"1\" stroke-width=\"3.2\"/>\n",
       "<circle clip-path=\"url(#clip402)\" cx=\"1276.67\" cy=\"374.613\" r=\"14\" fill=\"#0000ff\" fill-rule=\"evenodd\" fill-opacity=\"1\" stroke=\"#000000\" stroke-opacity=\"1\" stroke-width=\"3.2\"/>\n",
       "<circle clip-path=\"url(#clip402)\" cx=\"886.801\" cy=\"347.05\" r=\"14\" fill=\"#0000ff\" fill-rule=\"evenodd\" fill-opacity=\"1\" stroke=\"#000000\" stroke-opacity=\"1\" stroke-width=\"3.2\"/>\n",
       "<circle clip-path=\"url(#clip402)\" cx=\"801.386\" cy=\"892.685\" r=\"14\" fill=\"#0000ff\" fill-rule=\"evenodd\" fill-opacity=\"1\" stroke=\"#000000\" stroke-opacity=\"1\" stroke-width=\"3.2\"/>\n",
       "<circle clip-path=\"url(#clip402)\" cx=\"1178.06\" cy=\"1113.43\" r=\"14\" fill=\"#0000ff\" fill-rule=\"evenodd\" fill-opacity=\"1\" stroke=\"#000000\" stroke-opacity=\"1\" stroke-width=\"3.2\"/>\n",
       "<circle clip-path=\"url(#clip402)\" cx=\"1358.7\" cy=\"443.078\" r=\"14\" fill=\"#0000ff\" fill-rule=\"evenodd\" fill-opacity=\"1\" stroke=\"#000000\" stroke-opacity=\"1\" stroke-width=\"3.2\"/>\n",
       "<circle clip-path=\"url(#clip402)\" cx=\"2254.97\" cy=\"632.058\" r=\"14\" fill=\"#0000ff\" fill-rule=\"evenodd\" fill-opacity=\"1\" stroke=\"#000000\" stroke-opacity=\"1\" stroke-width=\"3.2\"/>\n",
       "<path clip-path=\"url(#clip400)\" d=\"\n",
       "M96.3335 1441.02 L528.496 1441.02 L528.496 1233.66 L96.3335 1233.66  Z\n",
       "  \" fill=\"#ffffff\" fill-rule=\"evenodd\" fill-opacity=\"1\"/>\n",
       "<polyline clip-path=\"url(#clip400)\" style=\"stroke:#000000; stroke-linecap:butt; stroke-linejoin:round; stroke-width:4; stroke-opacity:1; fill:none\" points=\"\n",
       "  96.3335,1441.02 528.496,1441.02 528.496,1233.66 96.3335,1233.66 96.3335,1441.02 \n",
       "  \"/>\n",
       "<circle clip-path=\"url(#clip400)\" cx=\"193.384\" cy=\"1285.5\" r=\"23\" fill=\"#ff0000\" fill-rule=\"evenodd\" fill-opacity=\"1\" stroke=\"#000000\" stroke-opacity=\"1\" stroke-width=\"5.12\"/>\n",
       "<path clip-path=\"url(#clip400)\" d=\"M290.434 1268.22 L295.11 1268.22 L295.11 1298.84 L311.939 1298.84 L311.939 1302.78 L290.434 1302.78 L290.434 1268.22 Z\" fill=\"#000000\" fill-rule=\"evenodd\" fill-opacity=\"1\" /><path clip-path=\"url(#clip400)\" d=\"M328.443 1289.74 Q323.281 1289.74 321.291 1290.92 Q319.3 1292.1 319.3 1294.95 Q319.3 1297.22 320.781 1298.56 Q322.286 1299.88 324.855 1299.88 Q328.397 1299.88 330.527 1297.38 Q332.679 1294.86 332.679 1290.69 L332.679 1289.74 L328.443 1289.74 M336.939 1287.98 L336.939 1302.78 L332.679 1302.78 L332.679 1298.84 Q331.221 1301.2 329.045 1302.34 Q326.869 1303.45 323.721 1303.45 Q319.74 1303.45 317.379 1301.22 Q315.041 1298.98 315.041 1295.23 Q315.041 1290.85 317.957 1288.63 Q320.897 1286.41 326.707 1286.41 L332.679 1286.41 L332.679 1285.99 Q332.679 1283.05 330.735 1281.46 Q328.814 1279.84 325.318 1279.84 Q323.096 1279.84 320.99 1280.37 Q318.883 1280.9 316.939 1281.97 L316.939 1278.03 Q319.277 1277.13 321.476 1276.69 Q323.675 1276.22 325.758 1276.22 Q331.383 1276.22 334.161 1279.14 Q336.939 1282.06 336.939 1287.98 Z\" fill=\"#000000\" fill-rule=\"evenodd\" fill-opacity=\"1\" /><path clip-path=\"url(#clip400)\" d=\"M367.263 1287.13 L367.263 1302.78 L363.003 1302.78 L363.003 1287.27 Q363.003 1283.59 361.568 1281.76 Q360.133 1279.93 357.263 1279.93 Q353.814 1279.93 351.823 1282.13 Q349.832 1284.33 349.832 1288.12 L349.832 1302.78 L345.55 1302.78 L345.55 1276.85 L349.832 1276.85 L349.832 1280.88 Q351.36 1278.54 353.42 1277.38 Q355.503 1276.22 358.212 1276.22 Q362.679 1276.22 364.971 1279 Q367.263 1281.76 367.263 1287.13 Z\" fill=\"#000000\" fill-rule=\"evenodd\" fill-opacity=\"1\" /><path clip-path=\"url(#clip400)\" d=\"M392.818 1280.78 L392.818 1266.76 L397.077 1266.76 L397.077 1302.78 L392.818 1302.78 L392.818 1298.89 Q391.475 1301.2 389.415 1302.34 Q387.378 1303.45 384.508 1303.45 Q379.809 1303.45 376.846 1299.7 Q373.906 1295.95 373.906 1289.84 Q373.906 1283.72 376.846 1279.97 Q379.809 1276.22 384.508 1276.22 Q387.378 1276.22 389.415 1277.36 Q391.475 1278.47 392.818 1280.78 M378.304 1289.84 Q378.304 1294.53 380.226 1297.22 Q382.17 1299.88 385.55 1299.88 Q388.929 1299.88 390.874 1297.22 Q392.818 1294.53 392.818 1289.84 Q392.818 1285.14 390.874 1282.47 Q388.929 1279.79 385.55 1279.79 Q382.17 1279.79 380.226 1282.47 Q378.304 1285.14 378.304 1289.84 Z\" fill=\"#000000\" fill-rule=\"evenodd\" fill-opacity=\"1\" /><path clip-path=\"url(#clip400)\" d=\"M418.975 1266.76 L418.975 1270.3 L414.901 1270.3 Q412.61 1270.3 411.707 1271.22 Q410.827 1272.15 410.827 1274.56 L410.827 1276.85 L417.841 1276.85 L417.841 1280.16 L410.827 1280.16 L410.827 1302.78 L406.545 1302.78 L406.545 1280.16 L402.471 1280.16 L402.471 1276.85 L406.545 1276.85 L406.545 1275.04 Q406.545 1270.72 408.559 1268.75 Q410.573 1266.76 414.948 1266.76 L418.975 1266.76 Z\" fill=\"#000000\" fill-rule=\"evenodd\" fill-opacity=\"1\" /><path clip-path=\"url(#clip400)\" d=\"M422.54 1276.85 L426.799 1276.85 L426.799 1302.78 L422.54 1302.78 L422.54 1276.85 M422.54 1266.76 L426.799 1266.76 L426.799 1272.15 L422.54 1272.15 L422.54 1266.76 Z\" fill=\"#000000\" fill-rule=\"evenodd\" fill-opacity=\"1\" /><path clip-path=\"url(#clip400)\" d=\"M435.711 1266.76 L439.971 1266.76 L439.971 1302.78 L435.711 1302.78 L435.711 1266.76 Z\" fill=\"#000000\" fill-rule=\"evenodd\" fill-opacity=\"1\" /><path clip-path=\"url(#clip400)\" d=\"M448.883 1266.76 L453.142 1266.76 L453.142 1302.78 L448.883 1302.78 L448.883 1266.76 Z\" fill=\"#000000\" fill-rule=\"evenodd\" fill-opacity=\"1\" /><path clip-path=\"url(#clip400)\" d=\"M478.581 1277.61 L478.581 1281.64 Q476.776 1280.72 474.832 1280.25 Q472.887 1279.79 470.804 1279.79 Q467.632 1279.79 466.035 1280.76 Q464.461 1281.73 464.461 1283.68 Q464.461 1285.16 465.595 1286.02 Q466.73 1286.85 470.156 1287.61 L471.614 1287.94 Q476.151 1288.91 478.049 1290.69 Q479.97 1292.45 479.97 1295.62 Q479.97 1299.23 477.1 1301.34 Q474.253 1303.45 469.253 1303.45 Q467.17 1303.45 464.901 1303.03 Q462.656 1302.64 460.156 1301.83 L460.156 1297.43 Q462.517 1298.66 464.808 1299.28 Q467.1 1299.88 469.345 1299.88 Q472.355 1299.88 473.975 1298.86 Q475.595 1297.82 475.595 1295.95 Q475.595 1294.21 474.415 1293.28 Q473.257 1292.36 469.299 1291.5 L467.818 1291.16 Q463.859 1290.32 462.1 1288.61 Q460.341 1286.87 460.341 1283.86 Q460.341 1280.21 462.933 1278.22 Q465.526 1276.22 470.294 1276.22 Q472.656 1276.22 474.739 1276.57 Q476.822 1276.92 478.581 1277.61 Z\" fill=\"#000000\" fill-rule=\"evenodd\" fill-opacity=\"1\" /><circle clip-path=\"url(#clip400)\" cx=\"193.384\" cy=\"1337.34\" r=\"23\" fill=\"#008000\" fill-rule=\"evenodd\" fill-opacity=\"1\" stroke=\"#000000\" stroke-opacity=\"1\" stroke-width=\"5.12\"/>\n",
       "<path clip-path=\"url(#clip400)\" d=\"M312.68 1321.19 L312.68 1325.75 Q310.018 1324.48 307.656 1323.85 Q305.295 1323.23 303.096 1323.23 Q299.277 1323.23 297.194 1324.71 Q295.133 1326.19 295.133 1328.92 Q295.133 1331.21 296.499 1332.39 Q297.888 1333.55 301.731 1334.27 L304.555 1334.85 Q309.786 1335.84 312.263 1338.37 Q314.763 1340.87 314.763 1345.08 Q314.763 1350.1 311.383 1352.69 Q308.027 1355.29 301.522 1355.29 Q299.069 1355.29 296.291 1354.73 Q293.536 1354.18 290.573 1353.09 L290.573 1348.27 Q293.42 1349.87 296.152 1350.68 Q298.883 1351.49 301.522 1351.49 Q305.527 1351.49 307.703 1349.92 Q309.879 1348.34 309.879 1345.43 Q309.879 1342.88 308.305 1341.44 Q306.754 1340.01 303.189 1339.29 L300.342 1338.74 Q295.11 1337.69 292.772 1335.47 Q290.434 1333.25 290.434 1329.29 Q290.434 1324.71 293.652 1322.07 Q296.893 1319.43 302.564 1319.43 Q304.994 1319.43 307.518 1319.87 Q310.041 1320.31 312.68 1321.19 Z\" fill=\"#000000\" fill-rule=\"evenodd\" fill-opacity=\"1\" /><path clip-path=\"url(#clip400)\" d=\"M326.082 1321.33 L326.082 1328.69 L334.855 1328.69 L334.855 1332 L326.082 1332 L326.082 1346.07 Q326.082 1349.25 326.939 1350.15 Q327.818 1351.05 330.48 1351.05 L334.855 1351.05 L334.855 1354.62 L330.48 1354.62 Q325.55 1354.62 323.675 1352.79 Q321.8 1350.93 321.8 1346.07 L321.8 1332 L318.675 1332 L318.675 1328.69 L321.8 1328.69 L321.8 1321.33 L326.082 1321.33 Z\" fill=\"#000000\" fill-rule=\"evenodd\" fill-opacity=\"1\" /><path clip-path=\"url(#clip400)\" d=\"M352.24 1341.58 Q347.078 1341.58 345.087 1342.76 Q343.096 1343.94 343.096 1346.79 Q343.096 1349.06 344.578 1350.4 Q346.082 1351.72 348.652 1351.72 Q352.193 1351.72 354.323 1349.22 Q356.476 1346.7 356.476 1342.53 L356.476 1341.58 L352.24 1341.58 M360.735 1339.82 L360.735 1354.62 L356.476 1354.62 L356.476 1350.68 Q355.017 1353.04 352.841 1354.18 Q350.666 1355.29 347.517 1355.29 Q343.536 1355.29 341.175 1353.06 Q338.837 1350.82 338.837 1347.07 Q338.837 1342.69 341.754 1340.47 Q344.693 1338.25 350.503 1338.25 L356.476 1338.25 L356.476 1337.83 Q356.476 1334.89 354.531 1333.3 Q352.61 1331.68 349.115 1331.68 Q346.892 1331.68 344.786 1332.21 Q342.679 1332.74 340.735 1333.81 L340.735 1329.87 Q343.073 1328.97 345.272 1328.53 Q347.471 1328.06 349.554 1328.06 Q355.179 1328.06 357.957 1330.98 Q360.735 1333.9 360.735 1339.82 Z\" fill=\"#000000\" fill-rule=\"evenodd\" fill-opacity=\"1\" /><path clip-path=\"url(#clip400)\" d=\"M373.721 1321.33 L373.721 1328.69 L382.494 1328.69 L382.494 1332 L373.721 1332 L373.721 1346.07 Q373.721 1349.25 374.577 1350.15 Q375.457 1351.05 378.119 1351.05 L382.494 1351.05 L382.494 1354.62 L378.119 1354.62 Q373.189 1354.62 371.314 1352.79 Q369.439 1350.93 369.439 1346.07 L369.439 1332 L366.314 1332 L366.314 1328.69 L369.439 1328.69 L369.439 1321.33 L373.721 1321.33 Z\" fill=\"#000000\" fill-rule=\"evenodd\" fill-opacity=\"1\" /><path clip-path=\"url(#clip400)\" d=\"M388.096 1328.69 L392.355 1328.69 L392.355 1354.62 L388.096 1354.62 L388.096 1328.69 M388.096 1318.6 L392.355 1318.6 L392.355 1323.99 L388.096 1323.99 L388.096 1318.6 Z\" fill=\"#000000\" fill-rule=\"evenodd\" fill-opacity=\"1\" /><path clip-path=\"url(#clip400)\" d=\"M411.313 1331.68 Q407.887 1331.68 405.897 1334.36 Q403.906 1337.02 403.906 1341.68 Q403.906 1346.33 405.874 1349.01 Q407.864 1351.68 411.313 1351.68 Q414.716 1351.68 416.707 1348.99 Q418.698 1346.31 418.698 1341.68 Q418.698 1337.07 416.707 1334.38 Q414.716 1331.68 411.313 1331.68 M411.313 1328.06 Q416.869 1328.06 420.04 1331.68 Q423.211 1335.29 423.211 1341.68 Q423.211 1348.04 420.04 1351.68 Q416.869 1355.29 411.313 1355.29 Q405.735 1355.29 402.563 1351.68 Q399.415 1348.04 399.415 1341.68 Q399.415 1335.29 402.563 1331.68 Q405.735 1328.06 411.313 1328.06 Z\" fill=\"#000000\" fill-rule=\"evenodd\" fill-opacity=\"1\" /><path clip-path=\"url(#clip400)\" d=\"M451.822 1338.97 L451.822 1354.62 L447.563 1354.62 L447.563 1339.11 Q447.563 1335.43 446.128 1333.6 Q444.693 1331.77 441.822 1331.77 Q438.373 1331.77 436.383 1333.97 Q434.392 1336.17 434.392 1339.96 L434.392 1354.62 L430.11 1354.62 L430.11 1328.69 L434.392 1328.69 L434.392 1332.72 Q435.92 1330.38 437.98 1329.22 Q440.063 1328.06 442.771 1328.06 Q447.239 1328.06 449.531 1330.84 Q451.822 1333.6 451.822 1338.97 Z\" fill=\"#000000\" fill-rule=\"evenodd\" fill-opacity=\"1\" /><path clip-path=\"url(#clip400)\" d=\"M476.845 1329.45 L476.845 1333.48 Q475.04 1332.56 473.095 1332.09 Q471.151 1331.63 469.068 1331.63 Q465.896 1331.63 464.299 1332.6 Q462.725 1333.57 462.725 1335.52 Q462.725 1337 463.859 1337.86 Q464.994 1338.69 468.42 1339.45 L469.878 1339.78 Q474.415 1340.75 476.313 1342.53 Q478.234 1344.29 478.234 1347.46 Q478.234 1351.07 475.364 1353.18 Q472.517 1355.29 467.517 1355.29 Q465.433 1355.29 463.165 1354.87 Q460.92 1354.48 458.42 1353.67 L458.42 1349.27 Q460.781 1350.5 463.072 1351.12 Q465.364 1351.72 467.609 1351.72 Q470.619 1351.72 472.239 1350.7 Q473.859 1349.66 473.859 1347.79 Q473.859 1346.05 472.679 1345.12 Q471.521 1344.2 467.563 1343.34 L466.082 1343 Q462.123 1342.16 460.364 1340.45 Q458.605 1338.71 458.605 1335.7 Q458.605 1332.05 461.197 1330.06 Q463.79 1328.06 468.558 1328.06 Q470.919 1328.06 473.003 1328.41 Q475.086 1328.76 476.845 1329.45 Z\" fill=\"#000000\" fill-rule=\"evenodd\" fill-opacity=\"1\" /><circle clip-path=\"url(#clip400)\" cx=\"193.384\" cy=\"1389.18\" r=\"23\" fill=\"#0000ff\" fill-rule=\"evenodd\" fill-opacity=\"1\" stroke=\"#000000\" stroke-opacity=\"1\" stroke-width=\"5.12\"/>\n",
       "<path clip-path=\"url(#clip400)\" d=\"M318.305 1374.56 L318.305 1379.49 Q315.943 1377.29 313.258 1376.2 Q310.596 1375.11 307.587 1375.11 Q301.661 1375.11 298.513 1378.75 Q295.365 1382.36 295.365 1389.21 Q295.365 1396.04 298.513 1399.67 Q301.661 1403.28 307.587 1403.28 Q310.596 1403.28 313.258 1402.2 Q315.943 1401.11 318.305 1398.91 L318.305 1403.79 Q315.851 1405.46 313.096 1406.29 Q310.365 1407.13 307.309 1407.13 Q299.462 1407.13 294.948 1402.34 Q290.434 1397.52 290.434 1389.21 Q290.434 1380.88 294.948 1376.09 Q299.462 1371.27 307.309 1371.27 Q310.411 1371.27 313.143 1372.1 Q315.897 1372.91 318.305 1374.56 Z\" fill=\"#000000\" fill-rule=\"evenodd\" fill-opacity=\"1\" /><path clip-path=\"url(#clip400)\" d=\"M347.517 1392.43 L347.517 1394.51 L327.934 1394.51 Q328.212 1398.91 330.573 1401.22 Q332.957 1403.52 337.193 1403.52 Q339.647 1403.52 341.939 1402.91 Q344.254 1402.31 346.522 1401.11 L346.522 1405.14 Q344.23 1406.11 341.823 1406.62 Q339.416 1407.13 336.939 1407.13 Q330.735 1407.13 327.101 1403.52 Q323.49 1399.9 323.49 1393.75 Q323.49 1387.38 326.916 1383.65 Q330.365 1379.9 336.198 1379.9 Q341.429 1379.9 344.462 1383.28 Q347.517 1386.64 347.517 1392.43 M343.258 1391.18 Q343.212 1387.68 341.291 1385.6 Q339.392 1383.52 336.244 1383.52 Q332.679 1383.52 330.527 1385.53 Q328.397 1387.54 328.073 1391.2 L343.258 1391.18 Z\" fill=\"#000000\" fill-rule=\"evenodd\" fill-opacity=\"1\" /><path clip-path=\"url(#clip400)\" d=\"M376.059 1390.81 L376.059 1406.46 L371.8 1406.46 L371.8 1390.95 Q371.8 1387.27 370.364 1385.44 Q368.929 1383.61 366.059 1383.61 Q362.61 1383.61 360.619 1385.81 Q358.628 1388.01 358.628 1391.8 L358.628 1406.46 L354.346 1406.46 L354.346 1380.53 L358.628 1380.53 L358.628 1384.56 Q360.156 1382.22 362.216 1381.06 Q364.3 1379.9 367.008 1379.9 Q371.476 1379.9 373.767 1382.68 Q376.059 1385.44 376.059 1390.81 Z\" fill=\"#000000\" fill-rule=\"evenodd\" fill-opacity=\"1\" /><path clip-path=\"url(#clip400)\" d=\"M388.767 1373.17 L388.767 1380.53 L397.54 1380.53 L397.54 1383.84 L388.767 1383.84 L388.767 1397.91 Q388.767 1401.09 389.624 1401.99 Q390.503 1402.89 393.165 1402.89 L397.54 1402.89 L397.54 1406.46 L393.165 1406.46 Q388.235 1406.46 386.36 1404.63 Q384.485 1402.77 384.485 1397.91 L384.485 1383.84 L381.36 1383.84 L381.36 1380.53 L384.485 1380.53 L384.485 1373.17 L388.767 1373.17 Z\" fill=\"#000000\" fill-rule=\"evenodd\" fill-opacity=\"1\" /><path clip-path=\"url(#clip400)\" d=\"M425.318 1392.43 L425.318 1394.51 L405.735 1394.51 Q406.012 1398.91 408.374 1401.22 Q410.758 1403.52 414.994 1403.52 Q417.448 1403.52 419.739 1402.91 Q422.054 1402.31 424.323 1401.11 L424.323 1405.14 Q422.031 1406.11 419.623 1406.62 Q417.216 1407.13 414.739 1407.13 Q408.536 1407.13 404.901 1403.52 Q401.29 1399.9 401.29 1393.75 Q401.29 1387.38 404.716 1383.65 Q408.165 1379.9 413.999 1379.9 Q419.23 1379.9 422.262 1383.28 Q425.318 1386.64 425.318 1392.43 M421.059 1391.18 Q421.012 1387.68 419.091 1385.6 Q417.193 1383.52 414.045 1383.52 Q410.48 1383.52 408.327 1385.53 Q406.198 1387.54 405.874 1391.2 L421.059 1391.18 Z\" fill=\"#000000\" fill-rule=\"evenodd\" fill-opacity=\"1\" /><path clip-path=\"url(#clip400)\" d=\"M447.332 1384.51 Q446.614 1384.09 445.758 1383.91 Q444.924 1383.7 443.906 1383.7 Q440.295 1383.7 438.35 1386.06 Q436.429 1388.4 436.429 1392.8 L436.429 1406.46 L432.147 1406.46 L432.147 1380.53 L436.429 1380.53 L436.429 1384.56 Q437.772 1382.2 439.924 1381.06 Q442.077 1379.9 445.156 1379.9 Q445.596 1379.9 446.128 1379.97 Q446.66 1380.02 447.309 1380.14 L447.332 1384.51 Z\" fill=\"#000000\" fill-rule=\"evenodd\" fill-opacity=\"1\" /><path clip-path=\"url(#clip400)\" d=\"M468.327 1381.29 L468.327 1385.32 Q466.521 1384.4 464.577 1383.93 Q462.632 1383.47 460.549 1383.47 Q457.378 1383.47 455.781 1384.44 Q454.207 1385.41 454.207 1387.36 Q454.207 1388.84 455.341 1389.7 Q456.475 1390.53 459.901 1391.29 L461.359 1391.62 Q465.896 1392.59 467.795 1394.37 Q469.716 1396.13 469.716 1399.3 Q469.716 1402.91 466.845 1405.02 Q463.998 1407.13 458.998 1407.13 Q456.915 1407.13 454.646 1406.71 Q452.401 1406.32 449.901 1405.51 L449.901 1401.11 Q452.262 1402.34 454.554 1402.96 Q456.845 1403.56 459.091 1403.56 Q462.1 1403.56 463.72 1402.54 Q465.341 1401.5 465.341 1399.63 Q465.341 1397.89 464.16 1396.96 Q463.003 1396.04 459.045 1395.18 L457.563 1394.84 Q453.605 1394 451.846 1392.29 Q450.086 1390.55 450.086 1387.54 Q450.086 1383.89 452.679 1381.9 Q455.271 1379.9 460.04 1379.9 Q462.401 1379.9 464.484 1380.25 Q466.568 1380.6 468.327 1381.29 Z\" fill=\"#000000\" fill-rule=\"evenodd\" fill-opacity=\"1\" /></svg>\n"
      ]
     },
     "execution_count": 295,
     "metadata": {},
     "output_type": "execute_result"
    }
   ],
   "source": [
    "plot(lf_b3.xco, lf_b3.yco, seriestype = :scatter, color = \"red\", title = \"Landfills & Transfer Stations Built\",label = \"Landfills\", legend=:outerbottomleft)\n",
    "plot!(ts_b3.xco, ts_b3.yco, seriestype = :scatter, color = \"green\", label = \"Stations\")\n",
    "plot!(centers2.xco, centers2.yco, seriestype = :scatter, color = \"blue\", label = \"Centers\")"
   ]
  },
  {
   "cell_type": "markdown",
   "id": "c40ca92e",
   "metadata": {},
   "source": [
    "# C.f"
   ]
  },
  {
   "cell_type": "code",
   "execution_count": 298,
   "id": "8f95d6c4",
   "metadata": {},
   "outputs": [],
   "source": [
    "append!(stations,stations2);\n",
    "append!(landfills,landfills2);\n",
    "append!(centers,centers2);\n",
    "append!(q,q2);"
   ]
  },
  {
   "cell_type": "code",
   "execution_count": 299,
   "id": "e172aa4d",
   "metadata": {},
   "outputs": [],
   "source": [
    "dmatx = pairwise(Euclidean(), centers.xco, landfills.xco);\n",
    "dmaty = pairwise(Euclidean(), centers.yco, landfills.yco);\n",
    "dmat = sqrt.((dmatx.^2)+(dmaty.^2));\n",
    "dmatx_ct = pairwise(Euclidean(), centers.xco, stations.xco);\n",
    "dmaty_ct = pairwise(Euclidean(), centers.yco, stations.yco);\n",
    "dmat_ct = sqrt.((dmatx_ct.^2)+(dmaty_ct.^2));\n",
    "dmatx_tl = pairwise(Euclidean(), stations.xco, landfills.xco);\n",
    "dmaty_tl = pairwise(Euclidean(), stations.yco, landfills.yco);\n",
    "dmat_tl = sqrt.((dmatx_tl.^2)+(dmaty_tl.^2));"
   ]
  },
  {
   "cell_type": "code",
   "execution_count": 300,
   "id": "150f5ce7",
   "metadata": {},
   "outputs": [
    {
     "name": "stdout",
     "output_type": "stream",
     "text": [
      "(100, 2)(30, 2)(90, 2)(90, 1)"
     ]
    }
   ],
   "source": [
    "print(size(stations), size(landfills), size(centers), size(q))"
   ]
  },
  {
   "cell_type": "code",
   "execution_count": 301,
   "id": "87f55ace",
   "metadata": {},
   "outputs": [
    {
     "name": "stdout",
     "output_type": "stream",
     "text": [
      "Academic license - for non-commercial use only - expires 2022-08-19\n"
     ]
    }
   ],
   "source": [
    "mod4 = JuMP.Model(JuMP.optimizer_with_attributes(() -> Gurobi.Optimizer(),\"MIPGap\" => 0.0001))\n",
    "\n",
    "set_optimizer_attribute(mod4, \"OutputFlag\", 0) \n",
    "\n",
    "#OLD VARIABLES\n",
    "#if landfill j is built\n",
    "@variable(mod4, z[j=1:30], Bin)\n",
    "#amount of waste transported from center i to landfill j\n",
    "@variable(mod4, x[i=1:90,j=1:30]>=0)\n",
    "\n",
    "#NEW VARIABLES\n",
    "#if transfer station s is built\n",
    "@variable(mod4, t[s=1:100], Bin)\n",
    "#amount of waste transported from center i to trasnfer station s\n",
    "@variable(mod4, a[i=1:90,s=1:100]>=0)\n",
    "#amount of waste transported from center i to trasnfer station s\n",
    "@variable(mod4, b[s=1:100,j=1:30]>=0)\n",
    "\n",
    "#OLD CONSTRAINTS\n",
    "#@constraint(mod4, [i=1:90], sum(x[i,j] for j=1:30)== q[i,1]) modified for reformulation\n",
    "@constraint(mod4, [i=1:90, j=1:30], x[i,j] <= 1000000*z[j])\n",
    "@constraint(mod4, sum(z[j] for j=1:30)<=10)\n",
    "\n",
    "#NEW CONSTRAINTS\n",
    "#ensure that all waste is taken care of\n",
    "@constraint(mod4, [i=1:90], sum(x[i,j] for j=1:30) + sum(a[i,s] for s=1:100) == q[i,1]) \n",
    "#conservation of flow for transfer stations\n",
    "@constraint(mod4, [i=1:90, s=1:100, j=1:30], sum(a[i,s] for i=1:90)==sum(b[s,j] for j=1:30))\n",
    "#transfer station t cannot serve landfill j unless landfill j is built\n",
    "@constraint(mod4, [s=1:100, j=1:30], b[s,j] <= 1000000*z[j])\n",
    "@constraint(mod4, [i=1:90, s=1:100], sum(a[i,s] for i=1:90)<=2000*t[s])\n",
    "\n",
    "\n",
    "\n",
    "@objective(mod4, Min, sum(dmat[i,j]*x[i,j] for i = 1:90, j = 1:30)\n",
    "                +    sum(dmat_ct[i,s]*a[i,s] for i = 1:90, s = 1:100)\n",
    "                +    sum(dmat_tl[s,j]*b[s,j] for s = 1:100, j = 1:30)/2\n",
    "                +    sum(10000*t[s] for s=1:100))\n",
    "\n",
    "optimize!(mod4)"
   ]
  },
  {
   "cell_type": "markdown",
   "id": "b7efa706",
   "metadata": {},
   "source": [
    "# The total cost of the combined regions is $1,865,384.50"
   ]
  },
  {
   "cell_type": "code",
   "execution_count": 302,
   "id": "82f533c3",
   "metadata": {},
   "outputs": [
    {
     "data": {
      "text/plain": [
       "1.8653845034414863e6"
      ]
     },
     "execution_count": 302,
     "metadata": {},
     "output_type": "execute_result"
    }
   ],
   "source": [
    "objective_value(mod4)"
   ]
  },
  {
   "cell_type": "code",
   "execution_count": 303,
   "id": "0009bbd4",
   "metadata": {},
   "outputs": [],
   "source": [
    "t = value.(t);\n",
    "z = value.(z);\n",
    "i_t = findall(>(.5), t)\n",
    "i_z = findall(>(.5), z)\n",
    "ts_b3 = stations[i_t,:];\n",
    "lf_b3 = landfills[i_z,:];"
   ]
  },
  {
   "cell_type": "markdown",
   "id": "5892ad46",
   "metadata": {},
   "source": [
    "## Transfer Stations are built at the following coordinates:"
   ]
  },
  {
   "cell_type": "code",
   "execution_count": 304,
   "id": "6c928a3f",
   "metadata": {},
   "outputs": [
    {
     "data": {
      "text/html": [
       "<table class=\"data-frame\"><thead><tr><th></th><th>xco</th><th>yco</th></tr><tr><th></th><th>Float64</th><th>Float64</th></tr></thead><tbody><p>15 rows × 2 columns</p><tr><th>1</th><td>85.45</td><td>19.15</td></tr><tr><th>2</th><td>63.366</td><td>92.143</td></tr><tr><th>3</th><td>61.369</td><td>50.405</td></tr><tr><th>4</th><td>83.286</td><td>14.437</td></tr><tr><th>5</th><td>38.906</td><td>35.617</td></tr><tr><th>6</th><td>12.781</td><td>30.966</td></tr><tr><th>7</th><td>48.784</td><td>46.765</td></tr><tr><th>8</th><td>1.5279</td><td>51.627</td></tr><tr><th>9</th><td>7.478</td><td>84.236</td></tr><tr><th>10</th><td>86.416</td><td>6.6111</td></tr><tr><th>11</th><td>35.57</td><td>52.772</td></tr><tr><th>12</th><td>119.09</td><td>38.195</td></tr><tr><th>13</th><td>181.62</td><td>31.085</td></tr><tr><th>14</th><td>187.25</td><td>24.887</td></tr><tr><th>15</th><td>187.25</td><td>64.139</td></tr></tbody></table>"
      ],
      "text/latex": [
       "\\begin{tabular}{r|cc}\n",
       "\t& xco & yco\\\\\n",
       "\t\\hline\n",
       "\t& Float64 & Float64\\\\\n",
       "\t\\hline\n",
       "\t1 & 85.45 & 19.15 \\\\\n",
       "\t2 & 63.366 & 92.143 \\\\\n",
       "\t3 & 61.369 & 50.405 \\\\\n",
       "\t4 & 83.286 & 14.437 \\\\\n",
       "\t5 & 38.906 & 35.617 \\\\\n",
       "\t6 & 12.781 & 30.966 \\\\\n",
       "\t7 & 48.784 & 46.765 \\\\\n",
       "\t8 & 1.5279 & 51.627 \\\\\n",
       "\t9 & 7.478 & 84.236 \\\\\n",
       "\t10 & 86.416 & 6.6111 \\\\\n",
       "\t11 & 35.57 & 52.772 \\\\\n",
       "\t12 & 119.09 & 38.195 \\\\\n",
       "\t13 & 181.62 & 31.085 \\\\\n",
       "\t14 & 187.25 & 24.887 \\\\\n",
       "\t15 & 187.25 & 64.139 \\\\\n",
       "\\end{tabular}\n"
      ],
      "text/plain": [
       "\u001b[1m15×2 DataFrame\u001b[0m\n",
       "\u001b[1m Row \u001b[0m│\u001b[1m xco      \u001b[0m\u001b[1m yco     \u001b[0m\n",
       "\u001b[1m     \u001b[0m│\u001b[90m Float64  \u001b[0m\u001b[90m Float64 \u001b[0m\n",
       "─────┼───────────────────\n",
       "   1 │  85.45    19.15\n",
       "   2 │  63.366   92.143\n",
       "   3 │  61.369   50.405\n",
       "   4 │  83.286   14.437\n",
       "   5 │  38.906   35.617\n",
       "   6 │  12.781   30.966\n",
       "   7 │  48.784   46.765\n",
       "   8 │   1.5279  51.627\n",
       "   9 │   7.478   84.236\n",
       "  10 │  86.416    6.6111\n",
       "  11 │  35.57    52.772\n",
       "  12 │ 119.09    38.195\n",
       "  13 │ 181.62    31.085\n",
       "  14 │ 187.25    24.887\n",
       "  15 │ 187.25    64.139"
      ]
     },
     "execution_count": 304,
     "metadata": {},
     "output_type": "execute_result"
    }
   ],
   "source": [
    "ts_b3"
   ]
  },
  {
   "cell_type": "markdown",
   "id": "2000bf2f",
   "metadata": {},
   "source": [
    "## Landfills are built at the following coordinates:"
   ]
  },
  {
   "cell_type": "code",
   "execution_count": 305,
   "id": "97800984",
   "metadata": {},
   "outputs": [
    {
     "data": {
      "text/html": [
       "<table class=\"data-frame\"><thead><tr><th></th><th>xco</th><th>yco</th></tr><tr><th></th><th>Float64</th><th>Float64</th></tr></thead><tbody><p>10 rows × 2 columns</p><tr><th>1</th><td>76.138</td><td>70.191</td></tr><tr><th>2</th><td>21.163</td><td>44.331</td></tr><tr><th>3</th><td>13.93</td><td>71.108</td></tr><tr><th>4</th><td>171.94</td><td>8.2604</td></tr><tr><th>5</th><td>102.13</td><td>78.974</td></tr><tr><th>6</th><td>170.73</td><td>89.923</td></tr><tr><th>7</th><td>108.11</td><td>11.864</td></tr><tr><th>8</th><td>130.56</td><td>30.882</td></tr><tr><th>9</th><td>135.89</td><td>90.798</td></tr><tr><th>10</th><td>166.1</td><td>61.775</td></tr></tbody></table>"
      ],
      "text/latex": [
       "\\begin{tabular}{r|cc}\n",
       "\t& xco & yco\\\\\n",
       "\t\\hline\n",
       "\t& Float64 & Float64\\\\\n",
       "\t\\hline\n",
       "\t1 & 76.138 & 70.191 \\\\\n",
       "\t2 & 21.163 & 44.331 \\\\\n",
       "\t3 & 13.93 & 71.108 \\\\\n",
       "\t4 & 171.94 & 8.2604 \\\\\n",
       "\t5 & 102.13 & 78.974 \\\\\n",
       "\t6 & 170.73 & 89.923 \\\\\n",
       "\t7 & 108.11 & 11.864 \\\\\n",
       "\t8 & 130.56 & 30.882 \\\\\n",
       "\t9 & 135.89 & 90.798 \\\\\n",
       "\t10 & 166.1 & 61.775 \\\\\n",
       "\\end{tabular}\n"
      ],
      "text/plain": [
       "\u001b[1m10×2 DataFrame\u001b[0m\n",
       "\u001b[1m Row \u001b[0m│\u001b[1m xco     \u001b[0m\u001b[1m yco     \u001b[0m\n",
       "\u001b[1m     \u001b[0m│\u001b[90m Float64 \u001b[0m\u001b[90m Float64 \u001b[0m\n",
       "─────┼──────────────────\n",
       "   1 │  76.138  70.191\n",
       "   2 │  21.163  44.331\n",
       "   3 │  13.93   71.108\n",
       "   4 │ 171.94    8.2604\n",
       "   5 │ 102.13   78.974\n",
       "   6 │ 170.73   89.923\n",
       "   7 │ 108.11   11.864\n",
       "   8 │ 130.56   30.882\n",
       "   9 │ 135.89   90.798\n",
       "  10 │ 166.1    61.775"
      ]
     },
     "execution_count": 305,
     "metadata": {},
     "output_type": "execute_result"
    }
   ],
   "source": [
    "lf_b3"
   ]
  },
  {
   "cell_type": "code",
   "execution_count": 306,
   "id": "500ccf88",
   "metadata": {},
   "outputs": [
    {
     "data": {
      "image/svg+xml": [
       "<?xml version=\"1.0\" encoding=\"utf-8\"?>\n",
       "<svg xmlns=\"http://www.w3.org/2000/svg\" xmlns:xlink=\"http://www.w3.org/1999/xlink\" width=\"600\" height=\"400\" viewBox=\"0 0 2400 1600\">\n",
       "<defs>\n",
       "  <clipPath id=\"clip440\">\n",
       "    <rect x=\"0\" y=\"0\" width=\"2400\" height=\"1600\"/>\n",
       "  </clipPath>\n",
       "</defs>\n",
       "<path clip-path=\"url(#clip440)\" d=\"\n",
       "M0 1600 L2400 1600 L2400 0 L0 0  Z\n",
       "  \" fill=\"#ffffff\" fill-rule=\"evenodd\" fill-opacity=\"1\"/>\n",
       "<defs>\n",
       "  <clipPath id=\"clip441\">\n",
       "    <rect x=\"480\" y=\"0\" width=\"1681\" height=\"1600\"/>\n",
       "  </clipPath>\n",
       "</defs>\n",
       "<path clip-path=\"url(#clip440)\" d=\"\n",
       "M756.2 1486.45 L2352.76 1486.45 L2352.76 123.472 L756.2 123.472  Z\n",
       "  \" fill=\"#ffffff\" fill-rule=\"evenodd\" fill-opacity=\"1\"/>\n",
       "<defs>\n",
       "  <clipPath id=\"clip442\">\n",
       "    <rect x=\"756\" y=\"123\" width=\"1598\" height=\"1364\"/>\n",
       "  </clipPath>\n",
       "</defs>\n",
       "<polyline clip-path=\"url(#clip442)\" style=\"stroke:#000000; stroke-linecap:butt; stroke-linejoin:round; stroke-width:2; stroke-opacity:0.1; fill:none\" points=\"\n",
       "  793.604,1486.45 793.604,123.472 \n",
       "  \"/>\n",
       "<polyline clip-path=\"url(#clip442)\" style=\"stroke:#000000; stroke-linecap:butt; stroke-linejoin:round; stroke-width:2; stroke-opacity:0.1; fill:none\" points=\"\n",
       "  1188.09,1486.45 1188.09,123.472 \n",
       "  \"/>\n",
       "<polyline clip-path=\"url(#clip442)\" style=\"stroke:#000000; stroke-linecap:butt; stroke-linejoin:round; stroke-width:2; stroke-opacity:0.1; fill:none\" points=\"\n",
       "  1582.58,1486.45 1582.58,123.472 \n",
       "  \"/>\n",
       "<polyline clip-path=\"url(#clip442)\" style=\"stroke:#000000; stroke-linecap:butt; stroke-linejoin:round; stroke-width:2; stroke-opacity:0.1; fill:none\" points=\"\n",
       "  1977.07,1486.45 1977.07,123.472 \n",
       "  \"/>\n",
       "<polyline clip-path=\"url(#clip440)\" style=\"stroke:#000000; stroke-linecap:butt; stroke-linejoin:round; stroke-width:4; stroke-opacity:1; fill:none\" points=\"\n",
       "  756.2,1486.45 2352.76,1486.45 \n",
       "  \"/>\n",
       "<polyline clip-path=\"url(#clip440)\" style=\"stroke:#000000; stroke-linecap:butt; stroke-linejoin:round; stroke-width:4; stroke-opacity:1; fill:none\" points=\"\n",
       "  793.604,1486.45 793.604,1467.55 \n",
       "  \"/>\n",
       "<polyline clip-path=\"url(#clip440)\" style=\"stroke:#000000; stroke-linecap:butt; stroke-linejoin:round; stroke-width:4; stroke-opacity:1; fill:none\" points=\"\n",
       "  1188.09,1486.45 1188.09,1467.55 \n",
       "  \"/>\n",
       "<polyline clip-path=\"url(#clip440)\" style=\"stroke:#000000; stroke-linecap:butt; stroke-linejoin:round; stroke-width:4; stroke-opacity:1; fill:none\" points=\"\n",
       "  1582.58,1486.45 1582.58,1467.55 \n",
       "  \"/>\n",
       "<polyline clip-path=\"url(#clip440)\" style=\"stroke:#000000; stroke-linecap:butt; stroke-linejoin:round; stroke-width:4; stroke-opacity:1; fill:none\" points=\"\n",
       "  1977.07,1486.45 1977.07,1467.55 \n",
       "  \"/>\n",
       "<path clip-path=\"url(#clip440)\" d=\"M793.604 1517.37 Q789.993 1517.37 788.164 1520.93 Q786.359 1524.47 786.359 1531.6 Q786.359 1538.71 788.164 1542.27 Q789.993 1545.82 793.604 1545.82 Q797.238 1545.82 799.044 1542.27 Q800.873 1538.71 800.873 1531.6 Q800.873 1524.47 799.044 1520.93 Q797.238 1517.37 793.604 1517.37 M793.604 1513.66 Q799.414 1513.66 802.47 1518.27 Q805.549 1522.85 805.549 1531.6 Q805.549 1540.33 802.47 1544.94 Q799.414 1549.52 793.604 1549.52 Q787.794 1549.52 784.715 1544.94 Q781.66 1540.33 781.66 1531.6 Q781.66 1522.85 784.715 1518.27 Q787.794 1513.66 793.604 1513.66 Z\" fill=\"#000000\" fill-rule=\"evenodd\" fill-opacity=\"1\" /><path clip-path=\"url(#clip440)\" d=\"M1162.79 1514.29 L1181.15 1514.29 L1181.15 1518.22 L1167.07 1518.22 L1167.07 1526.7 Q1168.09 1526.35 1169.11 1526.19 Q1170.13 1526 1171.15 1526 Q1176.93 1526 1180.31 1529.17 Q1183.69 1532.34 1183.69 1537.76 Q1183.69 1543.34 1180.22 1546.44 Q1176.75 1549.52 1170.43 1549.52 Q1168.25 1549.52 1165.99 1549.15 Q1163.74 1548.78 1161.33 1548.04 L1161.33 1543.34 Q1163.42 1544.47 1165.64 1545.03 Q1167.86 1545.58 1170.34 1545.58 Q1174.34 1545.58 1176.68 1543.48 Q1179.02 1541.37 1179.02 1537.76 Q1179.02 1534.15 1176.68 1532.04 Q1174.34 1529.94 1170.34 1529.94 Q1168.46 1529.94 1166.59 1530.35 Q1164.74 1530.77 1162.79 1531.65 L1162.79 1514.29 Z\" fill=\"#000000\" fill-rule=\"evenodd\" fill-opacity=\"1\" /><path clip-path=\"url(#clip440)\" d=\"M1202.91 1517.37 Q1199.3 1517.37 1197.47 1520.93 Q1195.66 1524.47 1195.66 1531.6 Q1195.66 1538.71 1197.47 1542.27 Q1199.3 1545.82 1202.91 1545.82 Q1206.54 1545.82 1208.35 1542.27 Q1210.18 1538.71 1210.18 1531.6 Q1210.18 1524.47 1208.35 1520.93 Q1206.54 1517.37 1202.91 1517.37 M1202.91 1513.66 Q1208.72 1513.66 1211.77 1518.27 Q1214.85 1522.85 1214.85 1531.6 Q1214.85 1540.33 1211.77 1544.94 Q1208.72 1549.52 1202.91 1549.52 Q1197.1 1549.52 1194.02 1544.94 Q1190.96 1540.33 1190.96 1531.6 Q1190.96 1522.85 1194.02 1518.27 Q1197.1 1513.66 1202.91 1513.66 Z\" fill=\"#000000\" fill-rule=\"evenodd\" fill-opacity=\"1\" /><path clip-path=\"url(#clip440)\" d=\"M1542.19 1544.91 L1549.83 1544.91 L1549.83 1518.55 L1541.52 1520.21 L1541.52 1515.95 L1549.78 1514.29 L1554.46 1514.29 L1554.46 1544.91 L1562.09 1544.91 L1562.09 1548.85 L1542.19 1548.85 L1542.19 1544.91 Z\" fill=\"#000000\" fill-rule=\"evenodd\" fill-opacity=\"1\" /><path clip-path=\"url(#clip440)\" d=\"M1581.54 1517.37 Q1577.93 1517.37 1576.1 1520.93 Q1574.29 1524.47 1574.29 1531.6 Q1574.29 1538.71 1576.1 1542.27 Q1577.93 1545.82 1581.54 1545.82 Q1585.17 1545.82 1586.98 1542.27 Q1588.81 1538.71 1588.81 1531.6 Q1588.81 1524.47 1586.98 1520.93 Q1585.17 1517.37 1581.54 1517.37 M1581.54 1513.66 Q1587.35 1513.66 1590.4 1518.27 Q1593.48 1522.85 1593.48 1531.6 Q1593.48 1540.33 1590.4 1544.94 Q1587.35 1549.52 1581.54 1549.52 Q1575.73 1549.52 1572.65 1544.94 Q1569.59 1540.33 1569.59 1531.6 Q1569.59 1522.85 1572.65 1518.27 Q1575.73 1513.66 1581.54 1513.66 Z\" fill=\"#000000\" fill-rule=\"evenodd\" fill-opacity=\"1\" /><path clip-path=\"url(#clip440)\" d=\"M1611.7 1517.37 Q1608.09 1517.37 1606.26 1520.93 Q1604.46 1524.47 1604.46 1531.6 Q1604.46 1538.71 1606.26 1542.27 Q1608.09 1545.82 1611.7 1545.82 Q1615.33 1545.82 1617.14 1542.27 Q1618.97 1538.71 1618.97 1531.6 Q1618.97 1524.47 1617.14 1520.93 Q1615.33 1517.37 1611.7 1517.37 M1611.7 1513.66 Q1617.51 1513.66 1620.57 1518.27 Q1623.64 1522.85 1623.64 1531.6 Q1623.64 1540.33 1620.57 1544.94 Q1617.51 1549.52 1611.7 1549.52 Q1605.89 1549.52 1602.81 1544.94 Q1599.76 1540.33 1599.76 1531.6 Q1599.76 1522.85 1602.81 1518.27 Q1605.89 1513.66 1611.7 1513.66 Z\" fill=\"#000000\" fill-rule=\"evenodd\" fill-opacity=\"1\" /><path clip-path=\"url(#clip440)\" d=\"M1936.67 1544.91 L1944.31 1544.91 L1944.31 1518.55 L1936 1520.21 L1936 1515.95 L1944.27 1514.29 L1948.94 1514.29 L1948.94 1544.91 L1956.58 1544.91 L1956.58 1548.85 L1936.67 1548.85 L1936.67 1544.91 Z\" fill=\"#000000\" fill-rule=\"evenodd\" fill-opacity=\"1\" /><path clip-path=\"url(#clip440)\" d=\"M1966.07 1514.29 L1984.43 1514.29 L1984.43 1518.22 L1970.36 1518.22 L1970.36 1526.7 Q1971.37 1526.35 1972.39 1526.19 Q1973.41 1526 1974.43 1526 Q1980.22 1526 1983.6 1529.17 Q1986.98 1532.34 1986.98 1537.76 Q1986.98 1543.34 1983.5 1546.44 Q1980.03 1549.52 1973.71 1549.52 Q1971.54 1549.52 1969.27 1549.15 Q1967.02 1548.78 1964.61 1548.04 L1964.61 1543.34 Q1966.7 1544.47 1968.92 1545.03 Q1971.14 1545.58 1973.62 1545.58 Q1977.62 1545.58 1979.96 1543.48 Q1982.3 1541.37 1982.3 1537.76 Q1982.3 1534.15 1979.96 1532.04 Q1977.62 1529.94 1973.62 1529.94 Q1971.74 1529.94 1969.87 1530.35 Q1968.02 1530.77 1966.07 1531.65 L1966.07 1514.29 Z\" fill=\"#000000\" fill-rule=\"evenodd\" fill-opacity=\"1\" /><path clip-path=\"url(#clip440)\" d=\"M2006.19 1517.37 Q2002.58 1517.37 2000.75 1520.93 Q1998.94 1524.47 1998.94 1531.6 Q1998.94 1538.71 2000.75 1542.27 Q2002.58 1545.82 2006.19 1545.82 Q2009.82 1545.82 2011.63 1542.27 Q2013.46 1538.71 2013.46 1531.6 Q2013.46 1524.47 2011.63 1520.93 Q2009.82 1517.37 2006.19 1517.37 M2006.19 1513.66 Q2012 1513.66 2015.05 1518.27 Q2018.13 1522.85 2018.13 1531.6 Q2018.13 1540.33 2015.05 1544.94 Q2012 1549.52 2006.19 1549.52 Q2000.38 1549.52 1997.3 1544.94 Q1994.24 1540.33 1994.24 1531.6 Q1994.24 1522.85 1997.3 1518.27 Q2000.38 1513.66 2006.19 1513.66 Z\" fill=\"#000000\" fill-rule=\"evenodd\" fill-opacity=\"1\" /><polyline clip-path=\"url(#clip442)\" style=\"stroke:#000000; stroke-linecap:butt; stroke-linejoin:round; stroke-width:2; stroke-opacity:0.1; fill:none\" points=\"\n",
       "  756.2,1465.16 2352.76,1465.16 \n",
       "  \"/>\n",
       "<polyline clip-path=\"url(#clip442)\" style=\"stroke:#000000; stroke-linecap:butt; stroke-linejoin:round; stroke-width:2; stroke-opacity:0.1; fill:none\" points=\"\n",
       "  756.2,1138.8 2352.76,1138.8 \n",
       "  \"/>\n",
       "<polyline clip-path=\"url(#clip442)\" style=\"stroke:#000000; stroke-linecap:butt; stroke-linejoin:round; stroke-width:2; stroke-opacity:0.1; fill:none\" points=\"\n",
       "  756.2,812.443 2352.76,812.443 \n",
       "  \"/>\n",
       "<polyline clip-path=\"url(#clip442)\" style=\"stroke:#000000; stroke-linecap:butt; stroke-linejoin:round; stroke-width:2; stroke-opacity:0.1; fill:none\" points=\"\n",
       "  756.2,486.083 2352.76,486.083 \n",
       "  \"/>\n",
       "<polyline clip-path=\"url(#clip442)\" style=\"stroke:#000000; stroke-linecap:butt; stroke-linejoin:round; stroke-width:2; stroke-opacity:0.1; fill:none\" points=\"\n",
       "  756.2,159.723 2352.76,159.723 \n",
       "  \"/>\n",
       "<polyline clip-path=\"url(#clip440)\" style=\"stroke:#000000; stroke-linecap:butt; stroke-linejoin:round; stroke-width:4; stroke-opacity:1; fill:none\" points=\"\n",
       "  756.2,1486.45 756.2,123.472 \n",
       "  \"/>\n",
       "<polyline clip-path=\"url(#clip440)\" style=\"stroke:#000000; stroke-linecap:butt; stroke-linejoin:round; stroke-width:4; stroke-opacity:1; fill:none\" points=\"\n",
       "  756.2,1465.16 770.017,1465.16 \n",
       "  \"/>\n",
       "<polyline clip-path=\"url(#clip440)\" style=\"stroke:#000000; stroke-linecap:butt; stroke-linejoin:round; stroke-width:4; stroke-opacity:1; fill:none\" points=\"\n",
       "  756.2,1138.8 770.017,1138.8 \n",
       "  \"/>\n",
       "<polyline clip-path=\"url(#clip440)\" style=\"stroke:#000000; stroke-linecap:butt; stroke-linejoin:round; stroke-width:4; stroke-opacity:1; fill:none\" points=\"\n",
       "  756.2,812.443 770.017,812.443 \n",
       "  \"/>\n",
       "<polyline clip-path=\"url(#clip440)\" style=\"stroke:#000000; stroke-linecap:butt; stroke-linejoin:round; stroke-width:4; stroke-opacity:1; fill:none\" points=\"\n",
       "  756.2,486.083 770.017,486.083 \n",
       "  \"/>\n",
       "<polyline clip-path=\"url(#clip440)\" style=\"stroke:#000000; stroke-linecap:butt; stroke-linejoin:round; stroke-width:4; stroke-opacity:1; fill:none\" points=\"\n",
       "  756.2,159.723 770.017,159.723 \n",
       "  \"/>\n",
       "<path clip-path=\"url(#clip440)\" d=\"M708.256 1450.96 Q704.645 1450.96 702.816 1454.53 Q701.011 1458.07 701.011 1465.2 Q701.011 1472.3 702.816 1475.87 Q704.645 1479.41 708.256 1479.41 Q711.89 1479.41 713.696 1475.87 Q715.525 1472.3 715.525 1465.2 Q715.525 1458.07 713.696 1454.53 Q711.89 1450.96 708.256 1450.96 M708.256 1447.26 Q714.066 1447.26 717.122 1451.86 Q720.2 1456.45 720.2 1465.2 Q720.2 1473.92 717.122 1478.53 Q714.066 1483.11 708.256 1483.11 Q702.446 1483.11 699.367 1478.53 Q696.312 1473.92 696.312 1465.2 Q696.312 1456.45 699.367 1451.86 Q702.446 1447.26 708.256 1447.26 Z\" fill=\"#000000\" fill-rule=\"evenodd\" fill-opacity=\"1\" /><path clip-path=\"url(#clip440)\" d=\"M673.117 1152.15 L689.437 1152.15 L689.437 1156.08 L667.492 1156.08 L667.492 1152.15 Q670.154 1149.39 674.738 1144.76 Q679.344 1140.11 680.525 1138.77 Q682.77 1136.24 683.65 1134.51 Q684.552 1132.75 684.552 1131.06 Q684.552 1128.3 682.608 1126.57 Q680.687 1124.83 677.585 1124.83 Q675.386 1124.83 672.932 1125.6 Q670.502 1126.36 667.724 1127.91 L667.724 1123.19 Q670.548 1122.05 673.002 1121.48 Q675.455 1120.9 677.492 1120.9 Q682.863 1120.9 686.057 1123.58 Q689.252 1126.27 689.252 1130.76 Q689.252 1132.89 688.441 1134.81 Q687.654 1136.71 685.548 1139.3 Q684.969 1139.97 681.867 1143.19 Q678.765 1146.38 673.117 1152.15 Z\" fill=\"#000000\" fill-rule=\"evenodd\" fill-opacity=\"1\" /><path clip-path=\"url(#clip440)\" d=\"M699.298 1121.52 L717.654 1121.52 L717.654 1125.46 L703.58 1125.46 L703.58 1133.93 Q704.599 1133.58 705.617 1133.42 Q706.636 1133.24 707.654 1133.24 Q713.441 1133.24 716.821 1136.41 Q720.2 1139.58 720.2 1144.99 Q720.2 1150.57 716.728 1153.68 Q713.256 1156.75 706.937 1156.75 Q704.761 1156.75 702.492 1156.38 Q700.247 1156.01 697.839 1155.27 L697.839 1150.57 Q699.923 1151.71 702.145 1152.26 Q704.367 1152.82 706.844 1152.82 Q710.849 1152.82 713.187 1150.71 Q715.525 1148.61 715.525 1144.99 Q715.525 1141.38 713.187 1139.28 Q710.849 1137.17 706.844 1137.17 Q704.969 1137.17 703.094 1137.59 Q701.242 1138 699.298 1138.88 L699.298 1121.52 Z\" fill=\"#000000\" fill-rule=\"evenodd\" fill-opacity=\"1\" /><path clip-path=\"url(#clip440)\" d=\"M668.141 795.163 L686.497 795.163 L686.497 799.098 L672.423 799.098 L672.423 807.57 Q673.441 807.223 674.46 807.061 Q675.478 806.876 676.497 806.876 Q682.284 806.876 685.664 810.047 Q689.043 813.218 689.043 818.635 Q689.043 824.214 685.571 827.315 Q682.099 830.394 675.779 830.394 Q673.603 830.394 671.335 830.024 Q669.09 829.653 666.682 828.913 L666.682 824.214 Q668.766 825.348 670.988 825.903 Q673.21 826.459 675.687 826.459 Q679.691 826.459 682.029 824.352 Q684.367 822.246 684.367 818.635 Q684.367 815.024 682.029 812.917 Q679.691 810.811 675.687 810.811 Q673.812 810.811 671.937 811.228 Q670.085 811.644 668.141 812.524 L668.141 795.163 Z\" fill=\"#000000\" fill-rule=\"evenodd\" fill-opacity=\"1\" /><path clip-path=\"url(#clip440)\" d=\"M708.256 798.241 Q704.645 798.241 702.816 801.806 Q701.011 805.348 701.011 812.477 Q701.011 819.584 702.816 823.149 Q704.645 826.69 708.256 826.69 Q711.89 826.69 713.696 823.149 Q715.525 819.584 715.525 812.477 Q715.525 805.348 713.696 801.806 Q711.89 798.241 708.256 798.241 M708.256 794.538 Q714.066 794.538 717.122 799.144 Q720.2 803.728 720.2 812.477 Q720.2 821.204 717.122 825.811 Q714.066 830.394 708.256 830.394 Q702.446 830.394 699.367 825.811 Q696.312 821.204 696.312 812.477 Q696.312 803.728 699.367 799.144 Q702.446 794.538 708.256 794.538 Z\" fill=\"#000000\" fill-rule=\"evenodd\" fill-opacity=\"1\" /><path clip-path=\"url(#clip440)\" d=\"M667.909 468.803 L690.131 468.803 L690.131 470.794 L677.585 503.363 L672.701 503.363 L684.506 472.738 L667.909 472.738 L667.909 468.803 Z\" fill=\"#000000\" fill-rule=\"evenodd\" fill-opacity=\"1\" /><path clip-path=\"url(#clip440)\" d=\"M699.298 468.803 L717.654 468.803 L717.654 472.738 L703.58 472.738 L703.58 481.21 Q704.599 480.863 705.617 480.701 Q706.636 480.516 707.654 480.516 Q713.441 480.516 716.821 483.687 Q720.2 486.858 720.2 492.275 Q720.2 497.854 716.728 500.956 Q713.256 504.034 706.937 504.034 Q704.761 504.034 702.492 503.664 Q700.247 503.294 697.839 502.553 L697.839 497.854 Q699.923 498.988 702.145 499.544 Q704.367 500.099 706.844 500.099 Q710.849 500.099 713.187 497.993 Q715.525 495.886 715.525 492.275 Q715.525 488.664 713.187 486.558 Q710.849 484.451 706.844 484.451 Q704.969 484.451 703.094 484.868 Q701.242 485.284 699.298 486.164 L699.298 468.803 Z\" fill=\"#000000\" fill-rule=\"evenodd\" fill-opacity=\"1\" /><path clip-path=\"url(#clip440)\" d=\"M638.743 173.068 L646.381 173.068 L646.381 146.702 L638.071 148.369 L638.071 144.11 L646.335 142.443 L651.011 142.443 L651.011 173.068 L658.65 173.068 L658.65 177.003 L638.743 177.003 L638.743 173.068 Z\" fill=\"#000000\" fill-rule=\"evenodd\" fill-opacity=\"1\" /><path clip-path=\"url(#clip440)\" d=\"M678.094 145.522 Q674.483 145.522 672.654 149.087 Q670.849 152.628 670.849 159.758 Q670.849 166.864 672.654 170.429 Q674.483 173.971 678.094 173.971 Q681.728 173.971 683.534 170.429 Q685.363 166.864 685.363 159.758 Q685.363 152.628 683.534 149.087 Q681.728 145.522 678.094 145.522 M678.094 141.818 Q683.904 141.818 686.96 146.425 Q690.039 151.008 690.039 159.758 Q690.039 168.485 686.96 173.091 Q683.904 177.675 678.094 177.675 Q672.284 177.675 669.205 173.091 Q666.15 168.485 666.15 159.758 Q666.15 151.008 669.205 146.425 Q672.284 141.818 678.094 141.818 Z\" fill=\"#000000\" fill-rule=\"evenodd\" fill-opacity=\"1\" /><path clip-path=\"url(#clip440)\" d=\"M708.256 145.522 Q704.645 145.522 702.816 149.087 Q701.011 152.628 701.011 159.758 Q701.011 166.864 702.816 170.429 Q704.645 173.971 708.256 173.971 Q711.89 173.971 713.696 170.429 Q715.525 166.864 715.525 159.758 Q715.525 152.628 713.696 149.087 Q711.89 145.522 708.256 145.522 M708.256 141.818 Q714.066 141.818 717.122 146.425 Q720.2 151.008 720.2 159.758 Q720.2 168.485 717.122 173.091 Q714.066 177.675 708.256 177.675 Q702.446 177.675 699.367 173.091 Q696.312 168.485 696.312 159.758 Q696.312 151.008 699.367 146.425 Q702.446 141.818 708.256 141.818 Z\" fill=\"#000000\" fill-rule=\"evenodd\" fill-opacity=\"1\" /><path clip-path=\"url(#clip440)\" d=\"M872.569 12.096 L880.752 12.096 L880.752 65.6895 L910.202 65.6895 L910.202 72.576 L872.569 72.576 L872.569 12.096 Z\" fill=\"#000000\" fill-rule=\"evenodd\" fill-opacity=\"1\" /><path clip-path=\"url(#clip440)\" d=\"M939.085 49.7694 Q930.052 49.7694 926.568 51.8354 Q923.084 53.9013 923.084 58.8839 Q923.084 62.8538 925.677 65.2034 Q928.31 67.5124 932.806 67.5124 Q939.004 67.5124 942.731 63.1374 Q946.498 58.7219 946.498 51.4303 L946.498 49.7694 L939.085 49.7694 M953.952 46.6907 L953.952 72.576 L946.498 72.576 L946.498 65.6895 Q943.946 69.8214 940.138 71.8063 Q936.33 73.7508 930.821 73.7508 Q923.854 73.7508 919.722 69.8619 Q915.63 65.9325 915.63 59.3701 Q915.63 51.7138 920.734 47.825 Q925.879 43.9361 936.047 43.9361 L946.498 43.9361 L946.498 43.2069 Q946.498 38.0623 943.095 35.2672 Q939.733 32.4315 933.616 32.4315 Q929.727 32.4315 926.041 33.3632 Q922.355 34.295 918.952 36.1584 L918.952 29.2718 Q923.043 27.692 926.892 26.9223 Q930.74 26.1121 934.386 26.1121 Q944.23 26.1121 949.091 31.2163 Q953.952 36.3204 953.952 46.6907 Z\" fill=\"#000000\" fill-rule=\"evenodd\" fill-opacity=\"1\" /><path clip-path=\"url(#clip440)\" d=\"M1007.02 45.1919 L1007.02 72.576 L999.565 72.576 L999.565 45.4349 Q999.565 38.994 997.053 35.7938 Q994.542 32.5936 989.519 32.5936 Q983.483 32.5936 979.999 36.4419 Q976.515 40.2903 976.515 46.9338 L976.515 72.576 L969.021 72.576 L969.021 27.2059 L976.515 27.2059 L976.515 34.2544 Q979.189 30.163 982.794 28.1376 Q986.44 26.1121 991.18 26.1121 Q998.998 26.1121 1003.01 30.9732 Q1007.02 35.7938 1007.02 45.1919 Z\" fill=\"#000000\" fill-rule=\"evenodd\" fill-opacity=\"1\" /><path clip-path=\"url(#clip440)\" d=\"M1051.74 34.0924 L1051.74 9.54393 L1059.19 9.54393 L1059.19 72.576 L1051.74 72.576 L1051.74 65.7705 Q1049.39 69.8214 1045.79 71.8063 Q1042.22 73.7508 1037.2 73.7508 Q1028.97 73.7508 1023.79 67.1883 Q1018.64 60.6258 1018.64 49.9314 Q1018.64 39.2371 1023.79 32.6746 Q1028.97 26.1121 1037.2 26.1121 Q1042.22 26.1121 1045.79 28.0971 Q1049.39 30.0415 1051.74 34.0924 M1026.34 49.9314 Q1026.34 58.1548 1029.7 62.8538 Q1033.11 67.5124 1039.02 67.5124 Q1044.94 67.5124 1048.34 62.8538 Q1051.74 58.1548 1051.74 49.9314 Q1051.74 41.7081 1048.34 37.0496 Q1044.94 32.3505 1039.02 32.3505 Q1033.11 32.3505 1029.7 37.0496 Q1026.34 41.7081 1026.34 49.9314 Z\" fill=\"#000000\" fill-rule=\"evenodd\" fill-opacity=\"1\" /><path clip-path=\"url(#clip440)\" d=\"M1097.52 9.54393 L1097.52 15.7418 L1090.39 15.7418 Q1086.38 15.7418 1084.8 17.3622 Q1083.26 18.9825 1083.26 23.1955 L1083.26 27.2059 L1095.53 27.2059 L1095.53 32.9987 L1083.26 32.9987 L1083.26 72.576 L1075.76 72.576 L1075.76 32.9987 L1068.63 32.9987 L1068.63 27.2059 L1075.76 27.2059 L1075.76 24.0462 Q1075.76 16.471 1079.29 13.0277 Q1082.81 9.54393 1090.47 9.54393 L1097.52 9.54393 Z\" fill=\"#000000\" fill-rule=\"evenodd\" fill-opacity=\"1\" /><path clip-path=\"url(#clip440)\" d=\"M1103.75 27.2059 L1111.21 27.2059 L1111.21 72.576 L1103.75 72.576 L1103.75 27.2059 M1103.75 9.54393 L1111.21 9.54393 L1111.21 18.9825 L1103.75 18.9825 L1103.75 9.54393 Z\" fill=\"#000000\" fill-rule=\"evenodd\" fill-opacity=\"1\" /><path clip-path=\"url(#clip440)\" d=\"M1126.8 9.54393 L1134.26 9.54393 L1134.26 72.576 L1126.8 72.576 L1126.8 9.54393 Z\" fill=\"#000000\" fill-rule=\"evenodd\" fill-opacity=\"1\" /><path clip-path=\"url(#clip440)\" d=\"M1149.85 9.54393 L1157.31 9.54393 L1157.31 72.576 L1149.85 72.576 L1149.85 9.54393 Z\" fill=\"#000000\" fill-rule=\"evenodd\" fill-opacity=\"1\" /><path clip-path=\"url(#clip440)\" d=\"M1201.83 28.5427 L1201.83 35.5912 Q1198.67 33.9709 1195.26 33.1607 Q1191.86 32.3505 1188.22 32.3505 Q1182.67 32.3505 1179.87 34.0519 Q1177.12 35.7533 1177.12 39.156 Q1177.12 41.7486 1179.1 43.2475 Q1181.09 44.7058 1187.08 46.0426 L1189.63 46.6097 Q1197.57 48.3111 1200.89 51.4303 Q1204.26 54.509 1204.26 60.0587 Q1204.26 66.3781 1199.23 70.0644 Q1194.25 73.7508 1185.5 73.7508 Q1181.86 73.7508 1177.89 73.0216 Q1173.96 72.3329 1169.58 70.9151 L1169.58 63.2184 Q1173.71 65.3654 1177.72 66.4591 Q1181.73 67.5124 1185.66 67.5124 Q1190.93 67.5124 1193.77 65.73 Q1196.6 63.9071 1196.6 60.6258 Q1196.6 57.5877 1194.54 55.9673 Q1192.51 54.3469 1185.58 52.8481 L1182.99 52.2405 Q1176.06 50.7821 1172.98 47.7845 Q1169.91 44.7463 1169.91 39.4801 Q1169.91 33.0797 1174.44 29.5959 Q1178.98 26.1121 1187.32 26.1121 Q1191.46 26.1121 1195.1 26.7198 Q1198.75 27.3274 1201.83 28.5427 Z\" fill=\"#000000\" fill-rule=\"evenodd\" fill-opacity=\"1\" /><path clip-path=\"url(#clip440)\" d=\"M1254.85 40.0472 Q1251.17 43.3285 1249.42 46.6097 Q1247.72 49.8504 1247.72 53.4152 Q1247.72 59.3295 1252.02 63.2589 Q1256.31 67.1883 1262.79 67.1883 Q1266.64 67.1883 1270 65.9325 Q1273.37 64.6362 1276.32 62.0436 L1254.85 40.0472 M1260.56 35.5102 L1281.14 56.5749 Q1283.53 52.9696 1284.87 48.8782 Q1286.21 44.7463 1286.45 40.1283 L1293.98 40.1283 Q1293.5 45.4755 1291.39 50.7011 Q1289.29 55.9268 1285.52 61.0309 L1296.82 72.576 L1286.61 72.576 L1280.82 66.6212 Q1276.61 70.2265 1271.99 72.0089 Q1267.37 73.7508 1262.06 73.7508 Q1252.3 73.7508 1246.1 68.201 Q1239.91 62.6108 1239.91 53.9013 Q1239.91 48.7162 1242.62 44.1792 Q1245.33 39.6016 1250.76 35.5912 Q1248.82 33.0392 1247.8 30.5276 Q1246.79 27.9755 1246.79 25.545 Q1246.79 18.9825 1251.29 15.0127 Q1255.78 11.0023 1263.24 11.0023 Q1266.6 11.0023 1269.92 11.7314 Q1273.28 12.4606 1276.73 13.9189 L1276.73 21.2916 Q1273.2 19.3876 1270 18.4154 Q1266.8 17.4027 1264.05 17.4027 Q1259.8 17.4027 1257.12 19.6712 Q1254.49 21.8992 1254.49 25.464 Q1254.49 27.5299 1255.66 29.6364 Q1256.88 31.7024 1260.56 35.5102 Z\" fill=\"#000000\" fill-rule=\"evenodd\" fill-opacity=\"1\" /><path clip-path=\"url(#clip440)\" d=\"M1325.5 12.096 L1376.66 12.096 L1376.66 18.9825 L1355.19 18.9825 L1355.19 72.576 L1346.97 72.576 L1346.97 18.9825 L1325.5 18.9825 L1325.5 12.096 Z\" fill=\"#000000\" fill-rule=\"evenodd\" fill-opacity=\"1\" /><path clip-path=\"url(#clip440)\" d=\"M1398.34 34.1734 Q1397.08 33.4443 1395.58 33.1202 Q1394.12 32.7556 1392.34 32.7556 Q1386.02 32.7556 1382.62 36.8875 Q1379.26 40.9789 1379.26 48.6757 L1379.26 72.576 L1371.76 72.576 L1371.76 27.2059 L1379.26 27.2059 L1379.26 34.2544 Q1381.61 30.1225 1385.37 28.1376 Q1389.14 26.1121 1394.53 26.1121 Q1395.3 26.1121 1396.23 26.2337 Q1397.16 26.3147 1398.3 26.5172 L1398.34 34.1734 Z\" fill=\"#000000\" fill-rule=\"evenodd\" fill-opacity=\"1\" /><path clip-path=\"url(#clip440)\" d=\"M1426.77 49.7694 Q1417.74 49.7694 1414.26 51.8354 Q1410.77 53.9013 1410.77 58.8839 Q1410.77 62.8538 1413.36 65.2034 Q1416 67.5124 1420.49 67.5124 Q1426.69 67.5124 1430.42 63.1374 Q1434.19 58.7219 1434.19 51.4303 L1434.19 49.7694 L1426.77 49.7694 M1441.64 46.6907 L1441.64 72.576 L1434.19 72.576 L1434.19 65.6895 Q1431.63 69.8214 1427.83 71.8063 Q1424.02 73.7508 1418.51 73.7508 Q1411.54 73.7508 1407.41 69.8619 Q1403.32 65.9325 1403.32 59.3701 Q1403.32 51.7138 1408.42 47.825 Q1413.57 43.9361 1423.74 43.9361 L1434.19 43.9361 L1434.19 43.2069 Q1434.19 38.0623 1430.78 35.2672 Q1427.42 32.4315 1421.3 32.4315 Q1417.42 32.4315 1413.73 33.3632 Q1410.04 34.295 1406.64 36.1584 L1406.64 29.2718 Q1410.73 27.692 1414.58 26.9223 Q1418.43 26.1121 1422.07 26.1121 Q1431.92 26.1121 1436.78 31.2163 Q1441.64 36.3204 1441.64 46.6907 Z\" fill=\"#000000\" fill-rule=\"evenodd\" fill-opacity=\"1\" /><path clip-path=\"url(#clip440)\" d=\"M1494.71 45.1919 L1494.71 72.576 L1487.25 72.576 L1487.25 45.4349 Q1487.25 38.994 1484.74 35.7938 Q1482.23 32.5936 1477.21 32.5936 Q1471.17 32.5936 1467.69 36.4419 Q1464.2 40.2903 1464.2 46.9338 L1464.2 72.576 L1456.71 72.576 L1456.71 27.2059 L1464.2 27.2059 L1464.2 34.2544 Q1466.88 30.163 1470.48 28.1376 Q1474.13 26.1121 1478.87 26.1121 Q1486.69 26.1121 1490.7 30.9732 Q1494.71 35.7938 1494.71 45.1919 Z\" fill=\"#000000\" fill-rule=\"evenodd\" fill-opacity=\"1\" /><path clip-path=\"url(#clip440)\" d=\"M1538.5 28.5427 L1538.5 35.5912 Q1535.34 33.9709 1531.93 33.1607 Q1528.53 32.3505 1524.89 32.3505 Q1519.34 32.3505 1516.54 34.0519 Q1513.79 35.7533 1513.79 39.156 Q1513.79 41.7486 1515.77 43.2475 Q1517.76 44.7058 1523.75 46.0426 L1526.3 46.6097 Q1534.24 48.3111 1537.57 51.4303 Q1540.93 54.509 1540.93 60.0587 Q1540.93 66.3781 1535.9 70.0644 Q1530.92 73.7508 1522.17 73.7508 Q1518.53 73.7508 1514.56 73.0216 Q1510.63 72.3329 1506.25 70.9151 L1506.25 63.2184 Q1510.38 65.3654 1514.39 66.4591 Q1518.4 67.5124 1522.33 67.5124 Q1527.6 67.5124 1530.44 65.73 Q1533.27 63.9071 1533.27 60.6258 Q1533.27 57.5877 1531.21 55.9673 Q1529.18 54.3469 1522.25 52.8481 L1519.66 52.2405 Q1512.73 50.7821 1509.65 47.7845 Q1506.58 44.7463 1506.58 39.4801 Q1506.58 33.0797 1511.11 29.5959 Q1515.65 26.1121 1524 26.1121 Q1528.13 26.1121 1531.77 26.7198 Q1535.42 27.3274 1538.5 28.5427 Z\" fill=\"#000000\" fill-rule=\"evenodd\" fill-opacity=\"1\" /><path clip-path=\"url(#clip440)\" d=\"M1575.77 9.54393 L1575.77 15.7418 L1568.64 15.7418 Q1564.63 15.7418 1563.05 17.3622 Q1561.51 18.9825 1561.51 23.1955 L1561.51 27.2059 L1573.78 27.2059 L1573.78 32.9987 L1561.51 32.9987 L1561.51 72.576 L1554.01 72.576 L1554.01 32.9987 L1546.88 32.9987 L1546.88 27.2059 L1554.01 27.2059 L1554.01 24.0462 Q1554.01 16.471 1557.54 13.0277 Q1561.06 9.54393 1568.72 9.54393 L1575.77 9.54393 Z\" fill=\"#000000\" fill-rule=\"evenodd\" fill-opacity=\"1\" /><path clip-path=\"url(#clip440)\" d=\"M1620.81 48.0275 L1620.81 51.6733 L1586.54 51.6733 Q1587.03 59.3701 1591.16 63.421 Q1595.33 67.4314 1602.74 67.4314 Q1607.04 67.4314 1611.05 66.3781 Q1615.1 65.3249 1619.07 63.2184 L1619.07 70.267 Q1615.06 71.9684 1610.85 72.8596 Q1606.63 73.7508 1602.3 73.7508 Q1591.44 73.7508 1585.08 67.4314 Q1578.76 61.1119 1578.76 50.3365 Q1578.76 39.1965 1584.76 32.6746 Q1590.79 26.1121 1601 26.1121 Q1610.16 26.1121 1615.46 32.0264 Q1620.81 37.9003 1620.81 48.0275 M1613.36 45.84 Q1613.28 39.7232 1609.91 36.0774 Q1606.59 32.4315 1601.08 32.4315 Q1594.85 32.4315 1591.08 35.9558 Q1587.35 39.4801 1586.78 45.8805 L1613.36 45.84 Z\" fill=\"#000000\" fill-rule=\"evenodd\" fill-opacity=\"1\" /><path clip-path=\"url(#clip440)\" d=\"M1659.34 34.1734 Q1658.08 33.4443 1656.58 33.1202 Q1655.12 32.7556 1653.34 32.7556 Q1647.02 32.7556 1643.62 36.8875 Q1640.26 40.9789 1640.26 48.6757 L1640.26 72.576 L1632.76 72.576 L1632.76 27.2059 L1640.26 27.2059 L1640.26 34.2544 Q1642.61 30.1225 1646.37 28.1376 Q1650.14 26.1121 1655.53 26.1121 Q1656.3 26.1121 1657.23 26.2337 Q1658.16 26.3147 1659.3 26.5172 L1659.34 34.1734 Z\" fill=\"#000000\" fill-rule=\"evenodd\" fill-opacity=\"1\" /><path clip-path=\"url(#clip440)\" d=\"M1730.11 14.0809 L1730.11 22.0612 Q1725.45 19.8332 1721.31 18.7395 Q1717.18 17.6457 1713.33 17.6457 Q1706.65 17.6457 1703 20.2383 Q1699.4 22.8309 1699.4 27.611 Q1699.4 31.6214 1701.79 33.6873 Q1704.22 35.7128 1710.94 36.9686 L1715.89 37.9813 Q1725.04 39.7232 1729.38 44.1387 Q1733.75 48.5136 1733.75 55.8863 Q1733.75 64.6767 1727.84 69.2137 Q1721.96 73.7508 1710.58 73.7508 Q1706.29 73.7508 1701.42 72.7785 Q1696.6 71.8063 1691.42 69.9024 L1691.42 61.4765 Q1696.4 64.2716 1701.18 65.6895 Q1705.96 67.1073 1710.58 67.1073 Q1717.59 67.1073 1721.4 64.3527 Q1725.2 61.598 1725.2 56.4939 Q1725.2 52.0379 1722.45 49.5264 Q1719.73 47.0148 1713.5 45.759 L1708.51 44.7868 Q1699.36 42.9639 1695.27 39.075 Q1691.18 35.1862 1691.18 28.2591 Q1691.18 20.2383 1696.81 15.6203 Q1702.48 11.0023 1712.4 11.0023 Q1716.66 11.0023 1721.07 11.7719 Q1725.49 12.5416 1730.11 14.0809 Z\" fill=\"#000000\" fill-rule=\"evenodd\" fill-opacity=\"1\" /><path clip-path=\"url(#clip440)\" d=\"M1753.56 14.324 L1753.56 27.2059 L1768.91 27.2059 L1768.91 32.9987 L1753.56 32.9987 L1753.56 57.6282 Q1753.56 63.1779 1755.06 64.7578 Q1756.6 66.3376 1761.26 66.3376 L1768.91 66.3376 L1768.91 72.576 L1761.26 72.576 Q1752.63 72.576 1749.35 69.3758 Q1746.07 66.1351 1746.07 57.6282 L1746.07 32.9987 L1740.6 32.9987 L1740.6 27.2059 L1746.07 27.2059 L1746.07 14.324 L1753.56 14.324 Z\" fill=\"#000000\" fill-rule=\"evenodd\" fill-opacity=\"1\" /><path clip-path=\"url(#clip440)\" d=\"M1799.34 49.7694 Q1790.3 49.7694 1786.82 51.8354 Q1783.33 53.9013 1783.33 58.8839 Q1783.33 62.8538 1785.93 65.2034 Q1788.56 67.5124 1793.06 67.5124 Q1799.25 67.5124 1802.98 63.1374 Q1806.75 58.7219 1806.75 51.4303 L1806.75 49.7694 L1799.34 49.7694 M1814.2 46.6907 L1814.2 72.576 L1806.75 72.576 L1806.75 65.6895 Q1804.2 69.8214 1800.39 71.8063 Q1796.58 73.7508 1791.07 73.7508 Q1784.1 73.7508 1779.97 69.8619 Q1775.88 65.9325 1775.88 59.3701 Q1775.88 51.7138 1780.98 47.825 Q1786.13 43.9361 1796.3 43.9361 L1806.75 43.9361 L1806.75 43.2069 Q1806.75 38.0623 1803.35 35.2672 Q1799.98 32.4315 1793.87 32.4315 Q1789.98 32.4315 1786.29 33.3632 Q1782.6 34.295 1779.2 36.1584 L1779.2 29.2718 Q1783.29 27.692 1787.14 26.9223 Q1790.99 26.1121 1794.64 26.1121 Q1804.48 26.1121 1809.34 31.2163 Q1814.2 36.3204 1814.2 46.6907 Z\" fill=\"#000000\" fill-rule=\"evenodd\" fill-opacity=\"1\" /><path clip-path=\"url(#clip440)\" d=\"M1836.93 14.324 L1836.93 27.2059 L1852.28 27.2059 L1852.28 32.9987 L1836.93 32.9987 L1836.93 57.6282 Q1836.93 63.1779 1838.43 64.7578 Q1839.97 66.3376 1844.62 66.3376 L1852.28 66.3376 L1852.28 72.576 L1844.62 72.576 Q1836 72.576 1832.71 69.3758 Q1829.43 66.1351 1829.43 57.6282 L1829.43 32.9987 L1823.96 32.9987 L1823.96 27.2059 L1829.43 27.2059 L1829.43 14.324 L1836.93 14.324 Z\" fill=\"#000000\" fill-rule=\"evenodd\" fill-opacity=\"1\" /><path clip-path=\"url(#clip440)\" d=\"M1862.08 27.2059 L1869.54 27.2059 L1869.54 72.576 L1862.08 72.576 L1862.08 27.2059 M1862.08 9.54393 L1869.54 9.54393 L1869.54 18.9825 L1862.08 18.9825 L1862.08 9.54393 Z\" fill=\"#000000\" fill-rule=\"evenodd\" fill-opacity=\"1\" /><path clip-path=\"url(#clip440)\" d=\"M1902.71 32.4315 Q1896.72 32.4315 1893.24 37.1306 Q1889.75 41.7891 1889.75 49.9314 Q1889.75 58.0738 1893.19 62.7728 Q1896.68 67.4314 1902.71 67.4314 Q1908.67 67.4314 1912.15 62.7323 Q1915.64 58.0333 1915.64 49.9314 Q1915.64 41.8701 1912.15 37.1711 Q1908.67 32.4315 1902.71 32.4315 M1902.71 26.1121 Q1912.44 26.1121 1917.99 32.4315 Q1923.54 38.7509 1923.54 49.9314 Q1923.54 61.0714 1917.99 67.4314 Q1912.44 73.7508 1902.71 73.7508 Q1892.95 73.7508 1887.4 67.4314 Q1881.89 61.0714 1881.89 49.9314 Q1881.89 38.7509 1887.4 32.4315 Q1892.95 26.1121 1902.71 26.1121 Z\" fill=\"#000000\" fill-rule=\"evenodd\" fill-opacity=\"1\" /><path clip-path=\"url(#clip440)\" d=\"M1973.6 45.1919 L1973.6 72.576 L1966.15 72.576 L1966.15 45.4349 Q1966.15 38.994 1963.64 35.7938 Q1961.13 32.5936 1956.11 32.5936 Q1950.07 32.5936 1946.59 36.4419 Q1943.1 40.2903 1943.1 46.9338 L1943.1 72.576 L1935.61 72.576 L1935.61 27.2059 L1943.1 27.2059 L1943.1 34.2544 Q1945.78 30.163 1949.38 28.1376 Q1953.03 26.1121 1957.77 26.1121 Q1965.58 26.1121 1969.59 30.9732 Q1973.6 35.7938 1973.6 45.1919 Z\" fill=\"#000000\" fill-rule=\"evenodd\" fill-opacity=\"1\" /><path clip-path=\"url(#clip440)\" d=\"M2017.4 28.5427 L2017.4 35.5912 Q2014.24 33.9709 2010.83 33.1607 Q2007.43 32.3505 2003.78 32.3505 Q1998.23 32.3505 1995.44 34.0519 Q1992.68 35.7533 1992.68 39.156 Q1992.68 41.7486 1994.67 43.2475 Q1996.65 44.7058 2002.65 46.0426 L2005.2 46.6097 Q2013.14 48.3111 2016.46 51.4303 Q2019.83 54.509 2019.83 60.0587 Q2019.83 66.3781 2014.8 70.0644 Q2009.82 73.7508 2001.07 73.7508 Q1997.42 73.7508 1993.45 73.0216 Q1989.53 72.3329 1985.15 70.9151 L1985.15 63.2184 Q1989.28 65.3654 1993.29 66.4591 Q1997.3 67.5124 2001.23 67.5124 Q2006.5 67.5124 2009.33 65.73 Q2012.17 63.9071 2012.17 60.6258 Q2012.17 57.5877 2010.1 55.9673 Q2008.08 54.3469 2001.15 52.8481 L1998.56 52.2405 Q1991.63 50.7821 1988.55 47.7845 Q1985.47 44.7463 1985.47 39.4801 Q1985.47 33.0797 1990.01 29.5959 Q1994.55 26.1121 2002.89 26.1121 Q2007.02 26.1121 2010.67 26.7198 Q2014.32 27.3274 2017.4 28.5427 Z\" fill=\"#000000\" fill-rule=\"evenodd\" fill-opacity=\"1\" /><path clip-path=\"url(#clip440)\" d=\"M2066.57 43.6931 L2066.57 65.8515 L2079.7 65.8515 Q2086.3 65.8515 2089.46 63.1374 Q2092.66 60.3828 2092.66 54.752 Q2092.66 49.0808 2089.46 46.4072 Q2086.3 43.6931 2079.7 43.6931 L2066.57 43.6931 M2066.57 18.8205 L2066.57 37.0496 L2078.69 37.0496 Q2084.68 37.0496 2087.6 34.8216 Q2090.55 32.5531 2090.55 27.935 Q2090.55 23.3575 2087.6 21.089 Q2084.68 18.8205 2078.69 18.8205 L2066.57 18.8205 M2058.39 12.096 L2079.29 12.096 Q2088.65 12.096 2093.71 15.9849 Q2098.78 19.8737 2098.78 27.0438 Q2098.78 32.5936 2096.19 35.8748 Q2093.59 39.156 2088.57 39.9662 Q2094.61 41.2625 2097.93 45.3944 Q2101.29 49.4858 2101.29 55.6432 Q2101.29 63.745 2095.78 68.1605 Q2090.27 72.576 2080.1 72.576 L2058.39 72.576 L2058.39 12.096 Z\" fill=\"#000000\" fill-rule=\"evenodd\" fill-opacity=\"1\" /><path clip-path=\"url(#clip440)\" d=\"M2114.21 54.671 L2114.21 27.2059 L2121.67 27.2059 L2121.67 54.3874 Q2121.67 60.8284 2124.18 64.0691 Q2126.69 67.2693 2131.71 67.2693 Q2137.75 67.2693 2141.23 63.421 Q2144.76 59.5726 2144.76 52.9291 L2144.76 27.2059 L2152.21 27.2059 L2152.21 72.576 L2144.76 72.576 L2144.76 65.6084 Q2142.04 69.7404 2138.44 71.7658 Q2134.87 73.7508 2130.13 73.7508 Q2122.31 73.7508 2118.26 68.8897 Q2114.21 64.0286 2114.21 54.671 M2132.97 26.1121 L2132.97 26.1121 Z\" fill=\"#000000\" fill-rule=\"evenodd\" fill-opacity=\"1\" /><path clip-path=\"url(#clip440)\" d=\"M2167.56 27.2059 L2175.02 27.2059 L2175.02 72.576 L2167.56 72.576 L2167.56 27.2059 M2167.56 9.54393 L2175.02 9.54393 L2175.02 18.9825 L2167.56 18.9825 L2167.56 9.54393 Z\" fill=\"#000000\" fill-rule=\"evenodd\" fill-opacity=\"1\" /><path clip-path=\"url(#clip440)\" d=\"M2190.61 9.54393 L2198.07 9.54393 L2198.07 72.576 L2190.61 72.576 L2190.61 9.54393 Z\" fill=\"#000000\" fill-rule=\"evenodd\" fill-opacity=\"1\" /><path clip-path=\"url(#clip440)\" d=\"M2221.03 14.324 L2221.03 27.2059 L2236.39 27.2059 L2236.39 32.9987 L2221.03 32.9987 L2221.03 57.6282 Q2221.03 63.1779 2222.53 64.7578 Q2224.07 66.3376 2228.73 66.3376 L2236.39 66.3376 L2236.39 72.576 L2228.73 72.576 Q2220.1 72.576 2216.82 69.3758 Q2213.54 66.1351 2213.54 57.6282 L2213.54 32.9987 L2208.07 32.9987 L2208.07 27.2059 L2213.54 27.2059 L2213.54 14.324 L2221.03 14.324 Z\" fill=\"#000000\" fill-rule=\"evenodd\" fill-opacity=\"1\" /><circle clip-path=\"url(#clip442)\" cx=\"1394.31\" cy=\"548.862\" r=\"14\" fill=\"#ff0000\" fill-rule=\"evenodd\" fill-opacity=\"1\" stroke=\"#000000\" stroke-opacity=\"1\" stroke-width=\"3.2\"/>\n",
       "<circle clip-path=\"url(#clip442)\" cx=\"960.575\" cy=\"886.448\" r=\"14\" fill=\"#ff0000\" fill-rule=\"evenodd\" fill-opacity=\"1\" stroke=\"#000000\" stroke-opacity=\"1\" stroke-width=\"3.2\"/>\n",
       "<circle clip-path=\"url(#clip442)\" cx=\"903.509\" cy=\"536.891\" r=\"14\" fill=\"#ff0000\" fill-rule=\"evenodd\" fill-opacity=\"1\" stroke=\"#000000\" stroke-opacity=\"1\" stroke-width=\"3.2\"/>\n",
       "<circle clip-path=\"url(#clip442)\" cx=\"2150.17\" cy=\"1357.33\" r=\"14\" fill=\"#ff0000\" fill-rule=\"evenodd\" fill-opacity=\"1\" stroke=\"#000000\" stroke-opacity=\"1\" stroke-width=\"3.2\"/>\n",
       "<circle clip-path=\"url(#clip442)\" cx=\"1599.39\" cy=\"434.205\" r=\"14\" fill=\"#ff0000\" fill-rule=\"evenodd\" fill-opacity=\"1\" stroke=\"#000000\" stroke-opacity=\"1\" stroke-width=\"3.2\"/>\n",
       "<circle clip-path=\"url(#clip442)\" cx=\"2140.62\" cy=\"291.272\" r=\"14\" fill=\"#ff0000\" fill-rule=\"evenodd\" fill-opacity=\"1\" stroke=\"#000000\" stroke-opacity=\"1\" stroke-width=\"3.2\"/>\n",
       "<circle clip-path=\"url(#clip442)\" cx=\"1646.57\" cy=\"1310.29\" r=\"14\" fill=\"#ff0000\" fill-rule=\"evenodd\" fill-opacity=\"1\" stroke=\"#000000\" stroke-opacity=\"1\" stroke-width=\"3.2\"/>\n",
       "<circle clip-path=\"url(#clip442)\" cx=\"1823.69\" cy=\"1062.02\" r=\"14\" fill=\"#ff0000\" fill-rule=\"evenodd\" fill-opacity=\"1\" stroke=\"#000000\" stroke-opacity=\"1\" stroke-width=\"3.2\"/>\n",
       "<circle clip-path=\"url(#clip442)\" cx=\"1865.74\" cy=\"279.85\" r=\"14\" fill=\"#ff0000\" fill-rule=\"evenodd\" fill-opacity=\"1\" stroke=\"#000000\" stroke-opacity=\"1\" stroke-width=\"3.2\"/>\n",
       "<circle clip-path=\"url(#clip442)\" cx=\"2104.09\" cy=\"658.727\" r=\"14\" fill=\"#ff0000\" fill-rule=\"evenodd\" fill-opacity=\"1\" stroke=\"#000000\" stroke-opacity=\"1\" stroke-width=\"3.2\"/>\n",
       "<circle clip-path=\"url(#clip442)\" cx=\"1467.78\" cy=\"1215.17\" r=\"14\" fill=\"#008000\" fill-rule=\"evenodd\" fill-opacity=\"1\" stroke=\"#000000\" stroke-opacity=\"1\" stroke-width=\"3.2\"/>\n",
       "<circle clip-path=\"url(#clip442)\" cx=\"1293.55\" cy=\"262.292\" r=\"14\" fill=\"#008000\" fill-rule=\"evenodd\" fill-opacity=\"1\" stroke=\"#000000\" stroke-opacity=\"1\" stroke-width=\"3.2\"/>\n",
       "<circle clip-path=\"url(#clip442)\" cx=\"1277.79\" cy=\"807.156\" r=\"14\" fill=\"#008000\" fill-rule=\"evenodd\" fill-opacity=\"1\" stroke=\"#000000\" stroke-opacity=\"1\" stroke-width=\"3.2\"/>\n",
       "<circle clip-path=\"url(#clip442)\" cx=\"1450.71\" cy=\"1276.7\" r=\"14\" fill=\"#008000\" fill-rule=\"evenodd\" fill-opacity=\"1\" stroke=\"#000000\" stroke-opacity=\"1\" stroke-width=\"3.2\"/>\n",
       "<circle clip-path=\"url(#clip442)\" cx=\"1100.56\" cy=\"1000.2\" r=\"14\" fill=\"#008000\" fill-rule=\"evenodd\" fill-opacity=\"1\" stroke=\"#000000\" stroke-opacity=\"1\" stroke-width=\"3.2\"/>\n",
       "<circle clip-path=\"url(#clip442)\" cx=\"894.443\" cy=\"1060.92\" r=\"14\" fill=\"#008000\" fill-rule=\"evenodd\" fill-opacity=\"1\" stroke=\"#000000\" stroke-opacity=\"1\" stroke-width=\"3.2\"/>\n",
       "<circle clip-path=\"url(#clip442)\" cx=\"1178.5\" cy=\"854.674\" r=\"14\" fill=\"#008000\" fill-rule=\"evenodd\" fill-opacity=\"1\" stroke=\"#000000\" stroke-opacity=\"1\" stroke-width=\"3.2\"/>\n",
       "<circle clip-path=\"url(#clip442)\" cx=\"805.659\" cy=\"791.203\" r=\"14\" fill=\"#008000\" fill-rule=\"evenodd\" fill-opacity=\"1\" stroke=\"#000000\" stroke-opacity=\"1\" stroke-width=\"3.2\"/>\n",
       "<circle clip-path=\"url(#clip442)\" cx=\"852.604\" cy=\"365.513\" r=\"14\" fill=\"#008000\" fill-rule=\"evenodd\" fill-opacity=\"1\" stroke=\"#000000\" stroke-opacity=\"1\" stroke-width=\"3.2\"/>\n",
       "<circle clip-path=\"url(#clip442)\" cx=\"1475.41\" cy=\"1378.86\" r=\"14\" fill=\"#008000\" fill-rule=\"evenodd\" fill-opacity=\"1\" stroke=\"#000000\" stroke-opacity=\"1\" stroke-width=\"3.2\"/>\n",
       "<circle clip-path=\"url(#clip442)\" cx=\"1074.24\" cy=\"776.256\" r=\"14\" fill=\"#008000\" fill-rule=\"evenodd\" fill-opacity=\"1\" stroke=\"#000000\" stroke-opacity=\"1\" stroke-width=\"3.2\"/>\n",
       "<circle clip-path=\"url(#clip442)\" cx=\"1733.2\" cy=\"966.55\" r=\"14\" fill=\"#008000\" fill-rule=\"evenodd\" fill-opacity=\"1\" stroke=\"#000000\" stroke-opacity=\"1\" stroke-width=\"3.2\"/>\n",
       "<circle clip-path=\"url(#clip442)\" cx=\"2226.54\" cy=\"1059.37\" r=\"14\" fill=\"#008000\" fill-rule=\"evenodd\" fill-opacity=\"1\" stroke=\"#000000\" stroke-opacity=\"1\" stroke-width=\"3.2\"/>\n",
       "<circle clip-path=\"url(#clip442)\" cx=\"2270.96\" cy=\"1140.28\" r=\"14\" fill=\"#008000\" fill-rule=\"evenodd\" fill-opacity=\"1\" stroke=\"#000000\" stroke-opacity=\"1\" stroke-width=\"3.2\"/>\n",
       "<circle clip-path=\"url(#clip442)\" cx=\"2270.96\" cy=\"627.867\" r=\"14\" fill=\"#008000\" fill-rule=\"evenodd\" fill-opacity=\"1\" stroke=\"#000000\" stroke-opacity=\"1\" stroke-width=\"3.2\"/>\n",
       "<circle clip-path=\"url(#clip442)\" cx=\"998.399\" cy=\"738.555\" r=\"14\" fill=\"#0000ff\" fill-rule=\"evenodd\" fill-opacity=\"1\" stroke=\"#000000\" stroke-opacity=\"1\" stroke-width=\"3.2\"/>\n",
       "<circle clip-path=\"url(#clip442)\" cx=\"1412.71\" cy=\"1400.32\" r=\"14\" fill=\"#0000ff\" fill-rule=\"evenodd\" fill-opacity=\"1\" stroke=\"#000000\" stroke-opacity=\"1\" stroke-width=\"3.2\"/>\n",
       "<circle clip-path=\"url(#clip442)\" cx=\"1345.63\" cy=\"1296.72\" r=\"14\" fill=\"#0000ff\" fill-rule=\"evenodd\" fill-opacity=\"1\" stroke=\"#000000\" stroke-opacity=\"1\" stroke-width=\"3.2\"/>\n",
       "<circle clip-path=\"url(#clip442)\" cx=\"1148.22\" cy=\"843.865\" r=\"14\" fill=\"#0000ff\" fill-rule=\"evenodd\" fill-opacity=\"1\" stroke=\"#000000\" stroke-opacity=\"1\" stroke-width=\"3.2\"/>\n",
       "<circle clip-path=\"url(#clip442)\" cx=\"1240.85\" cy=\"226.04\" r=\"14\" fill=\"#0000ff\" fill-rule=\"evenodd\" fill-opacity=\"1\" stroke=\"#000000\" stroke-opacity=\"1\" stroke-width=\"3.2\"/>\n",
       "<circle clip-path=\"url(#clip442)\" cx=\"922.728\" cy=\"736.518\" r=\"14\" fill=\"#0000ff\" fill-rule=\"evenodd\" fill-opacity=\"1\" stroke=\"#000000\" stroke-opacity=\"1\" stroke-width=\"3.2\"/>\n",
       "<circle clip-path=\"url(#clip442)\" cx=\"1122.07\" cy=\"820.354\" r=\"14\" fill=\"#0000ff\" fill-rule=\"evenodd\" fill-opacity=\"1\" stroke=\"#000000\" stroke-opacity=\"1\" stroke-width=\"3.2\"/>\n",
       "<circle clip-path=\"url(#clip442)\" cx=\"1153.71\" cy=\"975.949\" r=\"14\" fill=\"#0000ff\" fill-rule=\"evenodd\" fill-opacity=\"1\" stroke=\"#000000\" stroke-opacity=\"1\" stroke-width=\"3.2\"/>\n",
       "<circle clip-path=\"url(#clip442)\" cx=\"1578.48\" cy=\"330.892\" r=\"14\" fill=\"#0000ff\" fill-rule=\"evenodd\" fill-opacity=\"1\" stroke=\"#000000\" stroke-opacity=\"1\" stroke-width=\"3.2\"/>\n",
       "<circle clip-path=\"url(#clip442)\" cx=\"1405.31\" cy=\"569.579\" r=\"14\" fill=\"#0000ff\" fill-rule=\"evenodd\" fill-opacity=\"1\" stroke=\"#000000\" stroke-opacity=\"1\" stroke-width=\"3.2\"/>\n",
       "<circle clip-path=\"url(#clip442)\" cx=\"1024.77\" cy=\"1033.54\" r=\"14\" fill=\"#0000ff\" fill-rule=\"evenodd\" fill-opacity=\"1\" stroke=\"#000000\" stroke-opacity=\"1\" stroke-width=\"3.2\"/>\n",
       "<circle clip-path=\"url(#clip442)\" cx=\"930.452\" cy=\"1196.12\" r=\"14\" fill=\"#0000ff\" fill-rule=\"evenodd\" fill-opacity=\"1\" stroke=\"#000000\" stroke-opacity=\"1\" stroke-width=\"3.2\"/>\n",
       "<circle clip-path=\"url(#clip442)\" cx=\"929.434\" cy=\"443.16\" r=\"14\" fill=\"#0000ff\" fill-rule=\"evenodd\" fill-opacity=\"1\" stroke=\"#000000\" stroke-opacity=\"1\" stroke-width=\"3.2\"/>\n",
       "<circle clip-path=\"url(#clip442)\" cx=\"1266.93\" cy=\"289.889\" r=\"14\" fill=\"#0000ff\" fill-rule=\"evenodd\" fill-opacity=\"1\" stroke=\"#000000\" stroke-opacity=\"1\" stroke-width=\"3.2\"/>\n",
       "<circle clip-path=\"url(#clip442)\" cx=\"1453.66\" cy=\"204.722\" r=\"14\" fill=\"#0000ff\" fill-rule=\"evenodd\" fill-opacity=\"1\" stroke=\"#000000\" stroke-opacity=\"1\" stroke-width=\"3.2\"/>\n",
       "<circle clip-path=\"url(#clip442)\" cx=\"1421.59\" cy=\"348.947\" r=\"14\" fill=\"#0000ff\" fill-rule=\"evenodd\" fill-opacity=\"1\" stroke=\"#000000\" stroke-opacity=\"1\" stroke-width=\"3.2\"/>\n",
       "<circle clip-path=\"url(#clip442)\" cx=\"1471.26\" cy=\"1178.97\" r=\"14\" fill=\"#0000ff\" fill-rule=\"evenodd\" fill-opacity=\"1\" stroke=\"#000000\" stroke-opacity=\"1\" stroke-width=\"3.2\"/>\n",
       "<circle clip-path=\"url(#clip442)\" cx=\"1471.92\" cy=\"605.126\" r=\"14\" fill=\"#0000ff\" fill-rule=\"evenodd\" fill-opacity=\"1\" stroke=\"#000000\" stroke-opacity=\"1\" stroke-width=\"3.2\"/>\n",
       "<circle clip-path=\"url(#clip442)\" cx=\"1446.63\" cy=\"1244.83\" r=\"14\" fill=\"#0000ff\" fill-rule=\"evenodd\" fill-opacity=\"1\" stroke=\"#000000\" stroke-opacity=\"1\" stroke-width=\"3.2\"/>\n",
       "<circle clip-path=\"url(#clip442)\" cx=\"1293.59\" cy=\"801.608\" r=\"14\" fill=\"#0000ff\" fill-rule=\"evenodd\" fill-opacity=\"1\" stroke=\"#000000\" stroke-opacity=\"1\" stroke-width=\"3.2\"/>\n",
       "<circle clip-path=\"url(#clip442)\" cx=\"1422.43\" cy=\"1092.97\" r=\"14\" fill=\"#0000ff\" fill-rule=\"evenodd\" fill-opacity=\"1\" stroke=\"#000000\" stroke-opacity=\"1\" stroke-width=\"3.2\"/>\n",
       "<circle clip-path=\"url(#clip442)\" cx=\"1338.77\" cy=\"536.551\" r=\"14\" fill=\"#0000ff\" fill-rule=\"evenodd\" fill-opacity=\"1\" stroke=\"#000000\" stroke-opacity=\"1\" stroke-width=\"3.2\"/>\n",
       "<circle clip-path=\"url(#clip442)\" cx=\"1532.54\" cy=\"287.291\" r=\"14\" fill=\"#0000ff\" fill-rule=\"evenodd\" fill-opacity=\"1\" stroke=\"#000000\" stroke-opacity=\"1\" stroke-width=\"3.2\"/>\n",
       "<circle clip-path=\"url(#clip442)\" cx=\"803.173\" cy=\"778.658\" r=\"14\" fill=\"#0000ff\" fill-rule=\"evenodd\" fill-opacity=\"1\" stroke=\"#000000\" stroke-opacity=\"1\" stroke-width=\"3.2\"/>\n",
       "<circle clip-path=\"url(#clip442)\" cx=\"913.055\" cy=\"1369.85\" r=\"14\" fill=\"#0000ff\" fill-rule=\"evenodd\" fill-opacity=\"1\" stroke=\"#000000\" stroke-opacity=\"1\" stroke-width=\"3.2\"/>\n",
       "<circle clip-path=\"url(#clip442)\" cx=\"1212.65\" cy=\"866.083\" r=\"14\" fill=\"#0000ff\" fill-rule=\"evenodd\" fill-opacity=\"1\" stroke=\"#000000\" stroke-opacity=\"1\" stroke-width=\"3.2\"/>\n",
       "<circle clip-path=\"url(#clip442)\" cx=\"1541.04\" cy=\"642.214\" r=\"14\" fill=\"#0000ff\" fill-rule=\"evenodd\" fill-opacity=\"1\" stroke=\"#000000\" stroke-opacity=\"1\" stroke-width=\"3.2\"/>\n",
       "<circle clip-path=\"url(#clip442)\" cx=\"994.059\" cy=\"956.067\" r=\"14\" fill=\"#0000ff\" fill-rule=\"evenodd\" fill-opacity=\"1\" stroke=\"#000000\" stroke-opacity=\"1\" stroke-width=\"3.2\"/>\n",
       "<circle clip-path=\"url(#clip442)\" cx=\"1280.02\" cy=\"516.865\" r=\"14\" fill=\"#0000ff\" fill-rule=\"evenodd\" fill-opacity=\"1\" stroke=\"#000000\" stroke-opacity=\"1\" stroke-width=\"3.2\"/>\n",
       "<circle clip-path=\"url(#clip442)\" cx=\"1164.18\" cy=\"685.645\" r=\"14\" fill=\"#0000ff\" fill-rule=\"evenodd\" fill-opacity=\"1\" stroke=\"#000000\" stroke-opacity=\"1\" stroke-width=\"3.2\"/>\n",
       "<circle clip-path=\"url(#clip442)\" cx=\"1402.03\" cy=\"482.65\" r=\"14\" fill=\"#0000ff\" fill-rule=\"evenodd\" fill-opacity=\"1\" stroke=\"#000000\" stroke-opacity=\"1\" stroke-width=\"3.2\"/>\n",
       "<circle clip-path=\"url(#clip442)\" cx=\"1409.22\" cy=\"1384.62\" r=\"14\" fill=\"#0000ff\" fill-rule=\"evenodd\" fill-opacity=\"1\" stroke=\"#000000\" stroke-opacity=\"1\" stroke-width=\"3.2\"/>\n",
       "<circle clip-path=\"url(#clip442)\" cx=\"1206.85\" cy=\"844.348\" r=\"14\" fill=\"#0000ff\" fill-rule=\"evenodd\" fill-opacity=\"1\" stroke=\"#000000\" stroke-opacity=\"1\" stroke-width=\"3.2\"/>\n",
       "<circle clip-path=\"url(#clip442)\" cx=\"892.266\" cy=\"423.905\" r=\"14\" fill=\"#0000ff\" fill-rule=\"evenodd\" fill-opacity=\"1\" stroke=\"#000000\" stroke-opacity=\"1\" stroke-width=\"3.2\"/>\n",
       "<circle clip-path=\"url(#clip442)\" cx=\"1022.83\" cy=\"940.702\" r=\"14\" fill=\"#0000ff\" fill-rule=\"evenodd\" fill-opacity=\"1\" stroke=\"#000000\" stroke-opacity=\"1\" stroke-width=\"3.2\"/>\n",
       "<circle clip-path=\"url(#clip442)\" cx=\"1136.19\" cy=\"835.915\" r=\"14\" fill=\"#0000ff\" fill-rule=\"evenodd\" fill-opacity=\"1\" stroke=\"#000000\" stroke-opacity=\"1\" stroke-width=\"3.2\"/>\n",
       "<circle clip-path=\"url(#clip442)\" cx=\"801.386\" cy=\"162.047\" r=\"14\" fill=\"#0000ff\" fill-rule=\"evenodd\" fill-opacity=\"1\" stroke=\"#000000\" stroke-opacity=\"1\" stroke-width=\"3.2\"/>\n",
       "<circle clip-path=\"url(#clip442)\" cx=\"1052.65\" cy=\"1134.63\" r=\"14\" fill=\"#0000ff\" fill-rule=\"evenodd\" fill-opacity=\"1\" stroke=\"#000000\" stroke-opacity=\"1\" stroke-width=\"3.2\"/>\n",
       "<circle clip-path=\"url(#clip442)\" cx=\"1114.13\" cy=\"338.346\" r=\"14\" fill=\"#0000ff\" fill-rule=\"evenodd\" fill-opacity=\"1\" stroke=\"#000000\" stroke-opacity=\"1\" stroke-width=\"3.2\"/>\n",
       "<circle clip-path=\"url(#clip442)\" cx=\"1001.51\" cy=\"606.954\" r=\"14\" fill=\"#0000ff\" fill-rule=\"evenodd\" fill-opacity=\"1\" stroke=\"#000000\" stroke-opacity=\"1\" stroke-width=\"3.2\"/>\n",
       "<circle clip-path=\"url(#clip442)\" cx=\"846.069\" cy=\"252.879\" r=\"14\" fill=\"#0000ff\" fill-rule=\"evenodd\" fill-opacity=\"1\" stroke=\"#000000\" stroke-opacity=\"1\" stroke-width=\"3.2\"/>\n",
       "<circle clip-path=\"url(#clip442)\" cx=\"844.08\" cy=\"967.216\" r=\"14\" fill=\"#0000ff\" fill-rule=\"evenodd\" fill-opacity=\"1\" stroke=\"#000000\" stroke-opacity=\"1\" stroke-width=\"3.2\"/>\n",
       "<circle clip-path=\"url(#clip442)\" cx=\"959.826\" cy=\"729.09\" r=\"14\" fill=\"#0000ff\" fill-rule=\"evenodd\" fill-opacity=\"1\" stroke=\"#000000\" stroke-opacity=\"1\" stroke-width=\"3.2\"/>\n",
       "<circle clip-path=\"url(#clip442)\" cx=\"1527.54\" cy=\"282.186\" r=\"14\" fill=\"#0000ff\" fill-rule=\"evenodd\" fill-opacity=\"1\" stroke=\"#000000\" stroke-opacity=\"1\" stroke-width=\"3.2\"/>\n",
       "<circle clip-path=\"url(#clip442)\" cx=\"877.433\" cy=\"1260.31\" r=\"14\" fill=\"#0000ff\" fill-rule=\"evenodd\" fill-opacity=\"1\" stroke=\"#000000\" stroke-opacity=\"1\" stroke-width=\"3.2\"/>\n",
       "<circle clip-path=\"url(#clip442)\" cx=\"1152.67\" cy=\"1095.57\" r=\"14\" fill=\"#0000ff\" fill-rule=\"evenodd\" fill-opacity=\"1\" stroke=\"#000000\" stroke-opacity=\"1\" stroke-width=\"3.2\"/>\n",
       "<circle clip-path=\"url(#clip442)\" cx=\"995.408\" cy=\"758.319\" r=\"14\" fill=\"#0000ff\" fill-rule=\"evenodd\" fill-opacity=\"1\" stroke=\"#000000\" stroke-opacity=\"1\" stroke-width=\"3.2\"/>\n",
       "<circle clip-path=\"url(#clip442)\" cx=\"1254.13\" cy=\"799.323\" r=\"14\" fill=\"#0000ff\" fill-rule=\"evenodd\" fill-opacity=\"1\" stroke=\"#000000\" stroke-opacity=\"1\" stroke-width=\"3.2\"/>\n",
       "<circle clip-path=\"url(#clip442)\" cx=\"984.623\" cy=\"613.115\" r=\"14\" fill=\"#0000ff\" fill-rule=\"evenodd\" fill-opacity=\"1\" stroke=\"#000000\" stroke-opacity=\"1\" stroke-width=\"3.2\"/>\n",
       "<circle clip-path=\"url(#clip442)\" cx=\"907.651\" cy=\"753.698\" r=\"14\" fill=\"#0000ff\" fill-rule=\"evenodd\" fill-opacity=\"1\" stroke=\"#000000\" stroke-opacity=\"1\" stroke-width=\"3.2\"/>\n",
       "<circle clip-path=\"url(#clip442)\" cx=\"1947.64\" cy=\"598.207\" r=\"14\" fill=\"#0000ff\" fill-rule=\"evenodd\" fill-opacity=\"1\" stroke=\"#000000\" stroke-opacity=\"1\" stroke-width=\"3.2\"/>\n",
       "<circle clip-path=\"url(#clip442)\" cx=\"2119.48\" cy=\"556.616\" r=\"14\" fill=\"#0000ff\" fill-rule=\"evenodd\" fill-opacity=\"1\" stroke=\"#000000\" stroke-opacity=\"1\" stroke-width=\"3.2\"/>\n",
       "<circle clip-path=\"url(#clip442)\" cx=\"1739.67\" cy=\"1014.9\" r=\"14\" fill=\"#0000ff\" fill-rule=\"evenodd\" fill-opacity=\"1\" stroke=\"#000000\" stroke-opacity=\"1\" stroke-width=\"3.2\"/>\n",
       "<circle clip-path=\"url(#clip442)\" cx=\"2033.32\" cy=\"463.708\" r=\"14\" fill=\"#0000ff\" fill-rule=\"evenodd\" fill-opacity=\"1\" stroke=\"#000000\" stroke-opacity=\"1\" stroke-width=\"3.2\"/>\n",
       "<circle clip-path=\"url(#clip442)\" cx=\"1625.97\" cy=\"1215.29\" r=\"14\" fill=\"#0000ff\" fill-rule=\"evenodd\" fill-opacity=\"1\" stroke=\"#000000\" stroke-opacity=\"1\" stroke-width=\"3.2\"/>\n",
       "<circle clip-path=\"url(#clip442)\" cx=\"2101.02\" cy=\"1358.7\" r=\"14\" fill=\"#0000ff\" fill-rule=\"evenodd\" fill-opacity=\"1\" stroke=\"#000000\" stroke-opacity=\"1\" stroke-width=\"3.2\"/>\n",
       "<circle clip-path=\"url(#clip442)\" cx=\"1623.45\" cy=\"1407.42\" r=\"14\" fill=\"#0000ff\" fill-rule=\"evenodd\" fill-opacity=\"1\" stroke=\"#000000\" stroke-opacity=\"1\" stroke-width=\"3.2\"/>\n",
       "<circle clip-path=\"url(#clip442)\" cx=\"2307.57\" cy=\"1444.33\" r=\"14\" fill=\"#0000ff\" fill-rule=\"evenodd\" fill-opacity=\"1\" stroke=\"#000000\" stroke-opacity=\"1\" stroke-width=\"3.2\"/>\n",
       "<circle clip-path=\"url(#clip442)\" cx=\"1732.88\" cy=\"1447.87\" r=\"14\" fill=\"#0000ff\" fill-rule=\"evenodd\" fill-opacity=\"1\" stroke=\"#000000\" stroke-opacity=\"1\" stroke-width=\"3.2\"/>\n",
       "<circle clip-path=\"url(#clip442)\" cx=\"2206.5\" cy=\"978.521\" r=\"14\" fill=\"#0000ff\" fill-rule=\"evenodd\" fill-opacity=\"1\" stroke=\"#000000\" stroke-opacity=\"1\" stroke-width=\"3.2\"/>\n",
       "<circle clip-path=\"url(#clip442)\" cx=\"1800.57\" cy=\"453.538\" r=\"14\" fill=\"#0000ff\" fill-rule=\"evenodd\" fill-opacity=\"1\" stroke=\"#000000\" stroke-opacity=\"1\" stroke-width=\"3.2\"/>\n",
       "<circle clip-path=\"url(#clip442)\" cx=\"2269.78\" cy=\"1022.7\" r=\"14\" fill=\"#0000ff\" fill-rule=\"evenodd\" fill-opacity=\"1\" stroke=\"#000000\" stroke-opacity=\"1\" stroke-width=\"3.2\"/>\n",
       "<circle clip-path=\"url(#clip442)\" cx=\"1682.23\" cy=\"521.395\" r=\"14\" fill=\"#0000ff\" fill-rule=\"evenodd\" fill-opacity=\"1\" stroke=\"#000000\" stroke-opacity=\"1\" stroke-width=\"3.2\"/>\n",
       "<circle clip-path=\"url(#clip442)\" cx=\"1810.83\" cy=\"1138.15\" r=\"14\" fill=\"#0000ff\" fill-rule=\"evenodd\" fill-opacity=\"1\" stroke=\"#000000\" stroke-opacity=\"1\" stroke-width=\"3.2\"/>\n",
       "<circle clip-path=\"url(#clip442)\" cx=\"2145.12\" cy=\"705.593\" r=\"14\" fill=\"#0000ff\" fill-rule=\"evenodd\" fill-opacity=\"1\" stroke=\"#000000\" stroke-opacity=\"1\" stroke-width=\"3.2\"/>\n",
       "<circle clip-path=\"url(#clip442)\" cx=\"2183.78\" cy=\"255.334\" r=\"14\" fill=\"#0000ff\" fill-rule=\"evenodd\" fill-opacity=\"1\" stroke=\"#000000\" stroke-opacity=\"1\" stroke-width=\"3.2\"/>\n",
       "<circle clip-path=\"url(#clip442)\" cx=\"2141.81\" cy=\"747.954\" r=\"14\" fill=\"#0000ff\" fill-rule=\"evenodd\" fill-opacity=\"1\" stroke=\"#000000\" stroke-opacity=\"1\" stroke-width=\"3.2\"/>\n",
       "<circle clip-path=\"url(#clip442)\" cx=\"2129.89\" cy=\"362.184\" r=\"14\" fill=\"#0000ff\" fill-rule=\"evenodd\" fill-opacity=\"1\" stroke=\"#000000\" stroke-opacity=\"1\" stroke-width=\"3.2\"/>\n",
       "<circle clip-path=\"url(#clip442)\" cx=\"2292.42\" cy=\"303.622\" r=\"14\" fill=\"#0000ff\" fill-rule=\"evenodd\" fill-opacity=\"1\" stroke=\"#000000\" stroke-opacity=\"1\" stroke-width=\"3.2\"/>\n",
       "<circle clip-path=\"url(#clip442)\" cx=\"2140.15\" cy=\"292.865\" r=\"14\" fill=\"#0000ff\" fill-rule=\"evenodd\" fill-opacity=\"1\" stroke=\"#000000\" stroke-opacity=\"1\" stroke-width=\"3.2\"/>\n",
       "<circle clip-path=\"url(#clip442)\" cx=\"2201.69\" cy=\"767.131\" r=\"14\" fill=\"#0000ff\" fill-rule=\"evenodd\" fill-opacity=\"1\" stroke=\"#000000\" stroke-opacity=\"1\" stroke-width=\"3.2\"/>\n",
       "<circle clip-path=\"url(#clip442)\" cx=\"1844.6\" cy=\"402.065\" r=\"14\" fill=\"#0000ff\" fill-rule=\"evenodd\" fill-opacity=\"1\" stroke=\"#000000\" stroke-opacity=\"1\" stroke-width=\"3.2\"/>\n",
       "<circle clip-path=\"url(#clip442)\" cx=\"1732.88\" cy=\"346.166\" r=\"14\" fill=\"#0000ff\" fill-rule=\"evenodd\" fill-opacity=\"1\" stroke=\"#000000\" stroke-opacity=\"1\" stroke-width=\"3.2\"/>\n",
       "<circle clip-path=\"url(#clip442)\" cx=\"1957.26\" cy=\"788.553\" r=\"14\" fill=\"#0000ff\" fill-rule=\"evenodd\" fill-opacity=\"1\" stroke=\"#000000\" stroke-opacity=\"1\" stroke-width=\"3.2\"/>\n",
       "<circle clip-path=\"url(#clip442)\" cx=\"2217.07\" cy=\"557.216\" r=\"14\" fill=\"#0000ff\" fill-rule=\"evenodd\" fill-opacity=\"1\" stroke=\"#000000\" stroke-opacity=\"1\" stroke-width=\"3.2\"/>\n",
       "<circle clip-path=\"url(#clip442)\" cx=\"1829.92\" cy=\"885.247\" r=\"14\" fill=\"#0000ff\" fill-rule=\"evenodd\" fill-opacity=\"1\" stroke=\"#000000\" stroke-opacity=\"1\" stroke-width=\"3.2\"/>\n",
       "<circle clip-path=\"url(#clip442)\" cx=\"1835.84\" cy=\"224.447\" r=\"14\" fill=\"#0000ff\" fill-rule=\"evenodd\" fill-opacity=\"1\" stroke=\"#000000\" stroke-opacity=\"1\" stroke-width=\"3.2\"/>\n",
       "<circle clip-path=\"url(#clip442)\" cx=\"1697.85\" cy=\"1007.93\" r=\"14\" fill=\"#0000ff\" fill-rule=\"evenodd\" fill-opacity=\"1\" stroke=\"#000000\" stroke-opacity=\"1\" stroke-width=\"3.2\"/>\n",
       "<circle clip-path=\"url(#clip442)\" cx=\"2107.33\" cy=\"181.798\" r=\"14\" fill=\"#0000ff\" fill-rule=\"evenodd\" fill-opacity=\"1\" stroke=\"#000000\" stroke-opacity=\"1\" stroke-width=\"3.2\"/>\n",
       "<circle clip-path=\"url(#clip442)\" cx=\"2081.29\" cy=\"720.448\" r=\"14\" fill=\"#0000ff\" fill-rule=\"evenodd\" fill-opacity=\"1\" stroke=\"#000000\" stroke-opacity=\"1\" stroke-width=\"3.2\"/>\n",
       "<circle clip-path=\"url(#clip442)\" cx=\"1866.93\" cy=\"996.418\" r=\"14\" fill=\"#0000ff\" fill-rule=\"evenodd\" fill-opacity=\"1\" stroke=\"#000000\" stroke-opacity=\"1\" stroke-width=\"3.2\"/>\n",
       "<circle clip-path=\"url(#clip442)\" cx=\"1908.59\" cy=\"1104.55\" r=\"14\" fill=\"#0000ff\" fill-rule=\"evenodd\" fill-opacity=\"1\" stroke=\"#000000\" stroke-opacity=\"1\" stroke-width=\"3.2\"/>\n",
       "<circle clip-path=\"url(#clip442)\" cx=\"1862.11\" cy=\"1053.65\" r=\"14\" fill=\"#0000ff\" fill-rule=\"evenodd\" fill-opacity=\"1\" stroke=\"#000000\" stroke-opacity=\"1\" stroke-width=\"3.2\"/>\n",
       "<circle clip-path=\"url(#clip442)\" cx=\"1661.64\" cy=\"284.275\" r=\"14\" fill=\"#0000ff\" fill-rule=\"evenodd\" fill-opacity=\"1\" stroke=\"#000000\" stroke-opacity=\"1\" stroke-width=\"3.2\"/>\n",
       "<circle clip-path=\"url(#clip442)\" cx=\"1826.69\" cy=\"391.099\" r=\"14\" fill=\"#0000ff\" fill-rule=\"evenodd\" fill-opacity=\"1\" stroke=\"#000000\" stroke-opacity=\"1\" stroke-width=\"3.2\"/>\n",
       "<circle clip-path=\"url(#clip442)\" cx=\"1644.83\" cy=\"363.959\" r=\"14\" fill=\"#0000ff\" fill-rule=\"evenodd\" fill-opacity=\"1\" stroke=\"#000000\" stroke-opacity=\"1\" stroke-width=\"3.2\"/>\n",
       "<circle clip-path=\"url(#clip442)\" cx=\"1604.99\" cy=\"901.213\" r=\"14\" fill=\"#0000ff\" fill-rule=\"evenodd\" fill-opacity=\"1\" stroke=\"#000000\" stroke-opacity=\"1\" stroke-width=\"3.2\"/>\n",
       "<circle clip-path=\"url(#clip442)\" cx=\"1780.69\" cy=\"1118.57\" r=\"14\" fill=\"#0000ff\" fill-rule=\"evenodd\" fill-opacity=\"1\" stroke=\"#000000\" stroke-opacity=\"1\" stroke-width=\"3.2\"/>\n",
       "<circle clip-path=\"url(#clip442)\" cx=\"1864.95\" cy=\"458.512\" r=\"14\" fill=\"#0000ff\" fill-rule=\"evenodd\" fill-opacity=\"1\" stroke=\"#000000\" stroke-opacity=\"1\" stroke-width=\"3.2\"/>\n",
       "<circle clip-path=\"url(#clip442)\" cx=\"2283.03\" cy=\"644.589\" r=\"14\" fill=\"#0000ff\" fill-rule=\"evenodd\" fill-opacity=\"1\" stroke=\"#000000\" stroke-opacity=\"1\" stroke-width=\"3.2\"/>\n",
       "<path clip-path=\"url(#clip440)\" d=\"\n",
       "M96.3335 1441.02 L528.496 1441.02 L528.496 1233.66 L96.3335 1233.66  Z\n",
       "  \" fill=\"#ffffff\" fill-rule=\"evenodd\" fill-opacity=\"1\"/>\n",
       "<polyline clip-path=\"url(#clip440)\" style=\"stroke:#000000; stroke-linecap:butt; stroke-linejoin:round; stroke-width:4; stroke-opacity:1; fill:none\" points=\"\n",
       "  96.3335,1441.02 528.496,1441.02 528.496,1233.66 96.3335,1233.66 96.3335,1441.02 \n",
       "  \"/>\n",
       "<circle clip-path=\"url(#clip440)\" cx=\"193.384\" cy=\"1285.5\" r=\"23\" fill=\"#ff0000\" fill-rule=\"evenodd\" fill-opacity=\"1\" stroke=\"#000000\" stroke-opacity=\"1\" stroke-width=\"5.12\"/>\n",
       "<path clip-path=\"url(#clip440)\" d=\"M290.434 1268.22 L295.11 1268.22 L295.11 1298.84 L311.939 1298.84 L311.939 1302.78 L290.434 1302.78 L290.434 1268.22 Z\" fill=\"#000000\" fill-rule=\"evenodd\" fill-opacity=\"1\" /><path clip-path=\"url(#clip440)\" d=\"M328.443 1289.74 Q323.281 1289.74 321.291 1290.92 Q319.3 1292.1 319.3 1294.95 Q319.3 1297.22 320.781 1298.56 Q322.286 1299.88 324.855 1299.88 Q328.397 1299.88 330.527 1297.38 Q332.679 1294.86 332.679 1290.69 L332.679 1289.74 L328.443 1289.74 M336.939 1287.98 L336.939 1302.78 L332.679 1302.78 L332.679 1298.84 Q331.221 1301.2 329.045 1302.34 Q326.869 1303.45 323.721 1303.45 Q319.74 1303.45 317.379 1301.22 Q315.041 1298.98 315.041 1295.23 Q315.041 1290.85 317.957 1288.63 Q320.897 1286.41 326.707 1286.41 L332.679 1286.41 L332.679 1285.99 Q332.679 1283.05 330.735 1281.46 Q328.814 1279.84 325.318 1279.84 Q323.096 1279.84 320.99 1280.37 Q318.883 1280.9 316.939 1281.97 L316.939 1278.03 Q319.277 1277.13 321.476 1276.69 Q323.675 1276.22 325.758 1276.22 Q331.383 1276.22 334.161 1279.14 Q336.939 1282.06 336.939 1287.98 Z\" fill=\"#000000\" fill-rule=\"evenodd\" fill-opacity=\"1\" /><path clip-path=\"url(#clip440)\" d=\"M367.263 1287.13 L367.263 1302.78 L363.003 1302.78 L363.003 1287.27 Q363.003 1283.59 361.568 1281.76 Q360.133 1279.93 357.263 1279.93 Q353.814 1279.93 351.823 1282.13 Q349.832 1284.33 349.832 1288.12 L349.832 1302.78 L345.55 1302.78 L345.55 1276.85 L349.832 1276.85 L349.832 1280.88 Q351.36 1278.54 353.42 1277.38 Q355.503 1276.22 358.212 1276.22 Q362.679 1276.22 364.971 1279 Q367.263 1281.76 367.263 1287.13 Z\" fill=\"#000000\" fill-rule=\"evenodd\" fill-opacity=\"1\" /><path clip-path=\"url(#clip440)\" d=\"M392.818 1280.78 L392.818 1266.76 L397.077 1266.76 L397.077 1302.78 L392.818 1302.78 L392.818 1298.89 Q391.475 1301.2 389.415 1302.34 Q387.378 1303.45 384.508 1303.45 Q379.809 1303.45 376.846 1299.7 Q373.906 1295.95 373.906 1289.84 Q373.906 1283.72 376.846 1279.97 Q379.809 1276.22 384.508 1276.22 Q387.378 1276.22 389.415 1277.36 Q391.475 1278.47 392.818 1280.78 M378.304 1289.84 Q378.304 1294.53 380.226 1297.22 Q382.17 1299.88 385.55 1299.88 Q388.929 1299.88 390.874 1297.22 Q392.818 1294.53 392.818 1289.84 Q392.818 1285.14 390.874 1282.47 Q388.929 1279.79 385.55 1279.79 Q382.17 1279.79 380.226 1282.47 Q378.304 1285.14 378.304 1289.84 Z\" fill=\"#000000\" fill-rule=\"evenodd\" fill-opacity=\"1\" /><path clip-path=\"url(#clip440)\" d=\"M418.975 1266.76 L418.975 1270.3 L414.901 1270.3 Q412.61 1270.3 411.707 1271.22 Q410.827 1272.15 410.827 1274.56 L410.827 1276.85 L417.841 1276.85 L417.841 1280.16 L410.827 1280.16 L410.827 1302.78 L406.545 1302.78 L406.545 1280.16 L402.471 1280.16 L402.471 1276.85 L406.545 1276.85 L406.545 1275.04 Q406.545 1270.72 408.559 1268.75 Q410.573 1266.76 414.948 1266.76 L418.975 1266.76 Z\" fill=\"#000000\" fill-rule=\"evenodd\" fill-opacity=\"1\" /><path clip-path=\"url(#clip440)\" d=\"M422.54 1276.85 L426.799 1276.85 L426.799 1302.78 L422.54 1302.78 L422.54 1276.85 M422.54 1266.76 L426.799 1266.76 L426.799 1272.15 L422.54 1272.15 L422.54 1266.76 Z\" fill=\"#000000\" fill-rule=\"evenodd\" fill-opacity=\"1\" /><path clip-path=\"url(#clip440)\" d=\"M435.711 1266.76 L439.971 1266.76 L439.971 1302.78 L435.711 1302.78 L435.711 1266.76 Z\" fill=\"#000000\" fill-rule=\"evenodd\" fill-opacity=\"1\" /><path clip-path=\"url(#clip440)\" d=\"M448.883 1266.76 L453.142 1266.76 L453.142 1302.78 L448.883 1302.78 L448.883 1266.76 Z\" fill=\"#000000\" fill-rule=\"evenodd\" fill-opacity=\"1\" /><path clip-path=\"url(#clip440)\" d=\"M478.581 1277.61 L478.581 1281.64 Q476.776 1280.72 474.832 1280.25 Q472.887 1279.79 470.804 1279.79 Q467.632 1279.79 466.035 1280.76 Q464.461 1281.73 464.461 1283.68 Q464.461 1285.16 465.595 1286.02 Q466.73 1286.85 470.156 1287.61 L471.614 1287.94 Q476.151 1288.91 478.049 1290.69 Q479.97 1292.45 479.97 1295.62 Q479.97 1299.23 477.1 1301.34 Q474.253 1303.45 469.253 1303.45 Q467.17 1303.45 464.901 1303.03 Q462.656 1302.64 460.156 1301.83 L460.156 1297.43 Q462.517 1298.66 464.808 1299.28 Q467.1 1299.88 469.345 1299.88 Q472.355 1299.88 473.975 1298.86 Q475.595 1297.82 475.595 1295.95 Q475.595 1294.21 474.415 1293.28 Q473.257 1292.36 469.299 1291.5 L467.818 1291.16 Q463.859 1290.32 462.1 1288.61 Q460.341 1286.87 460.341 1283.86 Q460.341 1280.21 462.933 1278.22 Q465.526 1276.22 470.294 1276.22 Q472.656 1276.22 474.739 1276.57 Q476.822 1276.92 478.581 1277.61 Z\" fill=\"#000000\" fill-rule=\"evenodd\" fill-opacity=\"1\" /><circle clip-path=\"url(#clip440)\" cx=\"193.384\" cy=\"1337.34\" r=\"23\" fill=\"#008000\" fill-rule=\"evenodd\" fill-opacity=\"1\" stroke=\"#000000\" stroke-opacity=\"1\" stroke-width=\"5.12\"/>\n",
       "<path clip-path=\"url(#clip440)\" d=\"M312.68 1321.19 L312.68 1325.75 Q310.018 1324.48 307.656 1323.85 Q305.295 1323.23 303.096 1323.23 Q299.277 1323.23 297.194 1324.71 Q295.133 1326.19 295.133 1328.92 Q295.133 1331.21 296.499 1332.39 Q297.888 1333.55 301.731 1334.27 L304.555 1334.85 Q309.786 1335.84 312.263 1338.37 Q314.763 1340.87 314.763 1345.08 Q314.763 1350.1 311.383 1352.69 Q308.027 1355.29 301.522 1355.29 Q299.069 1355.29 296.291 1354.73 Q293.536 1354.18 290.573 1353.09 L290.573 1348.27 Q293.42 1349.87 296.152 1350.68 Q298.883 1351.49 301.522 1351.49 Q305.527 1351.49 307.703 1349.92 Q309.879 1348.34 309.879 1345.43 Q309.879 1342.88 308.305 1341.44 Q306.754 1340.01 303.189 1339.29 L300.342 1338.74 Q295.11 1337.69 292.772 1335.47 Q290.434 1333.25 290.434 1329.29 Q290.434 1324.71 293.652 1322.07 Q296.893 1319.43 302.564 1319.43 Q304.994 1319.43 307.518 1319.87 Q310.041 1320.31 312.68 1321.19 Z\" fill=\"#000000\" fill-rule=\"evenodd\" fill-opacity=\"1\" /><path clip-path=\"url(#clip440)\" d=\"M326.082 1321.33 L326.082 1328.69 L334.855 1328.69 L334.855 1332 L326.082 1332 L326.082 1346.07 Q326.082 1349.25 326.939 1350.15 Q327.818 1351.05 330.48 1351.05 L334.855 1351.05 L334.855 1354.62 L330.48 1354.62 Q325.55 1354.62 323.675 1352.79 Q321.8 1350.93 321.8 1346.07 L321.8 1332 L318.675 1332 L318.675 1328.69 L321.8 1328.69 L321.8 1321.33 L326.082 1321.33 Z\" fill=\"#000000\" fill-rule=\"evenodd\" fill-opacity=\"1\" /><path clip-path=\"url(#clip440)\" d=\"M352.24 1341.58 Q347.078 1341.58 345.087 1342.76 Q343.096 1343.94 343.096 1346.79 Q343.096 1349.06 344.578 1350.4 Q346.082 1351.72 348.652 1351.72 Q352.193 1351.72 354.323 1349.22 Q356.476 1346.7 356.476 1342.53 L356.476 1341.58 L352.24 1341.58 M360.735 1339.82 L360.735 1354.62 L356.476 1354.62 L356.476 1350.68 Q355.017 1353.04 352.841 1354.18 Q350.666 1355.29 347.517 1355.29 Q343.536 1355.29 341.175 1353.06 Q338.837 1350.82 338.837 1347.07 Q338.837 1342.69 341.754 1340.47 Q344.693 1338.25 350.503 1338.25 L356.476 1338.25 L356.476 1337.83 Q356.476 1334.89 354.531 1333.3 Q352.61 1331.68 349.115 1331.68 Q346.892 1331.68 344.786 1332.21 Q342.679 1332.74 340.735 1333.81 L340.735 1329.87 Q343.073 1328.97 345.272 1328.53 Q347.471 1328.06 349.554 1328.06 Q355.179 1328.06 357.957 1330.98 Q360.735 1333.9 360.735 1339.82 Z\" fill=\"#000000\" fill-rule=\"evenodd\" fill-opacity=\"1\" /><path clip-path=\"url(#clip440)\" d=\"M373.721 1321.33 L373.721 1328.69 L382.494 1328.69 L382.494 1332 L373.721 1332 L373.721 1346.07 Q373.721 1349.25 374.577 1350.15 Q375.457 1351.05 378.119 1351.05 L382.494 1351.05 L382.494 1354.62 L378.119 1354.62 Q373.189 1354.62 371.314 1352.79 Q369.439 1350.93 369.439 1346.07 L369.439 1332 L366.314 1332 L366.314 1328.69 L369.439 1328.69 L369.439 1321.33 L373.721 1321.33 Z\" fill=\"#000000\" fill-rule=\"evenodd\" fill-opacity=\"1\" /><path clip-path=\"url(#clip440)\" d=\"M388.096 1328.69 L392.355 1328.69 L392.355 1354.62 L388.096 1354.62 L388.096 1328.69 M388.096 1318.6 L392.355 1318.6 L392.355 1323.99 L388.096 1323.99 L388.096 1318.6 Z\" fill=\"#000000\" fill-rule=\"evenodd\" fill-opacity=\"1\" /><path clip-path=\"url(#clip440)\" d=\"M411.313 1331.68 Q407.887 1331.68 405.897 1334.36 Q403.906 1337.02 403.906 1341.68 Q403.906 1346.33 405.874 1349.01 Q407.864 1351.68 411.313 1351.68 Q414.716 1351.68 416.707 1348.99 Q418.698 1346.31 418.698 1341.68 Q418.698 1337.07 416.707 1334.38 Q414.716 1331.68 411.313 1331.68 M411.313 1328.06 Q416.869 1328.06 420.04 1331.68 Q423.211 1335.29 423.211 1341.68 Q423.211 1348.04 420.04 1351.68 Q416.869 1355.29 411.313 1355.29 Q405.735 1355.29 402.563 1351.68 Q399.415 1348.04 399.415 1341.68 Q399.415 1335.29 402.563 1331.68 Q405.735 1328.06 411.313 1328.06 Z\" fill=\"#000000\" fill-rule=\"evenodd\" fill-opacity=\"1\" /><path clip-path=\"url(#clip440)\" d=\"M451.822 1338.97 L451.822 1354.62 L447.563 1354.62 L447.563 1339.11 Q447.563 1335.43 446.128 1333.6 Q444.693 1331.77 441.822 1331.77 Q438.373 1331.77 436.383 1333.97 Q434.392 1336.17 434.392 1339.96 L434.392 1354.62 L430.11 1354.62 L430.11 1328.69 L434.392 1328.69 L434.392 1332.72 Q435.92 1330.38 437.98 1329.22 Q440.063 1328.06 442.771 1328.06 Q447.239 1328.06 449.531 1330.84 Q451.822 1333.6 451.822 1338.97 Z\" fill=\"#000000\" fill-rule=\"evenodd\" fill-opacity=\"1\" /><path clip-path=\"url(#clip440)\" d=\"M476.845 1329.45 L476.845 1333.48 Q475.04 1332.56 473.095 1332.09 Q471.151 1331.63 469.068 1331.63 Q465.896 1331.63 464.299 1332.6 Q462.725 1333.57 462.725 1335.52 Q462.725 1337 463.859 1337.86 Q464.994 1338.69 468.42 1339.45 L469.878 1339.78 Q474.415 1340.75 476.313 1342.53 Q478.234 1344.29 478.234 1347.46 Q478.234 1351.07 475.364 1353.18 Q472.517 1355.29 467.517 1355.29 Q465.433 1355.29 463.165 1354.87 Q460.92 1354.48 458.42 1353.67 L458.42 1349.27 Q460.781 1350.5 463.072 1351.12 Q465.364 1351.72 467.609 1351.72 Q470.619 1351.72 472.239 1350.7 Q473.859 1349.66 473.859 1347.79 Q473.859 1346.05 472.679 1345.12 Q471.521 1344.2 467.563 1343.34 L466.082 1343 Q462.123 1342.16 460.364 1340.45 Q458.605 1338.71 458.605 1335.7 Q458.605 1332.05 461.197 1330.06 Q463.79 1328.06 468.558 1328.06 Q470.919 1328.06 473.003 1328.41 Q475.086 1328.76 476.845 1329.45 Z\" fill=\"#000000\" fill-rule=\"evenodd\" fill-opacity=\"1\" /><circle clip-path=\"url(#clip440)\" cx=\"193.384\" cy=\"1389.18\" r=\"23\" fill=\"#0000ff\" fill-rule=\"evenodd\" fill-opacity=\"1\" stroke=\"#000000\" stroke-opacity=\"1\" stroke-width=\"5.12\"/>\n",
       "<path clip-path=\"url(#clip440)\" d=\"M318.305 1374.56 L318.305 1379.49 Q315.943 1377.29 313.258 1376.2 Q310.596 1375.11 307.587 1375.11 Q301.661 1375.11 298.513 1378.75 Q295.365 1382.36 295.365 1389.21 Q295.365 1396.04 298.513 1399.67 Q301.661 1403.28 307.587 1403.28 Q310.596 1403.28 313.258 1402.2 Q315.943 1401.11 318.305 1398.91 L318.305 1403.79 Q315.851 1405.46 313.096 1406.29 Q310.365 1407.13 307.309 1407.13 Q299.462 1407.13 294.948 1402.34 Q290.434 1397.52 290.434 1389.21 Q290.434 1380.88 294.948 1376.09 Q299.462 1371.27 307.309 1371.27 Q310.411 1371.27 313.143 1372.1 Q315.897 1372.91 318.305 1374.56 Z\" fill=\"#000000\" fill-rule=\"evenodd\" fill-opacity=\"1\" /><path clip-path=\"url(#clip440)\" d=\"M347.517 1392.43 L347.517 1394.51 L327.934 1394.51 Q328.212 1398.91 330.573 1401.22 Q332.957 1403.52 337.193 1403.52 Q339.647 1403.52 341.939 1402.91 Q344.254 1402.31 346.522 1401.11 L346.522 1405.14 Q344.23 1406.11 341.823 1406.62 Q339.416 1407.13 336.939 1407.13 Q330.735 1407.13 327.101 1403.52 Q323.49 1399.9 323.49 1393.75 Q323.49 1387.38 326.916 1383.65 Q330.365 1379.9 336.198 1379.9 Q341.429 1379.9 344.462 1383.28 Q347.517 1386.64 347.517 1392.43 M343.258 1391.18 Q343.212 1387.68 341.291 1385.6 Q339.392 1383.52 336.244 1383.52 Q332.679 1383.52 330.527 1385.53 Q328.397 1387.54 328.073 1391.2 L343.258 1391.18 Z\" fill=\"#000000\" fill-rule=\"evenodd\" fill-opacity=\"1\" /><path clip-path=\"url(#clip440)\" d=\"M376.059 1390.81 L376.059 1406.46 L371.8 1406.46 L371.8 1390.95 Q371.8 1387.27 370.364 1385.44 Q368.929 1383.61 366.059 1383.61 Q362.61 1383.61 360.619 1385.81 Q358.628 1388.01 358.628 1391.8 L358.628 1406.46 L354.346 1406.46 L354.346 1380.53 L358.628 1380.53 L358.628 1384.56 Q360.156 1382.22 362.216 1381.06 Q364.3 1379.9 367.008 1379.9 Q371.476 1379.9 373.767 1382.68 Q376.059 1385.44 376.059 1390.81 Z\" fill=\"#000000\" fill-rule=\"evenodd\" fill-opacity=\"1\" /><path clip-path=\"url(#clip440)\" d=\"M388.767 1373.17 L388.767 1380.53 L397.54 1380.53 L397.54 1383.84 L388.767 1383.84 L388.767 1397.91 Q388.767 1401.09 389.624 1401.99 Q390.503 1402.89 393.165 1402.89 L397.54 1402.89 L397.54 1406.46 L393.165 1406.46 Q388.235 1406.46 386.36 1404.63 Q384.485 1402.77 384.485 1397.91 L384.485 1383.84 L381.36 1383.84 L381.36 1380.53 L384.485 1380.53 L384.485 1373.17 L388.767 1373.17 Z\" fill=\"#000000\" fill-rule=\"evenodd\" fill-opacity=\"1\" /><path clip-path=\"url(#clip440)\" d=\"M425.318 1392.43 L425.318 1394.51 L405.735 1394.51 Q406.012 1398.91 408.374 1401.22 Q410.758 1403.52 414.994 1403.52 Q417.448 1403.52 419.739 1402.91 Q422.054 1402.31 424.323 1401.11 L424.323 1405.14 Q422.031 1406.11 419.623 1406.62 Q417.216 1407.13 414.739 1407.13 Q408.536 1407.13 404.901 1403.52 Q401.29 1399.9 401.29 1393.75 Q401.29 1387.38 404.716 1383.65 Q408.165 1379.9 413.999 1379.9 Q419.23 1379.9 422.262 1383.28 Q425.318 1386.64 425.318 1392.43 M421.059 1391.18 Q421.012 1387.68 419.091 1385.6 Q417.193 1383.52 414.045 1383.52 Q410.48 1383.52 408.327 1385.53 Q406.198 1387.54 405.874 1391.2 L421.059 1391.18 Z\" fill=\"#000000\" fill-rule=\"evenodd\" fill-opacity=\"1\" /><path clip-path=\"url(#clip440)\" d=\"M447.332 1384.51 Q446.614 1384.09 445.758 1383.91 Q444.924 1383.7 443.906 1383.7 Q440.295 1383.7 438.35 1386.06 Q436.429 1388.4 436.429 1392.8 L436.429 1406.46 L432.147 1406.46 L432.147 1380.53 L436.429 1380.53 L436.429 1384.56 Q437.772 1382.2 439.924 1381.06 Q442.077 1379.9 445.156 1379.9 Q445.596 1379.9 446.128 1379.97 Q446.66 1380.02 447.309 1380.14 L447.332 1384.51 Z\" fill=\"#000000\" fill-rule=\"evenodd\" fill-opacity=\"1\" /><path clip-path=\"url(#clip440)\" d=\"M468.327 1381.29 L468.327 1385.32 Q466.521 1384.4 464.577 1383.93 Q462.632 1383.47 460.549 1383.47 Q457.378 1383.47 455.781 1384.44 Q454.207 1385.41 454.207 1387.36 Q454.207 1388.84 455.341 1389.7 Q456.475 1390.53 459.901 1391.29 L461.359 1391.62 Q465.896 1392.59 467.795 1394.37 Q469.716 1396.13 469.716 1399.3 Q469.716 1402.91 466.845 1405.02 Q463.998 1407.13 458.998 1407.13 Q456.915 1407.13 454.646 1406.71 Q452.401 1406.32 449.901 1405.51 L449.901 1401.11 Q452.262 1402.34 454.554 1402.96 Q456.845 1403.56 459.091 1403.56 Q462.1 1403.56 463.72 1402.54 Q465.341 1401.5 465.341 1399.63 Q465.341 1397.89 464.16 1396.96 Q463.003 1396.04 459.045 1395.18 L457.563 1394.84 Q453.605 1394 451.846 1392.29 Q450.086 1390.55 450.086 1387.54 Q450.086 1383.89 452.679 1381.9 Q455.271 1379.9 460.04 1379.9 Q462.401 1379.9 464.484 1380.25 Q466.568 1380.6 468.327 1381.29 Z\" fill=\"#000000\" fill-rule=\"evenodd\" fill-opacity=\"1\" /></svg>\n"
      ]
     },
     "execution_count": 306,
     "metadata": {},
     "output_type": "execute_result"
    }
   ],
   "source": [
    "plot(lf_b3.xco, lf_b3.yco, seriestype = :scatter, color = \"red\", title = \"Landfills & Transfer Stations Built\",label = \"Landfills\", legend=:outerbottomleft)\n",
    "plot!(ts_b3.xco, ts_b3.yco, seriestype = :scatter, color = \"green\", label = \"Stations\")\n",
    "plot!(centers.xco, centers.yco, seriestype = :scatter, color = \"blue\", label = \"Centers\")"
   ]
  },
  {
   "cell_type": "code",
   "execution_count": 307,
   "id": "3d076c94",
   "metadata": {},
   "outputs": [
    {
     "data": {
      "text/plain": [
       "90×30 Matrix{Float64}:\n",
       " 0.0    0.0   538.56  0.0  0.0  0.0  …  0.0  0.0  0.0     0.0  0.0     0.0\n",
       " 0.0    0.0     0.0   0.0  0.0  0.0     0.0  0.0  0.0     0.0  0.0     0.0\n",
       " 0.0    0.0     0.0   0.0  0.0  0.0     0.0  0.0  0.0     0.0  0.0     0.0\n",
       " 0.0    0.0   910.83  0.0  0.0  0.0     0.0  0.0  0.0     0.0  0.0     0.0\n",
       " 0.0    0.0     0.0   0.0  0.0  0.0     0.0  0.0  0.0     0.0  0.0     0.0\n",
       " 0.0    0.0   969.95  0.0  0.0  0.0  …  0.0  0.0  0.0     0.0  0.0     0.0\n",
       " 0.0    0.0    18.0   0.0  0.0  0.0     0.0  0.0  0.0     0.0  0.0     0.0\n",
       " 0.0    0.0     0.0   0.0  0.0  0.0     0.0  0.0  0.0     0.0  0.0     0.0\n",
       " 0.0    0.0     0.0   0.0  0.0  0.0     0.0  0.0  0.0     0.0  0.0     0.0\n",
       " 0.0  961.35    0.0   0.0  0.0  0.0     0.0  0.0  0.0     0.0  0.0     0.0\n",
       " 0.0    0.0   955.27  0.0  0.0  0.0  …  0.0  0.0  0.0     0.0  0.0     0.0\n",
       " 0.0    0.0   855.61  0.0  0.0  0.0     0.0  0.0  0.0     0.0  0.0     0.0\n",
       " 0.0    0.0     0.0   0.0  0.0  0.0     0.0  0.0  0.0     0.0  0.0     0.0\n",
       " ⋮                              ⋮    ⋱       ⋮                      \n",
       " 0.0    0.0     0.0   0.0  0.0  0.0     0.0  0.0  0.0     0.0  0.0     0.0\n",
       " 0.0    0.0     0.0   0.0  0.0  0.0     0.0  0.0  0.0     0.0  0.0  2234.3\n",
       " 0.0    0.0     0.0   0.0  0.0  0.0  …  0.0  0.0  0.0     0.0  0.0     0.0\n",
       " 0.0    0.0     0.0   0.0  0.0  0.0     0.0  0.0  0.0     0.0  0.0     0.0\n",
       " 0.0    0.0     0.0   0.0  0.0  0.0     0.0  0.0  0.0     0.0  0.0     0.0\n",
       " 0.0    0.0     0.0   0.0  0.0  0.0     0.0  0.0  0.0     0.0  0.0     0.0\n",
       " 0.0    0.0     0.0   0.0  0.0  0.0     0.0  0.0  0.0  2057.8  0.0     0.0\n",
       " 0.0    0.0     0.0   0.0  0.0  0.0  …  0.0  0.0  0.0     0.0  0.0     0.0\n",
       " 0.0    0.0     0.0   0.0  0.0  0.0     0.0  0.0  0.0     0.0  0.0     0.0\n",
       " 0.0    0.0     0.0   0.0  0.0  0.0     0.0  0.0  0.0     0.0  0.0     0.0\n",
       " 0.0    0.0     0.0   0.0  0.0  0.0     0.0  0.0  0.0  2492.0  0.0     0.0\n",
       " 0.0    0.0     0.0   0.0  0.0  0.0     0.0  0.0  0.0     0.0  0.0     0.0"
      ]
     },
     "execution_count": 307,
     "metadata": {},
     "output_type": "execute_result"
    }
   ],
   "source": [
    "x=value.(x)"
   ]
  },
  {
   "cell_type": "code",
   "execution_count": 312,
   "id": "753d9809",
   "metadata": {},
   "outputs": [
    {
     "data": {
      "text/plain": [
       "5172.849999999999"
      ]
     },
     "execution_count": 312,
     "metadata": {},
     "output_type": "execute_result"
    }
   ],
   "source": [
    "cl = sum(sum(x[1:50,15:30],dims = 2))"
   ]
  },
  {
   "cell_type": "code",
   "execution_count": 313,
   "id": "03d5c5ce",
   "metadata": {},
   "outputs": [
    {
     "data": {
      "text/plain": [
       "1033.1"
      ]
     },
     "execution_count": 313,
     "metadata": {},
     "output_type": "execute_result"
    }
   ],
   "source": [
    "cl = sum(sum(x[50:90,1:15],dims = 2))"
   ]
  },
  {
   "cell_type": "code",
   "execution_count": null,
   "id": "0db68637",
   "metadata": {},
   "outputs": [],
   "source": []
  }
 ],
 "metadata": {
  "kernelspec": {
   "display_name": "Julia 1.6.2",
   "language": "julia",
   "name": "julia-1.6"
  },
  "language_info": {
   "file_extension": ".jl",
   "mimetype": "application/julia",
   "name": "julia",
   "version": "1.6.2"
  }
 },
 "nbformat": 4,
 "nbformat_minor": 5
}
