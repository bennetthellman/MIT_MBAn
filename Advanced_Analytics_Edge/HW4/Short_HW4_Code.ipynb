{
 "cells": [
  {
   "cell_type": "code",
   "execution_count": 2,
   "id": "da0cac54",
   "metadata": {},
   "outputs": [],
   "source": [
    "using Gurobi,  DataFrames, JuMP, LinearAlgebra, Random, Pkg, CSV"
   ]
  },
  {
   "cell_type": "code",
   "execution_count": 3,
   "id": "51abd632",
   "metadata": {},
   "outputs": [],
   "source": [
    "his = CSV.read(\"/Users/bennetthellman/Desktop/OneDrive - Massachusetts Institute of Technology/AE/HWs/HW4/Dartboard_historical-1.csv\", DataFrame, header=1);\n",
    "fut = CSV.read(\"/Users/bennetthellman/Desktop/OneDrive - Massachusetts Institute of Technology/AE/HWs/HW4/Dartboard_future.csv.crdownload\", DataFrame, header=1);\n",
    "dc = CSV.read(\"/Users/bennetthellman/Desktop/OneDrive - Massachusetts Institute of Technology/AE/HWs/HW4/Dartboard_dcs.csv\", DataFrame, header=1);"
   ]
  },
  {
   "cell_type": "code",
   "execution_count": 4,
   "id": "00ae2e4c",
   "metadata": {},
   "outputs": [
    {
     "data": {
      "text/html": [
       "<table class=\"data-frame\"><thead><tr><th></th><th>FIPS_Code</th><th>State.Name</th><th>County.Name</th><th>Latitude</th><th>Longitude</th><th>Year</th><th>Week</th><th>Income</th></tr><tr><th></th><th>Int64</th><th>String</th><th>String</th><th>Float64</th><th>Float64</th><th>Int64</th><th>Int64</th><th>Float64</th></tr></thead><tbody><p>5 rows × 12 columns (omitted printing of 4 columns)</p><tr><th>1</th><td>9001</td><td>Connecticut</td><td>Fairfield County</td><td>41.244</td><td>-73.363</td><td>2012</td><td>1</td><td>1.06943e5</td></tr><tr><th>2</th><td>9001</td><td>Connecticut</td><td>Fairfield County</td><td>41.244</td><td>-73.363</td><td>2012</td><td>2</td><td>1.06815e5</td></tr><tr><th>3</th><td>9001</td><td>Connecticut</td><td>Fairfield County</td><td>41.244</td><td>-73.363</td><td>2012</td><td>3</td><td>1.06686e5</td></tr><tr><th>4</th><td>9001</td><td>Connecticut</td><td>Fairfield County</td><td>41.244</td><td>-73.363</td><td>2012</td><td>4</td><td>1.06557e5</td></tr><tr><th>5</th><td>9001</td><td>Connecticut</td><td>Fairfield County</td><td>41.244</td><td>-73.363</td><td>2012</td><td>5</td><td>1.06429e5</td></tr></tbody></table>"
      ],
      "text/latex": [
       "\\begin{tabular}{r|ccccccccc}\n",
       "\t& FIPS\\_Code & State.Name & County.Name & Latitude & Longitude & Year & Week & Income & \\\\\n",
       "\t\\hline\n",
       "\t& Int64 & String & String & Float64 & Float64 & Int64 & Int64 & Float64 & \\\\\n",
       "\t\\hline\n",
       "\t1 & 9001 & Connecticut & Fairfield County & 41.244 & -73.363 & 2012 & 1 & 1.06943e5 & $\\dots$ \\\\\n",
       "\t2 & 9001 & Connecticut & Fairfield County & 41.244 & -73.363 & 2012 & 2 & 1.06815e5 & $\\dots$ \\\\\n",
       "\t3 & 9001 & Connecticut & Fairfield County & 41.244 & -73.363 & 2012 & 3 & 1.06686e5 & $\\dots$ \\\\\n",
       "\t4 & 9001 & Connecticut & Fairfield County & 41.244 & -73.363 & 2012 & 4 & 1.06557e5 & $\\dots$ \\\\\n",
       "\t5 & 9001 & Connecticut & Fairfield County & 41.244 & -73.363 & 2012 & 5 & 1.06429e5 & $\\dots$ \\\\\n",
       "\\end{tabular}\n"
      ],
      "text/plain": [
       "\u001b[1m5×12 DataFrame\u001b[0m\n",
       "\u001b[1m Row \u001b[0m│\u001b[1m FIPS_Code \u001b[0m\u001b[1m State.Name  \u001b[0m\u001b[1m County.Name      \u001b[0m\u001b[1m Latitude \u001b[0m\u001b[1m Longitude \u001b[0m\u001b[1m Year  \u001b[0m\u001b[1m W\u001b[0m ⋯\n",
       "\u001b[1m     \u001b[0m│\u001b[90m Int64     \u001b[0m\u001b[90m String      \u001b[0m\u001b[90m String           \u001b[0m\u001b[90m Float64  \u001b[0m\u001b[90m Float64   \u001b[0m\u001b[90m Int64 \u001b[0m\u001b[90m I\u001b[0m ⋯\n",
       "─────┼──────────────────────────────────────────────────────────────────────────\n",
       "   1 │      9001  Connecticut  Fairfield County    41.244    -73.363   2012    ⋯\n",
       "   2 │      9001  Connecticut  Fairfield County    41.244    -73.363   2012\n",
       "   3 │      9001  Connecticut  Fairfield County    41.244    -73.363   2012\n",
       "   4 │      9001  Connecticut  Fairfield County    41.244    -73.363   2012\n",
       "   5 │      9001  Connecticut  Fairfield County    41.244    -73.363   2012    ⋯\n",
       "\u001b[36m                                                               6 columns omitted\u001b[0m"
      ]
     },
     "execution_count": 4,
     "metadata": {},
     "output_type": "execute_result"
    }
   ],
   "source": [
    "his[1:5,1:8]"
   ]
  },
  {
   "cell_type": "code",
   "execution_count": 10,
   "id": "89762052",
   "metadata": {},
   "outputs": [
    {
     "data": {
      "text/html": [
       "<table class=\"data-frame\"><thead><tr><th></th><th>Income</th><th>Population</th><th>Week_Num</th><th>Season</th><th>Sales</th></tr><tr><th></th><th>Float64</th><th>Float64</th><th>Int64</th><th>Int64</th><th>Float64</th></tr></thead><tbody><p>5 rows × 5 columns</p><tr><th>1</th><td>1.06943e5</td><td>9.33226e5</td><td>1</td><td>1</td><td>8.58471e5</td></tr><tr><th>2</th><td>1.06815e5</td><td>933351.0</td><td>2</td><td>1</td><td>8.16707e5</td></tr><tr><th>3</th><td>1.06686e5</td><td>9.33476e5</td><td>3</td><td>1</td><td>706033.0</td></tr><tr><th>4</th><td>1.06557e5</td><td>9.336e5</td><td>4</td><td>1</td><td>6.99396e5</td></tr><tr><th>5</th><td>1.06429e5</td><td>9.33725e5</td><td>5</td><td>2</td><td>6.58245e5</td></tr></tbody></table>"
      ],
      "text/latex": [
       "\\begin{tabular}{r|ccccc}\n",
       "\t& Income & Population & Week\\_Num & Season & Sales\\\\\n",
       "\t\\hline\n",
       "\t& Float64 & Float64 & Int64 & Int64 & Float64\\\\\n",
       "\t\\hline\n",
       "\t1 & 1.06943e5 & 9.33226e5 & 1 & 1 & 8.58471e5 \\\\\n",
       "\t2 & 1.06815e5 & 933351.0 & 2 & 1 & 8.16707e5 \\\\\n",
       "\t3 & 1.06686e5 & 9.33476e5 & 3 & 1 & 706033.0 \\\\\n",
       "\t4 & 1.06557e5 & 9.336e5 & 4 & 1 & 6.99396e5 \\\\\n",
       "\t5 & 1.06429e5 & 9.33725e5 & 5 & 2 & 6.58245e5 \\\\\n",
       "\\end{tabular}\n"
      ],
      "text/plain": [
       "\u001b[1m5×5 DataFrame\u001b[0m\n",
       "\u001b[1m Row \u001b[0m│\u001b[1m Income    \u001b[0m\u001b[1m Population     \u001b[0m\u001b[1m Week_Num \u001b[0m\u001b[1m Season \u001b[0m\u001b[1m Sales          \u001b[0m\n",
       "\u001b[1m     \u001b[0m│\u001b[90m Float64   \u001b[0m\u001b[90m Float64        \u001b[0m\u001b[90m Int64    \u001b[0m\u001b[90m Int64  \u001b[0m\u001b[90m Float64        \u001b[0m\n",
       "─────┼─────────────────────────────────────────────────────────────\n",
       "   1 │ 1.06943e5       9.33226e5         1       1       8.58471e5\n",
       "   2 │ 1.06815e5  933351.0               2       1       8.16707e5\n",
       "   3 │ 1.06686e5       9.33476e5         3       1  706033.0\n",
       "   4 │ 1.06557e5       9.336e5           4       1       6.99396e5\n",
       "   5 │ 1.06429e5       9.33725e5         5       2       6.58245e5"
      ]
     },
     "execution_count": 10,
     "metadata": {},
     "output_type": "execute_result"
    }
   ],
   "source": [
    "his[1:5,8:12]"
   ]
  },
  {
   "cell_type": "code",
   "execution_count": 6,
   "id": "f5b815b5",
   "metadata": {},
   "outputs": [
    {
     "data": {
      "text/html": [
       "<table class=\"data-frame\"><thead><tr><th></th><th>FIPS_Code</th><th>State.Name</th><th>County.Name</th><th>Latitude</th><th>Longitude</th><th>Year</th><th>Week</th><th>Income</th></tr><tr><th></th><th>Int64</th><th>String</th><th>String</th><th>Float64</th><th>Float64</th><th>Int64</th><th>Int64</th><th>Float64</th></tr></thead><tbody><p>5 rows × 8 columns</p><tr><th>1</th><td>9001</td><td>Connecticut</td><td>Fairfield County</td><td>41.244</td><td>-73.363</td><td>2015</td><td>27</td><td>1.04926e5</td></tr><tr><th>2</th><td>9001</td><td>Connecticut</td><td>Fairfield County</td><td>41.244</td><td>-73.363</td><td>2015</td><td>28</td><td>1.0496e5</td></tr><tr><th>3</th><td>9001</td><td>Connecticut</td><td>Fairfield County</td><td>41.244</td><td>-73.363</td><td>2015</td><td>29</td><td>1.04993e5</td></tr><tr><th>4</th><td>9001</td><td>Connecticut</td><td>Fairfield County</td><td>41.244</td><td>-73.363</td><td>2015</td><td>30</td><td>1.05027e5</td></tr><tr><th>5</th><td>9001</td><td>Connecticut</td><td>Fairfield County</td><td>41.244</td><td>-73.363</td><td>2015</td><td>31</td><td>1.0506e5</td></tr></tbody></table>"
      ],
      "text/latex": [
       "\\begin{tabular}{r|cccccccc}\n",
       "\t& FIPS\\_Code & State.Name & County.Name & Latitude & Longitude & Year & Week & Income\\\\\n",
       "\t\\hline\n",
       "\t& Int64 & String & String & Float64 & Float64 & Int64 & Int64 & Float64\\\\\n",
       "\t\\hline\n",
       "\t1 & 9001 & Connecticut & Fairfield County & 41.244 & -73.363 & 2015 & 27 & 1.04926e5 \\\\\n",
       "\t2 & 9001 & Connecticut & Fairfield County & 41.244 & -73.363 & 2015 & 28 & 1.0496e5 \\\\\n",
       "\t3 & 9001 & Connecticut & Fairfield County & 41.244 & -73.363 & 2015 & 29 & 1.04993e5 \\\\\n",
       "\t4 & 9001 & Connecticut & Fairfield County & 41.244 & -73.363 & 2015 & 30 & 1.05027e5 \\\\\n",
       "\t5 & 9001 & Connecticut & Fairfield County & 41.244 & -73.363 & 2015 & 31 & 1.0506e5 \\\\\n",
       "\\end{tabular}\n"
      ],
      "text/plain": [
       "\u001b[1m5×8 DataFrame\u001b[0m\n",
       "\u001b[1m Row \u001b[0m│\u001b[1m FIPS_Code \u001b[0m\u001b[1m State.Name  \u001b[0m\u001b[1m County.Name      \u001b[0m\u001b[1m Latitude \u001b[0m\u001b[1m Longitude \u001b[0m\u001b[1m Year  \u001b[0m\u001b[1m W\u001b[0m ⋯\n",
       "\u001b[1m     \u001b[0m│\u001b[90m Int64     \u001b[0m\u001b[90m String      \u001b[0m\u001b[90m String           \u001b[0m\u001b[90m Float64  \u001b[0m\u001b[90m Float64   \u001b[0m\u001b[90m Int64 \u001b[0m\u001b[90m I\u001b[0m ⋯\n",
       "─────┼──────────────────────────────────────────────────────────────────────────\n",
       "   1 │      9001  Connecticut  Fairfield County    41.244    -73.363   2015    ⋯\n",
       "   2 │      9001  Connecticut  Fairfield County    41.244    -73.363   2015\n",
       "   3 │      9001  Connecticut  Fairfield County    41.244    -73.363   2015\n",
       "   4 │      9001  Connecticut  Fairfield County    41.244    -73.363   2015\n",
       "   5 │      9001  Connecticut  Fairfield County    41.244    -73.363   2015    ⋯\n",
       "\u001b[36m                                                               2 columns omitted\u001b[0m"
      ]
     },
     "execution_count": 6,
     "metadata": {},
     "output_type": "execute_result"
    }
   ],
   "source": [
    "fut[1:5,1:8]"
   ]
  },
  {
   "cell_type": "code",
   "execution_count": 7,
   "id": "8a277624",
   "metadata": {},
   "outputs": [
    {
     "data": {
      "text/html": [
       "<table class=\"data-frame\"><thead><tr><th></th><th>Income</th><th>Population</th><th>Week_Num</th><th>Season</th></tr><tr><th></th><th>Float64</th><th>Float64</th><th>Int64</th><th>Int64</th></tr></thead><tbody><p>5 rows × 4 columns</p><tr><th>1</th><td>1.04926e5</td><td>9.48137e5</td><td>183</td><td>7</td></tr><tr><th>2</th><td>1.0496e5</td><td>9.48157e5</td><td>184</td><td>7</td></tr><tr><th>3</th><td>1.04993e5</td><td>948178.0</td><td>185</td><td>8</td></tr><tr><th>4</th><td>1.05027e5</td><td>9.48199e5</td><td>186</td><td>8</td></tr><tr><th>5</th><td>1.0506e5</td><td>9.48219e5</td><td>187</td><td>8</td></tr></tbody></table>"
      ],
      "text/latex": [
       "\\begin{tabular}{r|cccc}\n",
       "\t& Income & Population & Week\\_Num & Season\\\\\n",
       "\t\\hline\n",
       "\t& Float64 & Float64 & Int64 & Int64\\\\\n",
       "\t\\hline\n",
       "\t1 & 1.04926e5 & 9.48137e5 & 183 & 7 \\\\\n",
       "\t2 & 1.0496e5 & 9.48157e5 & 184 & 7 \\\\\n",
       "\t3 & 1.04993e5 & 948178.0 & 185 & 8 \\\\\n",
       "\t4 & 1.05027e5 & 9.48199e5 & 186 & 8 \\\\\n",
       "\t5 & 1.0506e5 & 9.48219e5 & 187 & 8 \\\\\n",
       "\\end{tabular}\n"
      ],
      "text/plain": [
       "\u001b[1m5×4 DataFrame\u001b[0m\n",
       "\u001b[1m Row \u001b[0m│\u001b[1m Income    \u001b[0m\u001b[1m Population     \u001b[0m\u001b[1m Week_Num \u001b[0m\u001b[1m Season \u001b[0m\n",
       "\u001b[1m     \u001b[0m│\u001b[90m Float64   \u001b[0m\u001b[90m Float64        \u001b[0m\u001b[90m Int64    \u001b[0m\u001b[90m Int64  \u001b[0m\n",
       "─────┼─────────────────────────────────────────────\n",
       "   1 │ 1.04926e5       9.48137e5       183       7\n",
       "   2 │ 1.0496e5        9.48157e5       184       7\n",
       "   3 │ 1.04993e5  948178.0             185       8\n",
       "   4 │ 1.05027e5       9.48199e5       186       8\n",
       "   5 │ 1.0506e5        9.48219e5       187       8"
      ]
     },
     "execution_count": 7,
     "metadata": {},
     "output_type": "execute_result"
    }
   ],
   "source": [
    "fut[1:5,8:11]"
   ]
  },
  {
   "cell_type": "code",
   "execution_count": 9,
   "id": "cfcc7b59",
   "metadata": {},
   "outputs": [
    {
     "data": {
      "text/html": [
       "<table class=\"data-frame\"><thead><tr><th></th><th>Location</th><th>Status</th><th>Latitude</th><th>Longitude</th><th>Fixed_Cost</th><th>Variable_Cost</th><th>Current_Size</th></tr><tr><th></th><th>String</th><th>Int64</th><th>Float64</th><th>Float64</th><th>Int64</th><th>Float64</th><th>Int64</th></tr></thead><tbody><p>5 rows × 8 columns (omitted printing of 1 columns)</p><tr><th>1</th><td>Providence</td><td>1</td><td>41.8</td><td>-71.4</td><td>0</td><td>0.0</td><td>1200000</td></tr><tr><th>2</th><td>Richmond</td><td>1</td><td>37.5</td><td>-77.4</td><td>0</td><td>0.0</td><td>1200000</td></tr><tr><th>3</th><td>Youngstown</td><td>1</td><td>41.1</td><td>-80.6</td><td>0</td><td>0.0</td><td>900000</td></tr><tr><th>4</th><td>Athens</td><td>0</td><td>39.3</td><td>-82.2</td><td>25000000</td><td>90.5</td><td>0</td></tr><tr><th>5</th><td>Baltimore</td><td>0</td><td>39.3</td><td>-76.6</td><td>25000000</td><td>132.0</td><td>0</td></tr></tbody></table>"
      ],
      "text/latex": [
       "\\begin{tabular}{r|cccccccc}\n",
       "\t& Location & Status & Latitude & Longitude & Fixed\\_Cost & Variable\\_Cost & Current\\_Size & \\\\\n",
       "\t\\hline\n",
       "\t& String & Int64 & Float64 & Float64 & Int64 & Float64 & Int64 & \\\\\n",
       "\t\\hline\n",
       "\t1 & Providence & 1 & 41.8 & -71.4 & 0 & 0.0 & 1200000 & $\\dots$ \\\\\n",
       "\t2 & Richmond & 1 & 37.5 & -77.4 & 0 & 0.0 & 1200000 & $\\dots$ \\\\\n",
       "\t3 & Youngstown & 1 & 41.1 & -80.6 & 0 & 0.0 & 900000 & $\\dots$ \\\\\n",
       "\t4 & Athens & 0 & 39.3 & -82.2 & 25000000 & 90.5 & 0 & $\\dots$ \\\\\n",
       "\t5 & Baltimore & 0 & 39.3 & -76.6 & 25000000 & 132.0 & 0 & $\\dots$ \\\\\n",
       "\\end{tabular}\n"
      ],
      "text/plain": [
       "\u001b[1m5×8 DataFrame\u001b[0m\n",
       "\u001b[1m Row \u001b[0m│\u001b[1m Location   \u001b[0m\u001b[1m Status \u001b[0m\u001b[1m Latitude \u001b[0m\u001b[1m Longitude \u001b[0m\u001b[1m Fixed_Cost \u001b[0m\u001b[1m Variable_Cost \u001b[0m\u001b[1m Cur\u001b[0m ⋯\n",
       "\u001b[1m     \u001b[0m│\u001b[90m String     \u001b[0m\u001b[90m Int64  \u001b[0m\u001b[90m Float64  \u001b[0m\u001b[90m Float64   \u001b[0m\u001b[90m Int64      \u001b[0m\u001b[90m Float64       \u001b[0m\u001b[90m Int\u001b[0m ⋯\n",
       "─────┼──────────────────────────────────────────────────────────────────────────\n",
       "   1 │ Providence       1      41.8      -71.4           0            0.0      ⋯\n",
       "   2 │ Richmond         1      37.5      -77.4           0            0.0\n",
       "   3 │ Youngstown       1      41.1      -80.6           0            0.0\n",
       "   4 │ Athens           0      39.3      -82.2    25000000           90.5\n",
       "   5 │ Baltimore        0      39.3      -76.6    25000000          132.0      ⋯\n",
       "\u001b[36m                                                               2 columns omitted\u001b[0m"
      ]
     },
     "execution_count": 9,
     "metadata": {},
     "output_type": "execute_result"
    }
   ],
   "source": [
    "dc[1:5,:]"
   ]
  },
  {
   "cell_type": "code",
   "execution_count": null,
   "id": "eee4525f",
   "metadata": {},
   "outputs": [],
   "source": []
  }
 ],
 "metadata": {
  "kernelspec": {
   "display_name": "Julia 1.6.2",
   "language": "julia",
   "name": "julia-1.6"
  },
  "language_info": {
   "file_extension": ".jl",
   "mimetype": "application/julia",
   "name": "julia",
   "version": "1.6.2"
  }
 },
 "nbformat": 4,
 "nbformat_minor": 5
}
