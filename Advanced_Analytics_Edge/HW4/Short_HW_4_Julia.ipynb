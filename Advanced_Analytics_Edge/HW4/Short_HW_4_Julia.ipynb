{
 "cells": [
  {
   "cell_type": "code",
   "execution_count": 1,
   "id": "a18c376b",
   "metadata": {},
   "outputs": [],
   "source": [
    "using JuMP, Gurobi, LinearAlgebra, CSV, DataFrames, Pkg, Distances, Plots"
   ]
  },
  {
   "cell_type": "code",
   "execution_count": 2,
   "id": "cd391bd9",
   "metadata": {},
   "outputs": [],
   "source": [
    "his = CSV.read(\"/Users/bennetthellman/Desktop/OneDrive - Massachusetts Institute of Technology/AE/HWs/HW4/Dartboard_historical-1.csv\", DataFrame, header=1);\n",
    "fut = CSV.read(\"/Users/bennetthellman/Desktop/OneDrive - Massachusetts Institute of Technology/AE/HWs/HW4/Dartboard_future.csv.crdownload\", DataFrame, header=1);\n",
    "dc = CSV.read(\"/Users/bennetthellman/Desktop/OneDrive - Massachusetts Institute of Technology/AE/HWs/HW4/Dartboard_dcs.csv\", DataFrame, header=1);\n",
    "pred_d = CSV.read(\"/Users/bennetthellman/Desktop/OneDrive - Massachusetts Institute of Technology/AE/HWs/HW4/pred_d.csv\", DataFrame, header=1);"
   ]
  },
  {
   "cell_type": "code",
   "execution_count": 3,
   "id": "2d8c7e05",
   "metadata": {},
   "outputs": [
    {
     "data": {
      "text/html": [
       "<table class=\"data-frame\"><thead><tr><th></th><th>Column1</th><th>FIPS_Code</th><th>State.Name</th><th>County.Name</th><th>Latitude</th><th>Longitude</th><th>Year</th><th>Week</th></tr><tr><th></th><th>Int64</th><th>Int64</th><th>String</th><th>String</th><th>Float64</th><th>Float64</th><th>Int64</th><th>Int64</th></tr></thead><tbody><p>99,450 rows × 16 columns (omitted printing of 8 columns)</p><tr><th>1</th><td>1</td><td>9001</td><td>Connecticut</td><td>Fairfield County</td><td>41.244</td><td>-73.363</td><td>2015</td><td>27</td></tr><tr><th>2</th><td>2</td><td>9001</td><td>Connecticut</td><td>Fairfield County</td><td>41.244</td><td>-73.363</td><td>2015</td><td>28</td></tr><tr><th>3</th><td>3</td><td>9001</td><td>Connecticut</td><td>Fairfield County</td><td>41.244</td><td>-73.363</td><td>2015</td><td>29</td></tr><tr><th>4</th><td>4</td><td>9001</td><td>Connecticut</td><td>Fairfield County</td><td>41.244</td><td>-73.363</td><td>2015</td><td>30</td></tr><tr><th>5</th><td>5</td><td>9001</td><td>Connecticut</td><td>Fairfield County</td><td>41.244</td><td>-73.363</td><td>2015</td><td>31</td></tr><tr><th>6</th><td>6</td><td>9001</td><td>Connecticut</td><td>Fairfield County</td><td>41.244</td><td>-73.363</td><td>2015</td><td>32</td></tr><tr><th>7</th><td>7</td><td>9001</td><td>Connecticut</td><td>Fairfield County</td><td>41.244</td><td>-73.363</td><td>2015</td><td>33</td></tr><tr><th>8</th><td>8</td><td>9001</td><td>Connecticut</td><td>Fairfield County</td><td>41.244</td><td>-73.363</td><td>2015</td><td>34</td></tr><tr><th>9</th><td>9</td><td>9001</td><td>Connecticut</td><td>Fairfield County</td><td>41.244</td><td>-73.363</td><td>2015</td><td>35</td></tr><tr><th>10</th><td>10</td><td>9001</td><td>Connecticut</td><td>Fairfield County</td><td>41.244</td><td>-73.363</td><td>2015</td><td>36</td></tr><tr><th>11</th><td>11</td><td>9001</td><td>Connecticut</td><td>Fairfield County</td><td>41.244</td><td>-73.363</td><td>2015</td><td>37</td></tr><tr><th>12</th><td>12</td><td>9001</td><td>Connecticut</td><td>Fairfield County</td><td>41.244</td><td>-73.363</td><td>2015</td><td>38</td></tr><tr><th>13</th><td>13</td><td>9001</td><td>Connecticut</td><td>Fairfield County</td><td>41.244</td><td>-73.363</td><td>2015</td><td>39</td></tr><tr><th>14</th><td>14</td><td>9001</td><td>Connecticut</td><td>Fairfield County</td><td>41.244</td><td>-73.363</td><td>2015</td><td>40</td></tr><tr><th>15</th><td>15</td><td>9001</td><td>Connecticut</td><td>Fairfield County</td><td>41.244</td><td>-73.363</td><td>2015</td><td>41</td></tr><tr><th>16</th><td>16</td><td>9001</td><td>Connecticut</td><td>Fairfield County</td><td>41.244</td><td>-73.363</td><td>2015</td><td>42</td></tr><tr><th>17</th><td>17</td><td>9001</td><td>Connecticut</td><td>Fairfield County</td><td>41.244</td><td>-73.363</td><td>2015</td><td>43</td></tr><tr><th>18</th><td>18</td><td>9001</td><td>Connecticut</td><td>Fairfield County</td><td>41.244</td><td>-73.363</td><td>2015</td><td>44</td></tr><tr><th>19</th><td>19</td><td>9001</td><td>Connecticut</td><td>Fairfield County</td><td>41.244</td><td>-73.363</td><td>2015</td><td>45</td></tr><tr><th>20</th><td>20</td><td>9001</td><td>Connecticut</td><td>Fairfield County</td><td>41.244</td><td>-73.363</td><td>2015</td><td>46</td></tr><tr><th>21</th><td>21</td><td>9001</td><td>Connecticut</td><td>Fairfield County</td><td>41.244</td><td>-73.363</td><td>2015</td><td>47</td></tr><tr><th>22</th><td>22</td><td>9001</td><td>Connecticut</td><td>Fairfield County</td><td>41.244</td><td>-73.363</td><td>2015</td><td>48</td></tr><tr><th>23</th><td>23</td><td>9001</td><td>Connecticut</td><td>Fairfield County</td><td>41.244</td><td>-73.363</td><td>2015</td><td>49</td></tr><tr><th>24</th><td>24</td><td>9001</td><td>Connecticut</td><td>Fairfield County</td><td>41.244</td><td>-73.363</td><td>2015</td><td>50</td></tr><tr><th>25</th><td>25</td><td>9001</td><td>Connecticut</td><td>Fairfield County</td><td>41.244</td><td>-73.363</td><td>2015</td><td>51</td></tr><tr><th>26</th><td>26</td><td>9001</td><td>Connecticut</td><td>Fairfield County</td><td>41.244</td><td>-73.363</td><td>2015</td><td>52</td></tr><tr><th>27</th><td>27</td><td>9003</td><td>Connecticut</td><td>Hartford County</td><td>41.82</td><td>-72.718</td><td>2015</td><td>27</td></tr><tr><th>28</th><td>28</td><td>9003</td><td>Connecticut</td><td>Hartford County</td><td>41.82</td><td>-72.718</td><td>2015</td><td>28</td></tr><tr><th>29</th><td>29</td><td>9003</td><td>Connecticut</td><td>Hartford County</td><td>41.82</td><td>-72.718</td><td>2015</td><td>29</td></tr><tr><th>30</th><td>30</td><td>9003</td><td>Connecticut</td><td>Hartford County</td><td>41.82</td><td>-72.718</td><td>2015</td><td>30</td></tr><tr><th>&vellip;</th><td>&vellip;</td><td>&vellip;</td><td>&vellip;</td><td>&vellip;</td><td>&vellip;</td><td>&vellip;</td><td>&vellip;</td><td>&vellip;</td></tr></tbody></table>"
      ],
      "text/latex": [
       "\\begin{tabular}{r|ccccccccc}\n",
       "\t& Column1 & FIPS\\_Code & State.Name & County.Name & Latitude & Longitude & Year & Week & \\\\\n",
       "\t\\hline\n",
       "\t& Int64 & Int64 & String & String & Float64 & Float64 & Int64 & Int64 & \\\\\n",
       "\t\\hline\n",
       "\t1 & 1 & 9001 & Connecticut & Fairfield County & 41.244 & -73.363 & 2015 & 27 & $\\dots$ \\\\\n",
       "\t2 & 2 & 9001 & Connecticut & Fairfield County & 41.244 & -73.363 & 2015 & 28 & $\\dots$ \\\\\n",
       "\t3 & 3 & 9001 & Connecticut & Fairfield County & 41.244 & -73.363 & 2015 & 29 & $\\dots$ \\\\\n",
       "\t4 & 4 & 9001 & Connecticut & Fairfield County & 41.244 & -73.363 & 2015 & 30 & $\\dots$ \\\\\n",
       "\t5 & 5 & 9001 & Connecticut & Fairfield County & 41.244 & -73.363 & 2015 & 31 & $\\dots$ \\\\\n",
       "\t6 & 6 & 9001 & Connecticut & Fairfield County & 41.244 & -73.363 & 2015 & 32 & $\\dots$ \\\\\n",
       "\t7 & 7 & 9001 & Connecticut & Fairfield County & 41.244 & -73.363 & 2015 & 33 & $\\dots$ \\\\\n",
       "\t8 & 8 & 9001 & Connecticut & Fairfield County & 41.244 & -73.363 & 2015 & 34 & $\\dots$ \\\\\n",
       "\t9 & 9 & 9001 & Connecticut & Fairfield County & 41.244 & -73.363 & 2015 & 35 & $\\dots$ \\\\\n",
       "\t10 & 10 & 9001 & Connecticut & Fairfield County & 41.244 & -73.363 & 2015 & 36 & $\\dots$ \\\\\n",
       "\t11 & 11 & 9001 & Connecticut & Fairfield County & 41.244 & -73.363 & 2015 & 37 & $\\dots$ \\\\\n",
       "\t12 & 12 & 9001 & Connecticut & Fairfield County & 41.244 & -73.363 & 2015 & 38 & $\\dots$ \\\\\n",
       "\t13 & 13 & 9001 & Connecticut & Fairfield County & 41.244 & -73.363 & 2015 & 39 & $\\dots$ \\\\\n",
       "\t14 & 14 & 9001 & Connecticut & Fairfield County & 41.244 & -73.363 & 2015 & 40 & $\\dots$ \\\\\n",
       "\t15 & 15 & 9001 & Connecticut & Fairfield County & 41.244 & -73.363 & 2015 & 41 & $\\dots$ \\\\\n",
       "\t16 & 16 & 9001 & Connecticut & Fairfield County & 41.244 & -73.363 & 2015 & 42 & $\\dots$ \\\\\n",
       "\t17 & 17 & 9001 & Connecticut & Fairfield County & 41.244 & -73.363 & 2015 & 43 & $\\dots$ \\\\\n",
       "\t18 & 18 & 9001 & Connecticut & Fairfield County & 41.244 & -73.363 & 2015 & 44 & $\\dots$ \\\\\n",
       "\t19 & 19 & 9001 & Connecticut & Fairfield County & 41.244 & -73.363 & 2015 & 45 & $\\dots$ \\\\\n",
       "\t20 & 20 & 9001 & Connecticut & Fairfield County & 41.244 & -73.363 & 2015 & 46 & $\\dots$ \\\\\n",
       "\t21 & 21 & 9001 & Connecticut & Fairfield County & 41.244 & -73.363 & 2015 & 47 & $\\dots$ \\\\\n",
       "\t22 & 22 & 9001 & Connecticut & Fairfield County & 41.244 & -73.363 & 2015 & 48 & $\\dots$ \\\\\n",
       "\t23 & 23 & 9001 & Connecticut & Fairfield County & 41.244 & -73.363 & 2015 & 49 & $\\dots$ \\\\\n",
       "\t24 & 24 & 9001 & Connecticut & Fairfield County & 41.244 & -73.363 & 2015 & 50 & $\\dots$ \\\\\n",
       "\t25 & 25 & 9001 & Connecticut & Fairfield County & 41.244 & -73.363 & 2015 & 51 & $\\dots$ \\\\\n",
       "\t26 & 26 & 9001 & Connecticut & Fairfield County & 41.244 & -73.363 & 2015 & 52 & $\\dots$ \\\\\n",
       "\t27 & 27 & 9003 & Connecticut & Hartford County & 41.82 & -72.718 & 2015 & 27 & $\\dots$ \\\\\n",
       "\t28 & 28 & 9003 & Connecticut & Hartford County & 41.82 & -72.718 & 2015 & 28 & $\\dots$ \\\\\n",
       "\t29 & 29 & 9003 & Connecticut & Hartford County & 41.82 & -72.718 & 2015 & 29 & $\\dots$ \\\\\n",
       "\t30 & 30 & 9003 & Connecticut & Hartford County & 41.82 & -72.718 & 2015 & 30 & $\\dots$ \\\\\n",
       "\t$\\dots$ & $\\dots$ & $\\dots$ & $\\dots$ & $\\dots$ & $\\dots$ & $\\dots$ & $\\dots$ & $\\dots$ &  \\\\\n",
       "\\end{tabular}\n"
      ],
      "text/plain": [
       "\u001b[1m99450×16 DataFrame\u001b[0m\n",
       "\u001b[1m   Row \u001b[0m│\u001b[1m Column1 \u001b[0m\u001b[1m FIPS_Code \u001b[0m\u001b[1m State.Name    \u001b[0m\u001b[1m County.Name      \u001b[0m\u001b[1m Latitude \u001b[0m\u001b[1m Longit\u001b[0m ⋯\n",
       "\u001b[1m       \u001b[0m│\u001b[90m Int64   \u001b[0m\u001b[90m Int64     \u001b[0m\u001b[90m String        \u001b[0m\u001b[90m String           \u001b[0m\u001b[90m Float64  \u001b[0m\u001b[90m Float6\u001b[0m ⋯\n",
       "───────┼────────────────────────────────────────────────────────────────────────\n",
       "     1 │       1       9001  Connecticut    Fairfield County    41.244    -73. ⋯\n",
       "     2 │       2       9001  Connecticut    Fairfield County    41.244    -73.\n",
       "     3 │       3       9001  Connecticut    Fairfield County    41.244    -73.\n",
       "     4 │       4       9001  Connecticut    Fairfield County    41.244    -73.\n",
       "     5 │       5       9001  Connecticut    Fairfield County    41.244    -73. ⋯\n",
       "     6 │       6       9001  Connecticut    Fairfield County    41.244    -73.\n",
       "     7 │       7       9001  Connecticut    Fairfield County    41.244    -73.\n",
       "     8 │       8       9001  Connecticut    Fairfield County    41.244    -73.\n",
       "     9 │       9       9001  Connecticut    Fairfield County    41.244    -73. ⋯\n",
       "    10 │      10       9001  Connecticut    Fairfield County    41.244    -73.\n",
       "    11 │      11       9001  Connecticut    Fairfield County    41.244    -73.\n",
       "   ⋮   │    ⋮         ⋮            ⋮               ⋮             ⋮          ⋮  ⋱\n",
       " 99441 │   99441      54109  West Virginia  Wyoming County      37.634    -81.\n",
       " 99442 │   99442      54109  West Virginia  Wyoming County      37.634    -81. ⋯\n",
       " 99443 │   99443      54109  West Virginia  Wyoming County      37.634    -81.\n",
       " 99444 │   99444      54109  West Virginia  Wyoming County      37.634    -81.\n",
       " 99445 │   99445      54109  West Virginia  Wyoming County      37.634    -81.\n",
       " 99446 │   99446      54109  West Virginia  Wyoming County      37.634    -81. ⋯\n",
       " 99447 │   99447      54109  West Virginia  Wyoming County      37.634    -81.\n",
       " 99448 │   99448      54109  West Virginia  Wyoming County      37.634    -81.\n",
       " 99449 │   99449      54109  West Virginia  Wyoming County      37.634    -81.\n",
       " 99450 │   99450      54109  West Virginia  Wyoming County      37.634    -81. ⋯\n",
       "\u001b[36m                                               11 columns and 99429 rows omitted\u001b[0m"
      ]
     },
     "execution_count": 3,
     "metadata": {},
     "output_type": "execute_result"
    }
   ],
   "source": [
    "pred_d"
   ]
  },
  {
   "cell_type": "code",
   "execution_count": 4,
   "id": "f1321b60",
   "metadata": {},
   "outputs": [
    {
     "data": {
      "text/html": [
       "<p><b>GroupedDataFrame with 765 groups based on key: FIPS_Code</b></p><p><i>First Group (130 rows): FIPS_Code = 9001</i></p><table class=\"data-frame\"><thead><tr><th></th><th>Column1</th><th>FIPS_Code</th><th>State.Name</th><th>County.Name</th><th>Latitude</th><th>Longitude</th><th>Year</th><th>Week</th></tr><tr><th></th><th>Int64</th><th>Int64</th><th>String</th><th>String</th><th>Float64</th><th>Float64</th><th>Int64</th><th>Int64</th></tr></thead><tbody><tr><th>1</th><td>1</td><td>9001</td><td>Connecticut</td><td>Fairfield County</td><td>41.244</td><td>-73.363</td><td>2015</td><td>27</td></tr><tr><th>2</th><td>2</td><td>9001</td><td>Connecticut</td><td>Fairfield County</td><td>41.244</td><td>-73.363</td><td>2015</td><td>28</td></tr><tr><th>3</th><td>3</td><td>9001</td><td>Connecticut</td><td>Fairfield County</td><td>41.244</td><td>-73.363</td><td>2015</td><td>29</td></tr><tr><th>4</th><td>4</td><td>9001</td><td>Connecticut</td><td>Fairfield County</td><td>41.244</td><td>-73.363</td><td>2015</td><td>30</td></tr><tr><th>5</th><td>5</td><td>9001</td><td>Connecticut</td><td>Fairfield County</td><td>41.244</td><td>-73.363</td><td>2015</td><td>31</td></tr><tr><th>6</th><td>6</td><td>9001</td><td>Connecticut</td><td>Fairfield County</td><td>41.244</td><td>-73.363</td><td>2015</td><td>32</td></tr><tr><th>7</th><td>7</td><td>9001</td><td>Connecticut</td><td>Fairfield County</td><td>41.244</td><td>-73.363</td><td>2015</td><td>33</td></tr><tr><th>8</th><td>8</td><td>9001</td><td>Connecticut</td><td>Fairfield County</td><td>41.244</td><td>-73.363</td><td>2015</td><td>34</td></tr><tr><th>9</th><td>9</td><td>9001</td><td>Connecticut</td><td>Fairfield County</td><td>41.244</td><td>-73.363</td><td>2015</td><td>35</td></tr><tr><th>10</th><td>10</td><td>9001</td><td>Connecticut</td><td>Fairfield County</td><td>41.244</td><td>-73.363</td><td>2015</td><td>36</td></tr><tr><th>11</th><td>11</td><td>9001</td><td>Connecticut</td><td>Fairfield County</td><td>41.244</td><td>-73.363</td><td>2015</td><td>37</td></tr><tr><th>12</th><td>12</td><td>9001</td><td>Connecticut</td><td>Fairfield County</td><td>41.244</td><td>-73.363</td><td>2015</td><td>38</td></tr><tr><th>13</th><td>13</td><td>9001</td><td>Connecticut</td><td>Fairfield County</td><td>41.244</td><td>-73.363</td><td>2015</td><td>39</td></tr><tr><th>14</th><td>14</td><td>9001</td><td>Connecticut</td><td>Fairfield County</td><td>41.244</td><td>-73.363</td><td>2015</td><td>40</td></tr><tr><th>15</th><td>15</td><td>9001</td><td>Connecticut</td><td>Fairfield County</td><td>41.244</td><td>-73.363</td><td>2015</td><td>41</td></tr><tr><th>16</th><td>16</td><td>9001</td><td>Connecticut</td><td>Fairfield County</td><td>41.244</td><td>-73.363</td><td>2015</td><td>42</td></tr><tr><th>17</th><td>17</td><td>9001</td><td>Connecticut</td><td>Fairfield County</td><td>41.244</td><td>-73.363</td><td>2015</td><td>43</td></tr><tr><th>18</th><td>18</td><td>9001</td><td>Connecticut</td><td>Fairfield County</td><td>41.244</td><td>-73.363</td><td>2015</td><td>44</td></tr><tr><th>19</th><td>19</td><td>9001</td><td>Connecticut</td><td>Fairfield County</td><td>41.244</td><td>-73.363</td><td>2015</td><td>45</td></tr><tr><th>20</th><td>20</td><td>9001</td><td>Connecticut</td><td>Fairfield County</td><td>41.244</td><td>-73.363</td><td>2015</td><td>46</td></tr><tr><th>21</th><td>21</td><td>9001</td><td>Connecticut</td><td>Fairfield County</td><td>41.244</td><td>-73.363</td><td>2015</td><td>47</td></tr><tr><th>22</th><td>22</td><td>9001</td><td>Connecticut</td><td>Fairfield County</td><td>41.244</td><td>-73.363</td><td>2015</td><td>48</td></tr><tr><th>23</th><td>23</td><td>9001</td><td>Connecticut</td><td>Fairfield County</td><td>41.244</td><td>-73.363</td><td>2015</td><td>49</td></tr><tr><th>24</th><td>24</td><td>9001</td><td>Connecticut</td><td>Fairfield County</td><td>41.244</td><td>-73.363</td><td>2015</td><td>50</td></tr><tr><th>25</th><td>25</td><td>9001</td><td>Connecticut</td><td>Fairfield County</td><td>41.244</td><td>-73.363</td><td>2015</td><td>51</td></tr><tr><th>26</th><td>26</td><td>9001</td><td>Connecticut</td><td>Fairfield County</td><td>41.244</td><td>-73.363</td><td>2015</td><td>52</td></tr><tr><th>27</th><td>19891</td><td>9001</td><td>Connecticut</td><td>Fairfield County</td><td>41.244</td><td>-73.363</td><td>2016</td><td>1</td></tr><tr><th>28</th><td>19892</td><td>9001</td><td>Connecticut</td><td>Fairfield County</td><td>41.244</td><td>-73.363</td><td>2016</td><td>2</td></tr><tr><th>29</th><td>19893</td><td>9001</td><td>Connecticut</td><td>Fairfield County</td><td>41.244</td><td>-73.363</td><td>2016</td><td>3</td></tr><tr><th>30</th><td>19894</td><td>9001</td><td>Connecticut</td><td>Fairfield County</td><td>41.244</td><td>-73.363</td><td>2016</td><td>4</td></tr><tr><th>&vellip;</th><td>&vellip;</td><td>&vellip;</td><td>&vellip;</td><td>&vellip;</td><td>&vellip;</td><td>&vellip;</td><td>&vellip;</td><td>&vellip;</td></tr></tbody></table><p>&vellip;</p><p><i>Last Group (130 rows): FIPS_Code = 54109</i></p><table class=\"data-frame\"><thead><tr><th></th><th>Column1</th><th>FIPS_Code</th><th>State.Name</th><th>County.Name</th><th>Latitude</th><th>Longitude</th><th>Year</th><th>Week</th></tr><tr><th></th><th>Int64</th><th>Int64</th><th>String</th><th>String</th><th>Float64</th><th>Float64</th><th>Int64</th><th>Int64</th></tr></thead><tbody><tr><th>1</th><td>19865</td><td>54109</td><td>West Virginia</td><td>Wyoming County</td><td>37.634</td><td>-81.539</td><td>2015</td><td>27</td></tr><tr><th>2</th><td>19866</td><td>54109</td><td>West Virginia</td><td>Wyoming County</td><td>37.634</td><td>-81.539</td><td>2015</td><td>28</td></tr><tr><th>3</th><td>19867</td><td>54109</td><td>West Virginia</td><td>Wyoming County</td><td>37.634</td><td>-81.539</td><td>2015</td><td>29</td></tr><tr><th>4</th><td>19868</td><td>54109</td><td>West Virginia</td><td>Wyoming County</td><td>37.634</td><td>-81.539</td><td>2015</td><td>30</td></tr><tr><th>5</th><td>19869</td><td>54109</td><td>West Virginia</td><td>Wyoming County</td><td>37.634</td><td>-81.539</td><td>2015</td><td>31</td></tr><tr><th>6</th><td>19870</td><td>54109</td><td>West Virginia</td><td>Wyoming County</td><td>37.634</td><td>-81.539</td><td>2015</td><td>32</td></tr><tr><th>7</th><td>19871</td><td>54109</td><td>West Virginia</td><td>Wyoming County</td><td>37.634</td><td>-81.539</td><td>2015</td><td>33</td></tr><tr><th>8</th><td>19872</td><td>54109</td><td>West Virginia</td><td>Wyoming County</td><td>37.634</td><td>-81.539</td><td>2015</td><td>34</td></tr><tr><th>9</th><td>19873</td><td>54109</td><td>West Virginia</td><td>Wyoming County</td><td>37.634</td><td>-81.539</td><td>2015</td><td>35</td></tr><tr><th>10</th><td>19874</td><td>54109</td><td>West Virginia</td><td>Wyoming County</td><td>37.634</td><td>-81.539</td><td>2015</td><td>36</td></tr><tr><th>11</th><td>19875</td><td>54109</td><td>West Virginia</td><td>Wyoming County</td><td>37.634</td><td>-81.539</td><td>2015</td><td>37</td></tr><tr><th>12</th><td>19876</td><td>54109</td><td>West Virginia</td><td>Wyoming County</td><td>37.634</td><td>-81.539</td><td>2015</td><td>38</td></tr><tr><th>13</th><td>19877</td><td>54109</td><td>West Virginia</td><td>Wyoming County</td><td>37.634</td><td>-81.539</td><td>2015</td><td>39</td></tr><tr><th>14</th><td>19878</td><td>54109</td><td>West Virginia</td><td>Wyoming County</td><td>37.634</td><td>-81.539</td><td>2015</td><td>40</td></tr><tr><th>15</th><td>19879</td><td>54109</td><td>West Virginia</td><td>Wyoming County</td><td>37.634</td><td>-81.539</td><td>2015</td><td>41</td></tr><tr><th>16</th><td>19880</td><td>54109</td><td>West Virginia</td><td>Wyoming County</td><td>37.634</td><td>-81.539</td><td>2015</td><td>42</td></tr><tr><th>17</th><td>19881</td><td>54109</td><td>West Virginia</td><td>Wyoming County</td><td>37.634</td><td>-81.539</td><td>2015</td><td>43</td></tr><tr><th>18</th><td>19882</td><td>54109</td><td>West Virginia</td><td>Wyoming County</td><td>37.634</td><td>-81.539</td><td>2015</td><td>44</td></tr><tr><th>19</th><td>19883</td><td>54109</td><td>West Virginia</td><td>Wyoming County</td><td>37.634</td><td>-81.539</td><td>2015</td><td>45</td></tr><tr><th>20</th><td>19884</td><td>54109</td><td>West Virginia</td><td>Wyoming County</td><td>37.634</td><td>-81.539</td><td>2015</td><td>46</td></tr><tr><th>21</th><td>19885</td><td>54109</td><td>West Virginia</td><td>Wyoming County</td><td>37.634</td><td>-81.539</td><td>2015</td><td>47</td></tr><tr><th>22</th><td>19886</td><td>54109</td><td>West Virginia</td><td>Wyoming County</td><td>37.634</td><td>-81.539</td><td>2015</td><td>48</td></tr><tr><th>23</th><td>19887</td><td>54109</td><td>West Virginia</td><td>Wyoming County</td><td>37.634</td><td>-81.539</td><td>2015</td><td>49</td></tr><tr><th>24</th><td>19888</td><td>54109</td><td>West Virginia</td><td>Wyoming County</td><td>37.634</td><td>-81.539</td><td>2015</td><td>50</td></tr><tr><th>25</th><td>19889</td><td>54109</td><td>West Virginia</td><td>Wyoming County</td><td>37.634</td><td>-81.539</td><td>2015</td><td>51</td></tr><tr><th>26</th><td>19890</td><td>54109</td><td>West Virginia</td><td>Wyoming County</td><td>37.634</td><td>-81.539</td><td>2015</td><td>52</td></tr><tr><th>27</th><td>59619</td><td>54109</td><td>West Virginia</td><td>Wyoming County</td><td>37.634</td><td>-81.539</td><td>2016</td><td>1</td></tr><tr><th>28</th><td>59620</td><td>54109</td><td>West Virginia</td><td>Wyoming County</td><td>37.634</td><td>-81.539</td><td>2016</td><td>2</td></tr><tr><th>29</th><td>59621</td><td>54109</td><td>West Virginia</td><td>Wyoming County</td><td>37.634</td><td>-81.539</td><td>2016</td><td>3</td></tr><tr><th>30</th><td>59622</td><td>54109</td><td>West Virginia</td><td>Wyoming County</td><td>37.634</td><td>-81.539</td><td>2016</td><td>4</td></tr><tr><th>&vellip;</th><td>&vellip;</td><td>&vellip;</td><td>&vellip;</td><td>&vellip;</td><td>&vellip;</td><td>&vellip;</td><td>&vellip;</td><td>&vellip;</td></tr></tbody></table>"
      ],
      "text/latex": [
       "GroupedDataFrame with 765 groups based on key: FIPS\\_Code\n",
       "\n",
       "First Group (130 rows): FIPS\\_Code = 9001\n",
       "\n",
       "\\begin{tabular}{r|ccccccccc}\n",
       "\t& Column1 & FIPS\\_Code & State.Name & County.Name & Latitude & Longitude & Year & Week & \\\\\n",
       "\t\\hline\n",
       "\t& Int64 & Int64 & String & String & Float64 & Float64 & Int64 & Int64 & \\\\\n",
       "\t\\hline\n",
       "\t1 & 1 & 9001 & Connecticut & Fairfield County & 41.244 & -73.363 & 2015 & 27 & $\\dots$ \\\\\n",
       "\t2 & 2 & 9001 & Connecticut & Fairfield County & 41.244 & -73.363 & 2015 & 28 & $\\dots$ \\\\\n",
       "\t3 & 3 & 9001 & Connecticut & Fairfield County & 41.244 & -73.363 & 2015 & 29 & $\\dots$ \\\\\n",
       "\t4 & 4 & 9001 & Connecticut & Fairfield County & 41.244 & -73.363 & 2015 & 30 & $\\dots$ \\\\\n",
       "\t5 & 5 & 9001 & Connecticut & Fairfield County & 41.244 & -73.363 & 2015 & 31 & $\\dots$ \\\\\n",
       "\t6 & 6 & 9001 & Connecticut & Fairfield County & 41.244 & -73.363 & 2015 & 32 & $\\dots$ \\\\\n",
       "\t7 & 7 & 9001 & Connecticut & Fairfield County & 41.244 & -73.363 & 2015 & 33 & $\\dots$ \\\\\n",
       "\t8 & 8 & 9001 & Connecticut & Fairfield County & 41.244 & -73.363 & 2015 & 34 & $\\dots$ \\\\\n",
       "\t9 & 9 & 9001 & Connecticut & Fairfield County & 41.244 & -73.363 & 2015 & 35 & $\\dots$ \\\\\n",
       "\t10 & 10 & 9001 & Connecticut & Fairfield County & 41.244 & -73.363 & 2015 & 36 & $\\dots$ \\\\\n",
       "\t11 & 11 & 9001 & Connecticut & Fairfield County & 41.244 & -73.363 & 2015 & 37 & $\\dots$ \\\\\n",
       "\t12 & 12 & 9001 & Connecticut & Fairfield County & 41.244 & -73.363 & 2015 & 38 & $\\dots$ \\\\\n",
       "\t13 & 13 & 9001 & Connecticut & Fairfield County & 41.244 & -73.363 & 2015 & 39 & $\\dots$ \\\\\n",
       "\t14 & 14 & 9001 & Connecticut & Fairfield County & 41.244 & -73.363 & 2015 & 40 & $\\dots$ \\\\\n",
       "\t15 & 15 & 9001 & Connecticut & Fairfield County & 41.244 & -73.363 & 2015 & 41 & $\\dots$ \\\\\n",
       "\t16 & 16 & 9001 & Connecticut & Fairfield County & 41.244 & -73.363 & 2015 & 42 & $\\dots$ \\\\\n",
       "\t17 & 17 & 9001 & Connecticut & Fairfield County & 41.244 & -73.363 & 2015 & 43 & $\\dots$ \\\\\n",
       "\t18 & 18 & 9001 & Connecticut & Fairfield County & 41.244 & -73.363 & 2015 & 44 & $\\dots$ \\\\\n",
       "\t19 & 19 & 9001 & Connecticut & Fairfield County & 41.244 & -73.363 & 2015 & 45 & $\\dots$ \\\\\n",
       "\t20 & 20 & 9001 & Connecticut & Fairfield County & 41.244 & -73.363 & 2015 & 46 & $\\dots$ \\\\\n",
       "\t21 & 21 & 9001 & Connecticut & Fairfield County & 41.244 & -73.363 & 2015 & 47 & $\\dots$ \\\\\n",
       "\t22 & 22 & 9001 & Connecticut & Fairfield County & 41.244 & -73.363 & 2015 & 48 & $\\dots$ \\\\\n",
       "\t23 & 23 & 9001 & Connecticut & Fairfield County & 41.244 & -73.363 & 2015 & 49 & $\\dots$ \\\\\n",
       "\t24 & 24 & 9001 & Connecticut & Fairfield County & 41.244 & -73.363 & 2015 & 50 & $\\dots$ \\\\\n",
       "\t25 & 25 & 9001 & Connecticut & Fairfield County & 41.244 & -73.363 & 2015 & 51 & $\\dots$ \\\\\n",
       "\t26 & 26 & 9001 & Connecticut & Fairfield County & 41.244 & -73.363 & 2015 & 52 & $\\dots$ \\\\\n",
       "\t27 & 19891 & 9001 & Connecticut & Fairfield County & 41.244 & -73.363 & 2016 & 1 & $\\dots$ \\\\\n",
       "\t28 & 19892 & 9001 & Connecticut & Fairfield County & 41.244 & -73.363 & 2016 & 2 & $\\dots$ \\\\\n",
       "\t29 & 19893 & 9001 & Connecticut & Fairfield County & 41.244 & -73.363 & 2016 & 3 & $\\dots$ \\\\\n",
       "\t30 & 19894 & 9001 & Connecticut & Fairfield County & 41.244 & -73.363 & 2016 & 4 & $\\dots$ \\\\\n",
       "\t$\\dots$ & $\\dots$ & $\\dots$ & $\\dots$ & $\\dots$ & $\\dots$ & $\\dots$ & $\\dots$ & $\\dots$ &  \\\\\n",
       "\\end{tabular}\n",
       "\n",
       "$\\dots$\n",
       "\n",
       "Last Group (130 rows): FIPS\\_Code = 54109\n",
       "\n",
       "\\begin{tabular}{r|ccccccccc}\n",
       "\t& Column1 & FIPS\\_Code & State.Name & County.Name & Latitude & Longitude & Year & Week & \\\\\n",
       "\t\\hline\n",
       "\t& Int64 & Int64 & String & String & Float64 & Float64 & Int64 & Int64 & \\\\\n",
       "\t\\hline\n",
       "\t1 & 19865 & 54109 & West Virginia & Wyoming County & 37.634 & -81.539 & 2015 & 27 & $\\dots$ \\\\\n",
       "\t2 & 19866 & 54109 & West Virginia & Wyoming County & 37.634 & -81.539 & 2015 & 28 & $\\dots$ \\\\\n",
       "\t3 & 19867 & 54109 & West Virginia & Wyoming County & 37.634 & -81.539 & 2015 & 29 & $\\dots$ \\\\\n",
       "\t4 & 19868 & 54109 & West Virginia & Wyoming County & 37.634 & -81.539 & 2015 & 30 & $\\dots$ \\\\\n",
       "\t5 & 19869 & 54109 & West Virginia & Wyoming County & 37.634 & -81.539 & 2015 & 31 & $\\dots$ \\\\\n",
       "\t6 & 19870 & 54109 & West Virginia & Wyoming County & 37.634 & -81.539 & 2015 & 32 & $\\dots$ \\\\\n",
       "\t7 & 19871 & 54109 & West Virginia & Wyoming County & 37.634 & -81.539 & 2015 & 33 & $\\dots$ \\\\\n",
       "\t8 & 19872 & 54109 & West Virginia & Wyoming County & 37.634 & -81.539 & 2015 & 34 & $\\dots$ \\\\\n",
       "\t9 & 19873 & 54109 & West Virginia & Wyoming County & 37.634 & -81.539 & 2015 & 35 & $\\dots$ \\\\\n",
       "\t10 & 19874 & 54109 & West Virginia & Wyoming County & 37.634 & -81.539 & 2015 & 36 & $\\dots$ \\\\\n",
       "\t11 & 19875 & 54109 & West Virginia & Wyoming County & 37.634 & -81.539 & 2015 & 37 & $\\dots$ \\\\\n",
       "\t12 & 19876 & 54109 & West Virginia & Wyoming County & 37.634 & -81.539 & 2015 & 38 & $\\dots$ \\\\\n",
       "\t13 & 19877 & 54109 & West Virginia & Wyoming County & 37.634 & -81.539 & 2015 & 39 & $\\dots$ \\\\\n",
       "\t14 & 19878 & 54109 & West Virginia & Wyoming County & 37.634 & -81.539 & 2015 & 40 & $\\dots$ \\\\\n",
       "\t15 & 19879 & 54109 & West Virginia & Wyoming County & 37.634 & -81.539 & 2015 & 41 & $\\dots$ \\\\\n",
       "\t16 & 19880 & 54109 & West Virginia & Wyoming County & 37.634 & -81.539 & 2015 & 42 & $\\dots$ \\\\\n",
       "\t17 & 19881 & 54109 & West Virginia & Wyoming County & 37.634 & -81.539 & 2015 & 43 & $\\dots$ \\\\\n",
       "\t18 & 19882 & 54109 & West Virginia & Wyoming County & 37.634 & -81.539 & 2015 & 44 & $\\dots$ \\\\\n",
       "\t19 & 19883 & 54109 & West Virginia & Wyoming County & 37.634 & -81.539 & 2015 & 45 & $\\dots$ \\\\\n",
       "\t20 & 19884 & 54109 & West Virginia & Wyoming County & 37.634 & -81.539 & 2015 & 46 & $\\dots$ \\\\\n",
       "\t21 & 19885 & 54109 & West Virginia & Wyoming County & 37.634 & -81.539 & 2015 & 47 & $\\dots$ \\\\\n",
       "\t22 & 19886 & 54109 & West Virginia & Wyoming County & 37.634 & -81.539 & 2015 & 48 & $\\dots$ \\\\\n",
       "\t23 & 19887 & 54109 & West Virginia & Wyoming County & 37.634 & -81.539 & 2015 & 49 & $\\dots$ \\\\\n",
       "\t24 & 19888 & 54109 & West Virginia & Wyoming County & 37.634 & -81.539 & 2015 & 50 & $\\dots$ \\\\\n",
       "\t25 & 19889 & 54109 & West Virginia & Wyoming County & 37.634 & -81.539 & 2015 & 51 & $\\dots$ \\\\\n",
       "\t26 & 19890 & 54109 & West Virginia & Wyoming County & 37.634 & -81.539 & 2015 & 52 & $\\dots$ \\\\\n",
       "\t27 & 59619 & 54109 & West Virginia & Wyoming County & 37.634 & -81.539 & 2016 & 1 & $\\dots$ \\\\\n",
       "\t28 & 59620 & 54109 & West Virginia & Wyoming County & 37.634 & -81.539 & 2016 & 2 & $\\dots$ \\\\\n",
       "\t29 & 59621 & 54109 & West Virginia & Wyoming County & 37.634 & -81.539 & 2016 & 3 & $\\dots$ \\\\\n",
       "\t30 & 59622 & 54109 & West Virginia & Wyoming County & 37.634 & -81.539 & 2016 & 4 & $\\dots$ \\\\\n",
       "\t$\\dots$ & $\\dots$ & $\\dots$ & $\\dots$ & $\\dots$ & $\\dots$ & $\\dots$ & $\\dots$ & $\\dots$ &  \\\\\n",
       "\\end{tabular}\n"
      ],
      "text/plain": [
       "GroupedDataFrame with 765 groups based on key: FIPS_Code\n",
       "First Group (130 rows): FIPS_Code = 9001\n",
       "\u001b[1m Row \u001b[0m│\u001b[1m Column1 \u001b[0m\u001b[1m FIPS_Code \u001b[0m\u001b[1m State.Name  \u001b[0m\u001b[1m County.Name      \u001b[0m\u001b[1m Latitude \u001b[0m\u001b[1m Longitude \u001b[0m\u001b[1m\u001b[0m ⋯\n",
       "\u001b[1m     \u001b[0m│\u001b[90m Int64   \u001b[0m\u001b[90m Int64     \u001b[0m\u001b[90m String      \u001b[0m\u001b[90m String           \u001b[0m\u001b[90m Float64  \u001b[0m\u001b[90m Float64   \u001b[0m\u001b[90m\u001b[0m ⋯\n",
       "─────┼──────────────────────────────────────────────────────────────────────────\n",
       "   1 │       1       9001  Connecticut  Fairfield County    41.244    -73.363  ⋯\n",
       "   2 │       2       9001  Connecticut  Fairfield County    41.244    -73.363\n",
       "   3 │       3       9001  Connecticut  Fairfield County    41.244    -73.363\n",
       "   4 │       4       9001  Connecticut  Fairfield County    41.244    -73.363\n",
       "   5 │       5       9001  Connecticut  Fairfield County    41.244    -73.363  ⋯\n",
       "   6 │       6       9001  Connecticut  Fairfield County    41.244    -73.363\n",
       "   7 │       7       9001  Connecticut  Fairfield County    41.244    -73.363\n",
       "   8 │       8       9001  Connecticut  Fairfield County    41.244    -73.363\n",
       "   9 │       9       9001  Connecticut  Fairfield County    41.244    -73.363  ⋯\n",
       "  10 │      10       9001  Connecticut  Fairfield County    41.244    -73.363\n",
       "  11 │      11       9001  Connecticut  Fairfield County    41.244    -73.363\n",
       "  ⋮  │    ⋮         ⋮           ⋮              ⋮             ⋮          ⋮      ⋱\n",
       " 120 │   59712       9001  Connecticut  Fairfield County    41.244    -73.363\n",
       " 121 │   59713       9001  Connecticut  Fairfield County    41.244    -73.363  ⋯\n",
       " 122 │   59714       9001  Connecticut  Fairfield County    41.244    -73.363\n",
       " 123 │   59715       9001  Connecticut  Fairfield County    41.244    -73.363\n",
       " 124 │   59716       9001  Connecticut  Fairfield County    41.244    -73.363\n",
       " 125 │   59717       9001  Connecticut  Fairfield County    41.244    -73.363  ⋯\n",
       " 126 │   59718       9001  Connecticut  Fairfield County    41.244    -73.363\n",
       " 127 │   59719       9001  Connecticut  Fairfield County    41.244    -73.363\n",
       " 128 │   59720       9001  Connecticut  Fairfield County    41.244    -73.363\n",
       " 129 │   59721       9001  Connecticut  Fairfield County    41.244    -73.363  ⋯\n",
       " 130 │   59722       9001  Connecticut  Fairfield County    41.244    -73.363\n",
       "\u001b[36m                                                 10 columns and 108 rows omitted\u001b[0m\n",
       "⋮\n",
       "Last Group (130 rows): FIPS_Code = 54109\n",
       "\u001b[1m Row \u001b[0m│\u001b[1m Column1 \u001b[0m\u001b[1m FIPS_Code \u001b[0m\u001b[1m State.Name    \u001b[0m\u001b[1m County.Name    \u001b[0m\u001b[1m Latitude \u001b[0m\u001b[1m Longitude \u001b[0m\u001b[1m\u001b[0m ⋯\n",
       "\u001b[1m     \u001b[0m│\u001b[90m Int64   \u001b[0m\u001b[90m Int64     \u001b[0m\u001b[90m String        \u001b[0m\u001b[90m String         \u001b[0m\u001b[90m Float64  \u001b[0m\u001b[90m Float64   \u001b[0m\u001b[90m\u001b[0m ⋯\n",
       "─────┼──────────────────────────────────────────────────────────────────────────\n",
       "   1 │   19865      54109  West Virginia  Wyoming County    37.634    -81.539  ⋯\n",
       "   2 │   19866      54109  West Virginia  Wyoming County    37.634    -81.539\n",
       "   3 │   19867      54109  West Virginia  Wyoming County    37.634    -81.539\n",
       "   4 │   19868      54109  West Virginia  Wyoming County    37.634    -81.539\n",
       "   5 │   19869      54109  West Virginia  Wyoming County    37.634    -81.539  ⋯\n",
       "   6 │   19870      54109  West Virginia  Wyoming County    37.634    -81.539\n",
       "   7 │   19871      54109  West Virginia  Wyoming County    37.634    -81.539\n",
       "   8 │   19872      54109  West Virginia  Wyoming County    37.634    -81.539\n",
       "   9 │   19873      54109  West Virginia  Wyoming County    37.634    -81.539  ⋯\n",
       "  10 │   19874      54109  West Virginia  Wyoming County    37.634    -81.539\n",
       "  11 │   19875      54109  West Virginia  Wyoming County    37.634    -81.539\n",
       "  ⋮  │    ⋮         ⋮            ⋮              ⋮            ⋮          ⋮      ⋱\n",
       " 120 │   99440      54109  West Virginia  Wyoming County    37.634    -81.539\n",
       " 121 │   99441      54109  West Virginia  Wyoming County    37.634    -81.539  ⋯\n",
       " 122 │   99442      54109  West Virginia  Wyoming County    37.634    -81.539\n",
       " 123 │   99443      54109  West Virginia  Wyoming County    37.634    -81.539\n",
       " 124 │   99444      54109  West Virginia  Wyoming County    37.634    -81.539\n",
       " 125 │   99445      54109  West Virginia  Wyoming County    37.634    -81.539  ⋯\n",
       " 126 │   99446      54109  West Virginia  Wyoming County    37.634    -81.539\n",
       " 127 │   99447      54109  West Virginia  Wyoming County    37.634    -81.539\n",
       " 128 │   99448      54109  West Virginia  Wyoming County    37.634    -81.539\n",
       " 129 │   99449      54109  West Virginia  Wyoming County    37.634    -81.539  ⋯\n",
       " 130 │   99450      54109  West Virginia  Wyoming County    37.634    -81.539\n",
       "\u001b[36m                                                 10 columns and 108 rows omitted\u001b[0m"
      ]
     },
     "execution_count": 4,
     "metadata": {},
     "output_type": "execute_result"
    }
   ],
   "source": [
    "agg_county = groupby(pred_d, :FIPS_Code)"
   ]
  },
  {
   "cell_type": "markdown",
   "id": "2e3a1116",
   "metadata": {},
   "source": [
    "# Part D"
   ]
  },
  {
   "cell_type": "code",
   "execution_count": 5,
   "id": "633ee821",
   "metadata": {},
   "outputs": [],
   "source": [
    "county_tot_d = combine(agg_county, :d_pallets => sum);"
   ]
  },
  {
   "cell_type": "code",
   "execution_count": 6,
   "id": "f4bdbccb",
   "metadata": {},
   "outputs": [],
   "source": [
    "df = []\n",
    "for i in 1:size(agg_county,1)\n",
    "    row_num = size(agg_county[i])[1]\n",
    "    x = sum(agg_county[i][row_num-7:row_num,:d_pallets])\n",
    "    append!(df, x)\n",
    "end"
   ]
  },
  {
   "cell_type": "code",
   "execution_count": 7,
   "id": "b6ea292d",
   "metadata": {},
   "outputs": [],
   "source": [
    "variable_cost = Vector(dc[:,:Variable_Cost]);\n",
    "fixed_cost = Vector(dc[:,:Fixed_Cost]);"
   ]
  },
  {
   "cell_type": "code",
   "execution_count": 8,
   "id": "b9837e52",
   "metadata": {},
   "outputs": [],
   "source": [
    "d_mat = zeros((size(fixed_cost,1), size(agg_county,1)))\n",
    "for i in 1:size(fixed_cost,1)\n",
    "    dc_lat = dc[i,:Latitude]\n",
    "    dc_long = dc[i,:Longitude]\n",
    "    for j in 1:size(agg_county,1)\n",
    "        county_lat = agg_county[j][1,:Latitude]\n",
    "        county_long = agg_county[j][1,:Longitude]\n",
    "        d_mat[i,j]= haversine((dc_lat,dc_long),(county_lat,county_long), 3958.8)\n",
    "    end\n",
    "end"
   ]
  },
  {
   "cell_type": "code",
   "execution_count": 44,
   "id": "82b75961",
   "metadata": {},
   "outputs": [
    {
     "name": "stdout",
     "output_type": "stream",
     "text": [
      "Academic license - for non-commercial use only - expires 2022-08-19\n"
     ]
    }
   ],
   "source": [
    "model = Model(with_optimizer(Gurobi.Optimizer, Gurobi.Env()))\n",
    "\n",
    "set_optimizer_attribute(model, \"OutputFlag\", 0) \n",
    "\n",
    "n = size(county_tot_d,1)\n",
    "\n",
    "@variable(model, b[i=1:20], Bin)\n",
    "@variable(model, u[i=1:20,j=1:n], Bin)\n",
    "@variable(model, c[i=1:20]>=0)\n",
    "\n",
    "\n",
    "@constraint(model, [i=1:3], b[i]==1)\n",
    "@constraint(model, [i=1:2], c[i]==1200000)\n",
    "@constraint(model, [i=3], c[i]==900000)\n",
    "@constraint(model, [j=1:n], sum(u[:,j])== 1)\n",
    "@constraint(model, [i=1:20, j=1:n], u[i,j] <= b[i]) \n",
    "@constraint(model, [i=1:20], c[i]*(5/13.5) >= sum(df[j]*u[i,j] for j=1:n))\n",
    "@constraint(model, [i=1:20], c[i]<=b[i]*1200000)\n",
    "\n",
    "@objective(model, Min, sum(variable_cost[i]*c[i] for i=1:20) + sum(fixed_cost[i]*b[i] for i=1:20) + \n",
    "    sum(sum((1.55/20)*d_mat[i,j]*county_tot_d[j,:d_pallets_sum]*u[i,j] for j=1:n) for i=1:20))\n",
    "\n",
    "optimize!(model)"
   ]
  },
  {
   "cell_type": "code",
   "execution_count": 45,
   "id": "33d8ad21",
   "metadata": {},
   "outputs": [
    {
     "data": {
      "text/plain": [
       "7.533748614634609e8"
      ]
     },
     "execution_count": 45,
     "metadata": {},
     "output_type": "execute_result"
    }
   ],
   "source": [
    "objective_value(model)"
   ]
  },
  {
   "cell_type": "code",
   "execution_count": 46,
   "id": "58343206",
   "metadata": {},
   "outputs": [
    {
     "data": {
      "text/plain": [
       "20-element Vector{Float64}:\n",
       " 1.0\n",
       " 1.0\n",
       " 1.0\n",
       " 0.0\n",
       " 0.0\n",
       " 0.0\n",
       " 0.0\n",
       " 0.0\n",
       " 0.0\n",
       " 0.0\n",
       " 1.0\n",
       " 0.0\n",
       " 0.0\n",
       " 1.0\n",
       " 0.0\n",
       " 0.0\n",
       " 1.0\n",
       " 1.0\n",
       " 1.0\n",
       " 0.0"
      ]
     },
     "execution_count": 46,
     "metadata": {},
     "output_type": "execute_result"
    }
   ],
   "source": [
    "b=value.(b)"
   ]
  },
  {
   "cell_type": "code",
   "execution_count": 47,
   "id": "03e36170",
   "metadata": {},
   "outputs": [
    {
     "data": {
      "text/plain": [
       "20×765 Matrix{Float64}:\n",
       " 0.0  1.0  0.0  1.0  1.0  1.0  1.0  1.0  …  0.0  0.0  0.0  0.0  0.0  0.0  0.0\n",
       " 0.0  0.0  0.0  0.0  0.0  0.0  0.0  0.0     0.0  0.0  0.0  0.0  0.0  0.0  0.0\n",
       " 0.0  0.0  0.0  0.0  0.0  0.0  0.0  0.0     1.0  1.0  1.0  1.0  1.0  1.0  1.0\n",
       " 0.0  0.0  0.0  0.0  0.0  0.0  0.0  0.0     0.0  0.0  0.0  0.0  0.0  0.0  0.0\n",
       " 0.0  0.0  0.0  0.0  0.0  0.0  0.0  0.0     0.0  0.0  0.0  0.0  0.0  0.0  0.0\n",
       " 0.0  0.0  0.0  0.0  0.0  0.0  0.0  0.0  …  0.0  0.0  0.0  0.0  0.0  0.0  0.0\n",
       " 0.0  0.0  0.0  0.0  0.0  0.0  0.0  0.0     0.0  0.0  0.0  0.0  0.0  0.0  0.0\n",
       " 0.0  0.0  0.0  0.0  0.0  0.0  0.0  0.0     0.0  0.0  0.0  0.0  0.0  0.0  0.0\n",
       " 0.0  0.0  0.0  0.0  0.0  0.0  0.0  0.0     0.0  0.0  0.0  0.0  0.0  0.0  0.0\n",
       " 0.0  0.0  0.0  0.0  0.0  0.0  0.0  0.0     0.0  0.0  0.0  0.0  0.0  0.0  0.0\n",
       " 0.0  0.0  0.0  0.0  0.0  0.0  0.0  0.0  …  0.0  0.0  0.0  0.0  0.0  0.0  0.0\n",
       " 0.0  0.0  0.0  0.0  0.0  0.0  0.0  0.0     0.0  0.0  0.0  0.0  0.0  0.0  0.0\n",
       " 0.0  0.0  0.0  0.0  0.0  0.0  0.0  0.0     0.0  0.0  0.0  0.0  0.0  0.0  0.0\n",
       " 0.0  0.0  0.0  0.0  0.0  0.0  0.0  0.0     0.0  0.0  0.0  0.0  0.0  0.0  0.0\n",
       " 0.0  0.0  0.0  0.0  0.0  0.0  0.0  0.0     0.0  0.0  0.0  0.0  0.0  0.0  0.0\n",
       " 0.0  0.0  0.0  0.0  0.0  0.0  0.0  0.0  …  0.0  0.0  0.0  0.0  0.0  0.0  0.0\n",
       " 0.0  0.0  0.0  0.0  0.0  0.0  0.0  0.0     0.0  0.0  0.0  0.0  0.0  0.0  0.0\n",
       " 1.0  0.0  1.0  0.0  0.0  0.0  0.0  0.0     0.0  0.0  0.0  0.0  0.0  0.0  0.0\n",
       " 0.0  0.0  0.0  0.0  0.0  0.0  0.0  0.0     0.0  0.0  0.0  0.0  0.0  0.0  0.0\n",
       " 0.0  0.0  0.0  0.0  0.0  0.0  0.0  0.0     0.0  0.0  0.0  0.0  0.0  0.0  0.0"
      ]
     },
     "execution_count": 47,
     "metadata": {},
     "output_type": "execute_result"
    }
   ],
   "source": [
    "u=value.(u)"
   ]
  },
  {
   "cell_type": "code",
   "execution_count": 48,
   "id": "d2867031",
   "metadata": {},
   "outputs": [
    {
     "data": {
      "text/plain": [
       "20-element Vector{Float64}:\n",
       "      1.2e6\n",
       "      1.2e6\n",
       " 900000.0\n",
       "      0.0\n",
       "      0.0\n",
       "      0.0\n",
       "      0.0\n",
       "      0.0\n",
       "      0.0\n",
       "      0.0\n",
       "      1.1999247319021097e6\n",
       "      0.0\n",
       "      0.0\n",
       " 701461.9812655906\n",
       "      0.0\n",
       "      0.0\n",
       "      1.199839817498397e6\n",
       "      1.1992867442985747e6\n",
       "      1.1999464575535741e6\n",
       "      0.0"
      ]
     },
     "execution_count": 48,
     "metadata": {},
     "output_type": "execute_result"
    }
   ],
   "source": [
    "c=value.(c)"
   ]
  },
  {
   "cell_type": "code",
   "execution_count": 49,
   "id": "d430e83b",
   "metadata": {},
   "outputs": [
    {
     "data": {
      "text/plain": [
       "20×1 Matrix{Float64}:\n",
       "  57.0\n",
       " 122.0\n",
       " 120.0\n",
       "   0.0\n",
       "   0.0\n",
       "   0.0\n",
       "   0.0\n",
       "   0.0\n",
       "   0.0\n",
       "   0.0\n",
       " 222.0\n",
       "   0.0\n",
       "   0.0\n",
       "  41.0\n",
       "   0.0\n",
       "   0.0\n",
       "  27.0\n",
       "  60.0\n",
       " 116.0\n",
       "   0.0"
      ]
     },
     "execution_count": 49,
     "metadata": {},
     "output_type": "execute_result"
    }
   ],
   "source": [
    "sum(u, dims=2)"
   ]
  },
  {
   "cell_type": "code",
   "execution_count": 50,
   "id": "bbeab245",
   "metadata": {},
   "outputs": [
    {
     "data": {
      "text/plain": [
       "5.560500726415393e8"
      ]
     },
     "execution_count": 50,
     "metadata": {},
     "output_type": "execute_result"
    }
   ],
   "source": [
    "construction_cost = sum(variable_cost[i]*c[i] for i=1:20) + sum(fixed_cost[i]*b[i] for i=1:20)"
   ]
  },
  {
   "cell_type": "code",
   "execution_count": 51,
   "id": "d32970e7",
   "metadata": {},
   "outputs": [
    {
     "data": {
      "text/plain": [
       "1.9732478882192114e8"
      ]
     },
     "execution_count": 51,
     "metadata": {},
     "output_type": "execute_result"
    }
   ],
   "source": [
    "transpo_cost = sum(sum((1.55/20)*d_mat[i,j]*county_tot_d[j,:d_pallets_sum]*u[i,j] for j=1:n) for i=1:20)"
   ]
  },
  {
   "cell_type": "markdown",
   "id": "984156b6",
   "metadata": {},
   "source": [
    "# Part E"
   ]
  },
  {
   "cell_type": "code",
   "execution_count": 64,
   "id": "b0a4a015",
   "metadata": {},
   "outputs": [
    {
     "name": "stdout",
     "output_type": "stream",
     "text": [
      "Academic license - for non-commercial use only - expires 2022-08-19\n"
     ]
    }
   ],
   "source": [
    "mod1 = Model(with_optimizer(Gurobi.Optimizer, Gurobi.Env()))\n",
    "set_optimizer_attribute(mod1, \"OutputFlag\", 0)\n",
    "\n",
    "n = size(county_tot_d,1)\n",
    "\n",
    "@variable(mod1, c[i=1:20]>=0)\n",
    "@variable(mod1, b[i=1:20], Bin)\n",
    "\n",
    "@constraint(mod1, [i=1:2], c[i]==1200000)\n",
    "@constraint(mod1, [i=3], c[i]==900000)\n",
    "@constraint(mod1, [i=1:3], b[i]==1)\n",
    "@constraint(mod1, [i=1:20], c[i]<=b[i]*1200000)\n",
    "@constraint(mod1, sum(c[i]*(5/13.5) for i=1:20) >= sum(df[j] for j=1:n))\n",
    "\n",
    "@objective(mod1, Min, sum(fixed_cost[i]*b[i] for i=1:20) + sum(variable_cost[i]*c[i] for i=1:20))\n",
    "\n",
    "optimize!(mod1)"
   ]
  },
  {
   "cell_type": "code",
   "execution_count": 65,
   "id": "9a4e63b6",
   "metadata": {},
   "outputs": [
    {
     "data": {
      "text/plain": [
       "5.1707796649073195e8"
      ]
     },
     "execution_count": 65,
     "metadata": {},
     "output_type": "execute_result"
    }
   ],
   "source": [
    "objective_value(mod1)"
   ]
  },
  {
   "cell_type": "code",
   "execution_count": 66,
   "id": "d2be12b8",
   "metadata": {},
   "outputs": [
    {
     "data": {
      "text/plain": [
       "20-element Vector{Float64}:\n",
       "  1.0\n",
       "  1.0\n",
       "  1.0\n",
       " -0.0\n",
       " -0.0\n",
       "  1.0\n",
       " -0.0\n",
       " -0.0\n",
       "  1.0\n",
       " -0.0\n",
       "  1.0\n",
       "  1.0\n",
       " -0.0\n",
       " -0.0\n",
       " -0.0\n",
       " -0.0\n",
       " -0.0\n",
       " -0.0\n",
       "  1.0\n",
       " -0.0"
      ]
     },
     "execution_count": 66,
     "metadata": {},
     "output_type": "execute_result"
    }
   ],
   "source": [
    "b=value.(b)"
   ]
  },
  {
   "cell_type": "code",
   "execution_count": 67,
   "id": "6141dbb9",
   "metadata": {},
   "outputs": [
    {
     "data": {
      "text/plain": [
       "20-element Vector{Float64}:\n",
       "      1.2e6\n",
       "      1.2e6\n",
       " 900000.0\n",
       "      0.0\n",
       "      0.0\n",
       "      1.2e6\n",
       "      0.0\n",
       "      0.0\n",
       "      1.2e6\n",
       "      0.0\n",
       "      1.2e6\n",
       " 700237.024943693\n",
       "      0.0\n",
       "      0.0\n",
       "      0.0\n",
       "      0.0\n",
       "      0.0\n",
       "      0.0\n",
       "      1.2e6\n",
       "      0.0"
      ]
     },
     "execution_count": 67,
     "metadata": {},
     "output_type": "execute_result"
    }
   ],
   "source": [
    "c=value.(c)"
   ]
  },
  {
   "cell_type": "code",
   "execution_count": 68,
   "id": "8167dbe2",
   "metadata": {},
   "outputs": [
    {
     "name": "stdout",
     "output_type": "stream",
     "text": [
      "Academic license - for non-commercial use only - expires 2022-08-19\n"
     ]
    }
   ],
   "source": [
    "mod2 = Model(with_optimizer(Gurobi.Optimizer, Gurobi.Env()))\n",
    "set_optimizer_attribute(mod2, \"OutputFlag\", 0)\n",
    " \n",
    "n = size(county_tot_d,1)\n",
    "\n",
    "@variable(mod2,u[i=1:20,j=1:n], Bin)\n",
    "\n",
    "b = value.(b)\n",
    "c = value.(c)\n",
    "\n",
    "@constraint(mod2, [j=1:n], sum(u[:,j])== 1)\n",
    "@constraint(mod2, [i=1:20, j=1:n], sum(df[j]*u[i,j] for j=1:n) <= 1.001*c[i]*5/13.5)\n",
    "\n",
    "@objective(mod2, Min, sum(sum(1.55/20*d_mat[i,j]*county_tot_d[j,:d_pallets_sum]*u[i,j] for j=1:n) for i=1:20))\n",
    "\n",
    "optimize!(mod2)"
   ]
  },
  {
   "cell_type": "code",
   "execution_count": 69,
   "id": "f810335b",
   "metadata": {},
   "outputs": [
    {
     "data": {
      "text/plain": [
       "5.059191728940411e8"
      ]
     },
     "execution_count": 69,
     "metadata": {},
     "output_type": "execute_result"
    }
   ],
   "source": [
    "objective_value(mod2)"
   ]
  }
 ],
 "metadata": {
  "kernelspec": {
   "display_name": "Julia 1.6.2",
   "language": "julia",
   "name": "julia-1.6"
  },
  "language_info": {
   "file_extension": ".jl",
   "mimetype": "application/julia",
   "name": "julia",
   "version": "1.6.2"
  }
 },
 "nbformat": 4,
 "nbformat_minor": 5
}
