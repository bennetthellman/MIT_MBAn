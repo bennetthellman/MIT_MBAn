{
 "cells": [
  {
   "cell_type": "code",
   "execution_count": 1,
   "id": "d1146751",
   "metadata": {},
   "outputs": [],
   "source": [
    "import numpy as np"
   ]
  },
  {
   "cell_type": "code",
   "execution_count": 91,
   "id": "821eb9e8",
   "metadata": {},
   "outputs": [
    {
     "name": "stdout",
     "output_type": "stream",
     "text": [
      "When α=0.9, P(a=0) = [0.40480723] & P(a=1)=[0.59519277]\n",
      "When α=0.6, P(a=0) = [0.43567063] & P(a=1)=[0.56432937]\n"
     ]
    }
   ],
   "source": [
    "a=0.9\n",
    "phi_bc = np.array([[0.9,0.1],[0.1,0.9]])\n",
    "phi_ef = phi_bc\n",
    "psi_ab = np.array([[a,1-a],[1-a,a]])\n",
    "psi_bd = psi_ab\n",
    "psi_de = psi_bd\n",
    "unnorm = (psi_ab@phi_bc@np.array([[0],[1]]))*(psi_bd@psi_de@phi_ef@np.array([[1],[0]]))\n",
    "norm = unnorm/np.sum(unnorm)\n",
    "print(f'When α={a}, P(a=0) = {norm[0]} & P(a=1)={norm[1]}')\n",
    "a=0.6\n",
    "phi_bc = np.array([[0.9,0.1],[0.1,0.9]])\n",
    "phi_ef = phi_bc\n",
    "psi_ab = np.array([[a,1-a],[1-a,a]])\n",
    "psi_bd = psi_ab\n",
    "psi_de = psi_bd\n",
    "unnorm = (psi_ab@phi_bc@np.array([[0],[1]]))*(psi_bd@psi_de@phi_ef@np.array([[1],[0]]))\n",
    "norm = unnorm/np.sum(unnorm)\n",
    "print(f'When α={a}, P(a=0) = {norm[0]} & P(a=1)={norm[1]}')"
   ]
  },
  {
   "cell_type": "code",
   "execution_count": null,
   "id": "0026d4c7",
   "metadata": {},
   "outputs": [],
   "source": []
  }
 ],
 "metadata": {
  "kernelspec": {
   "display_name": "Python 3 (ipykernel)",
   "language": "python",
   "name": "python3"
  },
  "language_info": {
   "codemirror_mode": {
    "name": "ipython",
    "version": 3
   },
   "file_extension": ".py",
   "mimetype": "text/x-python",
   "name": "python",
   "nbconvert_exporter": "python",
   "pygments_lexer": "ipython3",
   "version": "3.9.1"
  }
 },
 "nbformat": 4,
 "nbformat_minor": 5
}
